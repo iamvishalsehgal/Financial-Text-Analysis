{
 "cells": [
  {
   "cell_type": "code",
   "execution_count": 1,
   "metadata": {},
   "outputs": [
    {
     "name": "stderr",
     "output_type": "stream",
     "text": [
      "[nltk_data] Downloading collection 'all'\n",
      "[nltk_data]    | \n",
      "[nltk_data]    | Downloading package abc to\n",
      "[nltk_data]    |     /Users/vishalsehgal/nltk_data...\n",
      "[nltk_data]    |   Package abc is already up-to-date!\n",
      "[nltk_data]    | Downloading package alpino to\n",
      "[nltk_data]    |     /Users/vishalsehgal/nltk_data...\n",
      "[nltk_data]    |   Package alpino is already up-to-date!\n",
      "[nltk_data]    | Downloading package averaged_perceptron_tagger to\n",
      "[nltk_data]    |     /Users/vishalsehgal/nltk_data...\n",
      "[nltk_data]    |   Package averaged_perceptron_tagger is already up-\n",
      "[nltk_data]    |       to-date!\n",
      "[nltk_data]    | Downloading package averaged_perceptron_tagger_eng to\n",
      "[nltk_data]    |     /Users/vishalsehgal/nltk_data...\n",
      "[nltk_data]    |   Package averaged_perceptron_tagger_eng is already\n",
      "[nltk_data]    |       up-to-date!\n",
      "[nltk_data]    | Downloading package averaged_perceptron_tagger_ru to\n",
      "[nltk_data]    |     /Users/vishalsehgal/nltk_data...\n",
      "[nltk_data]    |   Package averaged_perceptron_tagger_ru is already\n",
      "[nltk_data]    |       up-to-date!\n",
      "[nltk_data]    | Downloading package averaged_perceptron_tagger_rus to\n",
      "[nltk_data]    |     /Users/vishalsehgal/nltk_data...\n",
      "[nltk_data]    |   Package averaged_perceptron_tagger_rus is already\n",
      "[nltk_data]    |       up-to-date!\n",
      "[nltk_data]    | Downloading package basque_grammars to\n",
      "[nltk_data]    |     /Users/vishalsehgal/nltk_data...\n",
      "[nltk_data]    |   Package basque_grammars is already up-to-date!\n",
      "[nltk_data]    | Downloading package bcp47 to\n",
      "[nltk_data]    |     /Users/vishalsehgal/nltk_data...\n",
      "[nltk_data]    |   Package bcp47 is already up-to-date!\n",
      "[nltk_data]    | Downloading package biocreative_ppi to\n",
      "[nltk_data]    |     /Users/vishalsehgal/nltk_data...\n",
      "[nltk_data]    |   Package biocreative_ppi is already up-to-date!\n",
      "[nltk_data]    | Downloading package bllip_wsj_no_aux to\n",
      "[nltk_data]    |     /Users/vishalsehgal/nltk_data...\n",
      "[nltk_data]    |   Package bllip_wsj_no_aux is already up-to-date!\n",
      "[nltk_data]    | Downloading package book_grammars to\n",
      "[nltk_data]    |     /Users/vishalsehgal/nltk_data...\n",
      "[nltk_data]    |   Package book_grammars is already up-to-date!\n",
      "[nltk_data]    | Downloading package brown to\n",
      "[nltk_data]    |     /Users/vishalsehgal/nltk_data...\n",
      "[nltk_data]    |   Package brown is already up-to-date!\n",
      "[nltk_data]    | Downloading package brown_tei to\n",
      "[nltk_data]    |     /Users/vishalsehgal/nltk_data...\n",
      "[nltk_data]    |   Package brown_tei is already up-to-date!\n",
      "[nltk_data]    | Downloading package cess_cat to\n",
      "[nltk_data]    |     /Users/vishalsehgal/nltk_data...\n",
      "[nltk_data]    |   Package cess_cat is already up-to-date!\n",
      "[nltk_data]    | Downloading package cess_esp to\n",
      "[nltk_data]    |     /Users/vishalsehgal/nltk_data...\n",
      "[nltk_data]    |   Package cess_esp is already up-to-date!\n",
      "[nltk_data]    | Downloading package chat80 to\n",
      "[nltk_data]    |     /Users/vishalsehgal/nltk_data...\n",
      "[nltk_data]    |   Package chat80 is already up-to-date!\n",
      "[nltk_data]    | Downloading package city_database to\n",
      "[nltk_data]    |     /Users/vishalsehgal/nltk_data...\n",
      "[nltk_data]    |   Package city_database is already up-to-date!\n",
      "[nltk_data]    | Downloading package cmudict to\n",
      "[nltk_data]    |     /Users/vishalsehgal/nltk_data...\n",
      "[nltk_data]    |   Package cmudict is already up-to-date!\n",
      "[nltk_data]    | Downloading package comparative_sentences to\n",
      "[nltk_data]    |     /Users/vishalsehgal/nltk_data...\n",
      "[nltk_data]    |   Package comparative_sentences is already up-to-\n",
      "[nltk_data]    |       date!\n",
      "[nltk_data]    | Downloading package comtrans to\n",
      "[nltk_data]    |     /Users/vishalsehgal/nltk_data...\n",
      "[nltk_data]    |   Package comtrans is already up-to-date!\n",
      "[nltk_data]    | Downloading package conll2000 to\n",
      "[nltk_data]    |     /Users/vishalsehgal/nltk_data...\n",
      "[nltk_data]    |   Package conll2000 is already up-to-date!\n",
      "[nltk_data]    | Downloading package conll2002 to\n",
      "[nltk_data]    |     /Users/vishalsehgal/nltk_data...\n",
      "[nltk_data]    |   Package conll2002 is already up-to-date!\n",
      "[nltk_data]    | Downloading package conll2007 to\n",
      "[nltk_data]    |     /Users/vishalsehgal/nltk_data...\n",
      "[nltk_data]    |   Package conll2007 is already up-to-date!\n",
      "[nltk_data]    | Downloading package crubadan to\n",
      "[nltk_data]    |     /Users/vishalsehgal/nltk_data...\n",
      "[nltk_data]    |   Package crubadan is already up-to-date!\n",
      "[nltk_data]    | Downloading package dependency_treebank to\n",
      "[nltk_data]    |     /Users/vishalsehgal/nltk_data...\n",
      "[nltk_data]    |   Package dependency_treebank is already up-to-date!\n",
      "[nltk_data]    | Downloading package dolch to\n",
      "[nltk_data]    |     /Users/vishalsehgal/nltk_data...\n",
      "[nltk_data]    |   Package dolch is already up-to-date!\n",
      "[nltk_data]    | Downloading package europarl_raw to\n",
      "[nltk_data]    |     /Users/vishalsehgal/nltk_data...\n",
      "[nltk_data]    |   Package europarl_raw is already up-to-date!\n",
      "[nltk_data]    | Downloading package extended_omw to\n",
      "[nltk_data]    |     /Users/vishalsehgal/nltk_data...\n",
      "[nltk_data]    |   Package extended_omw is already up-to-date!\n",
      "[nltk_data]    | Downloading package floresta to\n",
      "[nltk_data]    |     /Users/vishalsehgal/nltk_data...\n",
      "[nltk_data]    |   Package floresta is already up-to-date!\n",
      "[nltk_data]    | Downloading package framenet_v15 to\n",
      "[nltk_data]    |     /Users/vishalsehgal/nltk_data...\n",
      "[nltk_data]    |   Package framenet_v15 is already up-to-date!\n",
      "[nltk_data]    | Downloading package framenet_v17 to\n",
      "[nltk_data]    |     /Users/vishalsehgal/nltk_data...\n",
      "[nltk_data]    |   Package framenet_v17 is already up-to-date!\n",
      "[nltk_data]    | Downloading package gazetteers to\n",
      "[nltk_data]    |     /Users/vishalsehgal/nltk_data...\n",
      "[nltk_data]    |   Package gazetteers is already up-to-date!\n",
      "[nltk_data]    | Downloading package genesis to\n",
      "[nltk_data]    |     /Users/vishalsehgal/nltk_data...\n",
      "[nltk_data]    |   Package genesis is already up-to-date!\n",
      "[nltk_data]    | Downloading package gutenberg to\n",
      "[nltk_data]    |     /Users/vishalsehgal/nltk_data...\n",
      "[nltk_data]    |   Package gutenberg is already up-to-date!\n",
      "[nltk_data]    | Downloading package ieer to\n",
      "[nltk_data]    |     /Users/vishalsehgal/nltk_data...\n",
      "[nltk_data]    |   Package ieer is already up-to-date!\n",
      "[nltk_data]    | Downloading package inaugural to\n",
      "[nltk_data]    |     /Users/vishalsehgal/nltk_data...\n",
      "[nltk_data]    |   Package inaugural is already up-to-date!\n",
      "[nltk_data]    | Downloading package indian to\n",
      "[nltk_data]    |     /Users/vishalsehgal/nltk_data...\n",
      "[nltk_data]    |   Package indian is already up-to-date!\n",
      "[nltk_data]    | Downloading package jeita to\n",
      "[nltk_data]    |     /Users/vishalsehgal/nltk_data...\n",
      "[nltk_data]    |   Package jeita is already up-to-date!\n",
      "[nltk_data]    | Downloading package kimmo to\n",
      "[nltk_data]    |     /Users/vishalsehgal/nltk_data...\n",
      "[nltk_data]    |   Package kimmo is already up-to-date!\n",
      "[nltk_data]    | Downloading package knbc to\n",
      "[nltk_data]    |     /Users/vishalsehgal/nltk_data...\n",
      "[nltk_data]    |   Package knbc is already up-to-date!\n",
      "[nltk_data]    | Downloading package large_grammars to\n",
      "[nltk_data]    |     /Users/vishalsehgal/nltk_data...\n",
      "[nltk_data]    |   Package large_grammars is already up-to-date!\n",
      "[nltk_data]    | Downloading package lin_thesaurus to\n",
      "[nltk_data]    |     /Users/vishalsehgal/nltk_data...\n",
      "[nltk_data]    |   Package lin_thesaurus is already up-to-date!\n",
      "[nltk_data]    | Downloading package mac_morpho to\n",
      "[nltk_data]    |     /Users/vishalsehgal/nltk_data...\n",
      "[nltk_data]    |   Package mac_morpho is already up-to-date!\n",
      "[nltk_data]    | Downloading package machado to\n",
      "[nltk_data]    |     /Users/vishalsehgal/nltk_data...\n",
      "[nltk_data]    |   Package machado is already up-to-date!\n",
      "[nltk_data]    | Downloading package masc_tagged to\n",
      "[nltk_data]    |     /Users/vishalsehgal/nltk_data...\n",
      "[nltk_data]    |   Package masc_tagged is already up-to-date!\n",
      "[nltk_data]    | Downloading package maxent_ne_chunker to\n",
      "[nltk_data]    |     /Users/vishalsehgal/nltk_data...\n",
      "[nltk_data]    |   Package maxent_ne_chunker is already up-to-date!\n",
      "[nltk_data]    | Downloading package maxent_ne_chunker_tab to\n",
      "[nltk_data]    |     /Users/vishalsehgal/nltk_data...\n",
      "[nltk_data]    |   Package maxent_ne_chunker_tab is already up-to-\n",
      "[nltk_data]    |       date!\n",
      "[nltk_data]    | Downloading package maxent_treebank_pos_tagger to\n",
      "[nltk_data]    |     /Users/vishalsehgal/nltk_data...\n",
      "[nltk_data]    |   Package maxent_treebank_pos_tagger is already up-\n",
      "[nltk_data]    |       to-date!\n",
      "[nltk_data]    | Downloading package maxent_treebank_pos_tagger_tab to\n",
      "[nltk_data]    |     /Users/vishalsehgal/nltk_data...\n",
      "[nltk_data]    |   Package maxent_treebank_pos_tagger_tab is already\n",
      "[nltk_data]    |       up-to-date!\n",
      "[nltk_data]    | Downloading package moses_sample to\n",
      "[nltk_data]    |     /Users/vishalsehgal/nltk_data...\n",
      "[nltk_data]    |   Package moses_sample is already up-to-date!\n",
      "[nltk_data]    | Downloading package movie_reviews to\n",
      "[nltk_data]    |     /Users/vishalsehgal/nltk_data...\n",
      "[nltk_data]    |   Package movie_reviews is already up-to-date!\n",
      "[nltk_data]    | Downloading package mte_teip5 to\n",
      "[nltk_data]    |     /Users/vishalsehgal/nltk_data...\n",
      "[nltk_data]    |   Package mte_teip5 is already up-to-date!\n",
      "[nltk_data]    | Downloading package mwa_ppdb to\n",
      "[nltk_data]    |     /Users/vishalsehgal/nltk_data...\n",
      "[nltk_data]    |   Package mwa_ppdb is already up-to-date!\n",
      "[nltk_data]    | Downloading package names to\n",
      "[nltk_data]    |     /Users/vishalsehgal/nltk_data...\n",
      "[nltk_data]    |   Package names is already up-to-date!\n",
      "[nltk_data]    | Downloading package nombank.1.0 to\n",
      "[nltk_data]    |     /Users/vishalsehgal/nltk_data...\n",
      "[nltk_data]    |   Package nombank.1.0 is already up-to-date!\n",
      "[nltk_data]    | Downloading package nonbreaking_prefixes to\n",
      "[nltk_data]    |     /Users/vishalsehgal/nltk_data...\n",
      "[nltk_data]    |   Package nonbreaking_prefixes is already up-to-date!\n",
      "[nltk_data]    | Downloading package nps_chat to\n",
      "[nltk_data]    |     /Users/vishalsehgal/nltk_data...\n",
      "[nltk_data]    |   Package nps_chat is already up-to-date!\n",
      "[nltk_data]    | Downloading package omw to\n",
      "[nltk_data]    |     /Users/vishalsehgal/nltk_data...\n",
      "[nltk_data]    |   Package omw is already up-to-date!\n",
      "[nltk_data]    | Downloading package omw-1.4 to\n",
      "[nltk_data]    |     /Users/vishalsehgal/nltk_data...\n",
      "[nltk_data]    |   Package omw-1.4 is already up-to-date!\n",
      "[nltk_data]    | Downloading package opinion_lexicon to\n",
      "[nltk_data]    |     /Users/vishalsehgal/nltk_data...\n",
      "[nltk_data]    |   Package opinion_lexicon is already up-to-date!\n",
      "[nltk_data]    | Downloading package panlex_swadesh to\n",
      "[nltk_data]    |     /Users/vishalsehgal/nltk_data...\n",
      "[nltk_data]    |   Package panlex_swadesh is already up-to-date!\n",
      "[nltk_data]    | Downloading package paradigms to\n",
      "[nltk_data]    |     /Users/vishalsehgal/nltk_data...\n",
      "[nltk_data]    |   Package paradigms is already up-to-date!\n",
      "[nltk_data]    | Downloading package pe08 to\n",
      "[nltk_data]    |     /Users/vishalsehgal/nltk_data...\n",
      "[nltk_data]    |   Package pe08 is already up-to-date!\n",
      "[nltk_data]    | Downloading package perluniprops to\n",
      "[nltk_data]    |     /Users/vishalsehgal/nltk_data...\n",
      "[nltk_data]    |   Package perluniprops is already up-to-date!\n",
      "[nltk_data]    | Downloading package pil to\n",
      "[nltk_data]    |     /Users/vishalsehgal/nltk_data...\n",
      "[nltk_data]    |   Package pil is already up-to-date!\n",
      "[nltk_data]    | Downloading package pl196x to\n",
      "[nltk_data]    |     /Users/vishalsehgal/nltk_data...\n",
      "[nltk_data]    |   Package pl196x is already up-to-date!\n",
      "[nltk_data]    | Downloading package porter_test to\n",
      "[nltk_data]    |     /Users/vishalsehgal/nltk_data...\n",
      "[nltk_data]    |   Package porter_test is already up-to-date!\n",
      "[nltk_data]    | Downloading package ppattach to\n",
      "[nltk_data]    |     /Users/vishalsehgal/nltk_data...\n",
      "[nltk_data]    |   Package ppattach is already up-to-date!\n",
      "[nltk_data]    | Downloading package problem_reports to\n",
      "[nltk_data]    |     /Users/vishalsehgal/nltk_data...\n",
      "[nltk_data]    |   Package problem_reports is already up-to-date!\n",
      "[nltk_data]    | Downloading package product_reviews_1 to\n",
      "[nltk_data]    |     /Users/vishalsehgal/nltk_data...\n",
      "[nltk_data]    |   Package product_reviews_1 is already up-to-date!\n",
      "[nltk_data]    | Downloading package product_reviews_2 to\n",
      "[nltk_data]    |     /Users/vishalsehgal/nltk_data...\n",
      "[nltk_data]    |   Package product_reviews_2 is already up-to-date!\n",
      "[nltk_data]    | Downloading package propbank to\n",
      "[nltk_data]    |     /Users/vishalsehgal/nltk_data...\n",
      "[nltk_data]    |   Package propbank is already up-to-date!\n",
      "[nltk_data]    | Downloading package pros_cons to\n",
      "[nltk_data]    |     /Users/vishalsehgal/nltk_data...\n",
      "[nltk_data]    |   Package pros_cons is already up-to-date!\n",
      "[nltk_data]    | Downloading package ptb to\n",
      "[nltk_data]    |     /Users/vishalsehgal/nltk_data...\n",
      "[nltk_data]    |   Package ptb is already up-to-date!\n",
      "[nltk_data]    | Downloading package punkt to\n",
      "[nltk_data]    |     /Users/vishalsehgal/nltk_data...\n",
      "[nltk_data]    |   Package punkt is already up-to-date!\n",
      "[nltk_data]    | Downloading package punkt_tab to\n",
      "[nltk_data]    |     /Users/vishalsehgal/nltk_data...\n",
      "[nltk_data]    |   Package punkt_tab is already up-to-date!\n",
      "[nltk_data]    | Downloading package qc to\n",
      "[nltk_data]    |     /Users/vishalsehgal/nltk_data...\n",
      "[nltk_data]    |   Package qc is already up-to-date!\n",
      "[nltk_data]    | Downloading package reuters to\n",
      "[nltk_data]    |     /Users/vishalsehgal/nltk_data...\n",
      "[nltk_data]    |   Package reuters is already up-to-date!\n",
      "[nltk_data]    | Downloading package rslp to\n",
      "[nltk_data]    |     /Users/vishalsehgal/nltk_data...\n",
      "[nltk_data]    |   Package rslp is already up-to-date!\n",
      "[nltk_data]    | Downloading package rte to\n",
      "[nltk_data]    |     /Users/vishalsehgal/nltk_data...\n",
      "[nltk_data]    |   Package rte is already up-to-date!\n",
      "[nltk_data]    | Downloading package sample_grammars to\n",
      "[nltk_data]    |     /Users/vishalsehgal/nltk_data...\n",
      "[nltk_data]    |   Package sample_grammars is already up-to-date!\n",
      "[nltk_data]    | Downloading package semcor to\n",
      "[nltk_data]    |     /Users/vishalsehgal/nltk_data...\n",
      "[nltk_data]    |   Package semcor is already up-to-date!\n",
      "[nltk_data]    | Downloading package senseval to\n",
      "[nltk_data]    |     /Users/vishalsehgal/nltk_data...\n",
      "[nltk_data]    |   Package senseval is already up-to-date!\n",
      "[nltk_data]    | Downloading package sentence_polarity to\n",
      "[nltk_data]    |     /Users/vishalsehgal/nltk_data...\n",
      "[nltk_data]    |   Package sentence_polarity is already up-to-date!\n",
      "[nltk_data]    | Downloading package sentiwordnet to\n",
      "[nltk_data]    |     /Users/vishalsehgal/nltk_data...\n",
      "[nltk_data]    |   Package sentiwordnet is already up-to-date!\n",
      "[nltk_data]    | Downloading package shakespeare to\n",
      "[nltk_data]    |     /Users/vishalsehgal/nltk_data...\n",
      "[nltk_data]    |   Package shakespeare is already up-to-date!\n",
      "[nltk_data]    | Downloading package sinica_treebank to\n",
      "[nltk_data]    |     /Users/vishalsehgal/nltk_data...\n",
      "[nltk_data]    |   Package sinica_treebank is already up-to-date!\n",
      "[nltk_data]    | Downloading package smultron to\n",
      "[nltk_data]    |     /Users/vishalsehgal/nltk_data...\n",
      "[nltk_data]    |   Package smultron is already up-to-date!\n",
      "[nltk_data]    | Downloading package snowball_data to\n",
      "[nltk_data]    |     /Users/vishalsehgal/nltk_data...\n",
      "[nltk_data]    |   Package snowball_data is already up-to-date!\n",
      "[nltk_data]    | Downloading package spanish_grammars to\n",
      "[nltk_data]    |     /Users/vishalsehgal/nltk_data...\n",
      "[nltk_data]    |   Package spanish_grammars is already up-to-date!\n",
      "[nltk_data]    | Downloading package state_union to\n",
      "[nltk_data]    |     /Users/vishalsehgal/nltk_data...\n",
      "[nltk_data]    |   Package state_union is already up-to-date!\n",
      "[nltk_data]    | Downloading package stopwords to\n",
      "[nltk_data]    |     /Users/vishalsehgal/nltk_data...\n",
      "[nltk_data]    |   Package stopwords is already up-to-date!\n",
      "[nltk_data]    | Downloading package subjectivity to\n",
      "[nltk_data]    |     /Users/vishalsehgal/nltk_data...\n",
      "[nltk_data]    |   Package subjectivity is already up-to-date!\n",
      "[nltk_data]    | Downloading package swadesh to\n",
      "[nltk_data]    |     /Users/vishalsehgal/nltk_data...\n",
      "[nltk_data]    |   Package swadesh is already up-to-date!\n",
      "[nltk_data]    | Downloading package switchboard to\n",
      "[nltk_data]    |     /Users/vishalsehgal/nltk_data...\n",
      "[nltk_data]    |   Package switchboard is already up-to-date!\n",
      "[nltk_data]    | Downloading package tagsets to\n",
      "[nltk_data]    |     /Users/vishalsehgal/nltk_data...\n",
      "[nltk_data]    |   Package tagsets is already up-to-date!\n",
      "[nltk_data]    | Downloading package tagsets_json to\n",
      "[nltk_data]    |     /Users/vishalsehgal/nltk_data...\n",
      "[nltk_data]    |   Package tagsets_json is already up-to-date!\n",
      "[nltk_data]    | Downloading package timit to\n",
      "[nltk_data]    |     /Users/vishalsehgal/nltk_data...\n",
      "[nltk_data]    |   Package timit is already up-to-date!\n",
      "[nltk_data]    | Downloading package toolbox to\n",
      "[nltk_data]    |     /Users/vishalsehgal/nltk_data...\n",
      "[nltk_data]    |   Package toolbox is already up-to-date!\n",
      "[nltk_data]    | Downloading package treebank to\n",
      "[nltk_data]    |     /Users/vishalsehgal/nltk_data...\n",
      "[nltk_data]    |   Package treebank is already up-to-date!\n",
      "[nltk_data]    | Downloading package twitter_samples to\n",
      "[nltk_data]    |     /Users/vishalsehgal/nltk_data...\n",
      "[nltk_data]    |   Package twitter_samples is already up-to-date!\n",
      "[nltk_data]    | Downloading package udhr to\n",
      "[nltk_data]    |     /Users/vishalsehgal/nltk_data...\n",
      "[nltk_data]    |   Package udhr is already up-to-date!\n",
      "[nltk_data]    | Downloading package udhr2 to\n",
      "[nltk_data]    |     /Users/vishalsehgal/nltk_data...\n",
      "[nltk_data]    |   Package udhr2 is already up-to-date!\n",
      "[nltk_data]    | Downloading package unicode_samples to\n",
      "[nltk_data]    |     /Users/vishalsehgal/nltk_data...\n",
      "[nltk_data]    |   Package unicode_samples is already up-to-date!\n",
      "[nltk_data]    | Downloading package universal_tagset to\n",
      "[nltk_data]    |     /Users/vishalsehgal/nltk_data...\n",
      "[nltk_data]    |   Package universal_tagset is already up-to-date!\n",
      "[nltk_data]    | Downloading package universal_treebanks_v20 to\n",
      "[nltk_data]    |     /Users/vishalsehgal/nltk_data...\n",
      "[nltk_data]    |   Package universal_treebanks_v20 is already up-to-\n",
      "[nltk_data]    |       date!\n",
      "[nltk_data]    | Downloading package vader_lexicon to\n",
      "[nltk_data]    |     /Users/vishalsehgal/nltk_data...\n",
      "[nltk_data]    |   Package vader_lexicon is already up-to-date!\n",
      "[nltk_data]    | Downloading package verbnet to\n",
      "[nltk_data]    |     /Users/vishalsehgal/nltk_data...\n",
      "[nltk_data]    |   Package verbnet is already up-to-date!\n",
      "[nltk_data]    | Downloading package verbnet3 to\n",
      "[nltk_data]    |     /Users/vishalsehgal/nltk_data...\n",
      "[nltk_data]    |   Package verbnet3 is already up-to-date!\n",
      "[nltk_data]    | Downloading package webtext to\n",
      "[nltk_data]    |     /Users/vishalsehgal/nltk_data...\n",
      "[nltk_data]    |   Package webtext is already up-to-date!\n",
      "[nltk_data]    | Downloading package wmt15_eval to\n",
      "[nltk_data]    |     /Users/vishalsehgal/nltk_data...\n",
      "[nltk_data]    |   Package wmt15_eval is already up-to-date!\n",
      "[nltk_data]    | Downloading package word2vec_sample to\n",
      "[nltk_data]    |     /Users/vishalsehgal/nltk_data...\n",
      "[nltk_data]    |   Package word2vec_sample is already up-to-date!\n",
      "[nltk_data]    | Downloading package wordnet to\n",
      "[nltk_data]    |     /Users/vishalsehgal/nltk_data...\n",
      "[nltk_data]    |   Package wordnet is already up-to-date!\n",
      "[nltk_data]    | Downloading package wordnet2021 to\n",
      "[nltk_data]    |     /Users/vishalsehgal/nltk_data...\n",
      "[nltk_data]    |   Package wordnet2021 is already up-to-date!\n",
      "[nltk_data]    | Downloading package wordnet2022 to\n",
      "[nltk_data]    |     /Users/vishalsehgal/nltk_data...\n",
      "[nltk_data]    |   Package wordnet2022 is already up-to-date!\n",
      "[nltk_data]    | Downloading package wordnet31 to\n",
      "[nltk_data]    |     /Users/vishalsehgal/nltk_data...\n",
      "[nltk_data]    |   Package wordnet31 is already up-to-date!\n",
      "[nltk_data]    | Downloading package wordnet_ic to\n",
      "[nltk_data]    |     /Users/vishalsehgal/nltk_data...\n",
      "[nltk_data]    |   Package wordnet_ic is already up-to-date!\n",
      "[nltk_data]    | Downloading package words to\n",
      "[nltk_data]    |     /Users/vishalsehgal/nltk_data...\n",
      "[nltk_data]    |   Package words is already up-to-date!\n",
      "[nltk_data]    | Downloading package ycoe to\n",
      "[nltk_data]    |     /Users/vishalsehgal/nltk_data...\n",
      "[nltk_data]    |   Package ycoe is already up-to-date!\n",
      "[nltk_data]    | \n",
      "[nltk_data]  Done downloading collection all\n",
      "[nltk_data] Downloading package stopwords to\n",
      "[nltk_data]     /Users/vishalsehgal/nltk_data...\n",
      "[nltk_data]   Package stopwords is already up-to-date!\n"
     ]
    },
    {
     "data": {
      "text/plain": [
       "True"
      ]
     },
     "execution_count": 1,
     "metadata": {},
     "output_type": "execute_result"
    }
   ],
   "source": [
    "# Import the libraries\n",
    "import pandas as pd\n",
    "import string\n",
    "from nltk.corpus import stopwords\n",
    "import nltk\n",
    "from collections import Counter\n",
    "from nltk.stem import WordNetLemmatizer\n",
    "import numpy as np\n",
    "from sklearn.feature_extraction.text import CountVectorizer, TfidfVectorizer\n",
    "from sklearn.linear_model import LogisticRegression\n",
    "from sklearn.feature_selection import chi2, mutual_info_classif\n",
    "from gensim.models import Word2Vec\n",
    "from sklearn.ensemble import GradientBoostingClassifier\n",
    "from sklearn.model_selection import GridSearchCV, RandomizedSearchCV\n",
    "from sklearn.naive_bayes import GaussianNB\n",
    "import matplotlib.pyplot as plt\n",
    "import seaborn as sns\n",
    "\n",
    "nltk.download('all')\n",
    "nltk.download('stopwords')"
   ]
  },
  {
   "cell_type": "markdown",
   "metadata": {},
   "source": [
    "# Pre-Processing"
   ]
  },
  {
   "cell_type": "code",
   "execution_count": 2,
   "metadata": {},
   "outputs": [],
   "source": [
    "# Load the processed data from CSV\n",
    "us_df = pd.read_csv(\"us_equities_news_dataset.csv\")\n",
    "nvda_df = pd.read_csv(\"nvda.csv\")"
   ]
  },
  {
   "cell_type": "code",
   "execution_count": 3,
   "metadata": {},
   "outputs": [
    {
     "name": "stdout",
     "output_type": "stream",
     "text": [
      "Index(['id', 'ticker', 'title', 'category', 'content', 'release_date',\n",
      "       'provider', 'url', 'article_id'],\n",
      "      dtype='object')\n",
      "Index(['Date', 'Open', 'High', 'Low', 'Close', 'Adj Close', 'Volume'], dtype='object')\n"
     ]
    }
   ],
   "source": [
    "print(us_df.columns)\n",
    "print(nvda_df.columns)"
   ]
  },
  {
   "cell_type": "code",
   "execution_count": 4,
   "metadata": {},
   "outputs": [
    {
     "name": "stdout",
     "output_type": "stream",
     "text": [
      "Number of articles related to Nvidia: 3464\n"
     ]
    }
   ],
   "source": [
    "# Filter articles for NVDA and Nvidia only because we only require articles related to Nvidia not other companies.\n",
    "nvda_articles = us_df[\n",
    "    (us_df['ticker'] == 'NVDA') |  \n",
    "    (us_df['title'].str.contains('nvidia', case=False, na=False)) |  \n",
    "    (us_df['content'].str.contains('nvidia', case=False, na=False)) |\n",
    "    (us_df['title'].str.contains('nvda', case=False, na=False)) |\n",
    "    (us_df['content'].str.contains('nvda', case=False, na=False))\n",
    "]\n",
    "print(f\"Number of articles related to Nvidia: {nvda_articles.shape[0]}\")"
   ]
  },
  {
   "cell_type": "code",
   "execution_count": 5,
   "metadata": {},
   "outputs": [
    {
     "name": "stdout",
     "output_type": "stream",
     "text": [
      "Number of articles related to Nvidia after removing duplicates: 3450\n"
     ]
    }
   ],
   "source": [
    "# remove duplicates contents and titles\n",
    "nvda_articles = nvda_articles.drop_duplicates(subset=['content', 'title'])\n",
    "print(f\"Number of articles related to Nvidia after removing duplicates: {nvda_articles.shape[0]}\")\n"
   ]
  },
  {
   "cell_type": "code",
   "execution_count": 6,
   "metadata": {},
   "outputs": [],
   "source": [
    "# Convert 'release_date' and 'Date' to datetime \n",
    "# Did copy bcoz i was getting a warning\n",
    "nvda_articles = nvda_articles.copy() \n",
    "nvda_articles['release_date'] = pd.to_datetime(nvda_articles['release_date'])\n",
    "nvda_df['Date'] = pd.to_datetime(nvda_df['Date'])"
   ]
  },
  {
   "cell_type": "code",
   "execution_count": 7,
   "metadata": {},
   "outputs": [
    {
     "data": {
      "text/html": [
       "<div>\n",
       "<style scoped>\n",
       "    .dataframe tbody tr th:only-of-type {\n",
       "        vertical-align: middle;\n",
       "    }\n",
       "\n",
       "    .dataframe tbody tr th {\n",
       "        vertical-align: top;\n",
       "    }\n",
       "\n",
       "    .dataframe thead th {\n",
       "        text-align: right;\n",
       "    }\n",
       "</style>\n",
       "<table border=\"1\" class=\"dataframe\">\n",
       "  <thead>\n",
       "    <tr style=\"text-align: right;\">\n",
       "      <th></th>\n",
       "      <th>Date</th>\n",
       "      <th>Open</th>\n",
       "      <th>High</th>\n",
       "      <th>Low</th>\n",
       "      <th>Close</th>\n",
       "      <th>Adj Close</th>\n",
       "      <th>Volume</th>\n",
       "    </tr>\n",
       "  </thead>\n",
       "  <tbody>\n",
       "    <tr>\n",
       "      <th>0</th>\n",
       "      <td>1999-01-25</td>\n",
       "      <td>0.044271</td>\n",
       "      <td>0.045833</td>\n",
       "      <td>0.041016</td>\n",
       "      <td>0.045313</td>\n",
       "      <td>0.041562</td>\n",
       "      <td>510480000</td>\n",
       "    </tr>\n",
       "    <tr>\n",
       "      <th>1</th>\n",
       "      <td>1999-01-26</td>\n",
       "      <td>0.045833</td>\n",
       "      <td>0.046745</td>\n",
       "      <td>0.041146</td>\n",
       "      <td>0.041797</td>\n",
       "      <td>0.038337</td>\n",
       "      <td>343200000</td>\n",
       "    </tr>\n",
       "    <tr>\n",
       "      <th>2</th>\n",
       "      <td>1999-01-27</td>\n",
       "      <td>0.041927</td>\n",
       "      <td>0.042969</td>\n",
       "      <td>0.039583</td>\n",
       "      <td>0.041667</td>\n",
       "      <td>0.038218</td>\n",
       "      <td>244368000</td>\n",
       "    </tr>\n",
       "    <tr>\n",
       "      <th>3</th>\n",
       "      <td>1999-01-28</td>\n",
       "      <td>0.041667</td>\n",
       "      <td>0.041927</td>\n",
       "      <td>0.041276</td>\n",
       "      <td>0.041536</td>\n",
       "      <td>0.038098</td>\n",
       "      <td>227520000</td>\n",
       "    </tr>\n",
       "    <tr>\n",
       "      <th>4</th>\n",
       "      <td>1999-01-29</td>\n",
       "      <td>0.041536</td>\n",
       "      <td>0.041667</td>\n",
       "      <td>0.039583</td>\n",
       "      <td>0.039583</td>\n",
       "      <td>0.036307</td>\n",
       "      <td>244032000</td>\n",
       "    </tr>\n",
       "    <tr>\n",
       "      <th>...</th>\n",
       "      <td>...</td>\n",
       "      <td>...</td>\n",
       "      <td>...</td>\n",
       "      <td>...</td>\n",
       "      <td>...</td>\n",
       "      <td>...</td>\n",
       "      <td>...</td>\n",
       "    </tr>\n",
       "    <tr>\n",
       "      <th>6432</th>\n",
       "      <td>2024-08-16</td>\n",
       "      <td>121.940002</td>\n",
       "      <td>125.000000</td>\n",
       "      <td>121.180000</td>\n",
       "      <td>124.580002</td>\n",
       "      <td>124.580002</td>\n",
       "      <td>302589900</td>\n",
       "    </tr>\n",
       "    <tr>\n",
       "      <th>6433</th>\n",
       "      <td>2024-08-19</td>\n",
       "      <td>124.279999</td>\n",
       "      <td>130.000000</td>\n",
       "      <td>123.419998</td>\n",
       "      <td>130.000000</td>\n",
       "      <td>130.000000</td>\n",
       "      <td>318333600</td>\n",
       "    </tr>\n",
       "    <tr>\n",
       "      <th>6434</th>\n",
       "      <td>2024-08-20</td>\n",
       "      <td>128.399994</td>\n",
       "      <td>129.880005</td>\n",
       "      <td>125.889999</td>\n",
       "      <td>127.250000</td>\n",
       "      <td>127.250000</td>\n",
       "      <td>300087400</td>\n",
       "    </tr>\n",
       "    <tr>\n",
       "      <th>6435</th>\n",
       "      <td>2024-08-21</td>\n",
       "      <td>127.320000</td>\n",
       "      <td>129.350006</td>\n",
       "      <td>126.660004</td>\n",
       "      <td>128.500000</td>\n",
       "      <td>128.500000</td>\n",
       "      <td>256985000</td>\n",
       "    </tr>\n",
       "    <tr>\n",
       "      <th>6436</th>\n",
       "      <td>2024-08-22</td>\n",
       "      <td>130.029999</td>\n",
       "      <td>130.750000</td>\n",
       "      <td>128.800003</td>\n",
       "      <td>128.929901</td>\n",
       "      <td>128.929901</td>\n",
       "      <td>63358287</td>\n",
       "    </tr>\n",
       "  </tbody>\n",
       "</table>\n",
       "<p>6437 rows × 7 columns</p>\n",
       "</div>"
      ],
      "text/plain": [
       "           Date        Open        High         Low       Close   Adj Close  \\\n",
       "0    1999-01-25    0.044271    0.045833    0.041016    0.045313    0.041562   \n",
       "1    1999-01-26    0.045833    0.046745    0.041146    0.041797    0.038337   \n",
       "2    1999-01-27    0.041927    0.042969    0.039583    0.041667    0.038218   \n",
       "3    1999-01-28    0.041667    0.041927    0.041276    0.041536    0.038098   \n",
       "4    1999-01-29    0.041536    0.041667    0.039583    0.039583    0.036307   \n",
       "...         ...         ...         ...         ...         ...         ...   \n",
       "6432 2024-08-16  121.940002  125.000000  121.180000  124.580002  124.580002   \n",
       "6433 2024-08-19  124.279999  130.000000  123.419998  130.000000  130.000000   \n",
       "6434 2024-08-20  128.399994  129.880005  125.889999  127.250000  127.250000   \n",
       "6435 2024-08-21  127.320000  129.350006  126.660004  128.500000  128.500000   \n",
       "6436 2024-08-22  130.029999  130.750000  128.800003  128.929901  128.929901   \n",
       "\n",
       "         Volume  \n",
       "0     510480000  \n",
       "1     343200000  \n",
       "2     244368000  \n",
       "3     227520000  \n",
       "4     244032000  \n",
       "...         ...  \n",
       "6432  302589900  \n",
       "6433  318333600  \n",
       "6434  300087400  \n",
       "6435  256985000  \n",
       "6436   63358287  \n",
       "\n",
       "[6437 rows x 7 columns]"
      ]
     },
     "execution_count": 7,
     "metadata": {},
     "output_type": "execute_result"
    }
   ],
   "source": [
    "nvda_df"
   ]
  },
  {
   "cell_type": "code",
   "execution_count": 8,
   "metadata": {},
   "outputs": [],
   "source": [
    "# Filter the columns so that i dont have to see all the columns\n",
    "nvda_stock = nvda_df[['Date', 'Open', 'Close']]"
   ]
  },
  {
   "cell_type": "markdown",
   "metadata": {},
   "source": [
    "# Create labels for the articles"
   ]
  },
  {
   "cell_type": "code",
   "execution_count": 9,
   "metadata": {},
   "outputs": [],
   "source": [
    "# Merge articles with stock prices based on the date\n",
    "merged_df = pd.merge(\n",
    "    nvda_articles,\n",
    "    nvda_stock,  \n",
    "    left_on='release_date',\n",
    "    right_on='Date',\n",
    "    how='left'  \n",
    ")"
   ]
  },
  {
   "cell_type": "code",
   "execution_count": 10,
   "metadata": {},
   "outputs": [],
   "source": [
    "merged_df = merged_df.dropna(subset=['Open', 'Close'])"
   ]
  },
  {
   "cell_type": "code",
   "execution_count": 11,
   "metadata": {},
   "outputs": [
    {
     "name": "stdout",
     "output_type": "stream",
     "text": [
      "Index(['id', 'ticker', 'title', 'category', 'content', 'release_date',\n",
      "       'provider', 'url', 'article_id', 'Date', 'Open', 'Close'],\n",
      "      dtype='object')\n"
     ]
    }
   ],
   "source": [
    "print(merged_df.columns)"
   ]
  },
  {
   "cell_type": "code",
   "execution_count": 12,
   "metadata": {},
   "outputs": [],
   "source": [
    "def preprocess_text(text):\n",
    "    \n",
    "    # Check if the text is a string\n",
    "    if not isinstance(text, str):\n",
    "        return ''\n",
    "    \n",
    "    # Convert to lowercase bcoz we dont want to differentiate between words like 'Nvidia' and 'nvidia'\n",
    "    text = text.lower()\n",
    "    \n",
    "    # Remove punctuation except for $ and % bcoz they are important for stock data\n",
    "    # use nltk punctuation to remove the punctuation\n",
    "    text = ''.join([char for char in text if char not in string.punctuation or char in ['$','%']])\n",
    "    \n",
    "    # Tokenize the text bcoz we want to remove stop words so it helps in breaking the text into words\n",
    "    # use nltk word_tokenize to tokenize the text\n",
    "    words = nltk.word_tokenize(text)\n",
    "    \n",
    "    # Remove stop words bcoz they are common words that do not carry much information. I added english and spanish both as US have 2 common languages.\n",
    "    stop_words_en = set(stopwords.words('english'))\n",
    "    stop_words_es = set(stopwords.words('spanish'))\n",
    "    stop_words = stop_words_en.union(stop_words_es)\n",
    "    words = [word for word in words if word not in stop_words]\n",
    "    \n",
    "    # Lemmatize the words bcoz it helps in reducing the words to their base form\n",
    "    lemmatizer = WordNetLemmatizer()\n",
    "    words = [lemmatizer.lemmatize(word) for word in words]\n",
    "\n",
    "    # remove single words bcoz they are not useful for our analysis as when i checked 50 commonwords there was words like \"u\" and \"p\" which makes no sense\n",
    "    words = [word for word in words if len(word) > 1]\n",
    "    \n",
    "    # Remove unwanted numbers bcoz they are not useful for our analysis as we are working on text and we are not removing financial symbols and numbers becasue they are important for stock data\n",
    "    processed_words = []\n",
    "    units = ['million', 'billion', 'trillion', 'thousand', 'hundred']\n",
    "    \n",
    "    i = 0\n",
    "    while i < len(words):\n",
    "        word = words[i]\n",
    "        keep_word = True\n",
    "        \n",
    "        # Check if the word is a number\n",
    "        if word.isdigit():\n",
    "            keep_word = False  # Default to not keeping the word\n",
    "\n",
    "            # Check if previous word is $ or usd\n",
    "            if i > 0 and words[i - 1] in ['$', 'usd']:\n",
    "                keep_word = True\n",
    "            # Check if next word is % or a unit\n",
    "            elif i + 1 < len(words) and (words[i + 1] in ['%', 'percent'] or words[i + 1] in units):\n",
    "                keep_word = True\n",
    "            # Check if word contains $ or %\n",
    "            elif '$' in word or '%' in word:\n",
    "                keep_word = True\n",
    "\n",
    "        if keep_word:\n",
    "            processed_words.append(word)\n",
    "        \n",
    "        i += 1\n",
    "    \n",
    "    # Join the words back into a string \n",
    "    clean_text = ' '.join(processed_words)\n",
    "    \n",
    "    return clean_text"
   ]
  },
  {
   "cell_type": "code",
   "execution_count": 13,
   "metadata": {},
   "outputs": [],
   "source": [
    "# make a copy because i was getting a warning\n",
    "merged_df = merged_df.copy()\n",
    "# Apply the preprocessing function to the 'content' column\n",
    "merged_df['clean_content'] = merged_df['content'].apply(preprocess_text)"
   ]
  },
  {
   "cell_type": "code",
   "execution_count": 14,
   "metadata": {},
   "outputs": [],
   "source": [
    "# Create labels based on stock price movement as 1 for increase and 0 for decrease.\n",
    "merged_df['label'] = (merged_df['Close'] > merged_df['Open']).astype(int)\n",
    "label_counts = merged_df['label'].value_counts()"
   ]
  },
  {
   "cell_type": "code",
   "execution_count": 15,
   "metadata": {},
   "outputs": [
    {
     "name": "stdout",
     "output_type": "stream",
     "text": [
      "Label distribution:\n",
      "label\n",
      "1    1657\n",
      "0    1446\n",
      "Name: count, dtype: int64\n"
     ]
    }
   ],
   "source": [
    "print(\"Label distribution:\")\n",
    "print(label_counts)"
   ]
  },
  {
   "cell_type": "markdown",
   "metadata": {},
   "source": [
    "Descriptive Statistics"
   ]
  },
  {
   "cell_type": "code",
   "execution_count": 16,
   "metadata": {},
   "outputs": [
    {
     "name": "stdout",
     "output_type": "stream",
     "text": [
      "Number of artikles:3103\n"
     ]
    }
   ],
   "source": [
    "# Calculate the number of articles \n",
    "print(f\"Number of artikles:{merged_df.shape[0]}\")"
   ]
  },
  {
   "cell_type": "code",
   "execution_count": 17,
   "metadata": {},
   "outputs": [
    {
     "data": {
      "image/png": "[encoded data removed]",
      "text/plain": [
       "<Figure size 640x480 with 1 Axes>"
      ]
     },
     "metadata": {},
     "output_type": "display_data"
    }
   ],
   "source": [
    "# plot the distribution of labels\n",
    "import matplotlib.pyplot as plt\n",
    "import seaborn as sns\n",
    "\n",
    "sns.countplot(data=merged_df, x='label')\n",
    "plt.title('Label Distribution')\n",
    "plt.show()\n"
   ]
  },
  {
   "cell_type": "code",
   "execution_count": 18,
   "metadata": {},
   "outputs": [
    {
     "name": "stdout",
     "output_type": "stream",
     "text": [
      "Average words per artikle: 389.71\n"
     ]
    }
   ],
   "source": [
    "# calculate the average number of words per article\n",
    "print(f\"Average words per artikle: {merged_df['clean_content'].apply(lambda x: len(x.split())).mean():.2f}\")"
   ]
  },
  {
   "cell_type": "code",
   "execution_count": 19,
   "metadata": {},
   "outputs": [
    {
     "name": "stdout",
     "output_type": "stream",
     "text": [
      "Number of unique words: 29908\n"
     ]
    }
   ],
   "source": [
    "# Calculate the unique words \n",
    "unique_words = Counter()\n",
    "merged_df['clean_content'].str.split().apply(unique_words.update)\n",
    "print(f\"Number of unique words: {len(unique_words)}\")"
   ]
  },
  {
   "cell_type": "code",
   "execution_count": 20,
   "metadata": {},
   "outputs": [
    {
     "name": "stdout",
     "output_type": "stream",
     "text": [
      "Lexical richness: 0.02\n"
     ]
    }
   ],
   "source": [
    "# calculate lexical richness: unique words / total words be\n",
    "print(f\"Lexical richness: {len(unique_words) / merged_df['clean_content'].apply(lambda x: len(x.split())).sum():.2f}\")"
   ]
  },
  {
   "cell_type": "code",
   "execution_count": 21,
   "metadata": {},
   "outputs": [
    {
     "name": "stdout",
     "output_type": "stream",
     "text": [
      "Most common words:\n",
      "[('year', 14210), ('company', 13367), ('stock', 13292), ('nasdaq', 13264), ('zacks', 9618), ('market', 8971), ('earnings', 8511), ('nvidia', 8076), ('quarter', 7568), ('share', 7328), ('revenue', 6483), ('growth', 6350), ('billion', 5616), ('also', 5503), ('nyse', 5442), ('technology', 4972), ('estimate', 4609), ('new', 4543), ('investor', 4419), ('million', 4362), ('last', 4119), ('inc', 4037), ('rank', 3972), ('expected', 3758), ('week', 3638), ('day', 3619), ('price', 3561), ('nvda', 3535), ('report', 3514), ('trade', 3485), ('one', 3422), ('time', 3393), ('data', 3372), ('buy', 3353), ('high', 3307), ('investment', 3273), ('industry', 3185), ('like', 3170), ('strong', 3162), ('per', 3148), ('chip', 3103), ('index', 3057), ('top', 2950), ('analyst', 2922), ('intel', 2900), ('said', 2828), ('semiconductor', 2820), ('see', 2802), ('sector', 2799), ('product', 2750)]\n"
     ]
    }
   ],
   "source": [
    "# caLculate most common 50 words in corpus after stop words removed\n",
    "# use counter()\n",
    "most_common_words = Counter()\n",
    "merged_df['clean_content'].str.split().apply(most_common_words.update)\n",
    "print(\"Most common words:\")\n",
    "print(most_common_words.most_common(50))"
   ]
  },
  {
   "cell_type": "code",
   "execution_count": 22,
   "metadata": {},
   "outputs": [
    {
     "data": {
      "text/plain": [
       "<Axes: title={'center': 'Most common words'}, xlabel='word'>"
      ]
     },
     "execution_count": 22,
     "metadata": {},
     "output_type": "execute_result"
    },
    {
     "data": {
      "image/png": "[encoded data removed]",
      "text/plain": [
       "<Figure size 1500x500 with 1 Axes>"
      ]
     },
     "metadata": {},
     "output_type": "display_data"
    }
   ],
   "source": [
    "# Plot 50 most common words\n",
    "most_common_words_df = pd.DataFrame(most_common_words.most_common(50), columns=['word', 'count'])\n",
    "most_common_words_df.plot(kind='bar', x='word', y='count', figsize=(15, 5), title='Most common words')"
   ]
  },
  {
   "cell_type": "code",
   "execution_count": 23,
   "metadata": {},
   "outputs": [
    {
     "name": "stdout",
     "output_type": "stream",
     "text": [
      "Most indicative words for class 0:\n",
      "        features  coefficient\n",
      "1783         80m    -0.826744\n",
      "4859       board    -0.826301\n",
      "18546       nice    -0.752916\n",
      "10794  expanding    -0.736340\n",
      "79           07m    -0.722719\n",
      "25604      stiff    -0.695716\n",
      "11235       fell    -0.694965\n",
      "12181     gained    -0.681946\n",
      "4559         bid    -0.668164\n",
      "18274     nation    -0.664149\n",
      "15414    journal    -0.653217\n",
      "12459      giant    -0.642794\n",
      "27550        ttm    -0.640044\n",
      "19879     passed    -0.639562\n",
      "29411    working    -0.639114\n",
      "1954    9339past    -0.632543\n",
      "4345     beating    -0.631133\n",
      "27530        tsm    -0.623472\n",
      "12671      googl    -0.620782\n",
      "25769  streaming    -0.619805\n",
      "Most indicative words for class 1:\n",
      "            features  coefficient\n",
      "554               21     1.005757\n",
      "23306           rose     0.957386\n",
      "2492       advancing     0.952543\n",
      "25748     strategist     0.947454\n",
      "23971          seems     0.924158\n",
      "22500       remained     0.764243\n",
      "9077   discretionary     0.730114\n",
      "11492           flat     0.720276\n",
      "23346          round     0.716071\n",
      "1325             54m     0.711345\n",
      "3815      attributed     0.705832\n",
      "21045       pressure     0.703812\n",
      "12670           goog     0.703098\n",
      "22369        regular     0.699343\n",
      "1113             43m     0.695618\n",
      "21202        produce     0.683527\n",
      "8363            deep     0.667921\n",
      "9986     electronics     0.655506\n",
      "27507          trust     0.650734\n",
      "17685        missing     0.648209\n"
     ]
    }
   ],
   "source": [
    "# create the document term matrix\n",
    "vectorizer = CountVectorizer()\n",
    "dtm_x = vectorizer.fit_transform(merged_df['clean_content'])\n",
    "feature_names = vectorizer.get_feature_names_out()\n",
    "\n",
    "# train the logistic regression model\n",
    "lr_model = LogisticRegression(max_iter=1000)\n",
    "lr_model.fit(dtm_x, merged_df['label'])\n",
    "\n",
    "# extract the coefficients\n",
    "coefficients = lr_model.coef_[0]\n",
    "coefficients_df = pd.DataFrame({\n",
    "    'features': feature_names,\n",
    "    'coefficient': coefficients\n",
    "})\n",
    "\n",
    "# identify the most indicative words for each class\n",
    "# for class 0\n",
    "class_0_words = coefficients_df.sort_values('coefficient').head(20)\n",
    "print(\"Most indicative words for class 0:\")\n",
    "print(class_0_words)\n",
    "\n",
    "# for class 1\n",
    "class_1_words = coefficients_df.sort_values('coefficient', ascending=False).head(20)\n",
    "print(\"Most indicative words for class 1:\")\n",
    "print(class_1_words)"
   ]
  },
  {
   "cell_type": "code",
   "execution_count": 24,
   "metadata": {},
   "outputs": [
    {
     "data": {
      "image/png": "[encoded data removed]",
      "text/plain": [
       "<Figure size 1500x500 with 2 Axes>"
      ]
     },
     "metadata": {},
     "output_type": "display_data"
    }
   ],
   "source": [
    "# plot the most indicative words\n",
    "fig, axes = plt.subplots(1, 2, figsize=(15, 5))\n",
    "sns.barplot(data=class_0_words, x='coefficient', y='features', ax=axes[0])\n",
    "axes[0].set_title('Most indicative words for class 0')\n",
    "sns.barplot(data=class_1_words, x='coefficient', y='features', ax=axes[1])\n",
    "axes[1].set_title('Most indicative words for class 1')\n",
    "plt.tight_layout()\n",
    "plt.show()"
   ]
  },
  {
   "cell_type": "raw",
   "metadata": {
    "vscode": {
     "languageId": "raw"
    }
   },
   "source": [
    "# i am using chi2 to find the most indicative words for each class because i found that chisq is better than logistric regression\n",
    "vectorizer = CountVectorizer()\n",
    "X_dtm = vectorizer.fit_transform(merged_df['clean_content'])\n",
    "feature_names = vectorizer.get_feature_names_out()\n",
    "y = merged_df['label']\n",
    "\n",
    "# 4. Compute the Chi-Squared Scores\n",
    "chi2_scores, p_values = chi2(X_dtm, y)\n",
    "chi2_results = pd.DataFrame({\n",
    "    'feature': feature_names,\n",
    "    'chi2_score': chi2_scores,\n",
    "    'p_value': p_values\n",
    "})\n",
    "\n",
    "# 5. Add Class-Wise Frequencies\n",
    "class_0_docs = merged_df[merged_df['label'] == 0]['clean_content']\n",
    "class_1_docs = merged_df[merged_df['label'] == 1]['clean_content']\n",
    "\n",
    "X_class_0 = vectorizer.transform(class_0_docs)\n",
    "X_class_1 = vectorizer.transform(class_1_docs)\n",
    "\n",
    "class_0_term_counts = np.array(X_class_0.sum(axis=0)).flatten()\n",
    "class_1_term_counts = np.array(X_class_1.sum(axis=0)).flatten()\n",
    "\n",
    "chi2_results['class_0_freq'] = class_0_term_counts\n",
    "chi2_results['class_1_freq'] = class_1_term_counts\n",
    "\n",
    "# 6. Identify the Top 20 Words for Each Class\n",
    "\n",
    "# For Class 1\n",
    "chi2_results_sorted = chi2_results.sort_values(by='chi2_score', ascending=False)\n",
    "top_20_class_1 = chi2_results_sorted.head(20)\n",
    "print(\"Top 20 words most indicative of class 1:\")\n",
    "print(top_20_class_1[['feature', 'chi2_score', 'class_1_freq', 'class_0_freq']])\n",
    "\n",
    "# For Class 0\n",
    "chi2_results_sorted_asc = chi2_results.sort_values(by='chi2_score', ascending=True)\n",
    "top_20_class_0 = chi2_results_sorted_asc.head(20)\n",
    "print(\"\\nTop 20 words most indicative of class 0:\")\n",
    "print(top_20_class_0[['feature', 'chi2_score', 'class_0_freq', 'class_1_freq']])"
   ]
  },
  {
   "cell_type": "raw",
   "metadata": {
    "vscode": {
     "languageId": "raw"
    }
   },
   "source": [
    "# 1. Create the Document-Term Matrix\n",
    "vectorizer = CountVectorizer(binary=True)\n",
    "X_dtm = vectorizer.fit_transform(merged_df['clean_content'])\n",
    "feature_names = vectorizer.get_feature_names_out()\n",
    "y = merged_df['label'].values\n",
    "\n",
    "# 2. Initialize counts\n",
    "odds_ratio_data = []\n",
    "X_dtm_transposed = X_dtm.transpose()\n",
    "laplace = 0.5  # Laplace smoothing\n",
    "\n",
    "# 3. Iterate over each word\n",
    "for idx, word in enumerate(feature_names):\n",
    "    word_vector = X_dtm_transposed[idx].toarray()[0]\n",
    "    a = laplace + np.sum((word_vector == 1) & (y == 1))\n",
    "    b = laplace + np.sum((word_vector == 0) & (y == 1))\n",
    "    c = laplace + np.sum((word_vector == 1) & (y == 0))\n",
    "    d = laplace + np.sum((word_vector == 0) & (y == 0))\n",
    "    odds_ratio = (a * d) / (b * c)\n",
    "    odds_ratio_data.append({\n",
    "        'word': word,\n",
    "        'odds_ratio': odds_ratio,\n",
    "        'a': a,\n",
    "        'b': b,\n",
    "        'c': c,\n",
    "        'd': d\n",
    "    })\n",
    "# 4. Create a DataFrame with the results\n",
    "odds_ratio_df = pd.DataFrame(odds_ratio_data)\n",
    "\n",
    "# 5. Add log odds ratio\n",
    "odds_ratio_df['log_odds_ratio'] = np.log(odds_ratio_df['odds_ratio'])\n",
    "\n",
    "# 6. Sort words by log_odds_ratio\n",
    "odds_ratio_df_sorted = odds_ratio_df.sort_values(by='log_odds_ratio', ascending=False)\n",
    "\n",
    "# 7. Display top words for each class\n",
    "top_words_class1 = odds_ratio_df_sorted.head(20)\n",
    "print(\"Top 20 words most indicative of Class 1 (stock price increased):\")\n",
    "print(top_words_class1[['word', 'odds_ratio', 'log_odds_ratio', 'a', 'b', 'c', 'd']])\n",
    "\n",
    "bottom_words_class0 = odds_ratio_df_sorted.tail(20)\n",
    "print(\"\\nTop 20 words most indicative of Class 0 (stock price decreased or stayed the same):\")\n",
    "print(bottom_words_class0[['word', 'odds_ratio', 'log_odds_ratio', 'a', 'b', 'c', 'd']])"
   ]
  },
  {
   "cell_type": "raw",
   "metadata": {
    "vscode": {
     "languageId": "raw"
    }
   },
   "source": [
    "# Calculate Mutual Information\n",
    "mi_scores = mutual_info_classif(X_dtm, y, discrete_features=True)\n",
    "\n",
    "# Create a DataFrame with the results\n",
    "mi_df = pd.DataFrame({\n",
    "    'word': feature_names,\n",
    "    'mi_score': mi_scores\n",
    "})\n",
    "\n",
    "# Sort by MI score\n",
    "mi_df_sorted = mi_df.sort_values(by='mi_score', ascending=False)\n",
    "\n",
    "# Top 20 words\n",
    "top_words_mi = mi_df_sorted.head(20)\n",
    "print(\"Top 20 words with highest Mutual Information scores:\")\n",
    "print(top_words_mi)\n",
    "\n",
    "# Bottom 20 words (least informative)\n",
    "bottom_words_mi = mi_df_sorted.tail(20)\n",
    "print(\"\\nWords with lowest Mutual Information scores:\")\n",
    "print(bottom_words_mi)"
   ]
  },
  {
   "cell_type": "markdown",
   "metadata": {
    "vscode": {
     "languageId": "raw"
    }
   },
   "source": [
    "After running and doing some reseach on the output of logistic regression , chisq, manual calculation, and mutual infornmation I  came to the conclusion that Logistic regression have most reliable and interpretable results."
   ]
  },
  {
   "cell_type": "markdown",
   "metadata": {},
   "source": [
    "# Text Representation and Modeling "
   ]
  },
  {
   "cell_type": "code",
   "execution_count": 25,
   "metadata": {},
   "outputs": [],
   "source": [
    "# Create the TF-IDF representation\n",
    "tfidf_vectorizer = TfidfVectorizer()\n",
    "tfidf_matrix = tfidf_vectorizer.fit_transform(merged_df['clean_content'])"
   ]
  },
  {
   "cell_type": "code",
   "execution_count": 26,
   "metadata": {},
   "outputs": [],
   "source": [
    "from sklearn.metrics.pairwise import cosine_similarity\n",
    "import numpy as np\n",
    "\n",
    "# Compute the cosine similarity matrix\n",
    "cosine_sim_matrix = cosine_similarity(tfidf_matrix)"
   ]
  },
  {
   "cell_type": "code",
   "execution_count": 27,
   "metadata": {},
   "outputs": [
    {
     "name": "stdout",
     "output_type": "stream",
     "text": [
      "Most similar pair of documents are at indices (2649, 2809) with similarity 1.0000\n"
     ]
    }
   ],
   "source": [
    "# Set self-similarities to zero\n",
    "np.fill_diagonal(cosine_sim_matrix, 0)\n",
    "\n",
    "# Find the indices of the most similar pair\n",
    "most_similar_pair = np.unravel_index(np.argmax(cosine_sim_matrix), cosine_sim_matrix.shape)\n",
    "max_similarity = cosine_sim_matrix[most_similar_pair]\n",
    "\n",
    "print(f\"Most similar pair of documents are at indices {most_similar_pair} with similarity {max_similarity:.4f}\")"
   ]
  },
  {
   "cell_type": "code",
   "execution_count": 28,
   "metadata": {},
   "outputs": [
    {
     "name": "stdout",
     "output_type": "stream",
     "text": [
      "Least similar pair of documents are at indices (63, 1668) with similarity 0.0000\n"
     ]
    }
   ],
   "source": [
    "# Mask zeros and find the least similar pair\n",
    "masked_cosine_sim = np.where(cosine_sim_matrix == 0, np.inf, cosine_sim_matrix)\n",
    "least_similar_pair = np.unravel_index(np.argmin(masked_cosine_sim), masked_cosine_sim.shape)\n",
    "min_similarity = cosine_sim_matrix[least_similar_pair]\n",
    "\n",
    "print(f\"Least similar pair of documents are at indices {least_similar_pair} with similarity {min_similarity:.4f}\")"
   ]
  },
  {
   "cell_type": "code",
   "execution_count": 29,
   "metadata": {},
   "outputs": [
    {
     "name": "stdout",
     "output_type": "stream",
     "text": [
      "\n",
      "Most Similar Documents:\n",
      "Document 2649 :\n",
      "Investing com   NVIDIA  NASDAQ NVDA  fell by 3 03  to trade at  209 98 by 12 49  17 49 GMT  on Monday on the NASDAQ exchange \n",
      "The volume of NVIDIA shares traded since the start of the session was 5 00M  NVIDIA has traded in a range of  209 77 to  216 89 on the day \n",
      "The stock has traded at  221 4100 at its highest and  209 3100 at its lowest during the past seven days \n",
      "\n",
      "Document 2809 :\n",
      "Investing com   NVIDIA  NASDAQ NVDA  fell by 3 05  to trade at  208 36 by 10 09  15 09 GMT  on Monday on the NASDAQ exchange \n",
      "The volume of NVIDIA shares traded since the start of the session was 2 00M  NVIDIA has traded in a range of  207 55 to  215 33 on the day \n",
      "The stock has traded at  222 0000 at its highest and  176 0100 at its lowest during the past seven days \n",
      "\n"
     ]
    }
   ],
   "source": [
    "# Inspect the most similar documents\n",
    "doc1_index, doc2_index = most_similar_pair\n",
    "doc1_content = merged_df.iloc[doc1_index]['content']\n",
    "doc2_content = merged_df.iloc[doc2_index]['content']\n",
    "\n",
    "print(\"\\nMost Similar Documents:\")\n",
    "print(f\"Document {doc1_index} :\\n{doc1_content}\\n\")\n",
    "print(f\"Document {doc2_index} :\\n{doc2_content}\\n\")"
   ]
  },
  {
   "cell_type": "code",
   "execution_count": 30,
   "metadata": {},
   "outputs": [
    {
     "name": "stdout",
     "output_type": "stream",
     "text": [
      "Least Similar Documents:\n",
      "Document 63:\n",
      "AAXN  ACAD  ACIA  ALRM  APEI  ARNA  ATHX  AXAS  BUFF  CALX  CDXS  CHEF  CHMI  CLI  COGT  COHR  DEPO  DIOD  DIS  DOX  EA  ENPH  ESIO  EVH  EVRI  EXAR  FARM  FARO  FMI  FNV  FOSL  FTD  FUEL  GDOT  GERN  GHDX  GWPH  HALO  HCKT  IAG  INFI  INGN  IOSP  IPAR  JAZZ  KAR  LADR  LGND  MCF  MCHP  MIME  MMI  MRIN  MTRX  MXL  MXWL  NBIX  NDLS  NEWR  NKTR  NUAN  NVDA  NWSA  OREX  OVAS  PAAS  PCLN  PEIX  PEN  PFMT  PHH  PRAA  PRI  PRMW  PRTA  PSEC  QNST  REG  REXX  RMTI  RPD  RVNC  SCSC  SGRY  SLF  SLW  SPA  SPWR  SSNI  TCX  TRIP  TSRO  TRUE  TTEC  TWNK  VSLR  VTL  WAIR  WR  WSTC  XCO  XOG  XOXO  YELP  YUME  ZAYO Now read \n",
      "\n",
      "Document 1668:\n",
      "Listen to the Podcast Audio     Mike Gleason  It is my privilege now to welcome in Frank Holmes  CEO and Chief Investment Officer at US Global Investors  Mr  Holmes has received various honors over the years  including being named America s Best Fund Manager for 2016 by the Mining Journal  He is also the co author of the book The Goldwatcher  Demystifying Gold Investing and is a regular guest on CNBC  Bloomberg  Fox Business as well as right here on the Money Metals podcast  Frank  welcome back and thanks for joining us again  How are you today \n",
      "Frank Holmes  Excellent  Thank you  my friend  Thank you \n",
      "Mike Gleason  Well  to start out here  Frank  I know you recently attended and spoke at the Denver Gold Show and I always like to talk to insiders like yourself following those sorts of events because you can always glean some good insights on the mood of the industry and how things are really going in the precious metals community  Now the mining industry has taken a pretty good beating over the last few years and it continues to struggle a bit even as we seem to be in a new bull cycle that began in late 2015  You ve got your new gold fund now  GOAU  so you ve got lots on insights into the mining industry and know lots of gold bugs  So  what did you glean from the conference Frank  What was the mood in general  Give us some highlights there if you would \n",
      "Frank Holmes  Well I think my presentation was well received when I explained how the quant world and data mining  and these other what they call alternative investment research companies  are providing new insight the way investing is taking place  Understanding the paradigm shift on that data collection and that analysts love their old reports on mid asset value  are irrelevant  They re not relevant to picking stocks today  And you have to go with the forces of physics either as electromagnetic rebounding to the mean is a cheap stock and math says it will rebound or has strong momentum  And you can take a universe of 88 gold stocks and take it down to 28 and far outperform the GDX  NYSE GDX  or GDXJ \n",
      "Using data that was foreign to a lot of these analysts and recognizing     the other thing I think worth commenting on was gold and this whole thing on Bitcoin  is it a competition for bullion  It is not  First of all  without electricity Bitcoin is not worth any money  It needs electricity  Gold is always gold  It conducts electricity and it will always have its materiality for currency in addition to being jewelry  But I think that s really important is to recognize that it s so much easier  this idea of crowdfunding  to go and open up an exchange and trade 24 7 all these different currencies all around the world than it is to open a brokerage account  And I think that this excessive regulations is basically seeing people migrate over to angel investing  crowdfunding such as into cryptocurrencies  et cetera  And I think that s the bigger danger is to overall investing in trading in the capital markets  So  they re the comments that I made and that seem to have come back with many written messages to me regarding the quants and how they re changing the landscape \n",
      "But I think the other part that s important for your listeners is that there were 1 100 people there  Now they don t allow investment bankers in  Research analysts  traders  CEOs  gold analysts from the buy and sell side  they re allowed to participate and there were 1 100  The week before there was a big event for the juniors  junior miners  but this event is the premiere event of the world  And I was impressed with it  The conversations looking for companies that are going to be taken over  What s the probability  Because the seniors are desperate for future production and where is that growth going to come from because they re just not finding the gold as fast as they re mining  So  the Newmonts of the world have to go and strike deals like they did with Continental in Columbia to get a foothold into high grade big geographic footprints  So  I thought that was interesting  I think that in the next 12 months there s going to be lots of M A work  And the other part was the royalty companies seem to get a new sort of respect for how their positioned in the capital markets in that gold space \n",
      "Mike Gleason  Yeah definitely  Sounds like there is a wave of optimism there and some good things ahead  Now I wanted to get back to some of the cryptocurrency conversation here  Your firm  Frank  US Global Investors  recently made an investment in HIVE Blockchain Technologies and you have been appointed chairman of the board there  Given you are heavily involved in the cryptocurrency space now  we d like to get your take on a topic of growing interest in the metals community  You alluded to this a moment ago but cryptocurrencies  Bitcoin in particular  have been seen by many as another form of honest money  You ve obviously maybe shot a little bit of a hole in what it is that is needed in order to continue the cryptocurrency world  that being electricity  But since you re a fan at least in part of both metals and blockchains  What are your thoughts on how metals might fit in with this emerging technology  Frank \n",
      "Frank Holmes  Well let s just focus on this emerging technology  We go back to the internet and it was actually very boring when it first come out because it was very slow and it used to be a joke that it was just porn and dark things  And now it s fast porn  No  I m kidding  But the real catalysts for the internet exploding in usage were emails  AOL  And long before Yahoo  came out to give you free email  And then people saw the incredible capacity for this channel of distribution of information  Well I think that the Bitcoin and Ethereum are doing that for blockchain technology and that there s a huge scramble to be able to apply this so that you ll be able to trade stocks 24 7 \n",
      "And when I was doing my research and I went to the largest cryptocurrency event  that used to be where the gold show used to be held in New York at the Marriott  I was just shocked to see how many young people were there  Many more than ever when gold was peaking  And two is that they weren t drinking scotch and whiskey at the bar and beer  they were drinking Pepsi and coffee  That really threw me off to just watch those young people and how they re looking at it  And then to find out that the keynote speaker was a CEO of Fidelity  Fidelity is a massive multi trillion dollar asset management company and they have all their employees on Bitcoin  They have a wallet and you can buy goods in the store  And seeing that she s the keynote and that the New York Stock Exchange when it was launching GOAU they were commenting that they had put money into Coinbase along with USAA in San Antonio \n",
      "So  at Coinbase you can open an account so easily and they will now let your 10 000 or 50 000 or 100 000 of coins show up as an asset over all in your portfolio  USAA and all that should do that at Fidelity  So  I said well it s something really that s not mainstream and then in the summer it came out in the Wall Street Journal that Fidelity is doing it  But really it didn t seem to captivate a lot of people s interest  And I think that the big part with the New York Stock Exchange is just their worry of being Uberized the way taxi cabs were with having stock trading 24 7 and a lot cheaper \n",
      "So  I think that that s the big trend and along I was trying to launch a cryptocurrency  ETF  or a product with that and I just kept bringing up cul de sacs  Had to back that car out  back that truck out  It didn t matter if it was the U S   the SEC  or Canada with the OSC  They re just so consumed that AML  Anti Money Laundering  supersedes  even though you can track Bitcoin  supersedes anything else  So that s why you ve not seen anything come out directly where you can trade Bitcoin into an ETF \n",
      "So  I ve been working on this and then all of the sudden I hear from my friend Frank Giustra saying   Look  we have this deal  Do you know much about this space   And I said  Oh  yes  I ve been working on it  And I just keep running into cul de sacs   And he said   Well  why don t you explore it  and explored it and I said   You know what  I ll be come your third biggest shareholder  and I will go on the board   because I think that HIVE is so special and unique because it s the mining business \n",
      "And the company behind HIVE is Genesis Mining and Genesis Mining is the largest cryptocurrency miner in the word  They have a million people give them 500 bucks a year and one of the things I learned was that if you want to do mining of cryptocurrency you need to have cheap energy like two cents a kilowatt hour  So  you find that a lot of these big dealer centers are in Iceland where it s cool and you have cheap electricity  Google  NASDAQ GOOGL  is there  Facebook  NASDAQ FB  is there and so is Genesis  And you need to have computer graphic cards because the processing power to validate a transaction  So  you found that NVIDIA  NASDAQ NVDA  stock has taken off because the cryptocurrency companies like Genesis have been massive buyers of their computer graphics cards \n",
      "And so  with that  I said   You mean  we re going to be investing in a company that s mining and validating transactions all over the world  and we create new coins  fresh coins  mint coins  virgin coins    however you want to characterize them  We are not trafficking on the silk road  We are not buying and selling a coin that could have been painted et cetera  No  We re the creator because we validate transactions and you get paid every time you validate a blockchain transaction  So  I became extremely excited about this opportunity and so far  we ve made for our shareholders more than 500  on their money \n",
      "Mike Gleason  That s fantastic  Now I d like to get your take on the U S  dollar  The dollar had a miserable performance through the first eight months of the year and bottomed in early September at 91 5  The greenback then bounced and has enjoyed a very good rally since then  What is driving this rally in your view and are you expecting the dollar to keep moving higher in the months ahead  Frank \n",
      "Frank Holmes  Well  historically it does get a bit of a rally going into the year end  That s one  Two is the 5 year government bond  The 5 year government bond is positive now  the yield  So  the CPI number is 1 9 and you just take whatever the government is trying to entice you to buy their 5 year government bond  subtract the CPI number  it recalibrates every month and it gives you a good idea for where fund falls are going for real rates return  And whenever the five year government bond and the two year government bond are negative  gold is positive  And so  we went from a 1 4 to 1 5 5 year government bond to a 1 93  Now it s just slightly positive but that was enough to sort of have the dollar rally and gold come off in the past month \n",
      "But I think that unless you really get change  you get fiscal change  trying to get the tax code streamlined and trying to get other parts of the legislation body in its Beltway to streamline regulations  We need to have the TSA preferred  how you can fly much more quickly now  rather than those two hour waits to fly and to go and catch your flight  You know most people in San Antonio were driving to Houston rather than going to wait two hours for an hour flight  And so  you re seeing now this TSA preferred  That s just streamlining processes and this has to be done for the movement of money  for opening a trading accounts  for opening up investment accounts  et cetera  If we don t get those things  we re going to have to have negative real interest rates to keep the economy going  Or you re going to have to a very weak dollar to drive exports \n",
      "And I think that Trump has been a master disrupter  He s so disruptive to the Beltway Party  which is the regulatory regime that s been their professional regulatory  I ve listened to other people like Bernanke spoke about the difficulty for Jimmy Carter and Trump to take on the Beltway Party  But he s different and so he s trying to push for the streamline of regulations  If he can  rates can trade higher and I think that the dollar will just trade with the real interest rates relative to the rest of the world \n",
      "But I remain very positive on gold  It s amazing to see how well gold has done this year  The gold stocks have had a great run until the GDXJ blew up  Basically  they captured 95  of all fund flows  Therefore  they had to be concentrated owning more than 20 companies 20  means they had to do a force takeover  They had to back out of that one and they blew out three billion dollars  They brought in five billion dollars over 12 months and then they did an exit in only a matter of weeks of three billion dollars  And that really damaged the bid side and bruised people  It s like getting hit by Mike Tyson  You just don t heal quickly when he hits you and it s the same thing with the gold stocks  But I think there s some just fabulous gold stocks out there that are ripe to be taken over  that have very strong positive cash flow  The weaker dollar in the U S  and the higher gold prices  there s very strong margins for companies like Klondex \n",
      "Mike Gleason  Yeah  certainly can be interesting as we go towards the latter part of the year here to see what might be sustained in this correction in gold or if it can rebound and get back to where it was maybe a month ago or so  We did have a good first half of the year in the metals but the markets obviously have hit some of those headwinds here recently  a rising dollar and so forth that you alluded to  If you would  give us your bull case for metals in near term and then also if you would maybe a bear case as well and then kind of expand more on which side you re betting on  as we begin to wrap up here \n",
      "Frank Holmes  Well  there s the two drivers for gold  love trade and fear trade  And the fear trade dominates the psychic of Americans and the same thing with Europeans in that s predominantly negative real interest rates  So  whenever the government has to monetize most of their debt  and basically negative real interest rates are losing money and buying their government bonds  gold does well  I don t think that they can raise rates significantly without a massive streamlining of regulations and the government is doing everything to try to stop Trump from doing that  So  I think we re going to end up still living with negative interest rates \n",
      "Now  the other positive part  for the U S   is that the dollar is down but the exports are up  So  we have our strong industrial base  And it s showing up in PMI  that s Purchasing Manufacturer s Index  which is a forward looking index  It s not like GDP  which is looking out the rear view mirror  This is like looking with headlights looking down six months  And the one month is above the three month  and that s really positive for global growth  So  I remain positive and constructive towards it  What could derail it  North Korea could derail it  China s policies could derail it  And I think that if rates were to surge dramatically in the U S   that could derail it \n",
      "But I don t think that s going to happen  We re in a very constructive mode and it s a great opportunity for stock picking  I just spoke at a conference in Vancouver yesterday  and I commented on     By the way  I commented on HIVE  I was asked and I said   You know  if you re a value investor  HIVE is extremely overvalued   But if you are a first mover advantage in the first public company where funds can go by and get exposure to crypto mining  It is not  It s like Tesla  NASDAQ TSLA   it s like Amazon  NASDAQ AMZN   They will always trade at lofty valuations  And so  it s extremely attractive that way when you look at it as being first mover advantage \n",
      "Mike Gleason  Well that s great stuff as usual  Thanks as always for joining us  It s a real honor to hear your thoughts and we appreciate your time as always  Now before we let you go  please tell our listeners a little bit more about your firm and your services and then also mention the Frank Talk Blog so people can learn more about that if they re not already checking it out \n",
      "Frank Holmes  Well  we are USfunds com  makes it so easy  just go to USfunds com  sign up for investor alert  It s right in the middle of the page  And we write every week and we do a game film analysis  three strengths or weaknesses for last week and opportunities and threats that can come out next week  Sort of forward looking like game film and looking back \n",
      "And the Frank Talk is my global travels and I try to be insightful and learn about how we ve applied quant math  What s called quantamentals to stock picking  And especially we launched our GOGO Canadian gold ETF and we ve launched one here in the U S   which we re really proud of because the ten year index based on those smart factors  both performs of GDXJ say 94  of the time are rolling 12 month periods  So  we think that GOAU  we ll write about it  we ll tell you about the changes  And we also have unique products like JETS which is also an ETF listed on the New York Stock Exchange \n",
      "Mike Gleason  Yeah  it s great stuff  Certainly  the Go Gold fund is looking very good from what I ve been reading about  Obviously performing just as you were hoping it would and continued success there  We always appreciate it and good luck with the other endeavors that you have going on and keep up the good work on those market commentaries and we ll certainly look forward to our next conversation  Take care  Frank \n",
      "Frank Holmes  Take care  my friend \n",
      "Mike Gleason  Well that will do it for this week  Thanks again to Frank Holmes  CEO of US Global Investors and manager of the recently launched GOAU Gold Fund  For more information  the site is USfunds com  Be sure to check out the previously mentioned Frank Talk blog while you re there for some of the best market commentary you will find anywhere on gold and other related topics  Again  you can find all that at USfunds com  and you can also go to GOAUETF com for more information on that new gold fund \n",
      "Mike Gleason is a Director with   a national precious metals dealer with over 50 000 customers  Gleason is a hard money advocate and a strong proponent of personal liberty  limited government and the Austrian School of Economics  A graduate of the University of Florida  Gleason has extensive experience in management  sales and logistics as well as precious metals investing  He also puts his longtime broadcasting background to good use  hosting a weekly precious metals podcast since 2011  a program listened to by tens of thousands each week \n",
      "\n"
     ]
    }
   ],
   "source": [
    "\n",
    "# Inspect the least similar documents\n",
    "doc1_index_ls, doc2_index_ls = least_similar_pair\n",
    "doc1_content_ls = merged_df.iloc[doc1_index_ls]['content']\n",
    "doc2_content_ls = merged_df.iloc[doc2_index_ls]['content']\n",
    "\n",
    "print(\"Least Similar Documents:\")\n",
    "print(f\"Document {doc1_index_ls}:\\n{doc1_content_ls}\\n\")\n",
    "print(f\"Document {doc2_index_ls}:\\n{doc2_content_ls}\\n\")"
   ]
  },
  {
   "cell_type": "markdown",
   "metadata": {},
   "source": [
    "# Word2Vec"
   ]
  },
  {
   "cell_type": "code",
   "execution_count": 31,
   "metadata": {},
   "outputs": [],
   "source": [
    "# Tokenize the cleaned content\n",
    "merged_df['tokenized_content'] = merged_df['clean_content'].apply(lambda x: x.split())\n",
    "sentences = merged_df['tokenized_content'].tolist()"
   ]
  },
  {
   "cell_type": "code",
   "execution_count": 32,
   "metadata": {},
   "outputs": [
    {
     "data": {
      "text/plain": [
       "(11325296, 12092840)"
      ]
     },
     "execution_count": 32,
     "metadata": {},
     "output_type": "execute_result"
    }
   ],
   "source": [
    "# train the model on the whole corpus\n",
    "# Initialize and train the model\n",
    "\n",
    "model = Word2Vec(sentences, \n",
    "                 vector_size=100, \n",
    "                 window=5, \n",
    "                 min_count=1, \n",
    "                 sg=1)\n",
    "\n",
    "model.train(sentences, \n",
    "            total_examples=model.corpus_count, \n",
    "            epochs=10)\n"
   ]
  },
  {
   "cell_type": "code",
   "execution_count": 33,
   "metadata": {},
   "outputs": [
    {
     "name": "stdout",
     "output_type": "stream",
     "text": [
      "(3103, 100)\n",
      "[[-0.11465978 -0.01065996 -0.11169039 ... -0.06884662  0.03203883\n",
      "   0.13666187]\n",
      " [-0.05685574 -0.00910246 -0.04728267 ...  0.00526666  0.03967785\n",
      "   0.12033847]\n",
      " [ 0.02092926  0.00773265 -0.08291624 ...  0.07707679 -0.02890396\n",
      "   0.06071271]\n",
      " ...\n",
      " [-0.03898761  0.02888935  0.07178899 ...  0.1687548   0.00875754\n",
      "   0.08043401]\n",
      " [-0.04199873  0.02373214 -0.06716284 ...  0.19125457  0.01850871\n",
      "   0.07535397]\n",
      " [-0.04668272  0.08523696 -0.03039211 ...  0.15055032 -0.07365705\n",
      "   0.09109647]]\n"
     ]
    }
   ],
   "source": [
    "# Convert the word embeddings into document embeddings\n",
    "# Average the word vectors in a document to get a document vector\n",
    "document_embeddings = np.array([np.mean([model.wv[word] for word in words if word in model.wv] or [np.zeros(100)], axis=0) for words in sentences])\n",
    "\n",
    "# Check the shape of the document embeddings\n",
    "print(document_embeddings.shape)\n",
    "print(document_embeddings)"
   ]
  },
  {
   "cell_type": "code",
   "execution_count": 34,
   "metadata": {},
   "outputs": [
    {
     "name": "stdout",
     "output_type": "stream",
     "text": [
      "(3103, 100)\n",
      "[[-0.00895604 -0.0009555  -0.01112815 ... -0.0055313   0.00659313\n",
      "   0.01179798]\n",
      " [-0.00347091 -0.00629108 -0.00266956 ...  0.00427344  0.00857052\n",
      "   0.01058291]\n",
      " [ 0.00445515  0.00036567 -0.00603985 ...  0.0059663  -0.00103704\n",
      "   0.00500742]\n",
      " ...\n",
      " [ 0.00157081 -0.00274347  0.01228954 ...  0.02460041  0.00315637\n",
      "   0.0115658 ]\n",
      " [-0.00629019 -0.00100448  0.00187819 ...  0.02457107 -0.00270124\n",
      "   0.00855514]\n",
      " [-0.00090318  0.00605106  0.00411634 ...  0.02400428 -0.02104016\n",
      "   0.01461393]]\n"
     ]
    }
   ],
   "source": [
    "# use tf-idf weighted average\n",
    "# Create the TF-IDF representation\n",
    "tfidf_vectorizer = TfidfVectorizer()\n",
    "tfidf_matrix = tfidf_vectorizer.fit_transform(merged_df['clean_content'])\n",
    "\n",
    "# Convert the TF-IDF matrix to a list of dictionaries\n",
    "tfidf_list = []\n",
    "for i in range(tfidf_matrix.shape[0]):\n",
    "    feature_index = tfidf_matrix[i,:].nonzero()[1]\n",
    "    tfidf_scores = zip(feature_index, [tfidf_matrix[i, x] for x in feature_index])\n",
    "    tfidf_list.append({feature_names[i]: score for i, score in tfidf_scores})\n",
    "\n",
    "# Calculate the TF-IDF weighted average of the word vectors\n",
    "document_embeddings_tfidf = np.array([np.mean([model.wv[word] * tfidf_list[i][word] for word in words if word in model.wv and word in tfidf_list[i]] or [np.zeros(100)], axis=0) for i, words in enumerate(sentences)])\n",
    "\n",
    "# Check the shape of the document embeddings\n",
    "print(document_embeddings_tfidf.shape)\n",
    "print(document_embeddings_tfidf)"
   ]
  },
  {
   "cell_type": "markdown",
   "metadata": {},
   "source": [
    "# Predictions and Evaluation"
   ]
  },
  {
   "cell_type": "code",
   "execution_count": 35,
   "metadata": {},
   "outputs": [],
   "source": [
    "# prepare the data for modelling\n",
    "X = document_embeddings\n",
    "y = merged_df['label'].values\n",
    "\n",
    "# Split the data into training and testing sets\n",
    "from sklearn.model_selection import train_test_split\n",
    "\n",
    "X_train, X_test, y_train, y_test = train_test_split(X, y, test_size=0.2, random_state=42, stratify=y)\n"
   ]
  },
  {
   "cell_type": "markdown",
   "metadata": {},
   "source": [
    "Naive Bayes"
   ]
  },
  {
   "cell_type": "code",
   "execution_count": 36,
   "metadata": {},
   "outputs": [
    {
     "name": "stdout",
     "output_type": "stream",
     "text": [
      "Classification Report using W2V:\n",
      "              precision    recall  f1-score   support\n",
      "\n",
      "           0       0.45      0.39      0.42       289\n",
      "           1       0.53      0.59      0.56       332\n",
      "\n",
      "    accuracy                           0.50       621\n",
      "   macro avg       0.49      0.49      0.49       621\n",
      "weighted avg       0.49      0.50      0.49       621\n",
      "\n",
      "Accuracy using W2V: 0.49597423510466987\n"
     ]
    }
   ],
   "source": [
    "# Train a naive bayes classifier \n",
    "\n",
    "\n",
    "nb_model = GaussianNB()\n",
    "nb_model.fit(X_train, y_train)\n",
    "\n",
    "# Predict the labels\n",
    "y_pred = nb_model.predict(X_test)\n",
    "\n",
    "# Evaluate the model\n",
    "from sklearn.metrics import accuracy_score, classification_report\n",
    "\n",
    "#print\n",
    "\n",
    "print(\"Classification Report using W2V:\")\n",
    "print(classification_report(y_test, y_pred))\n",
    "\n",
    "print (\"Accuracy using W2V:\", accuracy_score(y_test, y_pred))"
   ]
  },
  {
   "cell_type": "markdown",
   "metadata": {},
   "source": [
    "Logistics regression tfidf"
   ]
  },
  {
   "cell_type": "raw",
   "metadata": {
    "vscode": {
     "languageId": "raw"
    }
   },
   "source": [
    "# train a logistic regression model\n",
    "lr_model = LogisticRegression(max_iter=1000)\n",
    "lr_model.fit(X_train, y_train)\n",
    "\n",
    "# Predict the labels\n",
    "y_pred_train = lr_model.predict(X_train)\n",
    "y_pred_test = lr_model.predict(X_test)\n",
    "\n",
    "# Evaluate the logistics model report and accuracy\n",
    "print(\"Classification Report\")\n",
    "print(classification_report(y_test, y_pred_test))\n",
    "\n",
    "print (\"Accuracy:\", accuracy_score(y_test, y_pred_test))"
   ]
  },
  {
   "cell_type": "raw",
   "metadata": {
    "vscode": {
     "languageId": "raw"
    }
   },
   "source": [
    "\n",
    "# Train a random forest model\n",
    "from sklearn.ensemble import RandomForestClassifier\n",
    "\n",
    "# Initialize and train the Random Forest model\n",
    "rf_model = RandomForestClassifier()\n",
    "rf_model.fit(X_train, y_train)\n",
    "\n",
    "# Make predictions with Random Forest\n",
    "y_pred_rf = rf_model.predict(X_test)\n",
    "\n",
    "# Generate classification report\n",
    "print(\"Random Forest Classification Report:\")\n",
    "print(classification_report(y_test, y_pred_rf))\n",
    "\n",
    "# Compute accuracy\n",
    "accuracy_rf = accuracy_score(y_test, y_pred_rf)\n",
    "print(f\"Accuracy: {accuracy_rf:.2f}\")"
   ]
  },
  {
   "cell_type": "raw",
   "metadata": {
    "vscode": {
     "languageId": "raw"
    }
   },
   "source": [
    "# perform svm model\n",
    "from sklearn.svm import SVC\n",
    "\n",
    "# Initialize and train the SVM model\n",
    "svm_model = SVC()\n",
    "svm_model.fit(X_train, y_train)\n",
    "\n",
    "# Make predictions with SVM\n",
    "y_pred_svm = svm_model.predict(X_test)\n",
    "\n",
    "# Generate classification report\n",
    "print(\"SVM Classification Report:\")\n",
    "print(classification_report(y_test, y_pred_svm))\n",
    "\n",
    "# Compute accuracy\n",
    "accuracy_svm = accuracy_score(y_test, y_pred_svm)\n",
    "print(f\"Accuracy: {accuracy_svm:.2f}\")"
   ]
  },
  {
   "cell_type": "markdown",
   "metadata": {},
   "source": [
    "svm is baised towards class 1 which is not good "
   ]
  },
  {
   "cell_type": "code",
   "execution_count": 37,
   "metadata": {},
   "outputs": [
    {
     "name": "stdout",
     "output_type": "stream",
     "text": [
      "Gradient Boosting Classification Report:\n",
      "              precision    recall  f1-score   support\n",
      "\n",
      "           0       0.52      0.40      0.45       289\n",
      "           1       0.56      0.67      0.61       332\n",
      "\n",
      "    accuracy                           0.55       621\n",
      "   macro avg       0.54      0.54      0.53       621\n",
      "weighted avg       0.54      0.55      0.54       621\n",
      "\n",
      "Accuracy: 0.55\n"
     ]
    }
   ],
   "source": [
    "# perfomr gradient boosting\n",
    "\n",
    "\n",
    "# Initialize and train the Gradient Boosting model\n",
    "gb_model = GradientBoostingClassifier()\n",
    "gb_model.fit(X_train, y_train)\n",
    "\n",
    "# Make predictions with Gradient Boosting\n",
    "y_pred_gb = gb_model.predict(X_test)\n",
    "\n",
    "# Generate classification report\n",
    "print(\"Gradient Boosting Classification Report:\")\n",
    "print(classification_report(y_test, y_pred_gb))\n",
    "\n",
    "# Compute accuracy\n",
    "accuracy_gb = accuracy_score(y_test, y_pred_gb)\n",
    "print(f\"Accuracy: {accuracy_gb:.2f}\")"
   ]
  },
  {
   "cell_type": "raw",
   "metadata": {
    "vscode": {
     "languageId": "raw"
    }
   },
   "source": [
    "# train a neural network model\n",
    "from sklearn.neural_network import MLPClassifier\n",
    "\n",
    "# Initialize and train the MLP model\n",
    "mlp_model = MLPClassifier()\n",
    "mlp_model.fit(X_train_tfidf, y_train)\n",
    "\n",
    "# Make predictions with MLP\n",
    "y_pred_mlp = mlp_model.predict(X_test_tfidf)\n",
    "\n",
    "# Generate classification report\n",
    "print(\"MLP Classification Report:\")\n",
    "print(classification_report(y_test, y_pred_mlp))\n",
    "\n",
    "# Compute accuracy\n",
    "accuracy_mlp = accuracy_score(y_test, y_pred_mlp)\n",
    "print(f\"Accuracy: {accuracy_mlp:.2f}\")"
   ]
  },
  {
   "cell_type": "markdown",
   "metadata": {},
   "source": [
    "Grid Search"
   ]
  },
  {
   "cell_type": "raw",
   "metadata": {
    "vscode": {
     "languageId": "raw"
    }
   },
   "source": [
    "# Taking forever to run\n",
    "\n",
    "# Grid search for hyperparameter tuning\n",
    "from sklearn.model_selection import GridSearchCV\n",
    "\n",
    "param_grid = {\n",
    "    'C': [10, 100],\n",
    "    'solver': ['liblinear', 'lbfgs', 'sag', 'saga'],\n",
    "    'penalty': ['l1', 'l2'],\n",
    "    'class_weight': [None, 'balanced']\n",
    "}\n",
    "\n",
    "grid_search = GridSearchCV(LogisticRegression(max_iter=1000), param_grid, cv=5, scoring='f1_weighted', n_jobs=-1)\n",
    "grid_search.fit(X_train_tfidf, y_train)\n",
    "\n",
    "# Best parameters\n",
    "print(\"Best hyperparameters:\", grid_search.best_params_)\n",
    "\n",
    "# Retrain with best parameters\n",
    "best_lr_model = grid_search.best_estimator_\n",
    "y_pred_best_lr = best_lr_model.predict(X_test_tfidf)\n",
    "\n",
    "# Evaluate the optimized model\n",
    "print(\"Optimized Logistic Regression Classification Report:\")\n",
    "print(classification_report(y_test, y_pred_best_lr))"
   ]
  },
  {
   "cell_type": "markdown",
   "metadata": {},
   "source": [
    "Random search"
   ]
  },
  {
   "cell_type": "raw",
   "metadata": {
    "vscode": {
     "languageId": "raw"
    }
   },
   "source": [
    "# Taking forever to run already runned for 10 hours and still running\n",
    "\n",
    "from sklearn.ensemble import RandomForestClassifier\n",
    "from sklearn.model_selection import GridSearchCV\n",
    "\n",
    "# Define the parameter grid to search over\n",
    "param_grid = {\n",
    "    'n_estimators': [50, 100, 200],  \n",
    "    'max_depth': [10, 20, 30, None], \n",
    "    'min_samples_split': [2, 5, 10],  \n",
    "    'min_samples_leaf': [1, 2, 4],  \n",
    "    'max_features': ['auto', 'sqrt', 'log2'],  \n",
    "    'bootstrap': [True, False] \n",
    "}\n",
    "\n",
    "# Instantiate the model\n",
    "rf = RandomForestClassifier(random_state=42)\n",
    "\n",
    "# Perform grid search with cross-validation\n",
    "grid_search = GridSearchCV(estimator=rf, param_grid=param_grid, \n",
    "                           cv=5, n_jobs=-1, verbose=2, scoring='f1_weighted')\n",
    "\n",
    "# Fit the grid search to the data\n",
    "grid_search.fit(X_train, y_train)\n",
    "\n",
    "# Print the best parameters and best score\n",
    "print(\"Best Parameters:\", grid_search.best_params_)\n",
    "print(\"Best F1 Score:\", grid_search.best_score_)\n",
    "\n",
    "# Evaluate the best model on the test set\n",
    "best_rf_model = grid_search.best_estimator_\n",
    "y_pred_test_rf = best_rf_model.predict(X_test)\n",
    "\n",
    "# Print classification report for test data\n",
    "from sklearn.metrics import classification_report\n",
    "print(\"Random Forest Classification Report after Hyperparameter Tuning:\")\n",
    "print(classification_report(y_test, y_pred_test_rf))"
   ]
  },
  {
   "cell_type": "code",
   "execution_count": 38,
   "metadata": {},
   "outputs": [
    {
     "name": "stdout",
     "output_type": "stream",
     "text": [
      "Fitting 5 folds for each of 8 candidates, totalling 40 fits\n"
     ]
    },
    {
     "name": "stdout",
     "output_type": "stream",
     "text": [
      "[CV] END ................................var_smoothing=1e-12; total time=   0.0s\n",
      "[CV] END ................................var_smoothing=1e-12; total time=   0.0s\n",
      "[CV] END ................................var_smoothing=1e-10; total time=   0.0s\n",
      "[CV] END ................................var_smoothing=1e-12; total time=   0.0s\n",
      "[CV] END ................................var_smoothing=1e-10; total time=   0.0s\n",
      "[CV] END ................................var_smoothing=1e-12; total time=   0.0s\n",
      "[CV] END ................................var_smoothing=1e-10; total time=   0.0s\n",
      "[CV] END ................................var_smoothing=1e-08; total time=   0.0s\n",
      "[CV] END ................................var_smoothing=1e-12; total time=   0.0s\n",
      "[CV] END ................................var_smoothing=1e-08; total time=   0.0s\n",
      "[CV] END ................................var_smoothing=1e-08; total time=   0.0s\n",
      "[CV] END ................................var_smoothing=1e-08; total time=   0.0s\n",
      "[CV] END ................................var_smoothing=1e-08; total time=   0.0s\n",
      "[CV] END ................................var_smoothing=1e-06; total time=   0.0s\n",
      "[CV] END ................................var_smoothing=1e-06; total time=   0.0s\n",
      "[CV] END ................................var_smoothing=1e-06; total time=   0.0s\n",
      "[CV] END ................................var_smoothing=1e-06; total time=   0.0s\n",
      "[CV] END ................................var_smoothing=1e-06; total time=   0.0s\n",
      "[CV] END ...............................var_smoothing=0.0001; total time=   0.0s\n",
      "[CV] END ...............................var_smoothing=0.0001; total time=   0.0s\n",
      "[CV] END ...............................var_smoothing=0.0001; total time=   0.0s\n",
      "[CV] END ...............................var_smoothing=0.0001; total time=   0.0s\n",
      "[CV] END ...............................var_smoothing=0.0001; total time=   0.0s\n",
      "[CV] END .................................var_smoothing=0.01; total time=   0.0s\n",
      "[CV] END ................................var_smoothing=1e-10; total time=   0.0s\n",
      "[CV] END .................................var_smoothing=0.01; total time=   0.0s\n",
      "[CV] END .................................var_smoothing=0.01; total time=   0.0s\n",
      "[CV] END .................................var_smoothing=0.01; total time=   0.0s\n",
      "[CV] END .................................var_smoothing=0.01; total time=   0.0s\n",
      "[CV] END ....................................var_smoothing=1; total time=   0.0s\n",
      "[CV] END ....................................var_smoothing=1; total time=   0.0s\n",
      "[CV] END ....................................var_smoothing=1; total time=   0.0s\n",
      "[CV] END ....................................var_smoothing=1; total time=   0.0s\n",
      "[CV] END ....................................var_smoothing=1; total time=   0.0s\n",
      "[CV] END ...................................var_smoothing=10; total time=   0.0s\n",
      "[CV] END ...................................var_smoothing=10; total time=   0.0s\n",
      "[CV] END ...................................var_smoothing=10; total time=   0.0s\n",
      "[CV] END ...................................var_smoothing=10; total time=   0.0s\n",
      "[CV] END ...................................var_smoothing=10; total time=   0.0s\n",
      "[CV] END ................................var_smoothing=1e-10; total time=   0.0s\n",
      "Best Parameters (Grid Search): {'var_smoothing': 10}\n",
      "Best Score (Grid Search): 0.5281990329071201\n"
     ]
    }
   ],
   "source": [
    "\n",
    "\n",
    "# Define the GaussianNB model\n",
    "gnb = GaussianNB()\n",
    "\n",
    "# Use a simple grid for smaller but more controlled search space\n",
    "param_grid = {\n",
    "    'var_smoothing': [1e-12, 1e-10, 1e-8, 1e-6, 1e-4, 1e-2, 1, 10]\n",
    "}\n",
    "\n",
    "# Grid search over fewer points\n",
    "grid_search = GridSearchCV(gnb, param_grid=param_grid, cv=5, verbose=2, n_jobs=-1)\n",
    "\n",
    "# Fit the grid search model\n",
    "grid_search.fit(X_train, y_train)\n",
    "\n",
    "# Print the best parameters and scores\n",
    "print(f\"Best Parameters (Grid Search): {grid_search.best_params_}\")\n",
    "print(f\"Best Score (Grid Search): {grid_search.best_score_}\")"
   ]
  },
  {
   "cell_type": "code",
   "execution_count": 39,
   "metadata": {},
   "outputs": [
    {
     "name": "stdout",
     "output_type": "stream",
     "text": [
      "Fitting 3 folds for each of 20 candidates, totalling 60 fits\n",
      "[CV] END learning_rate=0.1, max_depth=8, max_features=log2, min_samples_leaf=2, min_samples_split=5, n_estimators=100, subsample=1.0; total time=   1.0s\n",
      "[CV] END learning_rate=0.1, max_depth=8, max_features=log2, min_samples_leaf=2, min_samples_split=5, n_estimators=100, subsample=1.0; total time=   1.0s\n",
      "[CV] END learning_rate=0.1, max_depth=8, max_features=log2, min_samples_leaf=2, min_samples_split=5, n_estimators=100, subsample=1.0; total time=   1.0s\n",
      "[CV] END learning_rate=0.1, max_depth=8, max_features=sqrt, min_samples_leaf=1, min_samples_split=2, n_estimators=300, subsample=0.8; total time=   3.8s\n",
      "[CV] END learning_rate=0.1, max_depth=8, max_features=sqrt, min_samples_leaf=1, min_samples_split=2, n_estimators=300, subsample=0.8; total time=   3.8s\n",
      "[CV] END learning_rate=0.1, max_depth=8, max_features=sqrt, min_samples_leaf=1, min_samples_split=2, n_estimators=300, subsample=0.8; total time=   3.9s\n",
      "[CV] END learning_rate=0.1, max_depth=10, max_features=sqrt, min_samples_leaf=4, min_samples_split=5, n_estimators=500, subsample=0.8; total time=   6.9s\n",
      "[CV] END learning_rate=0.1, max_depth=10, max_features=sqrt, min_samples_leaf=4, min_samples_split=5, n_estimators=500, subsample=0.8; total time=   7.3s\n",
      "[CV] END learning_rate=0.1, max_depth=15, max_features=log2, min_samples_leaf=2, min_samples_split=10, n_estimators=100, subsample=0.8; total time=   1.4s\n",
      "[CV] END learning_rate=0.1, max_depth=15, max_features=log2, min_samples_leaf=2, min_samples_split=10, n_estimators=100, subsample=0.8; total time=   1.3s\n",
      "[CV] END learning_rate=0.1, max_depth=10, max_features=sqrt, min_samples_leaf=4, min_samples_split=5, n_estimators=500, subsample=0.8; total time=   7.1s\n",
      "[CV] END learning_rate=0.1, max_depth=15, max_features=log2, min_samples_leaf=2, min_samples_split=10, n_estimators=100, subsample=0.8; total time=   1.4s\n",
      "[CV] END learning_rate=0.001, max_depth=5, max_features=sqrt, min_samples_leaf=1, min_samples_split=10, n_estimators=500, subsample=0.8; total time=   3.5s\n",
      "[CV] END learning_rate=0.001, max_depth=5, max_features=None, min_samples_leaf=4, min_samples_split=15, n_estimators=300, subsample=1.0; total time=  23.6s\n",
      "[CV] END learning_rate=0.001, max_depth=5, max_features=sqrt, min_samples_leaf=1, min_samples_split=10, n_estimators=500, subsample=0.8; total time=   3.7s\n",
      "[CV] END learning_rate=0.001, max_depth=5, max_features=None, min_samples_leaf=4, min_samples_split=15, n_estimators=300, subsample=1.0; total time=  23.9s\n",
      "[CV] END learning_rate=0.001, max_depth=5, max_features=None, min_samples_leaf=4, min_samples_split=15, n_estimators=300, subsample=1.0; total time=  24.0s\n",
      "[CV] END learning_rate=0.1, max_depth=3, max_features=sqrt, min_samples_leaf=4, min_samples_split=2, n_estimators=500, subsample=0.8; total time=   2.3s\n",
      "[CV] END learning_rate=0.1, max_depth=3, max_features=sqrt, min_samples_leaf=4, min_samples_split=2, n_estimators=500, subsample=0.8; total time=   2.3s\n",
      "[CV] END learning_rate=0.1, max_depth=3, max_features=sqrt, min_samples_leaf=4, min_samples_split=2, n_estimators=500, subsample=0.8; total time=   2.5s\n",
      "[CV] END learning_rate=0.001, max_depth=5, max_features=sqrt, min_samples_leaf=1, min_samples_split=10, n_estimators=500, subsample=0.8; total time=   3.6s\n",
      "[CV] END learning_rate=0.2, max_depth=5, max_features=None, min_samples_leaf=2, min_samples_split=5, n_estimators=500, subsample=0.8; total time=  30.2s\n",
      "[CV] END learning_rate=0.2, max_depth=15, max_features=sqrt, min_samples_leaf=4, min_samples_split=5, n_estimators=300, subsample=0.6; total time=   4.2s\n",
      "[CV] END learning_rate=0.2, max_depth=5, max_features=None, min_samples_leaf=2, min_samples_split=5, n_estimators=500, subsample=0.8; total time=  30.7s\n",
      "[CV] END learning_rate=0.2, max_depth=15, max_features=sqrt, min_samples_leaf=4, min_samples_split=5, n_estimators=300, subsample=0.6; total time=   4.1s\n",
      "[CV] END learning_rate=0.2, max_depth=5, max_features=None, min_samples_leaf=2, min_samples_split=5, n_estimators=500, subsample=0.8; total time=  31.2s\n",
      "[CV] END learning_rate=0.2, max_depth=15, max_features=sqrt, min_samples_leaf=4, min_samples_split=5, n_estimators=300, subsample=0.6; total time=   4.2s\n",
      "[CV] END learning_rate=0.001, max_depth=5, max_features=None, min_samples_leaf=2, min_samples_split=2, n_estimators=100, subsample=0.8; total time=   6.3s\n",
      "[CV] END learning_rate=0.001, max_depth=5, max_features=None, min_samples_leaf=2, min_samples_split=2, n_estimators=100, subsample=0.8; total time=   6.3s\n",
      "[CV] END learning_rate=0.3, max_depth=15, max_features=log2, min_samples_leaf=2, min_samples_split=5, n_estimators=500, subsample=1.0; total time=   1.9s\n",
      "[CV] END learning_rate=0.001, max_depth=5, max_features=None, min_samples_leaf=2, min_samples_split=2, n_estimators=100, subsample=0.8; total time=   5.9s\n",
      "[CV] END learning_rate=0.3, max_depth=15, max_features=log2, min_samples_leaf=2, min_samples_split=5, n_estimators=500, subsample=1.0; total time=   1.9s\n",
      "[CV] END learning_rate=0.2, max_depth=5, max_features=sqrt, min_samples_leaf=1, min_samples_split=15, n_estimators=100, subsample=0.8; total time=   0.7s\n",
      "[CV] END learning_rate=0.2, max_depth=5, max_features=sqrt, min_samples_leaf=1, min_samples_split=15, n_estimators=100, subsample=0.8; total time=   0.7s\n",
      "[CV] END learning_rate=0.2, max_depth=5, max_features=sqrt, min_samples_leaf=1, min_samples_split=15, n_estimators=100, subsample=0.8; total time=   0.7s\n",
      "[CV] END learning_rate=0.3, max_depth=15, max_features=log2, min_samples_leaf=2, min_samples_split=5, n_estimators=500, subsample=1.0; total time=   3.8s\n",
      "[CV] END learning_rate=0.01, max_depth=3, max_features=log2, min_samples_leaf=4, min_samples_split=10, n_estimators=500, subsample=0.6; total time=   1.2s\n",
      "[CV] END learning_rate=0.01, max_depth=3, max_features=log2, min_samples_leaf=4, min_samples_split=10, n_estimators=500, subsample=0.6; total time=   1.1s\n",
      "[CV] END learning_rate=0.01, max_depth=3, max_features=log2, min_samples_leaf=4, min_samples_split=10, n_estimators=500, subsample=0.6; total time=   1.2s\n",
      "[CV] END learning_rate=0.1, max_depth=8, max_features=sqrt, min_samples_leaf=4, min_samples_split=10, n_estimators=300, subsample=0.8; total time=   3.3s\n",
      "[CV] END learning_rate=0.1, max_depth=8, max_features=sqrt, min_samples_leaf=4, min_samples_split=10, n_estimators=300, subsample=0.8; total time=   3.3s\n",
      "[CV] END learning_rate=0.1, max_depth=8, max_features=sqrt, min_samples_leaf=4, min_samples_split=10, n_estimators=300, subsample=0.8; total time=   3.3s\n",
      "[CV] END learning_rate=0.001, max_depth=10, max_features=None, min_samples_leaf=4, min_samples_split=2, n_estimators=200, subsample=1.0; total time=  29.5s\n",
      "[CV] END learning_rate=0.001, max_depth=10, max_features=None, min_samples_leaf=4, min_samples_split=2, n_estimators=200, subsample=1.0; total time=  29.5s\n",
      "[CV] END learning_rate=0.001, max_depth=10, max_features=None, min_samples_leaf=4, min_samples_split=2, n_estimators=200, subsample=1.0; total time=  29.6s\n",
      "[CV] END learning_rate=0.1, max_depth=15, max_features=None, min_samples_leaf=2, min_samples_split=15, n_estimators=100, subsample=0.6; total time=  10.3s\n",
      "[CV] END learning_rate=0.1, max_depth=15, max_features=None, min_samples_leaf=2, min_samples_split=15, n_estimators=100, subsample=0.6; total time=  10.4s\n",
      "[CV] END learning_rate=0.1, max_depth=8, max_features=None, min_samples_leaf=4, min_samples_split=2, n_estimators=500, subsample=0.8; total time=  47.4s\n",
      "[CV] END learning_rate=0.1, max_depth=8, max_features=None, min_samples_leaf=4, min_samples_split=2, n_estimators=500, subsample=0.8; total time=  46.9s\n",
      "[CV] END learning_rate=0.1, max_depth=8, max_features=None, min_samples_leaf=4, min_samples_split=2, n_estimators=500, subsample=0.8; total time=  47.9s\n",
      "[CV] END learning_rate=0.1, max_depth=3, max_features=log2, min_samples_leaf=2, min_samples_split=15, n_estimators=300, subsample=0.8; total time=   0.9s\n",
      "[CV] END learning_rate=0.1, max_depth=3, max_features=log2, min_samples_leaf=2, min_samples_split=15, n_estimators=300, subsample=0.8; total time=   1.0s\n",
      "[CV] END learning_rate=0.1, max_depth=3, max_features=log2, min_samples_leaf=2, min_samples_split=15, n_estimators=300, subsample=0.8; total time=   0.9s\n",
      "[CV] END learning_rate=0.1, max_depth=15, max_features=None, min_samples_leaf=2, min_samples_split=15, n_estimators=100, subsample=0.6; total time=  10.3s\n",
      "[CV] END learning_rate=0.1, max_depth=5, max_features=None, min_samples_leaf=1, min_samples_split=2, n_estimators=500, subsample=1.0; total time=  39.1s\n",
      "[CV] END learning_rate=0.1, max_depth=5, max_features=None, min_samples_leaf=1, min_samples_split=2, n_estimators=500, subsample=1.0; total time=  38.9s\n",
      "[CV] END learning_rate=0.1, max_depth=5, max_features=None, min_samples_leaf=1, min_samples_split=2, n_estimators=500, subsample=1.0; total time=  37.1s\n",
      "[CV] END learning_rate=0.001, max_depth=8, max_features=None, min_samples_leaf=1, min_samples_split=10, n_estimators=300, subsample=1.0; total time=  31.8s\n",
      "[CV] END learning_rate=0.001, max_depth=8, max_features=None, min_samples_leaf=1, min_samples_split=10, n_estimators=300, subsample=1.0; total time=  31.9s\n",
      "[CV] END learning_rate=0.001, max_depth=8, max_features=None, min_samples_leaf=1, min_samples_split=10, n_estimators=300, subsample=1.0; total time=  30.9s\n",
      "Best Parameters: {'subsample': 0.6, 'n_estimators': 300, 'min_samples_split': 5, 'min_samples_leaf': 4, 'max_features': 'sqrt', 'max_depth': 15, 'learning_rate': 0.2}\n",
      "Best F1 Score: 0.5484491133987341\n",
      "Gradient Boosting Classification Report after Hyperparameter Tuning:\n",
      "              precision    recall  f1-score   support\n",
      "\n",
      "           0       0.53      0.49      0.51       289\n",
      "           1       0.58      0.62      0.60       332\n",
      "\n",
      "    accuracy                           0.56       621\n",
      "   macro avg       0.56      0.56      0.56       621\n",
      "weighted avg       0.56      0.56      0.56       621\n",
      "\n"
     ]
    }
   ],
   "source": [
    "# Define the parameter grid for RandomizedSearch\n",
    "param_dist = {\n",
    "    'n_estimators': [100, 200, 300, 500], \n",
    "    'learning_rate': [0.001, 0.01, 0.1, 0.2, 0.3], \n",
    "    'max_depth': [3, 5, 8, 10, 15],  \n",
    "    'min_samples_split': [2, 5, 10, 15],  \n",
    "    'min_samples_leaf': [1, 2, 4],\n",
    "    'subsample': [0.6, 0.8, 1.0],\n",
    "    'max_features': ['sqrt', 'log2', None]\n",
    "}\n",
    "\n",
    "# Instantiate the model\n",
    "gb = GradientBoostingClassifier(random_state=37)\n",
    "\n",
    "# Perform RandomizedSearchCV with the expanded parameter grid\n",
    "random_search = RandomizedSearchCV(estimator=gb, param_distributions=param_dist, \n",
    "                                   n_iter=20, cv=3, verbose=2, random_state=42, \n",
    "                                   n_jobs=-1, scoring='f1_weighted')\n",
    "\n",
    "# Fit the model\n",
    "random_search.fit(X_train, y_train)\n",
    "\n",
    "# Print the best parameters\n",
    "print(\"Best Parameters:\", random_search.best_params_)\n",
    "print(\"Best F1 Score:\", random_search.best_score_)\n",
    "\n",
    "# Evaluate the best model on the test set\n",
    "best_gb_model = random_search.best_estimator_\n",
    "y_pred_test_gb = best_gb_model.predict(X_test)\n",
    "\n",
    "# Print classification report for test data\n",
    "from sklearn.metrics import classification_report\n",
    "print(\"Gradient Boosting Classification Report after Hyperparameter Tuning:\")\n",
    "print(classification_report(y_test, y_pred_test_gb))"
   ]
  }
 ],
 "metadata": {
  "kernelspec": {
   "display_name": "nlp",
   "language": "python",
   "name": "python3"
  },
  "language_info": {
   "codemirror_mode": {
    "name": "ipython",
    "version": 3
   },
   "file_extension": ".py",
   "mimetype": "text/x-python",
   "name": "python",
   "nbconvert_exporter": "python",
   "pygments_lexer": "ipython3",
   "version": "3.12.4"
  }
 },
 "nbformat": 4,
 "nbformat_minor": 2
}
