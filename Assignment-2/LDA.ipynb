{
 "cells": [
  {
   "cell_type": "code",
   "execution_count": 43,
   "metadata": {},
   "outputs": [],
   "source": [
    "# import the required libraries\n",
    "import numpy as np\n",
    "import matplotlib.pyplot as plt\n",
    "import pandas as pd\n",
    "import gensim\n",
    "from gensim import corpora\n",
    "from gensim.models.ldamodel import LdaModel\n",
    "from gensim.models import CoherenceModel\n",
    "from sklearn.model_selection import ParameterGrid\n",
    "from tqdm import tqdm\n",
    "import re\n"
   ]
  },
  {
   "cell_type": "code",
   "execution_count": 3,
   "metadata": {},
   "outputs": [
    {
     "data": {
      "text/html": [
       "<div>\n",
       "<style scoped>\n",
       "    .dataframe tbody tr th:only-of-type {\n",
       "        vertical-align: middle;\n",
       "    }\n",
       "\n",
       "    .dataframe tbody tr th {\n",
       "        vertical-align: top;\n",
       "    }\n",
       "\n",
       "    .dataframe thead th {\n",
       "        text-align: right;\n",
       "    }\n",
       "</style>\n",
       "<table border=\"1\" class=\"dataframe\">\n",
       "  <thead>\n",
       "    <tr style=\"text-align: right;\">\n",
       "      <th></th>\n",
       "      <th>id</th>\n",
       "      <th>ticker</th>\n",
       "      <th>title</th>\n",
       "      <th>category</th>\n",
       "      <th>content</th>\n",
       "      <th>release_date</th>\n",
       "      <th>provider</th>\n",
       "      <th>url</th>\n",
       "      <th>article_id</th>\n",
       "      <th>Date</th>\n",
       "      <th>Open</th>\n",
       "      <th>Close</th>\n",
       "      <th>clean_content</th>\n",
       "      <th>label</th>\n",
       "      <th>tokenized_content</th>\n",
       "      <th>new_tokenized</th>\n",
       "    </tr>\n",
       "  </thead>\n",
       "  <tbody>\n",
       "    <tr>\n",
       "      <th>0</th>\n",
       "      <td>221539</td>\n",
       "      <td>NIO</td>\n",
       "      <td>A Central Bank War Just Started And Its Good F...</td>\n",
       "      <td>opinion</td>\n",
       "      <td>ECB Effects\\nThe move in the euro was huge  fa...</td>\n",
       "      <td>2019-03-07</td>\n",
       "      <td>Michael Kramer</td>\n",
       "      <td>https://www.investing.com/analysis/a-central-b...</td>\n",
       "      <td>200395687</td>\n",
       "      <td>2019-03-07</td>\n",
       "      <td>3.77750</td>\n",
       "      <td>3.73150</td>\n",
       "      <td>ecb effect move euro huge falling pip huge imp...</td>\n",
       "      <td>0</td>\n",
       "      <td>['ecb', 'effect', 'move', 'euro', 'huge', 'fal...</td>\n",
       "      <td>[ecb, effect, move, euro, huge, falling, pip, ...</td>\n",
       "    </tr>\n",
       "    <tr>\n",
       "      <th>1</th>\n",
       "      <td>221547</td>\n",
       "      <td>NIO</td>\n",
       "      <td>6 Stocks To Watch  Nivida Could Be Falling</td>\n",
       "      <td>opinion</td>\n",
       "      <td>6 Stocks To Watch  March 6 Trading Session\\nSt...</td>\n",
       "      <td>2019-03-06</td>\n",
       "      <td>Michael Kramer</td>\n",
       "      <td>https://www.investing.com/analysis/6-stocks-to...</td>\n",
       "      <td>200394931</td>\n",
       "      <td>2019-03-06</td>\n",
       "      <td>3.90400</td>\n",
       "      <td>3.80125</td>\n",
       "      <td>stock watch march trading session stock stock ...</td>\n",
       "      <td>0</td>\n",
       "      <td>['stock', 'watch', 'march', 'trading', 'sessio...</td>\n",
       "      <td>[stock, watch, march, trading, session, stock,...</td>\n",
       "    </tr>\n",
       "    <tr>\n",
       "      <th>2</th>\n",
       "      <td>221572</td>\n",
       "      <td>NIO</td>\n",
       "      <td>Stocks   Dow Drops Nearly 400 Points as Apple ...</td>\n",
       "      <td>news</td>\n",
       "      <td>Investing com   A rout in Apple and Facebook  ...</td>\n",
       "      <td>2018-11-19</td>\n",
       "      <td>Investing.com</td>\n",
       "      <td>https://www.investing.com/news/stock-market-ne...</td>\n",
       "      <td>1694042</td>\n",
       "      <td>2018-11-19</td>\n",
       "      <td>4.04475</td>\n",
       "      <td>3.61750</td>\n",
       "      <td>investing com rout apple facebook nasdaq fb mo...</td>\n",
       "      <td>0</td>\n",
       "      <td>['investing', 'com', 'rout', 'apple', 'faceboo...</td>\n",
       "      <td>[investing, com, rout, apple, facebook, nasdaq...</td>\n",
       "    </tr>\n",
       "    <tr>\n",
       "      <th>3</th>\n",
       "      <td>221597</td>\n",
       "      <td>UBER</td>\n",
       "      <td>The Best Of CES 2020  Revised</td>\n",
       "      <td>opinion</td>\n",
       "      <td>With 4 500 companies bringing their innovation...</td>\n",
       "      <td>2020-01-16</td>\n",
       "      <td>Zacks Investment Research</td>\n",
       "      <td>https://www.investing.com/analysis/the-best-of...</td>\n",
       "      <td>200499164</td>\n",
       "      <td>2020-01-16</td>\n",
       "      <td>6.19300</td>\n",
       "      <td>6.22325</td>\n",
       "      <td>company bringing innovation ce jan get really ...</td>\n",
       "      <td>1</td>\n",
       "      <td>['company', 'bringing', 'innovation', 'ce', 'j...</td>\n",
       "      <td>[company, bringing, innovation, ce, jan, get, ...</td>\n",
       "    </tr>\n",
       "    <tr>\n",
       "      <th>4</th>\n",
       "      <td>221614</td>\n",
       "      <td>UBER</td>\n",
       "      <td>The Best Of CES 2020</td>\n",
       "      <td>opinion</td>\n",
       "      <td>With 4 500 companies bringing their innovation...</td>\n",
       "      <td>2020-01-10</td>\n",
       "      <td>Zacks Investment Research</td>\n",
       "      <td>https://www.investing.com/analysis/the-best-of...</td>\n",
       "      <td>200498063</td>\n",
       "      <td>2020-01-10</td>\n",
       "      <td>6.18325</td>\n",
       "      <td>6.10800</td>\n",
       "      <td>company bringing innovation ce jan get really ...</td>\n",
       "      <td>0</td>\n",
       "      <td>['company', 'bringing', 'innovation', 'ce', 'j...</td>\n",
       "      <td>[company, bringing, innovation, ce, jan, get, ...</td>\n",
       "    </tr>\n",
       "  </tbody>\n",
       "</table>\n",
       "</div>"
      ],
      "text/plain": [
       "       id ticker                                              title category  \\\n",
       "0  221539    NIO  A Central Bank War Just Started And Its Good F...  opinion   \n",
       "1  221547    NIO         6 Stocks To Watch  Nivida Could Be Falling  opinion   \n",
       "2  221572    NIO  Stocks   Dow Drops Nearly 400 Points as Apple ...     news   \n",
       "3  221597   UBER                     The Best Of CES 2020  Revised   opinion   \n",
       "4  221614   UBER                               The Best Of CES 2020  opinion   \n",
       "\n",
       "                                             content release_date  \\\n",
       "0  ECB Effects\\nThe move in the euro was huge  fa...   2019-03-07   \n",
       "1  6 Stocks To Watch  March 6 Trading Session\\nSt...   2019-03-06   \n",
       "2  Investing com   A rout in Apple and Facebook  ...   2018-11-19   \n",
       "3  With 4 500 companies bringing their innovation...   2020-01-16   \n",
       "4  With 4 500 companies bringing their innovation...   2020-01-10   \n",
       "\n",
       "                    provider  \\\n",
       "0             Michael Kramer   \n",
       "1             Michael Kramer   \n",
       "2              Investing.com   \n",
       "3  Zacks Investment Research   \n",
       "4  Zacks Investment Research   \n",
       "\n",
       "                                                 url  article_id        Date  \\\n",
       "0  https://www.investing.com/analysis/a-central-b...   200395687  2019-03-07   \n",
       "1  https://www.investing.com/analysis/6-stocks-to...   200394931  2019-03-06   \n",
       "2  https://www.investing.com/news/stock-market-ne...     1694042  2018-11-19   \n",
       "3  https://www.investing.com/analysis/the-best-of...   200499164  2020-01-16   \n",
       "4  https://www.investing.com/analysis/the-best-of...   200498063  2020-01-10   \n",
       "\n",
       "      Open    Close                                      clean_content  label  \\\n",
       "0  3.77750  3.73150  ecb effect move euro huge falling pip huge imp...      0   \n",
       "1  3.90400  3.80125  stock watch march trading session stock stock ...      0   \n",
       "2  4.04475  3.61750  investing com rout apple facebook nasdaq fb mo...      0   \n",
       "3  6.19300  6.22325  company bringing innovation ce jan get really ...      1   \n",
       "4  6.18325  6.10800  company bringing innovation ce jan get really ...      0   \n",
       "\n",
       "                                   tokenized_content  \\\n",
       "0  ['ecb', 'effect', 'move', 'euro', 'huge', 'fal...   \n",
       "1  ['stock', 'watch', 'march', 'trading', 'sessio...   \n",
       "2  ['investing', 'com', 'rout', 'apple', 'faceboo...   \n",
       "3  ['company', 'bringing', 'innovation', 'ce', 'j...   \n",
       "4  ['company', 'bringing', 'innovation', 'ce', 'j...   \n",
       "\n",
       "                                       new_tokenized  \n",
       "0  [ecb, effect, move, euro, huge, falling, pip, ...  \n",
       "1  [stock, watch, march, trading, session, stock,...  \n",
       "2  [investing, com, rout, apple, facebook, nasdaq...  \n",
       "3  [company, bringing, innovation, ce, jan, get, ...  \n",
       "4  [company, bringing, innovation, ce, jan, get, ...  "
      ]
     },
     "execution_count": 3,
     "metadata": {},
     "output_type": "execute_result"
    }
   ],
   "source": [
    "# import the data\n",
    "path = 'C:/Users/20202201/Documents/Uni/Master/Year2/Semester 1/Natural Language Processing/NLP/Assignment-1/Dataset/assignment-2-data.csv'\n",
    "df_cleaned = pd.read_csv(path)\n",
    "\n",
    "df_cleaned['new_tokenized'] = df_cleaned['clean_content'].apply(lambda x: x.split())\n",
    "\n",
    "df_cleaned.head(5)"
   ]
  },
  {
   "cell_type": "markdown",
   "metadata": {},
   "source": [
    "## Iteration 1"
   ]
  },
  {
   "cell_type": "code",
   "execution_count": 4,
   "metadata": {},
   "outputs": [],
   "source": [
    "#data\n",
    "processed_texts = df_cleaned['new_tokenized'].head(5)\n",
    "\n",
    "# create dictionary\n",
    "id2word = corpora.Dictionary(df_cleaned['new_tokenized'])\n",
    "\n",
    "# create corpus\n",
    "text = df_cleaned['new_tokenized']\n",
    "\n",
    "# Term Document Frequency\n",
    "corpus = [id2word.doc2bow(text1) for text1 in text]"
   ]
  },
  {
   "cell_type": "markdown",
   "metadata": {},
   "source": [
    "##### Now I used the original code from the lecture with 3 topics"
   ]
  },
  {
   "cell_type": "code",
   "execution_count": 47,
   "metadata": {},
   "outputs": [],
   "source": [
    "# Build LDA model\n",
    "lda_model1 = LdaModel(corpus=corpus, \n",
    "                     id2word=id2word, \n",
    "                     num_topics=3, \n",
    "                     random_state=2065721, \n",
    "                     passes=5, \n",
    "                     alpha='auto', \n",
    "                     per_word_topics=True,\n",
    "                     update_every=1)"
   ]
  },
  {
   "cell_type": "code",
   "execution_count": 49,
   "metadata": {},
   "outputs": [
    {
     "name": "stdout",
     "output_type": "stream",
     "text": [
      "\n",
      "Perplexity:  -7.691075675040715\n",
      "\n",
      "Coherence Score:  0.4361960573171025\n"
     ]
    }
   ],
   "source": [
    "# get the perplexity score\n",
    "print('\\nPerplexity: ', lda_model1.log_perplexity(corpus))\n",
    "\n",
    "# get the coherence score\n",
    "coherence_model_lda = CoherenceModel(model=lda_model1, texts=text, dictionary=id2word, coherence='c_v')\n",
    "print('\\nCoherence Score: ', coherence_model_lda.get_coherence())"
   ]
  },
  {
   "cell_type": "code",
   "execution_count": 8,
   "metadata": {},
   "outputs": [
    {
     "data": {
      "text/plain": [
       "{0: ['year',\n",
       "  'zacks',\n",
       "  'company',\n",
       "  'quarter',\n",
       "  'earnings',\n",
       "  'stock',\n",
       "  'revenue',\n",
       "  'growth',\n",
       "  'estimate',\n",
       "  'share'],\n",
       " 1: ['company',\n",
       "  'nasdaq',\n",
       "  'nvidia',\n",
       "  'technology',\n",
       "  'intel',\n",
       "  'market',\n",
       "  'chip',\n",
       "  'new',\n",
       "  'year',\n",
       "  'said'],\n",
       " 2: ['nasdaq',\n",
       "  'stock',\n",
       "  'market',\n",
       "  'nyse',\n",
       "  'week',\n",
       "  'day',\n",
       "  'trade',\n",
       "  'year',\n",
       "  'nvidia',\n",
       "  'index']}"
      ]
     },
     "execution_count": 8,
     "metadata": {},
     "output_type": "execute_result"
    }
   ],
   "source": [
    "# Extract the words for each topic\n",
    "topics = lda_model1.show_topics(formatted=False)\n",
    "topic_words = {i: [word for word, _ in words] for i, words in topics}\n",
    "topic_words"
   ]
  },
  {
   "cell_type": "code",
   "execution_count": 9,
   "metadata": {},
   "outputs": [
    {
     "name": "stderr",
     "output_type": "stream",
     "text": [
      "c:\\Users\\20202201\\Anaconda3_\\envs\\JADS_NLP\\Lib\\site-packages\\gensim\\topic_coherence\\direct_confirmation_measure.py:204: RuntimeWarning: divide by zero encountered in scalar divide\n",
      "  m_lr_i = np.log(numerator / denominator)\n",
      "c:\\Users\\20202201\\Anaconda3_\\envs\\JADS_NLP\\Lib\\site-packages\\gensim\\topic_coherence\\indirect_confirmation_measure.py:323: RuntimeWarning: invalid value encountered in scalar divide\n",
      "  return cv1.T.dot(cv2)[0, 0] / (_magnitude(cv1) * _magnitude(cv2))\n"
     ]
    },
    {
     "name": "stdout",
     "output_type": "stream",
     "text": [
      "Coherence Score:  nan\n"
     ]
    }
   ],
   "source": [
    "# Evaluate the model\n",
    "coherence_model_lda = CoherenceModel(model=lda_model1, texts=processed_texts, dictionary=id2word, coherence='c_v')\n",
    "coherence_lda = coherence_model_lda.get_coherence()\n",
    "print('Coherence Score: ', coherence_lda)"
   ]
  },
  {
   "cell_type": "markdown",
   "metadata": {},
   "source": [
    "## Iteration 2\n",
    "#### Brams Iteration 1"
   ]
  },
  {
   "cell_type": "code",
   "execution_count": 25,
   "metadata": {},
   "outputs": [
    {
     "name": "stderr",
     "output_type": "stream",
     "text": [
      "c:\\Users\\20202201\\Anaconda3_\\envs\\JADS_NLP\\Lib\\site-packages\\gensim\\topic_coherence\\direct_confirmation_measure.py:204: RuntimeWarning: divide by zero encountered in scalar divide\n",
      "  m_lr_i = np.log(numerator / denominator)\n",
      "c:\\Users\\20202201\\Anaconda3_\\envs\\JADS_NLP\\Lib\\site-packages\\gensim\\topic_coherence\\indirect_confirmation_measure.py:323: RuntimeWarning: invalid value encountered in scalar divide\n",
      "  return cv1.T.dot(cv2)[0, 0] / (_magnitude(cv1) * _magnitude(cv2))\n"
     ]
    },
    {
     "name": "stdout",
     "output_type": "stream",
     "text": [
      "Coherence Score:  nan\n",
      "Divergence Score:  -11533237.863393068\n"
     ]
    }
   ],
   "source": [
    "# Build LDA model\n",
    "lda_model2 = LdaModel(corpus=corpus, \n",
    "                     id2word=id2word, \n",
    "                     num_topics=100, \n",
    "                     random_state=2065721, \n",
    "                     passes=5, \n",
    "                     alpha='auto', \n",
    "                     per_word_topics=True,\n",
    "                     update_every=1)\n",
    "\n",
    "\n",
    "# get the perplexity score\n",
    "print('\\nPerplexity: ', lda_model2.log_perplexity(corpus))\n",
    "\n",
    "# get the coherence score\n",
    "coherence_model_lda = CoherenceModel(model=lda_model2, texts=text, dictionary=id2word, coherence='c_v')\n",
    "print('\\nCoherence Score: ', coherence_model_lda.get_coherence())\n",
    "\n",
    "#get the diversity score\n",
    "topics = lda_model2.show_topics(formatted=False)\n",
    "topic_words = {i: [word for word, _ in words] for i, words in topics}\n",
    "topic_words\n",
    "\n"
   ]
  },
  {
   "cell_type": "markdown",
   "metadata": {},
   "source": [
    "## Iteration 3"
   ]
  },
  {
   "cell_type": "code",
   "execution_count": 27,
   "metadata": {},
   "outputs": [
    {
     "name": "stderr",
     "output_type": "stream",
     "text": [
      "100%|██████████| 14/14 [25:23<00:00, 108.82s/it]\n"
     ]
    }
   ],
   "source": [
    "# given amount of combinations\n",
    "numb_topics = [2, 3, 5, 10, 15, 20, 40, 60, 80, 100, 200, 300, 400, 500]\n",
    "\n",
    "\n",
    "# now run the model for all combinations\n",
    "results = []\n",
    "\n",
    "for i in tqdm(range(len(numb_topics))):\n",
    "    lda_model = LdaModel(corpus=corpus, \n",
    "                            id2word=id2word, \n",
    "                            num_topics=numb_topics[i], \n",
    "                            random_state=2065721, \n",
    "                            passes=1, \n",
    "                            alpha='auto', \n",
    "                            per_word_topics=True,\n",
    "                            update_every=1)\n",
    "    \n",
    "    # Track coherence\n",
    "    coherence_model_lda = CoherenceModel(model=lda_model, texts=text, dictionary=id2word, coherence='c_v')\n",
    "    coherence_lda = coherence_model_lda.get_coherence()\n",
    "    \n",
    "    # Track perplexity\n",
    "    perplexity = lda_model.log_perplexity(corpus)\n",
    "    \n",
    "    results.append([numb_topics[i], coherence_lda, perplexity])\n"
   ]
  },
  {
   "cell_type": "code",
   "execution_count": 41,
   "metadata": {},
   "outputs": [
    {
     "data": {
      "text/plain": [
       "Text(0, 0.5, 'Score')"
      ]
     },
     "execution_count": 41,
     "metadata": {},
     "output_type": "execute_result"
    },
    {
     "data": {
      "image/png": "[encoded data removed]",
      "text/plain": [
       "<Figure size 1000x500 with 1 Axes>"
      ]
     },
     "metadata": {},
     "output_type": "display_data"
    },
    {
     "data": {
      "image/png": "[encoded data removed]",
      "text/plain": [
       "<Figure size 1000x500 with 1 Axes>"
      ]
     },
     "metadata": {},
     "output_type": "display_data"
    }
   ],
   "source": [
    "# create a lineplot from results['coherence'] and results['perplexity']\n",
    "plt.figure(figsize=(10, 5))\n",
    "plt.plot(results['coherence'], label='Coherence')\n",
    "plt.xlabel('Number of topics')\n",
    "plt.ylabel('Score')\n",
    "\n",
    "plt.figure(figsize=(10, 5))\n",
    "plt.plot(results['perplexity'], label='Perplexity')\n",
    "plt.xlabel('Number of topics')\n",
    "plt.ylabel('Score')\n",
    "\n"
   ]
  },
  {
   "cell_type": "markdown",
   "metadata": {},
   "source": [
    "## Iteration 4\n",
    "#### Brams iteration 2"
   ]
  },
  {
   "cell_type": "code",
   "execution_count": 54,
   "metadata": {},
   "outputs": [],
   "source": [
    "#clean data again\n",
    "number_pattern = re.compile(r'.*\\d')\n",
    "\n",
    "text = text.apply(lambda x: [word for word in x if not number_pattern.match(word)])"
   ]
  },
  {
   "cell_type": "code",
   "execution_count": 55,
   "metadata": {},
   "outputs": [
    {
     "name": "stdout",
     "output_type": "stream",
     "text": [
      "\n",
      "Perplexity:  -9.537245066827204\n"
     ]
    },
    {
     "name": "stderr",
     "output_type": "stream",
     "text": [
      "c:\\Users\\20202201\\Anaconda3_\\envs\\JADS_NLP\\Lib\\site-packages\\gensim\\topic_coherence\\direct_confirmation_measure.py:204: RuntimeWarning: divide by zero encountered in scalar divide\n",
      "  m_lr_i = np.log(numerator / denominator)\n",
      "c:\\Users\\20202201\\Anaconda3_\\envs\\JADS_NLP\\Lib\\site-packages\\gensim\\topic_coherence\\indirect_confirmation_measure.py:323: RuntimeWarning: invalid value encountered in scalar divide\n",
      "  return cv1.T.dot(cv2)[0, 0] / (_magnitude(cv1) * _magnitude(cv2))\n"
     ]
    },
    {
     "name": "stdout",
     "output_type": "stream",
     "text": [
      "\n",
      "Coherence Score:  nan\n"
     ]
    }
   ],
   "source": [
    "# Build LDA model\n",
    "lda_model3 = LdaModel(corpus=corpus, \n",
    "                     id2word=id2word, \n",
    "                     num_topics=100, \n",
    "                     random_state=2065721, \n",
    "                     passes=5, \n",
    "                     alpha='auto', \n",
    "                     per_word_topics=True,\n",
    "                     update_every=1)\n",
    "\n",
    "\n",
    "# get the perplexity score\n",
    "print('\\nPerplexity: ', lda_model3.log_perplexity(corpus))\n",
    "\n",
    "# get the coherence score\n",
    "coherence_model_lda = CoherenceModel(model=lda_model3, texts=text, dictionary=id2word, coherence='c_v')\n",
    "print('\\nCoherence Score: ', coherence_model_lda.get_coherence())\n"
   ]
  },
  {
   "cell_type": "markdown",
   "metadata": {},
   "source": [
    "## Iteration 5\n",
    "#### Brams iteration 3"
   ]
  },
  {
   "cell_type": "code",
   "execution_count": 61,
   "metadata": {},
   "outputs": [],
   "source": [
    "# from text, drop words that occur less than 5 times and more than 2000 times\n",
    "\n",
    "#count how many times each word occurs\n",
    "word_freq = {id2word[word_id]: freq for word_id, freq in id2word.cfs.items()}\n",
    "word_freq = pd.Series(word_freq)\n",
    "\n",
    "#drop words that occur less than 5 times and more than 2000 times\n",
    "id2word.filter_extremes(no_below=5, no_above=2000)\n",
    "\n",
    "# Term Document Frequency\n",
    "corpus = [id2word.doc2bow(text1) for text1 in text]\n",
    "\n"
   ]
  },
  {
   "cell_type": "code",
   "execution_count": 63,
   "metadata": {},
   "outputs": [
    {
     "name": "stderr",
     "output_type": "stream",
     "text": [
      "100%|██████████| 14/14 [18:10<00:00, 77.91s/it] \n"
     ]
    }
   ],
   "source": [
    "# given amount of combinations\n",
    "numb_topics = [2, 3, 5, 10, 15, 20, 30, 40, 50, 60, 70, 80, 90, 100]\n",
    "\n",
    "\n",
    "# now run the model for all combinations\n",
    "results = []\n",
    "\n",
    "for i in tqdm(range(len(numb_topics))):\n",
    "    lda_model = LdaModel(corpus=corpus, \n",
    "                            id2word=id2word, \n",
    "                            num_topics=numb_topics[i], \n",
    "                            random_state=2065721, \n",
    "                            passes=1, \n",
    "                            alpha='auto', \n",
    "                            per_word_topics=True,\n",
    "                            update_every=1)\n",
    "    \n",
    "    # Track coherence\n",
    "    coherence_model_lda = CoherenceModel(model=lda_model, texts=text, dictionary=id2word, coherence='c_v')\n",
    "    coherence_lda = coherence_model_lda.get_coherence()\n",
    "    \n",
    "    # Track perplexity\n",
    "    perplexity = lda_model.log_perplexity(corpus)\n",
    "    \n",
    "    results.append([numb_topics[i], coherence_lda, perplexity])"
   ]
  },
  {
   "cell_type": "code",
   "execution_count": 66,
   "metadata": {},
   "outputs": [],
   "source": [
    "# results to dataframe\n",
    "results = pd.DataFrame(results, columns=['num_topics', 'coherence', 'perplexity'])"
   ]
  },
  {
   "cell_type": "code",
   "execution_count": 67,
   "metadata": {},
   "outputs": [
    {
     "data": {
      "text/plain": [
       "Text(0, 0.5, 'Score')"
      ]
     },
     "execution_count": 67,
     "metadata": {},
     "output_type": "execute_result"
    },
    {
     "data": {
      "image/png": "[encoded data removed]",
      "text/plain": [
       "<Figure size 1000x500 with 1 Axes>"
      ]
     },
     "metadata": {},
     "output_type": "display_data"
    },
    {
     "data": {
      "image/png": "[encoded data removed]",
      "text/plain": [
       "<Figure size 1000x500 with 1 Axes>"
      ]
     },
     "metadata": {},
     "output_type": "display_data"
    }
   ],
   "source": [
    "# create a lineplot from results['coherence'] and results['perplexity']\n",
    "plt.figure(figsize=(10, 5))\n",
    "plt.plot(results['coherence'], label='Coherence')\n",
    "plt.xlabel('Number of topics')\n",
    "plt.ylabel('Score')\n",
    "\n",
    "plt.figure(figsize=(10, 5))\n",
    "plt.plot(results['perplexity'], label='Perplexity')\n",
    "plt.xlabel('Number of topics')\n",
    "plt.ylabel('Score')\n",
    "\n"
   ]
  },
  {
   "cell_type": "markdown",
   "metadata": {},
   "source": [
    "## Iteration 6\n",
    "#### Brams iteration 4"
   ]
  },
  {
   "cell_type": "code",
   "execution_count": 68,
   "metadata": {},
   "outputs": [],
   "source": [
    "# drop the following \n",
    "words_to_filter = ['monday', 'tuesday', 'wednesday', 'thursday', 'friday', 'saturday', 'sunday', 'january', 'february', 'march', 'april', 'may', 'june', 'july', 'august', 'september', 'october', 'november', 'december']\n",
    "\n",
    "# drop the words from the corpus\n",
    "text = text.apply(lambda x: [word for word in x if word not in words_to_filter])\n",
    "\n",
    "# create dictionary\n",
    "id2word = corpora.Dictionary(text)"
   ]
  },
  {
   "cell_type": "code",
   "execution_count": 70,
   "metadata": {},
   "outputs": [
    {
     "name": "stdout",
     "output_type": "stream",
     "text": [
      "\n",
      "Perplexity:  -7.612378806950247\n",
      "\n",
      "Coherence Score:  0.5055407791019899\n"
     ]
    }
   ],
   "source": [
    "# Build LDA model\n",
    "lda_model4 = LdaModel(corpus=corpus, \n",
    "                     id2word=id2word, \n",
    "                     num_topics=40, \n",
    "                     random_state=2065721, \n",
    "                     passes=5, \n",
    "                     alpha='auto', \n",
    "                     per_word_topics=True,\n",
    "                     update_every=1)\n",
    "\n",
    "\n",
    "# get the perplexity score\n",
    "print('\\nPerplexity: ', lda_model4.log_perplexity(corpus))\n",
    "\n",
    "# get the coherence score\n",
    "coherence_model_lda = CoherenceModel(model=lda_model4, texts=text, dictionary=id2word, coherence='c_v')\n",
    "print('\\nCoherence Score: ', coherence_model_lda.get_coherence())\n"
   ]
  },
  {
   "cell_type": "markdown",
   "metadata": {},
   "source": [
    "## Iteration 7\n",
    "#### Brams iteration 5"
   ]
  },
  {
   "cell_type": "code",
   "execution_count": null,
   "metadata": {},
   "outputs": [],
   "source": []
  }
 ],
 "metadata": {
  "kernelspec": {
   "display_name": "JADS_NLP",
   "language": "python",
   "name": "python3"
  },
  "language_info": {
   "codemirror_mode": {
    "name": "ipython",
    "version": 3
   },
   "file_extension": ".py",
   "mimetype": "text/x-python",
   "name": "python",
   "nbconvert_exporter": "python",
   "pygments_lexer": "ipython3",
   "version": "3.12.4"
  }
 },
 "nbformat": 4,
 "nbformat_minor": 2
}
