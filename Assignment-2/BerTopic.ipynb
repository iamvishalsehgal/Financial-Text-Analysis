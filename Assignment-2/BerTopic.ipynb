{
 "cells": [
  {
   "cell_type": "code",
   "execution_count": 39,
   "metadata": {},
   "outputs": [],
   "source": [
    "from bertopic import BERTopic\n",
    "import pandas as pd\n",
    "from sklearn.feature_extraction.text import CountVectorizer\n",
    "import nltk\n",
    "import re\n",
    "from nltk.corpus import stopwords\n",
    "from nltk.stem import WordNetLemmatizer"
   ]
  },
  {
   "cell_type": "code",
   "execution_count": 40,
   "metadata": {},
   "outputs": [
    {
     "name": "stderr",
     "output_type": "stream",
     "text": [
      "[nltk_data] Downloading package stopwords to\n",
      "[nltk_data]     /Users/vishalsehgal/nltk_data...\n",
      "[nltk_data]   Package stopwords is already up-to-date!\n",
      "[nltk_data] Downloading package punkt to\n",
      "[nltk_data]     /Users/vishalsehgal/nltk_data...\n",
      "[nltk_data]   Package punkt is already up-to-date!\n",
      "[nltk_data] Downloading package wordnet to\n",
      "[nltk_data]     /Users/vishalsehgal/nltk_data...\n",
      "[nltk_data]   Package wordnet is already up-to-date!\n"
     ]
    },
    {
     "data": {
      "text/plain": [
       "True"
      ]
     },
     "execution_count": 40,
     "metadata": {},
     "output_type": "execute_result"
    }
   ],
   "source": [
    "nltk.download('stopwords')\n",
    "nltk.download('punkt')\n",
    "nltk.download('wordnet')"
   ]
  },
  {
   "cell_type": "code",
   "execution_count": 41,
   "metadata": {},
   "outputs": [],
   "source": [
    "df = pd.read_csv(\"/Users/vishalsehgal/Documents/University/NLP/NLP/Group Assignment/NLP/Assignment-1/Dataset/assignment-2-data.csv\")\n",
    "\n",
    "nvidia_articles = df[df['clean_content'].str.contains(\"nvidia\", case=False, na=False)]['clean_content'].tolist()"
   ]
  },
  {
   "cell_type": "code",
   "execution_count": 42,
   "metadata": {},
   "outputs": [],
   "source": [
    "# Initialize stopwords and lemmatizer\n",
    "stop_words_en = set(stopwords.words('english'))\n",
    "stop_words_es = set(stopwords.words('spanish'))\n",
    "stop_words = stop_words_en.union(stop_words_es)\n",
    "\n",
    "# clean text: remove lowercase, punctuation, tokenization, stopwords, and lemmatize\n",
    "def preprocess_text(doc):\n",
    "    doc = re.sub(r'\\W', ' ', str(doc))\n",
    "    doc = doc.lower()\n",
    "    doc = re.sub(r'\\s+[a-z]\\s+', ' ', doc)\n",
    "    doc = re.sub(r'^[a-z]\\s+', '', doc)\n",
    "    doc = re.sub(r'\\s+', ' ', doc)\n",
    "    tokens = nltk.word_tokenize(doc)\n",
    "    tokens = [WordNetLemmatizer().lemmatize(token) for token in tokens if token not in stop_words]\n",
    "    return ' '.join(tokens)\n",
    "\n",
    "# Apply preprocessing to your articles\n",
    "nvidia_articles = [preprocess_text(article) for article in nvidia_articles]\n"
   ]
  },
  {
   "cell_type": "code",
   "execution_count": 43,
   "metadata": {},
   "outputs": [],
   "source": [
    "# Initialize bertopic\n",
    "bert_topic_model = BERTopic()\n",
    "topics, probabilities = bert_topic_model.fit_transform(nvidia_articles)"
   ]
  },
  {
   "cell_type": "code",
   "execution_count": 44,
   "metadata": {},
   "outputs": [
    {
     "name": "stdout",
     "output_type": "stream",
     "text": [
      "    Topic  Count                                 Name  \\\n",
      "0      -1   1061         -1_company_stock_year_nasdaq   \n",
      "1       0    140       0_million_quarter_revenue_year   \n",
      "2       1    119       1_amd_graphic_radeon_processor   \n",
      "3       2     70           2_vehicle_driving_car_self   \n",
      "4       3     67  3_analyst_zacks_research_investment   \n",
      "..    ...    ...                                  ...   \n",
      "60     59     11           59_traded_seven_gmt_lowest   \n",
      "61     60     11          60_blockchain_etf_fund_blcn   \n",
      "62     61     11    61_cadence_design_verification_ip   \n",
      "63     62     10          62_tsmc_samsung_chip_memory   \n",
      "64     63     10    63_nasdaq_parent_midday_investing   \n",
      "\n",
      "                                       Representation  \\\n",
      "0   [company, stock, year, nasdaq, market, earning...   \n",
      "1   [million, quarter, revenue, year, zacks, cent,...   \n",
      "2   [amd, graphic, radeon, processor, gpu, ryzen, ...   \n",
      "3   [vehicle, driving, car, self, autonomous, tesl...   \n",
      "4   [analyst, zacks, research, investment, report,...   \n",
      "..                                                ...   \n",
      "60  [traded, seven, gmt, lowest, highest, day, nvi...   \n",
      "61  [blockchain, etf, fund, blcn, bitcoin, blok, t...   \n",
      "62  [cadence, design, verification, ip, protium, m...   \n",
      "63  [tsmc, samsung, chip, memory, taiwan, semicond...   \n",
      "64  [nasdaq, parent, midday, investing, com, alpha...   \n",
      "\n",
      "                                  Representative_Docs  \n",
      "0   [immediate releasechicago il january zacks com...  \n",
      "1   [netapp inc nasdaq ntap set report fiscal thir...  \n",
      "2   [advanced micro device inc nasdaq amd set repo...  \n",
      "3   [intel corporation nasdaq intc recent deal win...  \n",
      "4   [immediate releasechicago il january zacks com...  \n",
      "..                                                ...  \n",
      "60  [investing com nvidia nasdaq nvda rose trade g...  \n",
      "61  [two new blockchain based investment product a...  \n",
      "62  [cadence design system inc nasdaq cdns reporte...  \n",
      "63  [ju min park heekyong yang seoul reuters samsu...  \n",
      "64  [investing com chip stock struggled monday wee...  \n",
      "\n",
      "[65 rows x 5 columns]\n"
     ]
    }
   ],
   "source": [
    "topic_info = bert_topic_model.get_topic_info()\n",
    "print(topic_info)\n"
   ]
  },
  {
   "cell_type": "code",
   "execution_count": 45,
   "metadata": {},
   "outputs": [
    {
     "name": "stdout",
     "output_type": "stream",
     "text": [
      "Topic 0:\n",
      "[('million', 0.030487371346953437), ('quarter', 0.026355577600872558), ('revenue', 0.022317622686920252), ('year', 0.02148848464892058), ('zacks', 0.019292111915568497), ('cent', 0.016809057047680487), ('company', 0.016751358320266144), ('gaap', 0.015468866923273887), ('consensus', 0.015370797204749249), ('rank', 0.014724712314913438)]\n",
      "Topic 1:\n",
      "[('amd', 0.0619426142003229), ('graphic', 0.0235209633811003), ('radeon', 0.021839438837556513), ('processor', 0.021706644420291566), ('gpu', 0.019743371053652516), ('ryzen', 0.017345339981370715), ('epyc', 0.015152270939372717), ('year', 0.014454022312165938), ('revenue', 0.013411223648664362), ('card', 0.012901616829985243)]\n",
      "Topic 2:\n",
      "[('vehicle', 0.04765898180043747), ('driving', 0.047202658963867425), ('car', 0.042474590377885174), ('self', 0.04082171099340391), ('autonomous', 0.035574415144220155), ('tesla', 0.01887988034298657), ('mobileye', 0.01811948251642927), ('technology', 0.016406649748489047), ('motor', 0.016173204463762306), ('system', 0.015355879863234449)]\n",
      "Topic 3:\n",
      "[('analyst', 0.03006848737067046), ('zacks', 0.02468790720652895), ('research', 0.018644632051208233), ('investment', 0.016595389279097483), ('report', 0.014606377886674116), ('today', 0.012071791763161359), ('growth', 0.011867958377555074), ('company', 0.011586564885765677), ('cost', 0.011549467620559296), ('per', 0.01115120125279086)]\n",
      "Topic 4:\n",
      "[('nvidia', 0.054571006300447214), ('target', 0.05029439946756179), ('rating', 0.03756334261810476), ('nvda', 0.0322617514073858), ('price', 0.03191277410856524), ('read', 0.03102944017564932), ('premarket', 0.030470089462421242), ('analyst', 0.030420945296590195), ('previously', 0.030310876633538503), ('raise', 0.029931632405354906)]\n",
      "Topic 5:\n",
      "[('nvidia', 0.02985679079234978), ('nvda', 0.016995763148784874), ('gaming', 0.013890862185717662), ('share', 0.011797683967739354), ('stock', 0.01113901939677189), ('analyst', 0.011087104945964252), ('center', 0.010604103581562881), ('investor', 0.010390479388315168), ('year', 0.010301070033566912), ('company', 0.010129108199524072)]\n",
      "Topic 6:\n",
      "[('nyse', 0.018653529746338507), ('dow', 0.018049315822218793), ('percent', 0.01632513452749582), ('nasdaq', 0.015165466824669464), ('fed', 0.014210193654409864), ('fell', 0.013806487869014278), ('closed', 0.013724663989129238), ('point', 0.013610332394240874), ('index', 0.012366941209193582), ('bank', 0.012151418791453488)]\n",
      "Topic 7:\n",
      "[('performer', 0.0682383279163342), ('close', 0.06764715207401917), ('inc', 0.06433434862150623), ('rose', 0.058305179561667766), ('settle', 0.054896958794420435), ('nyse', 0.0531328784772154), ('fell', 0.0484033029729313), ('nasdaq', 0.047283374065631587), ('point', 0.045120728352907556), ('worst', 0.036812067654473264)]\n",
      "Topic 8:\n",
      "[('fund', 0.024428002961896605), ('etf', 0.020171062396937483), ('tech', 0.016563742279770942), ('technology', 0.013845875868354089), ('stock', 0.012592275287420192), ('nasdaq', 0.012523216293534098), ('growth', 0.012029748230296764), ('sector', 0.011711013824818711), ('year', 0.010990401843558664), ('fang', 0.01091277850669631)]\n",
      "Topic 9:\n",
      "[('apple', 0.05039833406824632), ('iphone', 0.0289900617630483), ('google', 0.010467485017962859), ('service', 0.010338905444801734), ('company', 0.01020459558749164), ('zacks', 0.009815865351437537), ('billion', 0.00974704711488184), ('revenue', 0.009695429919578098), ('year', 0.00940528511280895), ('nasdaq', 0.008743408628972788)]\n",
      "Topic 10:\n",
      "[('tracey', 0.02278881575213175), ('stock', 0.018266285729798673), ('podcast', 0.01741321327856802), ('investment', 0.014346783900728256), ('zacks', 0.013467726069507841), ('investor', 0.012988574154921361), ('value', 0.01288281332666657), ('episode', 0.011777757843490222), ('portfolio', 0.010791128418398358), ('ryniec', 0.010719808627880408)]\n",
      "Topic 11:\n",
      "[('percent', 0.022351638452959274), ('yield', 0.020294169606394574), ('dollar', 0.018568905215759813), ('week', 0.015857994713508947), ('fed', 0.015542076218281627), ('yesterday', 0.013479967282964543), ('index', 0.01338868671093567), ('market', 0.013224706376075198), ('european', 0.012876663771739377), ('yen', 0.012827445162981878)]\n",
      "Topic 12:\n",
      "[('resistance', 0.049152471199388835), ('roku', 0.043296679826180545), ('towards', 0.03417277684270538), ('break', 0.03370912296371381), ('around', 0.028315183707417972), ('gap', 0.0282413800318186), ('think', 0.02671350757697208), ('back', 0.02602422124558675), ('stock', 0.025799667021681186), ('rise', 0.02557753760813755)]\n",
      "Topic 13:\n",
      "[('driving', 0.05063433763144788), ('car', 0.04601450609623026), ('self', 0.0459361892312774), ('autonomous', 0.0401176168739852), ('nvidia', 0.03796045340612826), ('vehicle', 0.03717336806524408), ('volvo', 0.029663512115639026), ('automotive', 0.024795680658534422), ('drive', 0.02420809335895655), ('system', 0.02116439424763323)]\n",
      "Topic 14:\n",
      "[('earnings', 0.04258760646022931), ('growth', 0.028418922764391067), ('estimate', 0.027030313127029824), ('eps', 0.023057905503119962), ('zacks', 0.02043851740840337), ('period', 0.02033984485364405), ('q4', 0.02026606307683082), ('investment', 0.018947541544709096), ('stock', 0.017952566603659247), ('greater', 0.01734863525403579)]\n",
      "Topic 15:\n",
      "[('trade', 0.025661637636953557), ('china', 0.020334166897374467), ('tariff', 0.017092465845307075), ('nyse', 0.015333824716268625), ('talk', 0.012760245375520445), ('chinese', 0.012657342520718477), ('nasdaq', 0.012067439763952404), ('trump', 0.011721112921975392), ('week', 0.011139318472114232), ('dow', 0.010771628429739694)]\n",
      "Topic 16:\n",
      "[('nvidia', 0.033680439874293755), ('ai', 0.03319931277398481), ('gpus', 0.02028501634216675), ('cloud', 0.01661678430465532), ('learning', 0.015114458645260587), ('computing', 0.014552441879513957), ('nasdaq', 0.014484183122037891), ('company', 0.014385839462085827), ('tesla', 0.014291716059253846), ('deep', 0.013399913562982936)]\n",
      "Topic 17:\n",
      "[('intel', 0.051328187059882485), ('ai', 0.02462660733800703), ('chip', 0.02350703672864666), ('israel', 0.020066301094652128), ('processor', 0.01993050788359703), ('data', 0.01743843281075302), ('memory', 0.015754506131338032), ('xeon', 0.0152264800294794), ('inference', 0.013852381647552056), ('learning', 0.013763221161397669)]\n",
      "Topic 18:\n",
      "[('china', 0.039403967787548934), ('tariff', 0.03206969160937493), ('trade', 0.024796246018360828), ('trump', 0.023609679793684463), ('chinese', 0.021236621952395944), ('etf', 0.014901141866587947), ('war', 0.01454860601106333), ('exposure', 0.014108944210191113), ('company', 0.012473198788801624), ('united', 0.012380364918938205)]\n",
      "Topic 19:\n",
      "[('game', 0.07904447590572762), ('gaming', 0.04057561877569538), ('stadium', 0.028622901262884037), ('video', 0.027592515666128904), ('esports', 0.02338881518189446), ('service', 0.019560474278215566), ('streaming', 0.018673868818679024), ('ea', 0.01805048969529686), ('activision', 0.017889252348313688), ('google', 0.01753544089957447)]\n",
      "Topic 20:\n",
      "[('trader', 0.02669918545079143), ('week', 0.020111516363245933), ('portfolio', 0.01867568246200963), ('today', 0.015758464723782725), ('editor', 0.015664336199205656), ('day', 0.013816305354231192), ('bh', 0.013554102537216329), ('stock', 0.012719470749968329), ('market', 0.012471422064795576), ('momentum', 0.012268162274200767)]\n",
      "Topic 21:\n",
      "[('traded', 0.2978864956496801), ('seven', 0.13540234704366963), ('gmt', 0.13479330120652985), ('lowest', 0.13191024087390166), ('day', 0.12287503841711754), ('highest', 0.12136461335851), ('nvidia', 0.11841286955618224), ('exchange', 0.11301371465804193), ('volume', 0.10850580703051799), ('session', 0.10434430496617335)]\n",
      "Topic 22:\n",
      "[('oil', 0.04447992985884266), ('crude', 0.021409899172666527), ('price', 0.016245017852196116), ('week', 0.015042553657927277), ('energy', 0.014304333175332532), ('production', 0.012747146984753118), ('et', 0.012189749219981564), ('data', 0.012124654593589286), ('fed', 0.011784853555221641), ('inflation', 0.011753695400446665)]\n",
      "Topic 23:\n",
      "[('future', 0.05364609946463102), ('point', 0.03528001475129479), ('et', 0.03260880334273698), ('nasdaq', 0.027804138740628963), ('trade', 0.02755282864696906), ('rose', 0.026824555888823497), ('greenback', 0.02672733790983032), ('troy', 0.02619190870508756), ('gmt', 0.02608465536281761), ('inched', 0.02418840351629705)]\n",
      "Topic 24:\n",
      "[('intel', 0.0687008834331732), ('swan', 0.017010578982626513), ('cpu', 0.01582479809297219), ('intc', 0.015701184812630085), ('chip', 0.015098131400183777), ('amd', 0.0133713944954319), ('share', 0.01309961959351757), ('data', 0.012663213088089731), ('center', 0.012137115637509197), ('year', 0.011988951580419597)]\n",
      "Topic 25:\n",
      "[('lunch', 0.016593064155497553), ('earnings', 0.014365372449796087), ('result', 0.014189180049670177), ('macy', 0.013723440856278961), ('report', 0.013713314546802751), ('might', 0.013312351902067593), ('stock', 0.012212891952026262), ('wmt', 0.012137620310927697), ('today', 0.011802501087514546), ('morning', 0.011789591969505273)]\n",
      "Topic 26:\n",
      "[('micron', 0.07792045201539229), ('mu', 0.03283477047578466), ('dram', 0.02458475472534294), ('memory', 0.024378504063810855), ('nand', 0.019874125760603708), ('fiscal', 0.017754150058360067), ('chip', 0.01726443865889065), ('projected', 0.016110397947652164), ('demand', 0.014797767028000073), ('estimate', 0.01297805389608693)]\n",
      "Topic 27:\n",
      "[('nvidia', 0.03016978436669612), ('revenue', 0.022923092765609984), ('gaming', 0.02085883723709233), ('billion', 0.019861310541331917), ('percent', 0.01952341223553406), ('quarter', 0.019520030965101846), ('graphic', 0.017995316611059273), ('estimate', 0.016837771866928405), ('share', 0.015813071390650534), ('per', 0.014909637431118783)]\n",
      "Topic 28:\n",
      "[('scenario', 0.03560147619175353), ('oil', 0.03418175203529892), ('target', 0.030169721800529473), ('pivot', 0.02890732064797684), ('extension', 0.024860077748113926), ('rsi', 0.02332889497048544), ('dollar', 0.022906495097182736), ('comment', 0.022431136986138984), ('usd', 0.021418275413117322), ('et', 0.02005778549502602)]\n",
      "Topic 29:\n",
      "[('inc', 0.11421754070390612), ('nyse', 0.04180786494385614), ('corporation', 0.041288759198751336), ('nasdaq', 0.040878274109483165), ('traded', 0.03360542682673806), ('wedge', 0.0328602057460351), ('popped', 0.03233691819283852), ('therapeutic', 0.03200729499403486), ('swing', 0.030225922811127386), ('target', 0.028914790986548106)]\n",
      "Topic 30:\n",
      "[('facebook', 0.0531245675950851), ('user', 0.043674736217936765), ('ad', 0.02717396765119043), ('snap', 0.02079298171269719), ('platform', 0.020448561555997842), ('video', 0.01853020669904586), ('snapchat', 0.017245429836120818), ('instagram', 0.016959280343694195), ('twitter', 0.014986118552520442), ('advertiser', 0.013363206931319895)]\n",
      "Topic 31:\n",
      "[('at40', 0.04436193342080189), ('t2108', 0.042725050012491717), ('50dma', 0.04001956013028919), ('day', 0.03992311375672678), ('call', 0.03320593317959956), ('trading', 0.03272784336522144), ('vix', 0.0267077511523036), ('respective', 0.025783119904438514), ('support', 0.022828737525679658), ('option', 0.02251549485050004)]\n",
      "Topic 32:\n",
      "[('traded', 0.29857129219140355), ('seven', 0.1357136168069884), ('gmt', 0.1351031708644759), ('lowest', 0.13221348280694512), ('highest', 0.12164361246967897), ('day', 0.12107009434997344), ('nvidia', 0.11868508304941486), ('exchange', 0.11327351630093398), ('volume', 0.10875524566736974), ('session', 0.10458417693161282)]\n",
      "Topic 33:\n",
      "[('semiconductor', 0.03622791716283747), ('china', 0.028831292890260863), ('chip', 0.02823235169465904), ('industry', 0.023447646164936223), ('zacks', 0.014710336004380974), ('chipmakers', 0.014189940372798936), ('trade', 0.012865858912582328), ('stock', 0.012530895332547679), ('year', 0.012440341091054557), ('company', 0.01243068076665579)]\n",
      "Topic 34:\n",
      "[('etf', 0.037849350847689915), ('earnings', 0.03547478574151414), ('semiconductor', 0.03375776645832895), ('score', 0.029910202101904797), ('style', 0.023874512641837965), ('surprise', 0.023839078602529037), ('esp', 0.02110354403046195), ('revision', 0.021010973062704927), ('soxx', 0.020378799644507006), ('four', 0.020345936526859454)]\n",
      "Topic 35:\n",
      "[('million', 0.03720198024790915), ('quarter', 0.03116117203782523), ('revenue', 0.030019391983115533), ('sequentially', 0.029156778761252937), ('year', 0.02702864618338647), ('bps', 0.026588197023330817), ('cash', 0.021323343962885353), ('fiscal', 0.01858979658940407), ('operating', 0.018068776466583964), ('ago', 0.017810423939604858)]\n",
      "Topic 36:\n",
      "[('traded', 0.29857129219140355), ('seven', 0.1357136168069884), ('gmt', 0.1351031708644759), ('lowest', 0.13221348280694512), ('highest', 0.12164361246967897), ('day', 0.12107009434997344), ('nvidia', 0.11868508304941486), ('exchange', 0.11327351630093398), ('volume', 0.10875524566736974), ('session', 0.10458417693161282)]\n",
      "Topic 37:\n",
      "[('qualcomm', 0.04375710713231113), ('patent', 0.036605572772700934), ('commission', 0.03460809158933079), ('antitrust', 0.024005188518176488), ('eu', 0.023525274050810455), ('said', 0.02156189179095699), ('european', 0.021311961949205184), ('google', 0.020289159599893403), ('fine', 0.019246181327107835), ('court', 0.018724213158108634)]\n",
      "Topic 38:\n",
      "[('ray', 0.06681484916023349), ('rtx', 0.0632474214884332), ('tracing', 0.06222903253788277), ('gaming', 0.047938416606000366), ('game', 0.03584704251088013), ('nvidia', 0.029227020057480017), ('gpus', 0.029003039430550145), ('geforce', 0.027753363954940123), ('real', 0.027537823610511), ('graphic', 0.022581333074006428)]\n",
      "Topic 39:\n",
      "[('bitcoin', 0.1224589897595048), ('currency', 0.028713267011955604), ('cryptocurrency', 0.025894148948990395), ('digital', 0.020145989755723914), ('exchange', 0.019622551803007742), ('cryptocurrencies', 0.019481470180397423), ('mining', 0.017828053090403927), ('transaction', 0.016816643648871584), ('etf', 0.015832271168624686), ('payment', 0.014345635539242278)]\n",
      "Topic 40:\n",
      "[('gaap', 0.03361011173029208), ('year', 0.030383652621150756), ('quarter', 0.030313013046062615), ('non', 0.029341250294731988), ('gaming', 0.02931841926178424), ('million', 0.02754070451596794), ('revenue', 0.023801722589957244), ('billion', 0.023774972418670735), ('fiscal', 0.02338580293493596), ('operating', 0.022219277444055753)]\n",
      "Topic 41:\n",
      "[('traded', 0.29857129219140355), ('seven', 0.1357136168069884), ('gmt', 0.1351031708644759), ('lowest', 0.13221348280694512), ('highest', 0.12164361246967897), ('day', 0.12107009434997344), ('nvidia', 0.11868508304941486), ('exchange', 0.11327351630093398), ('volume', 0.10875524566736974), ('session', 0.10458417693161282)]\n",
      "Topic 42:\n",
      "[('traded', 0.2799105864294408), ('seven', 0.12723151575655162), ('gmt', 0.12665922268544616), ('lowest', 0.12395014013151104), ('highest', 0.11404088669032404), ('day', 0.1135032134531001), ('nvidia', 0.11332777027287876), ('volume', 0.11328671423684349), ('exchange', 0.1061939215321256), ('session', 0.09804766587338702)]\n",
      "Topic 43:\n",
      "[('stock', 0.04559034421414781), ('nasdaq', 0.03318047683179015), ('nyse', 0.031287603589168496), ('premarket', 0.026619811706370438), ('gmt', 0.026180670978986045), ('reported', 0.025386728874955175), ('et', 0.02529046251839534), ('company', 0.02243757646146702), ('com', 0.02059136037187251), ('forecast', 0.019682671082801754)]\n",
      "Topic 44:\n",
      "[('illumina', 0.025526889758966585), ('missed', 0.024316101258858684), ('earnings', 0.02382544663633969), ('record', 0.021043914094508884), ('week', 0.020961597332649084), ('beat', 0.019583175191712356), ('sequencing', 0.019272158870443916), ('share', 0.01908848949242304), ('miss', 0.018573358542293396), ('year', 0.018409297344461256)]\n",
      "Topic 45:\n",
      "[('percent', 0.09328870797920541), ('index', 0.022795284871189005), ('reuters', 0.02121626383920872), ('noel', 0.018390078302888038), ('randewich', 0.018390078302888038), ('record', 0.017014799541697392), ('dow', 0.016634642671045956), ('said', 0.015651826886405443), ('week', 0.01563860634538496), ('high', 0.015337756215003964)]\n",
      "Topic 46:\n",
      "[('traded', 0.29733240716156367), ('seven', 0.13515048976629548), ('gmt', 0.13454257679449882), ('lowest', 0.13166487914384575), ('highest', 0.1211388671897218), ('day', 0.12056772881325156), ('nvidia', 0.11819261382514341), ('exchange', 0.11280350171047367), ('volume', 0.1083039790878371), ('session', 0.10415021769123269)]\n",
      "Topic 47:\n",
      "[('might', 0.03062896145264378), ('week', 0.017402487795212983), ('spx', 0.016925421373329207), ('could', 0.014796490758151119), ('yield', 0.01462264791634885), ('last', 0.014417820653926824), ('market', 0.013688568514725484), ('month', 0.013648052281966423), ('investor', 0.012780093850365479), ('consumer', 0.011681242311831132)]\n",
      "Topic 48:\n",
      "[('resistance', 0.040930995015530096), ('around', 0.028933788549199105), ('stock', 0.024371519648472655), ('towards', 0.02274352606294751), ('higher', 0.02251364671460416), ('shanghai', 0.022381580334884573), ('morning', 0.021669421501762154), ('today', 0.020980729952402306), ('kospi', 0.020695251311206718), ('level', 0.020547440955789944)]\n",
      "Topic 49:\n",
      "[('semiconductor', 0.037627634888320494), ('tsmc', 0.030742777931088042), ('5g', 0.01992385203826167), ('industry', 0.015994827439983733), ('cree', 0.015437389381749314), ('intel', 0.01390668974616722), ('inphi', 0.013300183763399758), ('tsm', 0.013294769660718827), ('company', 0.0110360210936219), ('zacks', 0.0110017738045483)]\n",
      "Topic 50:\n",
      "[('qualcomm', 0.06915128750108679), ('chip', 0.02844162365715341), ('intel', 0.01811403115960517), ('broadcom', 0.017794445615634348), ('mobile', 0.013758147147265575), ('company', 0.013099678132803282), ('5g', 0.012435156380130138), ('business', 0.012312456929348278), ('smartphone', 0.011833176091316703), ('technology', 0.011819750398631606)]\n",
      "Topic 51:\n",
      "[('eps', 0.10417012428133463), ('revenue', 0.08356942425617134), ('com', 0.07354693531525336), ('investing', 0.07212989429644918), ('reported', 0.06568485569624971), ('earnings', 0.0521543332838305), ('analyst', 0.04983172647367608), ('forecast', 0.04489833201068257), ('beat', 0.0431926814242329), ('polled', 0.04160308977260396)]\n",
      "Topic 52:\n",
      "[('storage', 0.08325159263254094), ('pure', 0.06188976635350886), ('quarter', 0.02566556294561608), ('flashstack', 0.024175633807195444), ('flashblade', 0.024175633807195444), ('gaap', 0.02396242231049615), ('range', 0.022397300537752622), ('cloud', 0.022176908319002323), ('million', 0.021816912905919736), ('non', 0.021608959726694525)]\n",
      "Topic 53:\n",
      "[('mellanox', 0.09237243890317766), ('ethernet', 0.05618847629086337), ('switch', 0.03684758947454639), ('adapter', 0.033328294174485865), ('storage', 0.029162598087276448), ('infiniband', 0.028453233932763975), ('solution', 0.026835280244151598), ('data', 0.023110499243361834), ('bluefield', 0.0203760521776724), ('nvme', 0.020139413145865575)]\n",
      "Topic 54:\n",
      "[('ai', 0.04822369564670141), ('robotics', 0.034780534628638914), ('ml', 0.03421851816185677), ('robot', 0.020409816642366976), ('machine', 0.020081031428118776), ('learning', 0.018459636156826), ('technology', 0.015058120788460775), ('photo', 0.014257750753204922), ('human', 0.013979253774646419), ('company', 0.012295010234675887)]\n",
      "Topic 55:\n",
      "[('baidu', 0.1052610914563711), ('apollo', 0.08147711159748412), ('driving', 0.050955976809829134), ('autonomous', 0.03830748327655214), ('self', 0.03808305419058173), ('vehicle', 0.028636476078736997), ('platform', 0.02549445637158116), ('car', 0.02543198813456676), ('startup', 0.024668493805631367), ('valley', 0.022316131662463122)]\n",
      "Topic 56:\n",
      "[('traded', 0.29857129219140355), ('seven', 0.1357136168069884), ('gmt', 0.1351031708644759), ('lowest', 0.13221348280694512), ('highest', 0.12164361246967897), ('day', 0.12107009434997344), ('nvidia', 0.11868508304941486), ('exchange', 0.11327351630093398), ('volume', 0.10875524566736974), ('session', 0.10458417693161282)]\n",
      "Topic 57:\n",
      "[('western', 0.0637633118143284), ('digital', 0.052882810005714306), ('sandisk', 0.04786628258796744), ('storage', 0.03179652153526921), ('ssd', 0.027910068673463014), ('flash', 0.020639782665925595), ('acquisition', 0.019051126388992413), ('company', 0.013469246558226329), ('billion', 0.012630468533603887), ('product', 0.012254213901978103)]\n",
      "Topic 58:\n",
      "[('microsoft', 0.02098743471309581), ('apple', 0.015531658030549332), ('google', 0.015485549864040452), ('user', 0.01340273505455552), ('cisco', 0.012777013185264152), ('company', 0.012663841775894205), ('also', 0.011228720132185835), ('service', 0.011106778222396845), ('facebook', 0.010740680431683905), ('cloud', 0.01030753776564776)]\n",
      "Topic 59:\n",
      "[('traded', 0.29766926411831773), ('seven', 0.13530360588007906), ('gmt', 0.13469500418512703), ('lowest', 0.13181404630299665), ('highest', 0.1212761091087434), ('day', 0.12070432367217897), ('nvidia', 0.1183265178438275), ('exchange', 0.11293130023960185), ('volume', 0.10842667997048948), ('session', 0.10426821265085266)]\n",
      "Topic 60:\n",
      "[('blockchain', 0.11555102542957006), ('etf', 0.04799763347047652), ('fund', 0.04042104168455852), ('blcn', 0.02693687978688966), ('bitcoin', 0.02354495009293572), ('blok', 0.02179694923158375), ('technology', 0.021779124673749886), ('dividend', 0.02117132568677204), ('asset', 0.020405114692660938), ('reality', 0.01856719320179062)]\n",
      "Topic 61:\n",
      "[('cadence', 0.09918076135522029), ('design', 0.04779055180979633), ('verification', 0.04090861580086244), ('ip', 0.030923210948057906), ('protium', 0.029751281501547995), ('million', 0.027964072896134787), ('palladium', 0.025694288569518723), ('z1', 0.025197042745965494), ('range', 0.02433733322165827), ('system', 0.0231539420985788)]\n",
      "Topic 62:\n",
      "[('tsmc', 0.05387347914264901), ('samsung', 0.04971700118760232), ('chip', 0.03398025563249381), ('memory', 0.030692138419356786), ('taiwan', 0.028217035943361186), ('semiconductor', 0.023884831172370304), ('manufacturing', 0.02375316854376302), ('smartphone', 0.02298219395904937), ('infineon', 0.021241326982063387), ('apr', 0.02073262206292388)]\n",
      "Topic 63:\n",
      "[('nasdaq', 0.057117744812385046), ('parent', 0.03651436618398065), ('midday', 0.0361402397126055), ('investing', 0.03598520555654007), ('com', 0.03507338774581681), ('alphabet', 0.03045367855926451), ('tech', 0.026206906552391676), ('nine', 0.02519538718691018), ('googl', 0.0249470343131177), ('google', 0.022767679658219138)]\n"
     ]
    }
   ],
   "source": [
    "\n",
    "for topic_id in topic_info['Topic']:\n",
    "    if topic_id != -1:\n",
    "        print(f\"Topic {topic_id}:\")\n",
    "        print(bert_topic_model.get_topic(topic_id))"
   ]
  },
  {
   "cell_type": "code",
   "execution_count": 46,
   "metadata": {},
   "outputs": [
    {
     "data": {
      "application/vnd.plotly.v1+json": {
       "config": {
        "plotlyServerURL": "https://plot.ly"
       },
       "data": [
        {
         "marker": {
          "color": "#D55E00"
         },
         "orientation": "h",
         "type": "bar",
         "x": [
          0.019292111915568497,
          0.02148848464892058,
          0.022317622686920252,
          0.026355577600872558,
          0.030487371346953437
         ],
         "xaxis": "x",
         "y": [
          "zacks  ",
          "year  ",
          "revenue  ",
          "quarter  ",
          "million  "
         ],
         "yaxis": "y"
        },
        {
         "marker": {
          "color": "#0072B2"
         },
         "orientation": "h",
         "type": "bar",
         "x": [
          0.019743371053652516,
          0.021706644420291566,
          0.021839438837556513,
          0.0235209633811003,
          0.0619426142003229
         ],
         "xaxis": "x2",
         "y": [
          "gpu  ",
          "processor  ",
          "radeon  ",
          "graphic  ",
          "amd  "
         ],
         "yaxis": "y2"
        },
        {
         "marker": {
          "color": "#CC79A7"
         },
         "orientation": "h",
         "type": "bar",
         "x": [
          0.035574415144220155,
          0.04082171099340391,
          0.042474590377885174,
          0.047202658963867425,
          0.04765898180043747
         ],
         "xaxis": "x3",
         "y": [
          "autonomous  ",
          "self  ",
          "car  ",
          "driving  ",
          "vehicle  "
         ],
         "yaxis": "y3"
        },
        {
         "marker": {
          "color": "#E69F00"
         },
         "orientation": "h",
         "type": "bar",
         "x": [
          0.014606377886674116,
          0.016595389279097483,
          0.018644632051208233,
          0.02468790720652895,
          0.03006848737067046
         ],
         "xaxis": "x4",
         "y": [
          "report  ",
          "investment  ",
          "research  ",
          "zacks  ",
          "analyst  "
         ],
         "yaxis": "y4"
        },
        {
         "marker": {
          "color": "#56B4E9"
         },
         "orientation": "h",
         "type": "bar",
         "x": [
          0.03191277410856524,
          0.0322617514073858,
          0.03756334261810476,
          0.05029439946756179,
          0.054571006300447214
         ],
         "xaxis": "x5",
         "y": [
          "price  ",
          "nvda  ",
          "rating  ",
          "target  ",
          "nvidia  "
         ],
         "yaxis": "y5"
        },
        {
         "marker": {
          "color": "#009E73"
         },
         "orientation": "h",
         "type": "bar",
         "x": [
          0.01113901939677189,
          0.011797683967739354,
          0.013890862185717662,
          0.016995763148784874,
          0.02985679079234978
         ],
         "xaxis": "x6",
         "y": [
          "stock  ",
          "share  ",
          "gaming  ",
          "nvda  ",
          "nvidia  "
         ],
         "yaxis": "y6"
        },
        {
         "marker": {
          "color": "#F0E442"
         },
         "orientation": "h",
         "type": "bar",
         "x": [
          0.014210193654409864,
          0.015165466824669464,
          0.01632513452749582,
          0.018049315822218793,
          0.018653529746338507
         ],
         "xaxis": "x7",
         "y": [
          "fed  ",
          "nasdaq  ",
          "percent  ",
          "dow  ",
          "nyse  "
         ],
         "yaxis": "y7"
        },
        {
         "marker": {
          "color": "#D55E00"
         },
         "orientation": "h",
         "type": "bar",
         "x": [
          0.054896958794420435,
          0.058305179561667766,
          0.06433434862150623,
          0.06764715207401917,
          0.0682383279163342
         ],
         "xaxis": "x8",
         "y": [
          "settle  ",
          "rose  ",
          "inc  ",
          "close  ",
          "performer  "
         ],
         "yaxis": "y8"
        }
       ],
       "layout": {
        "annotations": [
         {
          "font": {
           "size": 16
          },
          "showarrow": false,
          "text": "Topic 0",
          "x": 0.0875,
          "xanchor": "center",
          "xref": "paper",
          "y": 1,
          "yanchor": "bottom",
          "yref": "paper"
         },
         {
          "font": {
           "size": 16
          },
          "showarrow": false,
          "text": "Topic 1",
          "x": 0.36250000000000004,
          "xanchor": "center",
          "xref": "paper",
          "y": 1,
          "yanchor": "bottom",
          "yref": "paper"
         },
         {
          "font": {
           "size": 16
          },
          "showarrow": false,
          "text": "Topic 2",
          "x": 0.6375000000000001,
          "xanchor": "center",
          "xref": "paper",
          "y": 1,
          "yanchor": "bottom",
          "yref": "paper"
         },
         {
          "font": {
           "size": 16
          },
          "showarrow": false,
          "text": "Topic 3",
          "x": 0.9125,
          "xanchor": "center",
          "xref": "paper",
          "y": 1,
          "yanchor": "bottom",
          "yref": "paper"
         },
         {
          "font": {
           "size": 16
          },
          "showarrow": false,
          "text": "Topic 4",
          "x": 0.0875,
          "xanchor": "center",
          "xref": "paper",
          "y": 0.4,
          "yanchor": "bottom",
          "yref": "paper"
         },
         {
          "font": {
           "size": 16
          },
          "showarrow": false,
          "text": "Topic 5",
          "x": 0.36250000000000004,
          "xanchor": "center",
          "xref": "paper",
          "y": 0.4,
          "yanchor": "bottom",
          "yref": "paper"
         },
         {
          "font": {
           "size": 16
          },
          "showarrow": false,
          "text": "Topic 6",
          "x": 0.6375000000000001,
          "xanchor": "center",
          "xref": "paper",
          "y": 0.4,
          "yanchor": "bottom",
          "yref": "paper"
         },
         {
          "font": {
           "size": 16
          },
          "showarrow": false,
          "text": "Topic 7",
          "x": 0.9125,
          "xanchor": "center",
          "xref": "paper",
          "y": 0.4,
          "yanchor": "bottom",
          "yref": "paper"
         }
        ],
        "height": 500,
        "hoverlabel": {
         "bgcolor": "white",
         "font": {
          "family": "Rockwell",
          "size": 16
         }
        },
        "showlegend": false,
        "template": {
         "data": {
          "bar": [
           {
            "error_x": {
             "color": "#2a3f5f"
            },
            "error_y": {
             "color": "#2a3f5f"
            },
            "marker": {
             "line": {
              "color": "white",
              "width": 0.5
             },
             "pattern": {
              "fillmode": "overlay",
              "size": 10,
              "solidity": 0.2
             }
            },
            "type": "bar"
           }
          ],
          "barpolar": [
           {
            "marker": {
             "line": {
              "color": "white",
              "width": 0.5
             },
             "pattern": {
              "fillmode": "overlay",
              "size": 10,
              "solidity": 0.2
             }
            },
            "type": "barpolar"
           }
          ],
          "carpet": [
           {
            "aaxis": {
             "endlinecolor": "#2a3f5f",
             "gridcolor": "#C8D4E3",
             "linecolor": "#C8D4E3",
             "minorgridcolor": "#C8D4E3",
             "startlinecolor": "#2a3f5f"
            },
            "baxis": {
             "endlinecolor": "#2a3f5f",
             "gridcolor": "#C8D4E3",
             "linecolor": "#C8D4E3",
             "minorgridcolor": "#C8D4E3",
             "startlinecolor": "#2a3f5f"
            },
            "type": "carpet"
           }
          ],
          "choropleth": [
           {
            "colorbar": {
             "outlinewidth": 0,
             "ticks": ""
            },
            "type": "choropleth"
           }
          ],
          "contour": [
           {
            "colorbar": {
             "outlinewidth": 0,
             "ticks": ""
            },
            "colorscale": [
             [
              0,
              "#0d0887"
             ],
             [
              0.1111111111111111,
              "#46039f"
             ],
             [
              0.2222222222222222,
              "#7201a8"
             ],
             [
              0.3333333333333333,
              "#9c179e"
             ],
             [
              0.4444444444444444,
              "#bd3786"
             ],
             [
              0.5555555555555556,
              "#d8576b"
             ],
             [
              0.6666666666666666,
              "#ed7953"
             ],
             [
              0.7777777777777778,
              "#fb9f3a"
             ],
             [
              0.8888888888888888,
              "#fdca26"
             ],
             [
              1,
              "#f0f921"
             ]
            ],
            "type": "contour"
           }
          ],
          "contourcarpet": [
           {
            "colorbar": {
             "outlinewidth": 0,
             "ticks": ""
            },
            "type": "contourcarpet"
           }
          ],
          "heatmap": [
           {
            "colorbar": {
             "outlinewidth": 0,
             "ticks": ""
            },
            "colorscale": [
             [
              0,
              "#0d0887"
             ],
             [
              0.1111111111111111,
              "#46039f"
             ],
             [
              0.2222222222222222,
              "#7201a8"
             ],
             [
              0.3333333333333333,
              "#9c179e"
             ],
             [
              0.4444444444444444,
              "#bd3786"
             ],
             [
              0.5555555555555556,
              "#d8576b"
             ],
             [
              0.6666666666666666,
              "#ed7953"
             ],
             [
              0.7777777777777778,
              "#fb9f3a"
             ],
             [
              0.8888888888888888,
              "#fdca26"
             ],
             [
              1,
              "#f0f921"
             ]
            ],
            "type": "heatmap"
           }
          ],
          "heatmapgl": [
           {
            "colorbar": {
             "outlinewidth": 0,
             "ticks": ""
            },
            "colorscale": [
             [
              0,
              "#0d0887"
             ],
             [
              0.1111111111111111,
              "#46039f"
             ],
             [
              0.2222222222222222,
              "#7201a8"
             ],
             [
              0.3333333333333333,
              "#9c179e"
             ],
             [
              0.4444444444444444,
              "#bd3786"
             ],
             [
              0.5555555555555556,
              "#d8576b"
             ],
             [
              0.6666666666666666,
              "#ed7953"
             ],
             [
              0.7777777777777778,
              "#fb9f3a"
             ],
             [
              0.8888888888888888,
              "#fdca26"
             ],
             [
              1,
              "#f0f921"
             ]
            ],
            "type": "heatmapgl"
           }
          ],
          "histogram": [
           {
            "marker": {
             "pattern": {
              "fillmode": "overlay",
              "size": 10,
              "solidity": 0.2
             }
            },
            "type": "histogram"
           }
          ],
          "histogram2d": [
           {
            "colorbar": {
             "outlinewidth": 0,
             "ticks": ""
            },
            "colorscale": [
             [
              0,
              "#0d0887"
             ],
             [
              0.1111111111111111,
              "#46039f"
             ],
             [
              0.2222222222222222,
              "#7201a8"
             ],
             [
              0.3333333333333333,
              "#9c179e"
             ],
             [
              0.4444444444444444,
              "#bd3786"
             ],
             [
              0.5555555555555556,
              "#d8576b"
             ],
             [
              0.6666666666666666,
              "#ed7953"
             ],
             [
              0.7777777777777778,
              "#fb9f3a"
             ],
             [
              0.8888888888888888,
              "#fdca26"
             ],
             [
              1,
              "#f0f921"
             ]
            ],
            "type": "histogram2d"
           }
          ],
          "histogram2dcontour": [
           {
            "colorbar": {
             "outlinewidth": 0,
             "ticks": ""
            },
            "colorscale": [
             [
              0,
              "#0d0887"
             ],
             [
              0.1111111111111111,
              "#46039f"
             ],
             [
              0.2222222222222222,
              "#7201a8"
             ],
             [
              0.3333333333333333,
              "#9c179e"
             ],
             [
              0.4444444444444444,
              "#bd3786"
             ],
             [
              0.5555555555555556,
              "#d8576b"
             ],
             [
              0.6666666666666666,
              "#ed7953"
             ],
             [
              0.7777777777777778,
              "#fb9f3a"
             ],
             [
              0.8888888888888888,
              "#fdca26"
             ],
             [
              1,
              "#f0f921"
             ]
            ],
            "type": "histogram2dcontour"
           }
          ],
          "mesh3d": [
           {
            "colorbar": {
             "outlinewidth": 0,
             "ticks": ""
            },
            "type": "mesh3d"
           }
          ],
          "parcoords": [
           {
            "line": {
             "colorbar": {
              "outlinewidth": 0,
              "ticks": ""
             }
            },
            "type": "parcoords"
           }
          ],
          "pie": [
           {
            "automargin": true,
            "type": "pie"
           }
          ],
          "scatter": [
           {
            "fillpattern": {
             "fillmode": "overlay",
             "size": 10,
             "solidity": 0.2
            },
            "type": "scatter"
           }
          ],
          "scatter3d": [
           {
            "line": {
             "colorbar": {
              "outlinewidth": 0,
              "ticks": ""
             }
            },
            "marker": {
             "colorbar": {
              "outlinewidth": 0,
              "ticks": ""
             }
            },
            "type": "scatter3d"
           }
          ],
          "scattercarpet": [
           {
            "marker": {
             "colorbar": {
              "outlinewidth": 0,
              "ticks": ""
             }
            },
            "type": "scattercarpet"
           }
          ],
          "scattergeo": [
           {
            "marker": {
             "colorbar": {
              "outlinewidth": 0,
              "ticks": ""
             }
            },
            "type": "scattergeo"
           }
          ],
          "scattergl": [
           {
            "marker": {
             "colorbar": {
              "outlinewidth": 0,
              "ticks": ""
             }
            },
            "type": "scattergl"
           }
          ],
          "scattermapbox": [
           {
            "marker": {
             "colorbar": {
              "outlinewidth": 0,
              "ticks": ""
             }
            },
            "type": "scattermapbox"
           }
          ],
          "scatterpolar": [
           {
            "marker": {
             "colorbar": {
              "outlinewidth": 0,
              "ticks": ""
             }
            },
            "type": "scatterpolar"
           }
          ],
          "scatterpolargl": [
           {
            "marker": {
             "colorbar": {
              "outlinewidth": 0,
              "ticks": ""
             }
            },
            "type": "scatterpolargl"
           }
          ],
          "scatterternary": [
           {
            "marker": {
             "colorbar": {
              "outlinewidth": 0,
              "ticks": ""
             }
            },
            "type": "scatterternary"
           }
          ],
          "surface": [
           {
            "colorbar": {
             "outlinewidth": 0,
             "ticks": ""
            },
            "colorscale": [
             [
              0,
              "#0d0887"
             ],
             [
              0.1111111111111111,
              "#46039f"
             ],
             [
              0.2222222222222222,
              "#7201a8"
             ],
             [
              0.3333333333333333,
              "#9c179e"
             ],
             [
              0.4444444444444444,
              "#bd3786"
             ],
             [
              0.5555555555555556,
              "#d8576b"
             ],
             [
              0.6666666666666666,
              "#ed7953"
             ],
             [
              0.7777777777777778,
              "#fb9f3a"
             ],
             [
              0.8888888888888888,
              "#fdca26"
             ],
             [
              1,
              "#f0f921"
             ]
            ],
            "type": "surface"
           }
          ],
          "table": [
           {
            "cells": {
             "fill": {
              "color": "#EBF0F8"
             },
             "line": {
              "color": "white"
             }
            },
            "header": {
             "fill": {
              "color": "#C8D4E3"
             },
             "line": {
              "color": "white"
             }
            },
            "type": "table"
           }
          ]
         },
         "layout": {
          "annotationdefaults": {
           "arrowcolor": "#2a3f5f",
           "arrowhead": 0,
           "arrowwidth": 1
          },
          "autotypenumbers": "strict",
          "coloraxis": {
           "colorbar": {
            "outlinewidth": 0,
            "ticks": ""
           }
          },
          "colorscale": {
           "diverging": [
            [
             0,
             "#8e0152"
            ],
            [
             0.1,
             "#c51b7d"
            ],
            [
             0.2,
             "#de77ae"
            ],
            [
             0.3,
             "#f1b6da"
            ],
            [
             0.4,
             "#fde0ef"
            ],
            [
             0.5,
             "#f7f7f7"
            ],
            [
             0.6,
             "#e6f5d0"
            ],
            [
             0.7,
             "#b8e186"
            ],
            [
             0.8,
             "#7fbc41"
            ],
            [
             0.9,
             "#4d9221"
            ],
            [
             1,
             "#276419"
            ]
           ],
           "sequential": [
            [
             0,
             "#0d0887"
            ],
            [
             0.1111111111111111,
             "#46039f"
            ],
            [
             0.2222222222222222,
             "#7201a8"
            ],
            [
             0.3333333333333333,
             "#9c179e"
            ],
            [
             0.4444444444444444,
             "#bd3786"
            ],
            [
             0.5555555555555556,
             "#d8576b"
            ],
            [
             0.6666666666666666,
             "#ed7953"
            ],
            [
             0.7777777777777778,
             "#fb9f3a"
            ],
            [
             0.8888888888888888,
             "#fdca26"
            ],
            [
             1,
             "#f0f921"
            ]
           ],
           "sequentialminus": [
            [
             0,
             "#0d0887"
            ],
            [
             0.1111111111111111,
             "#46039f"
            ],
            [
             0.2222222222222222,
             "#7201a8"
            ],
            [
             0.3333333333333333,
             "#9c179e"
            ],
            [
             0.4444444444444444,
             "#bd3786"
            ],
            [
             0.5555555555555556,
             "#d8576b"
            ],
            [
             0.6666666666666666,
             "#ed7953"
            ],
            [
             0.7777777777777778,
             "#fb9f3a"
            ],
            [
             0.8888888888888888,
             "#fdca26"
            ],
            [
             1,
             "#f0f921"
            ]
           ]
          },
          "colorway": [
           "#636efa",
           "#EF553B",
           "#00cc96",
           "#ab63fa",
           "#FFA15A",
           "#19d3f3",
           "#FF6692",
           "#B6E880",
           "#FF97FF",
           "#FECB52"
          ],
          "font": {
           "color": "#2a3f5f"
          },
          "geo": {
           "bgcolor": "white",
           "lakecolor": "white",
           "landcolor": "white",
           "showlakes": true,
           "showland": true,
           "subunitcolor": "#C8D4E3"
          },
          "hoverlabel": {
           "align": "left"
          },
          "hovermode": "closest",
          "mapbox": {
           "style": "light"
          },
          "paper_bgcolor": "white",
          "plot_bgcolor": "white",
          "polar": {
           "angularaxis": {
            "gridcolor": "#EBF0F8",
            "linecolor": "#EBF0F8",
            "ticks": ""
           },
           "bgcolor": "white",
           "radialaxis": {
            "gridcolor": "#EBF0F8",
            "linecolor": "#EBF0F8",
            "ticks": ""
           }
          },
          "scene": {
           "xaxis": {
            "backgroundcolor": "white",
            "gridcolor": "#DFE8F3",
            "gridwidth": 2,
            "linecolor": "#EBF0F8",
            "showbackground": true,
            "ticks": "",
            "zerolinecolor": "#EBF0F8"
           },
           "yaxis": {
            "backgroundcolor": "white",
            "gridcolor": "#DFE8F3",
            "gridwidth": 2,
            "linecolor": "#EBF0F8",
            "showbackground": true,
            "ticks": "",
            "zerolinecolor": "#EBF0F8"
           },
           "zaxis": {
            "backgroundcolor": "white",
            "gridcolor": "#DFE8F3",
            "gridwidth": 2,
            "linecolor": "#EBF0F8",
            "showbackground": true,
            "ticks": "",
            "zerolinecolor": "#EBF0F8"
           }
          },
          "shapedefaults": {
           "line": {
            "color": "#2a3f5f"
           }
          },
          "ternary": {
           "aaxis": {
            "gridcolor": "#DFE8F3",
            "linecolor": "#A2B1C6",
            "ticks": ""
           },
           "baxis": {
            "gridcolor": "#DFE8F3",
            "linecolor": "#A2B1C6",
            "ticks": ""
           },
           "bgcolor": "white",
           "caxis": {
            "gridcolor": "#DFE8F3",
            "linecolor": "#A2B1C6",
            "ticks": ""
           }
          },
          "title": {
           "x": 0.05
          },
          "xaxis": {
           "automargin": true,
           "gridcolor": "#EBF0F8",
           "linecolor": "#EBF0F8",
           "ticks": "",
           "title": {
            "standoff": 15
           },
           "zerolinecolor": "#EBF0F8",
           "zerolinewidth": 2
          },
          "yaxis": {
           "automargin": true,
           "gridcolor": "#EBF0F8",
           "linecolor": "#EBF0F8",
           "ticks": "",
           "title": {
            "standoff": 15
           },
           "zerolinecolor": "#EBF0F8",
           "zerolinewidth": 2
          }
         }
        },
        "title": {
         "font": {
          "color": "Black",
          "size": 22
         },
         "text": "Topic Word Scores",
         "x": 0.5,
         "xanchor": "center",
         "yanchor": "top"
        },
        "width": 1000,
        "xaxis": {
         "anchor": "y",
         "domain": [
          0,
          0.175
         ],
         "showgrid": true
        },
        "xaxis2": {
         "anchor": "y2",
         "domain": [
          0.275,
          0.45
         ],
         "showgrid": true
        },
        "xaxis3": {
         "anchor": "y3",
         "domain": [
          0.55,
          0.7250000000000001
         ],
         "showgrid": true
        },
        "xaxis4": {
         "anchor": "y4",
         "domain": [
          0.825,
          1
         ],
         "showgrid": true
        },
        "xaxis5": {
         "anchor": "y5",
         "domain": [
          0,
          0.175
         ],
         "showgrid": true
        },
        "xaxis6": {
         "anchor": "y6",
         "domain": [
          0.275,
          0.45
         ],
         "showgrid": true
        },
        "xaxis7": {
         "anchor": "y7",
         "domain": [
          0.55,
          0.7250000000000001
         ],
         "showgrid": true
        },
        "xaxis8": {
         "anchor": "y8",
         "domain": [
          0.825,
          1
         ],
         "showgrid": true
        },
        "yaxis": {
         "anchor": "x",
         "domain": [
          0.6000000000000001,
          1
         ],
         "showgrid": true
        },
        "yaxis2": {
         "anchor": "x2",
         "domain": [
          0.6000000000000001,
          1
         ],
         "showgrid": true
        },
        "yaxis3": {
         "anchor": "x3",
         "domain": [
          0.6000000000000001,
          1
         ],
         "showgrid": true
        },
        "yaxis4": {
         "anchor": "x4",
         "domain": [
          0.6000000000000001,
          1
         ],
         "showgrid": true
        },
        "yaxis5": {
         "anchor": "x5",
         "domain": [
          0,
          0.4
         ],
         "showgrid": true
        },
        "yaxis6": {
         "anchor": "x6",
         "domain": [
          0,
          0.4
         ],
         "showgrid": true
        },
        "yaxis7": {
         "anchor": "x7",
         "domain": [
          0,
          0.4
         ],
         "showgrid": true
        },
        "yaxis8": {
         "anchor": "x8",
         "domain": [
          0,
          0.4
         ],
         "showgrid": true
        }
       }
      }
     },
     "metadata": {},
     "output_type": "display_data"
    }
   ],
   "source": [
    "# Visualize the frequency of topics\n",
    "bert_topic_model.visualize_barchart()"
   ]
  },
  {
   "cell_type": "code",
   "execution_count": 47,
   "metadata": {},
   "outputs": [
    {
     "data": {
      "application/vnd.plotly.v1+json": {
       "config": {
        "plotlyServerURL": "https://plot.ly"
       },
       "data": [
        {
         "hoverinfo": "text",
         "marker": {
          "color": "rgb(61,153,112)"
         },
         "mode": "lines",
         "type": "scatter",
         "x": [
          0,
          0.05328829223429132,
          0.05328829223429132,
          0
         ],
         "xaxis": "x",
         "y": [
          -15,
          -15,
          -25,
          -25
         ],
         "yaxis": "y"
        },
        {
         "hoverinfo": "text",
         "marker": {
          "color": "rgb(61,153,112)"
         },
         "mode": "lines",
         "type": "scatter",
         "x": [
          0,
          0.05550932250648899,
          0.05550932250648899,
          0
         ],
         "xaxis": "x",
         "y": [
          -35,
          -35,
          -45,
          -45
         ],
         "yaxis": "y"
        },
        {
         "hoverinfo": "text",
         "marker": {
          "color": "rgb(61,153,112)"
         },
         "mode": "lines",
         "type": "scatter",
         "x": [
          0.05328829223429132,
          0.05618975195519875,
          0.05618975195519875,
          0.05550932250648899
         ],
         "xaxis": "x",
         "y": [
          -20,
          -20,
          -40,
          -40
         ],
         "yaxis": "y"
        },
        {
         "hoverinfo": "text",
         "marker": {
          "color": "rgb(61,153,112)"
         },
         "mode": "lines",
         "type": "scatter",
         "x": [
          0,
          0.06197623450331213,
          0.06197623450331213,
          0.05618975195519875
         ],
         "xaxis": "x",
         "y": [
          -5,
          -5,
          -30,
          -30
         ],
         "yaxis": "y"
        },
        {
         "hoverinfo": "text",
         "marker": {
          "color": "rgb(61,153,112)"
         },
         "mode": "lines",
         "type": "scatter",
         "x": [
          0,
          0.030003573738473843,
          0.030003573738473843,
          0
         ],
         "xaxis": "x",
         "y": [
          -65,
          -65,
          -75,
          -75
         ],
         "yaxis": "y"
        },
        {
         "hoverinfo": "text",
         "marker": {
          "color": "rgb(61,153,112)"
         },
         "mode": "lines",
         "type": "scatter",
         "x": [
          0,
          0.039401802209997276,
          0.039401802209997276,
          0.030003573738473843
         ],
         "xaxis": "x",
         "y": [
          -55,
          -55,
          -70,
          -70
         ],
         "yaxis": "y"
        },
        {
         "hoverinfo": "text",
         "marker": {
          "color": "rgb(61,153,112)"
         },
         "mode": "lines",
         "type": "scatter",
         "x": [
          0.06197623450331213,
          0.09550284107044361,
          0.09550284107044361,
          0.039401802209997276
         ],
         "xaxis": "x",
         "y": [
          -17.5,
          -17.5,
          -62.5,
          -62.5
         ],
         "yaxis": "y"
        },
        {
         "hoverinfo": "text",
         "marker": {
          "color": "rgb(255,65,54)"
         },
         "mode": "lines",
         "type": "scatter",
         "x": [
          0,
          0.32289728917487404,
          0.32289728917487404,
          0
         ],
         "xaxis": "x",
         "y": [
          -95,
          -95,
          -105,
          -105
         ],
         "yaxis": "y"
        },
        {
         "hoverinfo": "text",
         "marker": {
          "color": "rgb(255,65,54)"
         },
         "mode": "lines",
         "type": "scatter",
         "x": [
          0,
          0.7358869430625168,
          0.7358869430625168,
          0.32289728917487404
         ],
         "xaxis": "x",
         "y": [
          -85,
          -85,
          -100,
          -100
         ],
         "yaxis": "y"
        },
        {
         "hoverinfo": "text",
         "marker": {
          "color": "rgb(255,65,54)"
         },
         "mode": "lines",
         "type": "scatter",
         "x": [
          0,
          0.651323040858041,
          0.651323040858041,
          0
         ],
         "xaxis": "x",
         "y": [
          -115,
          -115,
          -125,
          -125
         ],
         "yaxis": "y"
        },
        {
         "hoverinfo": "text",
         "marker": {
          "color": "rgb(255,65,54)"
         },
         "mode": "lines",
         "type": "scatter",
         "x": [
          0.7358869430625168,
          0.9486236402079703,
          0.9486236402079703,
          0.651323040858041
         ],
         "xaxis": "x",
         "y": [
          -92.5,
          -92.5,
          -120,
          -120
         ],
         "yaxis": "y"
        },
        {
         "hoverinfo": "text",
         "marker": {
          "color": "rgb(35,205,205)"
         },
         "mode": "lines",
         "type": "scatter",
         "x": [
          0,
          0.3250486828094711,
          0.3250486828094711,
          0
         ],
         "xaxis": "x",
         "y": [
          -145,
          -145,
          -155,
          -155
         ],
         "yaxis": "y"
        },
        {
         "hoverinfo": "text",
         "marker": {
          "color": "rgb(35,205,205)"
         },
         "mode": "lines",
         "type": "scatter",
         "x": [
          0,
          0.2767555985279483,
          0.2767555985279483,
          0
         ],
         "xaxis": "x",
         "y": [
          -175,
          -175,
          -185,
          -185
         ],
         "yaxis": "y"
        },
        {
         "hoverinfo": "text",
         "marker": {
          "color": "rgb(35,205,205)"
         },
         "mode": "lines",
         "type": "scatter",
         "x": [
          0,
          0.3019326038617872,
          0.3019326038617872,
          0.2767555985279483
         ],
         "xaxis": "x",
         "y": [
          -165,
          -165,
          -180,
          -180
         ],
         "yaxis": "y"
        },
        {
         "hoverinfo": "text",
         "marker": {
          "color": "rgb(35,205,205)"
         },
         "mode": "lines",
         "type": "scatter",
         "x": [
          0.3019326038617872,
          0.39678358061571845,
          0.39678358061571845,
          0
         ],
         "xaxis": "x",
         "y": [
          -172.5,
          -172.5,
          -195,
          -195
         ],
         "yaxis": "y"
        },
        {
         "hoverinfo": "text",
         "marker": {
          "color": "rgb(35,205,205)"
         },
         "mode": "lines",
         "type": "scatter",
         "x": [
          0.3250486828094711,
          0.4901367409452611,
          0.4901367409452611,
          0.39678358061571845
         ],
         "xaxis": "x",
         "y": [
          -150,
          -150,
          -183.75,
          -183.75
         ],
         "yaxis": "y"
        },
        {
         "hoverinfo": "text",
         "marker": {
          "color": "rgb(35,205,205)"
         },
         "mode": "lines",
         "type": "scatter",
         "x": [
          0.4901367409452611,
          0.6010293235226324,
          0.6010293235226324,
          0
         ],
         "xaxis": "x",
         "y": [
          -166.875,
          -166.875,
          -205,
          -205
         ],
         "yaxis": "y"
        },
        {
         "hoverinfo": "text",
         "marker": {
          "color": "rgb(35,205,205)"
         },
         "mode": "lines",
         "type": "scatter",
         "x": [
          0,
          0.6780614677106952,
          0.6780614677106952,
          0.6010293235226324
         ],
         "xaxis": "x",
         "y": [
          -135,
          -135,
          -185.9375,
          -185.9375
         ],
         "yaxis": "y"
        },
        {
         "hoverinfo": "text",
         "marker": {
          "color": "rgb(133,20,75)"
         },
         "mode": "lines",
         "type": "scatter",
         "x": [
          0,
          0.5453826593350054,
          0.5453826593350054,
          0
         ],
         "xaxis": "x",
         "y": [
          -225,
          -225,
          -235,
          -235
         ],
         "yaxis": "y"
        },
        {
         "hoverinfo": "text",
         "marker": {
          "color": "rgb(133,20,75)"
         },
         "mode": "lines",
         "type": "scatter",
         "x": [
          0,
          0.6362175274316736,
          0.6362175274316736,
          0.5453826593350054
         ],
         "xaxis": "x",
         "y": [
          -215,
          -215,
          -230,
          -230
         ],
         "yaxis": "y"
        },
        {
         "hoverinfo": "text",
         "marker": {
          "color": "rgb(133,20,75)"
         },
         "mode": "lines",
         "type": "scatter",
         "x": [
          0.6362175274316736,
          0.828397774447073,
          0.828397774447073,
          0
         ],
         "xaxis": "x",
         "y": [
          -222.5,
          -222.5,
          -245,
          -245
         ],
         "yaxis": "y"
        },
        {
         "hoverinfo": "text",
         "marker": {
          "color": "rgb(0,116,217)"
         },
         "mode": "lines",
         "type": "scatter",
         "x": [
          0.6780614677106952,
          1.051209791865195,
          1.051209791865195,
          0.828397774447073
         ],
         "xaxis": "x",
         "y": [
          -160.46875,
          -160.46875,
          -233.75,
          -233.75
         ],
         "yaxis": "y"
        },
        {
         "hoverinfo": "text",
         "marker": {
          "color": "rgb(0,116,217)"
         },
         "mode": "lines",
         "type": "scatter",
         "x": [
          0.9486236402079703,
          1.107878570934509,
          1.107878570934509,
          1.051209791865195
         ],
         "xaxis": "x",
         "y": [
          -106.25,
          -106.25,
          -197.109375,
          -197.109375
         ],
         "yaxis": "y"
        },
        {
         "hoverinfo": "text",
         "marker": {
          "color": "rgb(255,220,0)"
         },
         "mode": "lines",
         "type": "scatter",
         "x": [
          0,
          0.21579002148316806,
          0.21579002148316806,
          0
         ],
         "xaxis": "x",
         "y": [
          -275,
          -275,
          -285,
          -285
         ],
         "yaxis": "y"
        },
        {
         "hoverinfo": "text",
         "marker": {
          "color": "rgb(255,220,0)"
         },
         "mode": "lines",
         "type": "scatter",
         "x": [
          0,
          0.368151534340493,
          0.368151534340493,
          0.21579002148316806
         ],
         "xaxis": "x",
         "y": [
          -265,
          -265,
          -280,
          -280
         ],
         "yaxis": "y"
        },
        {
         "hoverinfo": "text",
         "marker": {
          "color": "rgb(255,220,0)"
         },
         "mode": "lines",
         "type": "scatter",
         "x": [
          0.368151534340493,
          0.5657048748240874,
          0.5657048748240874,
          0
         ],
         "xaxis": "x",
         "y": [
          -272.5,
          -272.5,
          -295,
          -295
         ],
         "yaxis": "y"
        },
        {
         "hoverinfo": "text",
         "marker": {
          "color": "rgb(255,220,0)"
         },
         "mode": "lines",
         "type": "scatter",
         "x": [
          0,
          0.6974808659844957,
          0.6974808659844957,
          0.5657048748240874
         ],
         "xaxis": "x",
         "y": [
          -255,
          -255,
          -283.75,
          -283.75
         ],
         "yaxis": "y"
        },
        {
         "hoverinfo": "text",
         "marker": {
          "color": "rgb(255,220,0)"
         },
         "mode": "lines",
         "type": "scatter",
         "x": [
          0,
          0.696993509959143,
          0.696993509959143,
          0
         ],
         "xaxis": "x",
         "y": [
          -305,
          -305,
          -315,
          -315
         ],
         "yaxis": "y"
        },
        {
         "hoverinfo": "text",
         "marker": {
          "color": "rgb(255,220,0)"
         },
         "mode": "lines",
         "type": "scatter",
         "x": [
          0.6974808659844957,
          0.7745449490486763,
          0.7745449490486763,
          0.696993509959143
         ],
         "xaxis": "x",
         "y": [
          -269.375,
          -269.375,
          -310,
          -310
         ],
         "yaxis": "y"
        },
        {
         "hoverinfo": "text",
         "marker": {
          "color": "rgb(40,35,35)"
         },
         "mode": "lines",
         "type": "scatter",
         "x": [
          0,
          0.5936796223841323,
          0.5936796223841323,
          0
         ],
         "xaxis": "x",
         "y": [
          -325,
          -325,
          -335,
          -335
         ],
         "yaxis": "y"
        },
        {
         "hoverinfo": "text",
         "marker": {
          "color": "rgb(61,153,112)"
         },
         "mode": "lines",
         "type": "scatter",
         "x": [
          0,
          0.39480588280810824,
          0.39480588280810824,
          0
         ],
         "xaxis": "x",
         "y": [
          -355,
          -355,
          -365,
          -365
         ],
         "yaxis": "y"
        },
        {
         "hoverinfo": "text",
         "marker": {
          "color": "rgb(61,153,112)"
         },
         "mode": "lines",
         "type": "scatter",
         "x": [
          0.39480588280810824,
          0.4394060544029116,
          0.4394060544029116,
          0
         ],
         "xaxis": "x",
         "y": [
          -360,
          -360,
          -375,
          -375
         ],
         "yaxis": "y"
        },
        {
         "hoverinfo": "text",
         "marker": {
          "color": "rgb(61,153,112)"
         },
         "mode": "lines",
         "type": "scatter",
         "x": [
          0,
          0.588395409117411,
          0.588395409117411,
          0.4394060544029116
         ],
         "xaxis": "x",
         "y": [
          -345,
          -345,
          -367.5,
          -367.5
         ],
         "yaxis": "y"
        },
        {
         "hoverinfo": "text",
         "marker": {
          "color": "rgb(61,153,112)"
         },
         "mode": "lines",
         "type": "scatter",
         "x": [
          0,
          0.4298914362059564,
          0.4298914362059564,
          0
         ],
         "xaxis": "x",
         "y": [
          -385,
          -385,
          -395,
          -395
         ],
         "yaxis": "y"
        },
        {
         "hoverinfo": "text",
         "marker": {
          "color": "rgb(61,153,112)"
         },
         "mode": "lines",
         "type": "scatter",
         "x": [
          0.588395409117411,
          0.6289428880364092,
          0.6289428880364092,
          0.4298914362059564
         ],
         "xaxis": "x",
         "y": [
          -356.25,
          -356.25,
          -390,
          -390
         ],
         "yaxis": "y"
        },
        {
         "hoverinfo": "text",
         "marker": {
          "color": "rgb(61,153,112)"
         },
         "mode": "lines",
         "type": "scatter",
         "x": [
          0,
          0.3416717071475849,
          0.3416717071475849,
          0
         ],
         "xaxis": "x",
         "y": [
          -415,
          -415,
          -425,
          -425
         ],
         "yaxis": "y"
        },
        {
         "hoverinfo": "text",
         "marker": {
          "color": "rgb(61,153,112)"
         },
         "mode": "lines",
         "type": "scatter",
         "x": [
          0,
          0.5919242565858737,
          0.5919242565858737,
          0.3416717071475849
         ],
         "xaxis": "x",
         "y": [
          -405,
          -405,
          -420,
          -420
         ],
         "yaxis": "y"
        },
        {
         "hoverinfo": "text",
         "marker": {
          "color": "rgb(61,153,112)"
         },
         "mode": "lines",
         "type": "scatter",
         "x": [
          0,
          0.5150119621178371,
          0.5150119621178371,
          0
         ],
         "xaxis": "x",
         "y": [
          -435,
          -435,
          -445,
          -445
         ],
         "yaxis": "y"
        },
        {
         "hoverinfo": "text",
         "marker": {
          "color": "rgb(61,153,112)"
         },
         "mode": "lines",
         "type": "scatter",
         "x": [
          0.5150119621178371,
          0.6321106246827356,
          0.6321106246827356,
          0
         ],
         "xaxis": "x",
         "y": [
          -440,
          -440,
          -455,
          -455
         ],
         "yaxis": "y"
        },
        {
         "hoverinfo": "text",
         "marker": {
          "color": "rgb(61,153,112)"
         },
         "mode": "lines",
         "type": "scatter",
         "x": [
          0.5919242565858737,
          0.6731632901347364,
          0.6731632901347364,
          0.6321106246827356
         ],
         "xaxis": "x",
         "y": [
          -412.5,
          -412.5,
          -447.5,
          -447.5
         ],
         "yaxis": "y"
        },
        {
         "hoverinfo": "text",
         "marker": {
          "color": "rgb(61,153,112)"
         },
         "mode": "lines",
         "type": "scatter",
         "x": [
          0.6289428880364092,
          0.9353564163347673,
          0.9353564163347673,
          0.6731632901347364
         ],
         "xaxis": "x",
         "y": [
          -373.125,
          -373.125,
          -430,
          -430
         ],
         "yaxis": "y"
        },
        {
         "hoverinfo": "text",
         "marker": {
          "color": "rgb(0,116,217)"
         },
         "mode": "lines",
         "type": "scatter",
         "x": [
          0.5936796223841323,
          1.0350229335987073,
          1.0350229335987073,
          0.9353564163347673
         ],
         "xaxis": "x",
         "y": [
          -330,
          -330,
          -401.5625,
          -401.5625
         ],
         "yaxis": "y"
        },
        {
         "hoverinfo": "text",
         "marker": {
          "color": "rgb(255,65,54)"
         },
         "mode": "lines",
         "type": "scatter",
         "x": [
          0,
          0.5306439891671004,
          0.5306439891671004,
          0
         ],
         "xaxis": "x",
         "y": [
          -465,
          -465,
          -475,
          -475
         ],
         "yaxis": "y"
        },
        {
         "hoverinfo": "text",
         "marker": {
          "color": "rgb(255,65,54)"
         },
         "mode": "lines",
         "type": "scatter",
         "x": [
          0,
          0.37229608235349854,
          0.37229608235349854,
          0
         ],
         "xaxis": "x",
         "y": [
          -485,
          -485,
          -495,
          -495
         ],
         "yaxis": "y"
        },
        {
         "hoverinfo": "text",
         "marker": {
          "color": "rgb(255,65,54)"
         },
         "mode": "lines",
         "type": "scatter",
         "x": [
          0.37229608235349854,
          0.5367256733334244,
          0.5367256733334244,
          0
         ],
         "xaxis": "x",
         "y": [
          -490,
          -490,
          -505,
          -505
         ],
         "yaxis": "y"
        },
        {
         "hoverinfo": "text",
         "marker": {
          "color": "rgb(255,65,54)"
         },
         "mode": "lines",
         "type": "scatter",
         "x": [
          0.5306439891671004,
          0.756306194203281,
          0.756306194203281,
          0.5367256733334244
         ],
         "xaxis": "x",
         "y": [
          -470,
          -470,
          -497.5,
          -497.5
         ],
         "yaxis": "y"
        },
        {
         "hoverinfo": "text",
         "marker": {
          "color": "rgb(255,65,54)"
         },
         "mode": "lines",
         "type": "scatter",
         "x": [
          0,
          0.5613208739682365,
          0.5613208739682365,
          0
         ],
         "xaxis": "x",
         "y": [
          -515,
          -515,
          -525,
          -525
         ],
         "yaxis": "y"
        },
        {
         "hoverinfo": "text",
         "marker": {
          "color": "rgb(255,65,54)"
         },
         "mode": "lines",
         "type": "scatter",
         "x": [
          0,
          0.4066209517991559,
          0.4066209517991559,
          0
         ],
         "xaxis": "x",
         "y": [
          -535,
          -535,
          -545,
          -545
         ],
         "yaxis": "y"
        },
        {
         "hoverinfo": "text",
         "marker": {
          "color": "rgb(255,65,54)"
         },
         "mode": "lines",
         "type": "scatter",
         "x": [
          0,
          0.3916116186360268,
          0.3916116186360268,
          0
         ],
         "xaxis": "x",
         "y": [
          -555,
          -555,
          -565,
          -565
         ],
         "yaxis": "y"
        },
        {
         "hoverinfo": "text",
         "marker": {
          "color": "rgb(255,65,54)"
         },
         "mode": "lines",
         "type": "scatter",
         "x": [
          0.4066209517991559,
          0.6393345454550247,
          0.6393345454550247,
          0.3916116186360268
         ],
         "xaxis": "x",
         "y": [
          -540,
          -540,
          -560,
          -560
         ],
         "yaxis": "y"
        },
        {
         "hoverinfo": "text",
         "marker": {
          "color": "rgb(255,65,54)"
         },
         "mode": "lines",
         "type": "scatter",
         "x": [
          0,
          0.23648939899968224,
          0.23648939899968224,
          0
         ],
         "xaxis": "x",
         "y": [
          -585,
          -585,
          -595,
          -595
         ],
         "yaxis": "y"
        },
        {
         "hoverinfo": "text",
         "marker": {
          "color": "rgb(255,65,54)"
         },
         "mode": "lines",
         "type": "scatter",
         "x": [
          0,
          0.4772658980181399,
          0.4772658980181399,
          0.23648939899968224
         ],
         "xaxis": "x",
         "y": [
          -575,
          -575,
          -590,
          -590
         ],
         "yaxis": "y"
        },
        {
         "hoverinfo": "text",
         "marker": {
          "color": "rgb(255,65,54)"
         },
         "mode": "lines",
         "type": "scatter",
         "x": [
          0.4772658980181399,
          0.6291409428263276,
          0.6291409428263276,
          0
         ],
         "xaxis": "x",
         "y": [
          -582.5,
          -582.5,
          -605,
          -605
         ],
         "yaxis": "y"
        },
        {
         "hoverinfo": "text",
         "marker": {
          "color": "rgb(255,65,54)"
         },
         "mode": "lines",
         "type": "scatter",
         "x": [
          0.6393345454550247,
          0.784506771545213,
          0.784506771545213,
          0.6291409428263276
         ],
         "xaxis": "x",
         "y": [
          -550,
          -550,
          -593.75,
          -593.75
         ],
         "yaxis": "y"
        },
        {
         "hoverinfo": "text",
         "marker": {
          "color": "rgb(255,65,54)"
         },
         "mode": "lines",
         "type": "scatter",
         "x": [
          0.5613208739682365,
          0.9048999349869624,
          0.9048999349869624,
          0.784506771545213
         ],
         "xaxis": "x",
         "y": [
          -520,
          -520,
          -571.875,
          -571.875
         ],
         "yaxis": "y"
        },
        {
         "hoverinfo": "text",
         "marker": {
          "color": "rgb(255,65,54)"
         },
         "mode": "lines",
         "type": "scatter",
         "x": [
          0.756306194203281,
          0.9887710721079153,
          0.9887710721079153,
          0.9048999349869624
         ],
         "xaxis": "x",
         "y": [
          -483.75,
          -483.75,
          -545.9375,
          -545.9375
         ],
         "yaxis": "y"
        },
        {
         "hoverinfo": "text",
         "marker": {
          "color": "rgb(0,116,217)"
         },
         "mode": "lines",
         "type": "scatter",
         "x": [
          1.0350229335987073,
          1.1494938978223381,
          1.1494938978223381,
          0.9887710721079153
         ],
         "xaxis": "x",
         "y": [
          -365.78125,
          -365.78125,
          -514.84375,
          -514.84375
         ],
         "yaxis": "y"
        },
        {
         "hoverinfo": "text",
         "marker": {
          "color": "rgb(35,205,205)"
         },
         "mode": "lines",
         "type": "scatter",
         "x": [
          0,
          0.20177034115197512,
          0.20177034115197512,
          0
         ],
         "xaxis": "x",
         "y": [
          -615,
          -615,
          -625,
          -625
         ],
         "yaxis": "y"
        },
        {
         "hoverinfo": "text",
         "marker": {
          "color": "rgb(35,205,205)"
         },
         "mode": "lines",
         "type": "scatter",
         "x": [
          0.20177034115197512,
          0.5137442515880557,
          0.5137442515880557,
          0
         ],
         "xaxis": "x",
         "y": [
          -620,
          -620,
          -635,
          -635
         ],
         "yaxis": "y"
        },
        {
         "hoverinfo": "text",
         "marker": {
          "color": "rgb(0,116,217)"
         },
         "mode": "lines",
         "type": "scatter",
         "x": [
          1.1494938978223381,
          1.2927554698827664,
          1.2927554698827664,
          0.5137442515880557
         ],
         "xaxis": "x",
         "y": [
          -440.3125,
          -440.3125,
          -627.5,
          -627.5
         ],
         "yaxis": "y"
        },
        {
         "hoverinfo": "text",
         "marker": {
          "color": "rgb(0,116,217)"
         },
         "mode": "lines",
         "type": "scatter",
         "x": [
          0.7745449490486763,
          1.3673443075377343,
          1.3673443075377343,
          1.2927554698827664
         ],
         "xaxis": "x",
         "y": [
          -289.6875,
          -289.6875,
          -533.90625,
          -533.90625
         ],
         "yaxis": "y"
        },
        {
         "hoverinfo": "text",
         "marker": {
          "color": "rgb(0,116,217)"
         },
         "mode": "lines",
         "type": "scatter",
         "x": [
          1.107878570934509,
          1.910476376681541,
          1.910476376681541,
          1.3673443075377343
         ],
         "xaxis": "x",
         "y": [
          -151.6796875,
          -151.6796875,
          -411.796875,
          -411.796875
         ],
         "yaxis": "y"
        },
        {
         "hoverinfo": "text",
         "marker": {
          "color": "rgb(0,116,217)"
         },
         "mode": "lines",
         "type": "scatter",
         "x": [
          0.09550284107044361,
          2.8147315595266877,
          2.8147315595266877,
          1.910476376681541
         ],
         "xaxis": "x",
         "y": [
          -40,
          -40,
          -281.73828125,
          -281.73828125
         ],
         "yaxis": "y"
        }
       ],
       "layout": {
        "autosize": false,
        "height": 1160,
        "hoverlabel": {
         "bgcolor": "white",
         "font": {
          "family": "Rockwell",
          "size": 16
         }
        },
        "hovermode": "closest",
        "plot_bgcolor": "#ECEFF1",
        "showlegend": false,
        "template": {
         "data": {
          "bar": [
           {
            "error_x": {
             "color": "#2a3f5f"
            },
            "error_y": {
             "color": "#2a3f5f"
            },
            "marker": {
             "line": {
              "color": "white",
              "width": 0.5
             },
             "pattern": {
              "fillmode": "overlay",
              "size": 10,
              "solidity": 0.2
             }
            },
            "type": "bar"
           }
          ],
          "barpolar": [
           {
            "marker": {
             "line": {
              "color": "white",
              "width": 0.5
             },
             "pattern": {
              "fillmode": "overlay",
              "size": 10,
              "solidity": 0.2
             }
            },
            "type": "barpolar"
           }
          ],
          "carpet": [
           {
            "aaxis": {
             "endlinecolor": "#2a3f5f",
             "gridcolor": "#C8D4E3",
             "linecolor": "#C8D4E3",
             "minorgridcolor": "#C8D4E3",
             "startlinecolor": "#2a3f5f"
            },
            "baxis": {
             "endlinecolor": "#2a3f5f",
             "gridcolor": "#C8D4E3",
             "linecolor": "#C8D4E3",
             "minorgridcolor": "#C8D4E3",
             "startlinecolor": "#2a3f5f"
            },
            "type": "carpet"
           }
          ],
          "choropleth": [
           {
            "colorbar": {
             "outlinewidth": 0,
             "ticks": ""
            },
            "type": "choropleth"
           }
          ],
          "contour": [
           {
            "colorbar": {
             "outlinewidth": 0,
             "ticks": ""
            },
            "colorscale": [
             [
              0,
              "#0d0887"
             ],
             [
              0.1111111111111111,
              "#46039f"
             ],
             [
              0.2222222222222222,
              "#7201a8"
             ],
             [
              0.3333333333333333,
              "#9c179e"
             ],
             [
              0.4444444444444444,
              "#bd3786"
             ],
             [
              0.5555555555555556,
              "#d8576b"
             ],
             [
              0.6666666666666666,
              "#ed7953"
             ],
             [
              0.7777777777777778,
              "#fb9f3a"
             ],
             [
              0.8888888888888888,
              "#fdca26"
             ],
             [
              1,
              "#f0f921"
             ]
            ],
            "type": "contour"
           }
          ],
          "contourcarpet": [
           {
            "colorbar": {
             "outlinewidth": 0,
             "ticks": ""
            },
            "type": "contourcarpet"
           }
          ],
          "heatmap": [
           {
            "colorbar": {
             "outlinewidth": 0,
             "ticks": ""
            },
            "colorscale": [
             [
              0,
              "#0d0887"
             ],
             [
              0.1111111111111111,
              "#46039f"
             ],
             [
              0.2222222222222222,
              "#7201a8"
             ],
             [
              0.3333333333333333,
              "#9c179e"
             ],
             [
              0.4444444444444444,
              "#bd3786"
             ],
             [
              0.5555555555555556,
              "#d8576b"
             ],
             [
              0.6666666666666666,
              "#ed7953"
             ],
             [
              0.7777777777777778,
              "#fb9f3a"
             ],
             [
              0.8888888888888888,
              "#fdca26"
             ],
             [
              1,
              "#f0f921"
             ]
            ],
            "type": "heatmap"
           }
          ],
          "heatmapgl": [
           {
            "colorbar": {
             "outlinewidth": 0,
             "ticks": ""
            },
            "colorscale": [
             [
              0,
              "#0d0887"
             ],
             [
              0.1111111111111111,
              "#46039f"
             ],
             [
              0.2222222222222222,
              "#7201a8"
             ],
             [
              0.3333333333333333,
              "#9c179e"
             ],
             [
              0.4444444444444444,
              "#bd3786"
             ],
             [
              0.5555555555555556,
              "#d8576b"
             ],
             [
              0.6666666666666666,
              "#ed7953"
             ],
             [
              0.7777777777777778,
              "#fb9f3a"
             ],
             [
              0.8888888888888888,
              "#fdca26"
             ],
             [
              1,
              "#f0f921"
             ]
            ],
            "type": "heatmapgl"
           }
          ],
          "histogram": [
           {
            "marker": {
             "pattern": {
              "fillmode": "overlay",
              "size": 10,
              "solidity": 0.2
             }
            },
            "type": "histogram"
           }
          ],
          "histogram2d": [
           {
            "colorbar": {
             "outlinewidth": 0,
             "ticks": ""
            },
            "colorscale": [
             [
              0,
              "#0d0887"
             ],
             [
              0.1111111111111111,
              "#46039f"
             ],
             [
              0.2222222222222222,
              "#7201a8"
             ],
             [
              0.3333333333333333,
              "#9c179e"
             ],
             [
              0.4444444444444444,
              "#bd3786"
             ],
             [
              0.5555555555555556,
              "#d8576b"
             ],
             [
              0.6666666666666666,
              "#ed7953"
             ],
             [
              0.7777777777777778,
              "#fb9f3a"
             ],
             [
              0.8888888888888888,
              "#fdca26"
             ],
             [
              1,
              "#f0f921"
             ]
            ],
            "type": "histogram2d"
           }
          ],
          "histogram2dcontour": [
           {
            "colorbar": {
             "outlinewidth": 0,
             "ticks": ""
            },
            "colorscale": [
             [
              0,
              "#0d0887"
             ],
             [
              0.1111111111111111,
              "#46039f"
             ],
             [
              0.2222222222222222,
              "#7201a8"
             ],
             [
              0.3333333333333333,
              "#9c179e"
             ],
             [
              0.4444444444444444,
              "#bd3786"
             ],
             [
              0.5555555555555556,
              "#d8576b"
             ],
             [
              0.6666666666666666,
              "#ed7953"
             ],
             [
              0.7777777777777778,
              "#fb9f3a"
             ],
             [
              0.8888888888888888,
              "#fdca26"
             ],
             [
              1,
              "#f0f921"
             ]
            ],
            "type": "histogram2dcontour"
           }
          ],
          "mesh3d": [
           {
            "colorbar": {
             "outlinewidth": 0,
             "ticks": ""
            },
            "type": "mesh3d"
           }
          ],
          "parcoords": [
           {
            "line": {
             "colorbar": {
              "outlinewidth": 0,
              "ticks": ""
             }
            },
            "type": "parcoords"
           }
          ],
          "pie": [
           {
            "automargin": true,
            "type": "pie"
           }
          ],
          "scatter": [
           {
            "fillpattern": {
             "fillmode": "overlay",
             "size": 10,
             "solidity": 0.2
            },
            "type": "scatter"
           }
          ],
          "scatter3d": [
           {
            "line": {
             "colorbar": {
              "outlinewidth": 0,
              "ticks": ""
             }
            },
            "marker": {
             "colorbar": {
              "outlinewidth": 0,
              "ticks": ""
             }
            },
            "type": "scatter3d"
           }
          ],
          "scattercarpet": [
           {
            "marker": {
             "colorbar": {
              "outlinewidth": 0,
              "ticks": ""
             }
            },
            "type": "scattercarpet"
           }
          ],
          "scattergeo": [
           {
            "marker": {
             "colorbar": {
              "outlinewidth": 0,
              "ticks": ""
             }
            },
            "type": "scattergeo"
           }
          ],
          "scattergl": [
           {
            "marker": {
             "colorbar": {
              "outlinewidth": 0,
              "ticks": ""
             }
            },
            "type": "scattergl"
           }
          ],
          "scattermapbox": [
           {
            "marker": {
             "colorbar": {
              "outlinewidth": 0,
              "ticks": ""
             }
            },
            "type": "scattermapbox"
           }
          ],
          "scatterpolar": [
           {
            "marker": {
             "colorbar": {
              "outlinewidth": 0,
              "ticks": ""
             }
            },
            "type": "scatterpolar"
           }
          ],
          "scatterpolargl": [
           {
            "marker": {
             "colorbar": {
              "outlinewidth": 0,
              "ticks": ""
             }
            },
            "type": "scatterpolargl"
           }
          ],
          "scatterternary": [
           {
            "marker": {
             "colorbar": {
              "outlinewidth": 0,
              "ticks": ""
             }
            },
            "type": "scatterternary"
           }
          ],
          "surface": [
           {
            "colorbar": {
             "outlinewidth": 0,
             "ticks": ""
            },
            "colorscale": [
             [
              0,
              "#0d0887"
             ],
             [
              0.1111111111111111,
              "#46039f"
             ],
             [
              0.2222222222222222,
              "#7201a8"
             ],
             [
              0.3333333333333333,
              "#9c179e"
             ],
             [
              0.4444444444444444,
              "#bd3786"
             ],
             [
              0.5555555555555556,
              "#d8576b"
             ],
             [
              0.6666666666666666,
              "#ed7953"
             ],
             [
              0.7777777777777778,
              "#fb9f3a"
             ],
             [
              0.8888888888888888,
              "#fdca26"
             ],
             [
              1,
              "#f0f921"
             ]
            ],
            "type": "surface"
           }
          ],
          "table": [
           {
            "cells": {
             "fill": {
              "color": "#EBF0F8"
             },
             "line": {
              "color": "white"
             }
            },
            "header": {
             "fill": {
              "color": "#C8D4E3"
             },
             "line": {
              "color": "white"
             }
            },
            "type": "table"
           }
          ]
         },
         "layout": {
          "annotationdefaults": {
           "arrowcolor": "#2a3f5f",
           "arrowhead": 0,
           "arrowwidth": 1
          },
          "autotypenumbers": "strict",
          "coloraxis": {
           "colorbar": {
            "outlinewidth": 0,
            "ticks": ""
           }
          },
          "colorscale": {
           "diverging": [
            [
             0,
             "#8e0152"
            ],
            [
             0.1,
             "#c51b7d"
            ],
            [
             0.2,
             "#de77ae"
            ],
            [
             0.3,
             "#f1b6da"
            ],
            [
             0.4,
             "#fde0ef"
            ],
            [
             0.5,
             "#f7f7f7"
            ],
            [
             0.6,
             "#e6f5d0"
            ],
            [
             0.7,
             "#b8e186"
            ],
            [
             0.8,
             "#7fbc41"
            ],
            [
             0.9,
             "#4d9221"
            ],
            [
             1,
             "#276419"
            ]
           ],
           "sequential": [
            [
             0,
             "#0d0887"
            ],
            [
             0.1111111111111111,
             "#46039f"
            ],
            [
             0.2222222222222222,
             "#7201a8"
            ],
            [
             0.3333333333333333,
             "#9c179e"
            ],
            [
             0.4444444444444444,
             "#bd3786"
            ],
            [
             0.5555555555555556,
             "#d8576b"
            ],
            [
             0.6666666666666666,
             "#ed7953"
            ],
            [
             0.7777777777777778,
             "#fb9f3a"
            ],
            [
             0.8888888888888888,
             "#fdca26"
            ],
            [
             1,
             "#f0f921"
            ]
           ],
           "sequentialminus": [
            [
             0,
             "#0d0887"
            ],
            [
             0.1111111111111111,
             "#46039f"
            ],
            [
             0.2222222222222222,
             "#7201a8"
            ],
            [
             0.3333333333333333,
             "#9c179e"
            ],
            [
             0.4444444444444444,
             "#bd3786"
            ],
            [
             0.5555555555555556,
             "#d8576b"
            ],
            [
             0.6666666666666666,
             "#ed7953"
            ],
            [
             0.7777777777777778,
             "#fb9f3a"
            ],
            [
             0.8888888888888888,
             "#fdca26"
            ],
            [
             1,
             "#f0f921"
            ]
           ]
          },
          "colorway": [
           "#636efa",
           "#EF553B",
           "#00cc96",
           "#ab63fa",
           "#FFA15A",
           "#19d3f3",
           "#FF6692",
           "#B6E880",
           "#FF97FF",
           "#FECB52"
          ],
          "font": {
           "color": "#2a3f5f"
          },
          "geo": {
           "bgcolor": "white",
           "lakecolor": "white",
           "landcolor": "white",
           "showlakes": true,
           "showland": true,
           "subunitcolor": "#C8D4E3"
          },
          "hoverlabel": {
           "align": "left"
          },
          "hovermode": "closest",
          "mapbox": {
           "style": "light"
          },
          "paper_bgcolor": "white",
          "plot_bgcolor": "white",
          "polar": {
           "angularaxis": {
            "gridcolor": "#EBF0F8",
            "linecolor": "#EBF0F8",
            "ticks": ""
           },
           "bgcolor": "white",
           "radialaxis": {
            "gridcolor": "#EBF0F8",
            "linecolor": "#EBF0F8",
            "ticks": ""
           }
          },
          "scene": {
           "xaxis": {
            "backgroundcolor": "white",
            "gridcolor": "#DFE8F3",
            "gridwidth": 2,
            "linecolor": "#EBF0F8",
            "showbackground": true,
            "ticks": "",
            "zerolinecolor": "#EBF0F8"
           },
           "yaxis": {
            "backgroundcolor": "white",
            "gridcolor": "#DFE8F3",
            "gridwidth": 2,
            "linecolor": "#EBF0F8",
            "showbackground": true,
            "ticks": "",
            "zerolinecolor": "#EBF0F8"
           },
           "zaxis": {
            "backgroundcolor": "white",
            "gridcolor": "#DFE8F3",
            "gridwidth": 2,
            "linecolor": "#EBF0F8",
            "showbackground": true,
            "ticks": "",
            "zerolinecolor": "#EBF0F8"
           }
          },
          "shapedefaults": {
           "line": {
            "color": "#2a3f5f"
           }
          },
          "ternary": {
           "aaxis": {
            "gridcolor": "#DFE8F3",
            "linecolor": "#A2B1C6",
            "ticks": ""
           },
           "baxis": {
            "gridcolor": "#DFE8F3",
            "linecolor": "#A2B1C6",
            "ticks": ""
           },
           "bgcolor": "white",
           "caxis": {
            "gridcolor": "#DFE8F3",
            "linecolor": "#A2B1C6",
            "ticks": ""
           }
          },
          "title": {
           "x": 0.05
          },
          "xaxis": {
           "automargin": true,
           "gridcolor": "#EBF0F8",
           "linecolor": "#EBF0F8",
           "ticks": "",
           "title": {
            "standoff": 15
           },
           "zerolinecolor": "#EBF0F8",
           "zerolinewidth": 2
          },
          "yaxis": {
           "automargin": true,
           "gridcolor": "#EBF0F8",
           "linecolor": "#EBF0F8",
           "ticks": "",
           "title": {
            "standoff": 15
           },
           "zerolinecolor": "#EBF0F8",
           "zerolinewidth": 2
          }
         }
        },
        "title": {
         "font": {
          "color": "Black",
          "size": 22
         },
         "text": "<b>Hierarchical Clustering</b>",
         "x": 0.5,
         "xanchor": "center",
         "yanchor": "top"
        },
        "width": 1000,
        "xaxis": {
         "mirror": "allticks",
         "rangemode": "tozero",
         "showgrid": false,
         "showline": true,
         "showticklabels": true,
         "ticks": "outside",
         "type": "linear",
         "zeroline": false
        },
        "yaxis": {
         "mirror": "allticks",
         "range": [
          -640,
          0
         ],
         "rangemode": "tozero",
         "showgrid": false,
         "showline": true,
         "showticklabels": true,
         "tickmode": "array",
         "ticks": "outside",
         "ticktext": [
          "42_traded_seven_gmt",
          "56_traded_seven_gmt",
          "41_traded_seven_gmt",
          "46_traded_seven_gmt",
          "59_traded_seven_gmt",
          "36_traded_seven_gmt",
          "32_traded_seven_gmt",
          "21_traded_seven_gmt",
          "31_at40_t2108_50dma",
          "12_resistance_roku_towards",
          "48_resistance_around_stock",
          "29_inc_nyse_corporation",
          "7_performer_close_inc",
          "45_percent_index_reuters",
          "25_lunch_earnings_result",
          "47_might_week_spx",
          "11_percent_yield_dollar",
          "15_trade_china_tariff",
          "6_nyse_dow_percent",
          "22_oil_crude_price",
          "28_scenario_oil_target",
          "63_nasdaq_parent_midday",
          "43_stock_nasdaq_nyse",
          "23_future_point_et",
          "51_eps_revenue_com",
          "61_cadence_design_verificat...",
          "40_gaap_year_quarter",
          "0_million_quarter_revenue",
          "35_million_quarter_revenue",
          "52_storage_pure_quarter",
          "57_western_digital_sandisk",
          "53_mellanox_ethernet_switch",
          "39_bitcoin_currency_cryptoc...",
          "60_blockchain_etf_fund",
          "44_illumina_missed_earnings",
          "20_trader_week_portfolio",
          "10_tracey_stock_podcast",
          "8_fund_etf_tech",
          "3_analyst_zacks_research",
          "14_earnings_growth_estimate",
          "34_etf_earnings_semiconductor",
          "33_semiconductor_china_chip",
          "18_china_tariff_trade",
          "62_tsmc_samsung_chip",
          "49_semiconductor_tsmc_5g",
          "26_micron_mu_dram",
          "37_qualcomm_patent_commission",
          "50_qualcomm_chip_intel",
          "9_apple_iphone_google",
          "58_microsoft_apple_google",
          "30_facebook_user_ad",
          "19_game_gaming_stadium",
          "38_ray_rtx_tracing",
          "54_ai_robotics_ml",
          "16_nvidia_ai_gpus",
          "17_intel_ai_chip",
          "24_intel_swan_cpu",
          "1_amd_graphic_radeon",
          "5_nvidia_nvda_gaming",
          "27_nvidia_revenue_gaming",
          "4_nvidia_target_rating",
          "2_vehicle_driving_car",
          "13_driving_car_self",
          "55_baidu_apollo_driving"
         ],
         "tickvals": [
          -5,
          -15,
          -25,
          -35,
          -45,
          -55,
          -65,
          -75,
          -85,
          -95,
          -105,
          -115,
          -125,
          -135,
          -145,
          -155,
          -165,
          -175,
          -185,
          -195,
          -205,
          -215,
          -225,
          -235,
          -245,
          -255,
          -265,
          -275,
          -285,
          -295,
          -305,
          -315,
          -325,
          -335,
          -345,
          -355,
          -365,
          -375,
          -385,
          -395,
          -405,
          -415,
          -425,
          -435,
          -445,
          -455,
          -465,
          -475,
          -485,
          -495,
          -505,
          -515,
          -525,
          -535,
          -545,
          -555,
          -565,
          -575,
          -585,
          -595,
          -605,
          -615,
          -625,
          -635
         ],
         "type": "linear",
         "zeroline": false
        }
       }
      }
     },
     "metadata": {},
     "output_type": "display_data"
    }
   ],
   "source": [
    "# Visualize topics using a hierarchical structure\n",
    "bert_topic_model.visualize_hierarchy()"
   ]
  },
  {
   "cell_type": "code",
   "execution_count": 48,
   "metadata": {},
   "outputs": [
    {
     "data": {
      "application/vnd.plotly.v1+json": {
       "config": {
        "plotlyServerURL": "https://plot.ly"
       },
       "data": [
        {
         "coloraxis": "coloraxis",
         "hovertemplate": "x: %{x}<br>y: %{y}<br>Similarity Score: %{z}<extra></extra>",
         "name": "0",
         "type": "heatmap",
         "x": [
          "0_million_quarter_revenue",
          "1_amd_graphic_radeon",
          "2_vehicle_driving_car",
          "3_analyst_zacks_research",
          "4_nvidia_target_rating",
          "5_nvidia_nvda_gaming",
          "6_nyse_dow_percent",
          "7_performer_close_inc",
          "8_fund_etf_tech",
          "9_apple_iphone_google",
          "10_tracey_stock_podcast",
          "11_percent_yield_dollar",
          "12_resistance_roku_towards",
          "13_driving_car_self",
          "14_earnings_growth_estimate",
          "15_trade_china_tariff",
          "16_nvidia_ai_gpus",
          "17_intel_ai_chip",
          "18_china_tariff_trade",
          "19_game_gaming_stadium",
          "20_trader_week_portfolio",
          "21_traded_seven_gmt",
          "22_oil_crude_price",
          "23_future_point_et",
          "24_intel_swan_cpu",
          "25_lunch_earnings_result",
          "26_micron_mu_dram",
          "27_nvidia_revenue_gaming",
          "28_scenario_oil_target",
          "29_inc_nyse_corporation",
          "30_facebook_user_ad",
          "31_at40_t2108_50dma",
          "32_traded_seven_gmt",
          "33_semiconductor_china_chip",
          "34_etf_earnings_semiconductor",
          "35_million_quarter_revenue",
          "36_traded_seven_gmt",
          "37_qualcomm_patent_commission",
          "38_ray_rtx_tracing",
          "39_bitcoin_currency_cryptoc...",
          "40_gaap_year_quarter",
          "41_traded_seven_gmt",
          "42_traded_seven_gmt",
          "43_stock_nasdaq_nyse",
          "44_illumina_missed_earnings",
          "45_percent_index_reuters",
          "46_traded_seven_gmt",
          "47_might_week_spx",
          "48_resistance_around_stock",
          "49_semiconductor_tsmc_5g",
          "50_qualcomm_chip_intel",
          "51_eps_revenue_com",
          "52_storage_pure_quarter",
          "53_mellanox_ethernet_switch",
          "54_ai_robotics_ml",
          "55_baidu_apollo_driving",
          "56_traded_seven_gmt",
          "57_western_digital_sandisk",
          "58_microsoft_apple_google",
          "59_traded_seven_gmt",
          "60_blockchain_etf_fund",
          "61_cadence_design_verificat...",
          "62_tsmc_samsung_chip",
          "63_nasdaq_parent_midday"
         ],
         "xaxis": "x",
         "y": [
          "0_million_quarter_revenue",
          "1_amd_graphic_radeon",
          "2_vehicle_driving_car",
          "3_analyst_zacks_research",
          "4_nvidia_target_rating",
          "5_nvidia_nvda_gaming",
          "6_nyse_dow_percent",
          "7_performer_close_inc",
          "8_fund_etf_tech",
          "9_apple_iphone_google",
          "10_tracey_stock_podcast",
          "11_percent_yield_dollar",
          "12_resistance_roku_towards",
          "13_driving_car_self",
          "14_earnings_growth_estimate",
          "15_trade_china_tariff",
          "16_nvidia_ai_gpus",
          "17_intel_ai_chip",
          "18_china_tariff_trade",
          "19_game_gaming_stadium",
          "20_trader_week_portfolio",
          "21_traded_seven_gmt",
          "22_oil_crude_price",
          "23_future_point_et",
          "24_intel_swan_cpu",
          "25_lunch_earnings_result",
          "26_micron_mu_dram",
          "27_nvidia_revenue_gaming",
          "28_scenario_oil_target",
          "29_inc_nyse_corporation",
          "30_facebook_user_ad",
          "31_at40_t2108_50dma",
          "32_traded_seven_gmt",
          "33_semiconductor_china_chip",
          "34_etf_earnings_semiconductor",
          "35_million_quarter_revenue",
          "36_traded_seven_gmt",
          "37_qualcomm_patent_commission",
          "38_ray_rtx_tracing",
          "39_bitcoin_currency_cryptoc...",
          "40_gaap_year_quarter",
          "41_traded_seven_gmt",
          "42_traded_seven_gmt",
          "43_stock_nasdaq_nyse",
          "44_illumina_missed_earnings",
          "45_percent_index_reuters",
          "46_traded_seven_gmt",
          "47_might_week_spx",
          "48_resistance_around_stock",
          "49_semiconductor_tsmc_5g",
          "50_qualcomm_chip_intel",
          "51_eps_revenue_com",
          "52_storage_pure_quarter",
          "53_mellanox_ethernet_switch",
          "54_ai_robotics_ml",
          "55_baidu_apollo_driving",
          "56_traded_seven_gmt",
          "57_western_digital_sandisk",
          "58_microsoft_apple_google",
          "59_traded_seven_gmt",
          "60_blockchain_etf_fund",
          "61_cadence_design_verificat...",
          "62_tsmc_samsung_chip",
          "63_nasdaq_parent_midday"
         ],
         "yaxis": "y",
         "z": [
          [
           1.0000001192092896,
           0.6229293346405029,
           0.6069259643554688,
           0.8430531024932861,
           0.5826919078826904,
           0.6542558670043945,
           0.7167617678642273,
           0.7254043817520142,
           0.8231299519538879,
           0.7819274663925171,
           0.6923124194145203,
           0.591688871383667,
           0.6655908226966858,
           0.5199311971664429,
           0.830170750617981,
           0.5938257575035095,
           0.5941098928451538,
           0.6711763143539429,
           0.5729514360427856,
           0.7019281983375549,
           0.7611343860626221,
           0.33106282353401184,
           0.7172004580497742,
           0.6344687342643738,
           0.7644520998001099,
           0.71347576379776,
           0.6851958632469177,
           0.7122570276260376,
           0.48653510212898254,
           0.7458640336990356,
           0.6894930601119995,
           0.6294097304344177,
           0.3100730776786804,
           0.6144707798957825,
           0.7930041551589966,
           0.9244118928909302,
           0.3361045718193054,
           0.492440402507782,
           0.5156583786010742,
           0.5789032578468323,
           0.7596073746681213,
           0.3566511869430542,
           0.37895119190216064,
           0.7618241310119629,
           0.8162766695022583,
           0.724155068397522,
           0.38112062215805054,
           0.6355127096176147,
           0.7060805559158325,
           0.7156563997268677,
           0.7139465808868408,
           0.6789228916168213,
           0.8273036479949951,
           0.7525511980056763,
           0.6938058137893677,
           0.5385254621505737,
           0.37995994091033936,
           0.7611370086669922,
           0.8675241470336914,
           0.35273411870002747,
           0.7112226486206055,
           0.788354754447937,
           0.7164134979248047,
           0.6362395882606506
          ],
          [
           0.6229293346405029,
           1.0000001192092896,
           0.5675754547119141,
           0.716424822807312,
           0.7178136706352234,
           0.7900208830833435,
           0.6495269536972046,
           0.6246780157089233,
           0.6945575475692749,
           0.683311939239502,
           0.5545929670333862,
           0.5277547240257263,
           0.7047537565231323,
           0.6294753551483154,
           0.5290408134460449,
           0.6075102090835571,
           0.7653027176856995,
           0.7807652950286865,
           0.5475374460220337,
           0.6674786806106567,
           0.6275641918182373,
           0.43696829676628113,
           0.6657335162162781,
           0.63709557056427,
           0.8369361758232117,
           0.6186354756355286,
           0.788375198841095,
           0.773777425289154,
           0.4899083971977234,
           0.6516851186752319,
           0.5146645903587341,
           0.5592449903488159,
           0.42097461223602295,
           0.710464596748352,
           0.7575542330741882,
           0.6459002494812012,
           0.4414525628089905,
           0.5270233154296875,
           0.7614757418632507,
           0.60758376121521,
           0.7446916103363037,
           0.4665530025959015,
           0.47470623254776,
           0.7075010538101196,
           0.6596519947052002,
           0.6254537105560303,
           0.4819326102733612,
           0.5726871490478516,
           0.6762146949768066,
           0.7403398156166077,
           0.7251523733139038,
           0.6080112457275391,
           0.5714351534843445,
           0.6803895831108093,
           0.635262668132782,
           0.5209795236587524,
           0.4805232584476471,
           0.6136349439620972,
           0.6819933652877808,
           0.45990002155303955,
           0.6350788474082947,
           0.6652495861053467,
           0.6765424013137817,
           0.6751006841659546
          ],
          [
           0.6069259643554688,
           0.5675754547119141,
           1.0000003576278687,
           0.6408219337463379,
           0.4355524480342865,
           0.5683060884475708,
           0.5354042053222656,
           0.5266331434249878,
           0.6520461440086365,
           0.6624978184700012,
           0.579893946647644,
           0.47442859411239624,
           0.49964800477027893,
           0.8387182950973511,
           0.4692802429199219,
           0.5223128795623779,
           0.6880431175231934,
           0.7238261103630066,
           0.5462467670440674,
           0.559018075466156,
           0.5259201526641846,
           0.20363235473632812,
           0.5426831841468811,
           0.5368242263793945,
           0.6493808031082153,
           0.5532481074333191,
           0.5377023220062256,
           0.6442798972129822,
           0.3840295076370239,
           0.5355921387672424,
           0.5768314003944397,
           0.41147273778915405,
           0.19134952127933502,
           0.6056693196296692,
           0.651766836643219,
           0.6422770023345947,
           0.20276197791099548,
           0.5059580206871033,
           0.5126373767852783,
           0.4906669557094574,
           0.5688937306404114,
           0.21674251556396484,
           0.23453830182552338,
           0.5825855731964111,
           0.5987015962600708,
           0.5586391687393188,
           0.22491085529327393,
           0.48773109912872314,
           0.5551782846450806,
           0.638033926486969,
           0.659713864326477,
           0.3830510377883911,
           0.5545363426208496,
           0.6523737907409668,
           0.7674148678779602,
           0.7821338176727295,
           0.22222070395946503,
           0.547370433807373,
           0.6616518497467041,
           0.21261870861053467,
           0.5617098808288574,
           0.6478540897369385,
           0.5968374609947205,
           0.4178674817085266
          ],
          [
           0.8430531024932861,
           0.716424822807312,
           0.6408219337463379,
           0.9999998807907104,
           0.712774395942688,
           0.823064923286438,
           0.830241858959198,
           0.7934986352920532,
           0.8618533611297607,
           0.8079900741577148,
           0.8174494504928589,
           0.6756541728973389,
           0.8058648109436035,
           0.6033862829208374,
           0.7839240431785583,
           0.7301594614982605,
           0.7086876630783081,
           0.7126127481460571,
           0.6523551940917969,
           0.75440514087677,
           0.8363196849822998,
           0.4511358141899109,
           0.8196355104446411,
           0.7476314306259155,
           0.8306341171264648,
           0.8538542985916138,
           0.7672823071479797,
           0.8131997585296631,
           0.5630162954330444,
           0.8144868016242981,
           0.7013171911239624,
           0.6821392774581909,
           0.42977988719940186,
           0.728300929069519,
           0.8381749987602234,
           0.8012834787368774,
           0.45531994104385376,
           0.5511490106582642,
           0.6502141952514648,
           0.6628761291503906,
           0.8087670207023621,
           0.4718981385231018,
           0.4961148500442505,
           0.8432477712631226,
           0.9120371341705322,
           0.8056321144104004,
           0.4945169687271118,
           0.7459719181060791,
           0.8024852871894836,
           0.7594612836837769,
           0.7279878854751587,
           0.7009567022323608,
           0.7176790833473206,
           0.7238017320632935,
           0.7221530079841614,
           0.5523949265480042,
           0.4964715242385864,
           0.6446040272712708,
           0.7869081497192383,
           0.47019657492637634,
           0.7525635957717896,
           0.6826602220535278,
           0.7390631437301636,
           0.7515225410461426
          ],
          [
           0.5826919078826904,
           0.7178136706352234,
           0.4355524480342865,
           0.712774395942688,
           1,
           0.8789798021316528,
           0.6389034986495972,
           0.5986810922622681,
           0.6215848326683044,
           0.5756629705429077,
           0.4859358072280884,
           0.501153826713562,
           0.7456633448600769,
           0.6689595580101013,
           0.539126455783844,
           0.5731455087661743,
           0.804044246673584,
           0.5830246210098267,
           0.4566943645477295,
           0.6256352663040161,
           0.633567750453949,
           0.6789156794548035,
           0.6419013142585754,
           0.6278279423713684,
           0.6769466400146484,
           0.6297094821929932,
           0.679877758026123,
           0.8030760288238525,
           0.43387389183044434,
           0.640478253364563,
           0.4582809805870056,
           0.5358272790908813,
           0.6727921962738037,
           0.5509490966796875,
           0.6611697673797607,
           0.5424789190292358,
           0.6920168399810791,
           0.4876255989074707,
           0.7624462842941284,
           0.5148414373397827,
           0.769146740436554,
           0.6956385374069214,
           0.6963524222373962,
           0.7372255325317383,
           0.641028881072998,
           0.6277390718460083,
           0.7016057968139648,
           0.5396100878715515,
           0.6753590106964111,
           0.5790969729423523,
           0.5501471161842346,
           0.786297082901001,
           0.48945096135139465,
           0.6039378643035889,
           0.45774686336517334,
           0.44419461488723755,
           0.7112509608268738,
           0.5091241002082825,
           0.5654259920120239,
           0.6895474195480347,
           0.5514578819274902,
           0.5018022656440735,
           0.5635399222373962,
           0.7229483127593994
          ],
          [
           0.6542558670043945,
           0.7900208830833435,
           0.5683060884475708,
           0.823064923286438,
           0.8789798021316528,
           1.0000001192092896,
           0.7057850360870361,
           0.6801419854164124,
           0.7411608695983887,
           0.6713229417800903,
           0.6097450256347656,
           0.5705928206443787,
           0.7765272259712219,
           0.7433475255966187,
           0.6061893105506897,
           0.671126127243042,
           0.8699777722358704,
           0.7011926174163818,
           0.5755761861801147,
           0.7382712364196777,
           0.6999179124832153,
           0.6245490312576294,
           0.733018696308136,
           0.6821981072425842,
           0.7824724912643433,
           0.7067563533782959,
           0.7544563412666321,
           0.9464257955551147,
           0.5051014423370361,
           0.6895666718482971,
           0.5241751074790955,
           0.5765577554702759,
           0.6133584976196289,
           0.7210676670074463,
           0.7877192497253418,
           0.6462372541427612,
           0.6357738971710205,
           0.5148313045501709,
           0.8421752452850342,
           0.6434324979782104,
           0.9051023721694946,
           0.6360120177268982,
           0.6456307172775269,
           0.7495598196983337,
           0.7585383057594299,
           0.7125452756881714,
           0.6507446765899658,
           0.6330021619796753,
           0.7345066070556641,
           0.7314460277557373,
           0.6587672233581543,
           0.7449163198471069,
           0.5834084153175354,
           0.677909791469574,
           0.6271010637283325,
           0.5191596150398254,
           0.6556763052940369,
           0.5789318084716797,
           0.6670968532562256,
           0.6300323009490967,
           0.6715888977050781,
           0.6053627729415894,
           0.6714737415313721,
           0.7185081839561462
          ],
          [
           0.7167617678642273,
           0.6495269536972046,
           0.5354042053222656,
           0.830241858959198,
           0.6389034986495972,
           0.7057850360870361,
           1,
           0.8558691143989563,
           0.8332170248031616,
           0.7149173021316528,
           0.7786848545074463,
           0.8492022752761841,
           0.8198192119598389,
           0.42935195565223694,
           0.7213969826698303,
           0.8661038875579834,
           0.5372606515884399,
           0.5962916016578674,
           0.7139970064163208,
           0.5722249746322632,
           0.886448323726654,
           0.4682188332080841,
           0.8986496925354004,
           0.8874924182891846,
           0.7769211530685425,
           0.8798912763595581,
           0.7743518352508545,
           0.6454102993011475,
           0.7451114654541016,
           0.8026951551437378,
           0.6337965130805969,
           0.7635200023651123,
           0.4459209144115448,
           0.7071473002433777,
           0.7906606793403625,
           0.6681513786315918,
           0.47067683935165405,
           0.474386066198349,
           0.4619141221046448,
           0.6973323822021484,
           0.663667619228363,
           0.4649289846420288,
           0.4862387180328369,
           0.8462850451469421,
           0.8032033443450928,
           0.8750144839286804,
           0.48313063383102417,
           0.8609957098960876,
           0.8634357452392578,
           0.689188539981842,
           0.5981323719024658,
           0.6149763464927673,
           0.6358821392059326,
           0.5950517654418945,
           0.6194957494735718,
           0.45082616806030273,
           0.4866311550140381,
           0.5837962627410889,
           0.653444766998291,
           0.46399837732315063,
           0.7492949962615967,
           0.5260957479476929,
           0.6830090284347534,
           0.7833300828933716
          ],
          [
           0.7254043817520142,
           0.6246780157089233,
           0.5266331434249878,
           0.7934986352920532,
           0.5986810922622681,
           0.6801419854164124,
           0.8558691143989563,
           1,
           0.8359931707382202,
           0.6840026378631592,
           0.7297146320343018,
           0.667421817779541,
           0.7535663843154907,
           0.44761088490486145,
           0.6692138314247131,
           0.7342883348464966,
           0.5504856109619141,
           0.6072074174880981,
           0.6268876791000366,
           0.5968592166900635,
           0.8136975765228271,
           0.5049405097961426,
           0.7843655943870544,
           0.7777489423751831,
           0.7144518494606018,
           0.7441211342811584,
           0.7118934988975525,
           0.6353950500488281,
           0.5434963703155518,
           0.8110849857330322,
           0.5825862884521484,
           0.7319880723953247,
           0.47860002517700195,
           0.6623275279998779,
           0.8056521415710449,
           0.6798781752586365,
           0.5063205361366272,
           0.47227269411087036,
           0.4649442136287689,
           0.5972534418106079,
           0.6435711979866028,
           0.5090101957321167,
           0.5362386107444763,
           0.8502742052078247,
           0.7940375804901123,
           0.7685756683349609,
           0.5389608144760132,
           0.6998836398124695,
           0.8032819628715515,
           0.7045643329620361,
           0.6315128803253174,
           0.589943528175354,
           0.6460345983505249,
           0.625636875629425,
           0.6117028594017029,
           0.44731420278549194,
           0.5397900342941284,
           0.5660210251808167,
           0.6949305534362793,
           0.5124477744102478,
           0.7321752309799194,
           0.5300657749176025,
           0.6472307443618774,
           0.8020578026771545
          ],
          [
           0.8231299519538879,
           0.6945575475692749,
           0.6520461440086365,
           0.8618533611297607,
           0.6215848326683044,
           0.7411608695983887,
           0.8332170248031616,
           0.8359931707382202,
           1.000000238418579,
           0.7868589758872986,
           0.8331806063652039,
           0.7210021018981934,
           0.7994431257247925,
           0.5552100539207458,
           0.7613623142242432,
           0.7430907487869263,
           0.6491942405700684,
           0.7285416722297668,
           0.6972042322158813,
           0.7193042039871216,
           0.8706402778625488,
           0.391561895608902,
           0.7977476119995117,
           0.7874630093574524,
           0.8149845004081726,
           0.7555619478225708,
           0.7499487400054932,
           0.721238374710083,
           0.5791595578193665,
           0.8072248697280884,
           0.7200249433517456,
           0.7203102111816406,
           0.36550629138946533,
           0.7456860542297363,
           0.8868799209594727,
           0.7801485657691956,
           0.39266738295555115,
           0.505573570728302,
           0.5598195791244507,
           0.7385656833648682,
           0.7341288328170776,
           0.4185550808906555,
           0.4487696588039398,
           0.8242151141166687,
           0.8784937858581543,
           0.7732775211334229,
           0.44690394401550293,
           0.7580523490905762,
           0.8361486196517944,
           0.8002992272377014,
           0.7277384996414185,
           0.6068606376647949,
           0.7237226963043213,
           0.7053620219230652,
           0.7840834856033325,
           0.5817327499389648,
           0.446512371301651,
           0.700406014919281,
           0.8069862127304077,
           0.41746777296066284,
           0.8708444833755493,
           0.6765964031219482,
           0.7619805932044983,
           0.7934064865112305
          ],
          [
           0.7819274663925171,
           0.683311939239502,
           0.6624978184700012,
           0.8079900741577148,
           0.5756629705429077,
           0.6713229417800903,
           0.7149173021316528,
           0.6840026378631592,
           0.7868589758872986,
           1.000000238418579,
           0.6705862283706665,
           0.6138428449630737,
           0.6934192776679993,
           0.527988851070404,
           0.6450135707855225,
           0.6802117824554443,
           0.621788501739502,
           0.710686206817627,
           0.6846319437026978,
           0.7067569494247437,
           0.7004160284996033,
           0.3208136558532715,
           0.6643996238708496,
           0.7044026851654053,
           0.8108430504798889,
           0.7343109846115112,
           0.7923717498779297,
           0.6840004920959473,
           0.5263655185699463,
           0.7327847480773926,
           0.7045773267745972,
           0.5866160988807678,
           0.3049620985984802,
           0.7462049722671509,
           0.7873662710189819,
           0.8124471306800842,
           0.3269747495651245,
           0.6819320917129517,
           0.5351643562316895,
           0.6389424800872803,
           0.6704365015029907,
           0.32955804467201233,
           0.3393940031528473,
           0.7897840738296509,
           0.7915377616882324,
           0.6948339939117432,
           0.34374263882637024,
           0.6519559621810913,
           0.7089141011238098,
           0.7651264667510986,
           0.8183302879333496,
           0.6097633242607117,
           0.6949485540390015,
           0.7033911943435669,
           0.6925077438354492,
           0.605485737323761,
           0.3448764383792877,
           0.6768220067024231,
           0.7781069278717041,
           0.32337719202041626,
           0.6940122246742249,
           0.6815773248672485,
           0.7833724617958069,
           0.6579997539520264
          ],
          [
           0.6923124194145203,
           0.5545929670333862,
           0.579893946647644,
           0.8174494504928589,
           0.4859358072280884,
           0.6097450256347656,
           0.7786848545074463,
           0.7297146320343018,
           0.8331806063652039,
           0.6705862283706665,
           1.0000001192092896,
           0.6951067447662354,
           0.7150094509124756,
           0.40766221284866333,
           0.7350602149963379,
           0.6840591430664062,
           0.4651639461517334,
           0.5711498260498047,
           0.6033420562744141,
           0.6035508513450623,
           0.8733330965042114,
           0.2906205952167511,
           0.7403015494346619,
           0.6993038654327393,
           0.6959385871887207,
           0.7981418967247009,
           0.633985161781311,
           0.5891201496124268,
           0.5375628471374512,
           0.7322320342063904,
           0.6785787343978882,
           0.7081764936447144,
           0.2695339620113373,
           0.6353166699409485,
           0.751136064529419,
           0.6517724990844727,
           0.2898488938808441,
           0.3767175078392029,
           0.39956313371658325,
           0.658854067325592,
           0.5861185789108276,
           0.30560916662216187,
           0.33262380957603455,
           0.7100934386253357,
           0.8493859767913818,
           0.7509961724281311,
           0.33117935061454773,
           0.7384909391403198,
           0.7486312389373779,
           0.6420570611953735,
           0.5735950469970703,
           0.4911137819290161,
           0.5946403741836548,
           0.5574401617050171,
           0.6709174513816833,
           0.47798430919647217,
           0.3295583128929138,
           0.504758894443512,
           0.6441463232040405,
           0.30577951669692993,
           0.7438833713531494,
           0.5497255921363831,
           0.6060691475868225,
           0.6632958650588989
          ],
          [
           0.591688871383667,
           0.5277547240257263,
           0.47442859411239624,
           0.6756541728973389,
           0.501153826713562,
           0.5705928206443787,
           0.8492022752761841,
           0.667421817779541,
           0.7210021018981934,
           0.6138428449630737,
           0.6951067447662354,
           0.9999998807907104,
           0.7372407913208008,
           0.3621252775192261,
           0.6170309782028198,
           0.8775694966316223,
           0.4034610390663147,
           0.48869645595550537,
           0.749829888343811,
           0.47826409339904785,
           0.8046698570251465,
           0.36500346660614014,
           0.7879506349563599,
           0.8253452777862549,
           0.6606391668319702,
           0.803009033203125,
           0.6680687069892883,
           0.49765080213546753,
           0.85689377784729,
           0.6735025644302368,
           0.569640040397644,
           0.7052086591720581,
           0.3418469727039337,
           0.6884843707084656,
           0.6711263060569763,
           0.5455198287963867,
           0.36539337038993835,
           0.4818437099456787,
           0.3546069860458374,
           0.6902792453765869,
           0.5323560833930969,
           0.36801961064338684,
           0.38955962657928467,
           0.6749329566955566,
           0.6701347827911377,
           0.7667871713638306,
           0.3857962489128113,
           0.8890143632888794,
           0.8734190464019775,
           0.6064645051956177,
           0.5058259963989258,
           0.459422767162323,
           0.5386098027229309,
           0.511572003364563,
           0.5270573496818542,
           0.41934776306152344,
           0.3888602554798126,
           0.5019223690032959,
           0.5574266910552979,
           0.365248441696167,
           0.6821508407592773,
           0.4426063895225525,
           0.6276525855064392,
           0.6177439093589783
          ],
          [
           0.6655908226966858,
           0.7047537565231323,
           0.49964800477027893,
           0.8058648109436035,
           0.7456633448600769,
           0.7765272259712219,
           0.8198192119598389,
           0.7535663843154907,
           0.7994431257247925,
           0.6934192776679993,
           0.7150094509124756,
           0.7372407913208008,
           1.0000001192092896,
           0.5169062614440918,
           0.6544787287712097,
           0.7633578777313232,
           0.6496796607971191,
           0.6318070292472839,
           0.6063916087150574,
           0.6158945560455322,
           0.8668326139450073,
           0.5923659801483154,
           0.7614567279815674,
           0.7597366571426392,
           0.7780689001083374,
           0.7935892343521118,
           0.7622252702713013,
           0.6675101518630981,
           0.5896825790405273,
           0.8724304437637329,
           0.6158115267753601,
           0.78569495677948,
           0.5668400526046753,
           0.6639309525489807,
           0.7653557062149048,
           0.6250554323196411,
           0.5936579704284668,
           0.49842196702957153,
           0.5809434652328491,
           0.6681448221206665,
           0.6806327700614929,
           0.5761416554450989,
           0.6066869497299194,
           0.8372723460197449,
           0.8057145476341248,
           0.7510353326797485,
           0.6014689207077026,
           0.826331615447998,
           0.8957486152648926,
           0.6855695843696594,
           0.6243115067481995,
           0.664175271987915,
           0.5727558135986328,
           0.6421884298324585,
           0.6048582792282104,
           0.48190322518348694,
           0.6008721590042114,
           0.5522280931472778,
           0.6700955629348755,
           0.576331377029419,
           0.7218442559242249,
           0.545251727104187,
           0.6505680084228516,
           0.849199652671814
          ],
          [
           0.5199311971664429,
           0.6294753551483154,
           0.8387182950973511,
           0.6033862829208374,
           0.6689595580101013,
           0.7433475255966187,
           0.42935195565223694,
           0.44761088490486145,
           0.5552100539207458,
           0.527988851070404,
           0.40766221284866333,
           0.3621252775192261,
           0.5169062614440918,
           1.0000001192092896,
           0.38018226623535156,
           0.44934383034706116,
           0.8893109560012817,
           0.7189410328865051,
           0.43938666582107544,
           0.5797990560531616,
           0.4227020740509033,
           0.41549333930015564,
           0.4756671190261841,
           0.4703240990638733,
           0.5959756970405579,
           0.46534186601638794,
           0.5019713640213013,
           0.7854757905006409,
           0.29865390062332153,
           0.4688102602958679,
           0.4503316879272461,
           0.31211942434310913,
           0.4084065556526184,
           0.5395368933677673,
           0.591464638710022,
           0.5287055969238281,
           0.4207417964935303,
           0.4967145323753357,
           0.7526944279670715,
           0.4306808114051819,
           0.6933301687240601,
           0.435843825340271,
           0.44945257902145386,
           0.5708340406417847,
           0.5190644264221191,
           0.48552030324935913,
           0.44326096773147583,
           0.3769966661930084,
           0.5154917240142822,
           0.5604151487350464,
           0.6000772714614868,
           0.5263156890869141,
           0.4726085066795349,
           0.6701844930648804,
           0.6627131104469299,
           0.7405765056610107,
           0.44431960582733154,
           0.4975244998931885,
           0.6048500537872314,
           0.4317970275878906,
           0.49848103523254395,
           0.6120961308479309,
           0.5277825593948364,
           0.44648444652557373
          ],
          [
           0.830170750617981,
           0.5290408134460449,
           0.4692802429199219,
           0.7839240431785583,
           0.539126455783844,
           0.6061893105506897,
           0.7213969826698303,
           0.6692138314247131,
           0.7613623142242432,
           0.6450135707855225,
           0.7350602149963379,
           0.6170309782028198,
           0.6544787287712097,
           0.38018226623535156,
           0.9999998211860657,
           0.5777578949928284,
           0.43840843439102173,
           0.4819428324699402,
           0.5071189403533936,
           0.557863712310791,
           0.7968149185180664,
           0.29191333055496216,
           0.734898030757904,
           0.6055283546447754,
           0.6889730095863342,
           0.7131973505020142,
           0.5912802219390869,
           0.6373176574707031,
           0.4778822064399719,
           0.6541622281074524,
           0.5775449872016907,
           0.6199524402618408,
           0.26743724942207336,
           0.536374568939209,
           0.7402603626251221,
           0.7637006044387817,
           0.29131069779396057,
           0.3056492209434509,
           0.3894062042236328,
           0.5238813757896423,
           0.7119811177253723,
           0.310001939535141,
           0.34145933389663696,
           0.6944140195846558,
           0.8126808404922485,
           0.6877725124359131,
           0.3427130877971649,
           0.6604670286178589,
           0.7189292311668396,
           0.5929825901985168,
           0.5317212343215942,
           0.715204119682312,
           0.6570358276367188,
           0.5333023071289062,
           0.5659723281860352,
           0.3874141275882721,
           0.3358045816421509,
           0.5353513956069946,
           0.6393318176269531,
           0.30865612626075745,
           0.6341949105262756,
           0.5868574380874634,
           0.6012329459190369,
           0.607310950756073
          ],
          [
           0.5938257575035095,
           0.6075102090835571,
           0.5223128795623779,
           0.7301594614982605,
           0.5731455087661743,
           0.671126127243042,
           0.8661038875579834,
           0.7342883348464966,
           0.7430907487869263,
           0.6802117824554443,
           0.6840591430664062,
           0.8775694966316223,
           0.7633578777313232,
           0.44934383034706116,
           0.5777578949928284,
           0.9999998807907104,
           0.5223504304885864,
           0.5683143138885498,
           0.9106442332267761,
           0.512340784072876,
           0.7879274487495422,
           0.47279292345046997,
           0.8117061853408813,
           0.9253114461898804,
           0.7289120554924011,
           0.8581830859184265,
           0.7577588558197021,
           0.590624213218689,
           0.7585254907608032,
           0.7094630599021912,
           0.5659520626068115,
           0.6807523965835571,
           0.45348939299583435,
           0.8333808183670044,
           0.7404899597167969,
           0.5774842500686646,
           0.47481486201286316,
           0.5632143020629883,
           0.4460352957248688,
           0.6717886328697205,
           0.6020607948303223,
           0.462836891412735,
           0.4778415858745575,
           0.7861346006393433,
           0.7065972089767456,
           0.77956223487854,
           0.4752310514450073,
           0.8872607946395874,
           0.8514258861541748,
           0.7086315155029297,
           0.6032754182815552,
           0.5448336601257324,
           0.5418027639389038,
           0.5705912113189697,
           0.5859870910644531,
           0.5306171178817749,
           0.4790874123573303,
           0.5478172898292542,
           0.5979653596878052,
           0.4584486484527588,
           0.6859951019287109,
           0.4870886504650116,
           0.7303520441055298,
           0.6947636008262634
          ],
          [
           0.5941098928451538,
           0.7653027176856995,
           0.6880431175231934,
           0.7086876630783081,
           0.804044246673584,
           0.8699777722358704,
           0.5372606515884399,
           0.5504856109619141,
           0.6491942405700684,
           0.621788501739502,
           0.4651639461517334,
           0.4034610390663147,
           0.6496796607971191,
           0.8893109560012817,
           0.43840843439102173,
           0.5223504304885864,
           0.9999998807907104,
           0.8257530927658081,
           0.49572092294692993,
           0.6845998764038086,
           0.5193917155265808,
           0.5140652656555176,
           0.5712085962295532,
           0.5675047039985657,
           0.7176593542098999,
           0.5568106174468994,
           0.6342649459838867,
           0.8757936954498291,
           0.3523259162902832,
           0.5762487053871155,
           0.5044925212860107,
           0.4141305387020111,
           0.5022522807121277,
           0.6138325929641724,
           0.6694663763046265,
           0.5856238007545471,
           0.521525502204895,
           0.5556353330612183,
           0.879616379737854,
           0.5187811851501465,
           0.8030019998550415,
           0.5307691097259521,
           0.5460420846939087,
           0.6794309020042419,
           0.6217315196990967,
           0.5720902681350708,
           0.544646143913269,
           0.46048977971076965,
           0.6044813394546509,
           0.6451495885848999,
           0.6782616972923279,
           0.642796516418457,
           0.5411688685417175,
           0.7393561005592346,
           0.7256885766983032,
           0.6475470066070557,
           0.5479908585548401,
           0.5647222399711609,
           0.707030177116394,
           0.526123583316803,
           0.5816714763641357,
           0.6467835307121277,
           0.6175965070724487,
           0.6143685579299927
          ],
          [
           0.6711763143539429,
           0.7807652950286865,
           0.7238261103630066,
           0.7126127481460571,
           0.5830246210098267,
           0.7011926174163818,
           0.5962916016578674,
           0.6072074174880981,
           0.7285416722297668,
           0.710686206817627,
           0.5711498260498047,
           0.48869645595550537,
           0.6318070292472839,
           0.7189410328865051,
           0.4819428324699402,
           0.5683143138885498,
           0.8257530927658081,
           1.0000001192092896,
           0.5694562196731567,
           0.676875650882721,
           0.5821210145950317,
           0.2932550609111786,
           0.5860809087753296,
           0.5857775211334229,
           0.85419762134552,
           0.5730792284011841,
           0.7097582817077637,
           0.7267351150512695,
           0.43997180461883545,
           0.6304606199264526,
           0.5740690231323242,
           0.4870334267616272,
           0.27399736642837524,
           0.7182909250259399,
           0.7437189817428589,
           0.67789226770401,
           0.2946299910545349,
           0.576250433921814,
           0.7015244960784912,
           0.5740690231323242,
           0.6708865165710449,
           0.3240571618080139,
           0.34491801261901855,
           0.6686044931411743,
           0.6425018310546875,
           0.5798301100730896,
           0.3422737419605255,
           0.5326175689697266,
           0.6335580348968506,
           0.7568256855010986,
           0.7895480394363403,
           0.47085946798324585,
           0.6401803493499756,
           0.7963440418243408,
           0.8358475565910339,
           0.6748020052909851,
           0.34297409653663635,
           0.6587548851966858,
           0.8005427122116089,
           0.32021814584732056,
           0.6701818704605103,
           0.7484006881713867,
           0.721802294254303,
           0.5763407945632935
          ],
          [
           0.5729514360427856,
           0.5475374460220337,
           0.5462467670440674,
           0.6523551940917969,
           0.4566943645477295,
           0.5755761861801147,
           0.7139970064163208,
           0.6268876791000366,
           0.6972042322158813,
           0.6846319437026978,
           0.6033420562744141,
           0.749829888343811,
           0.6063916087150574,
           0.43938666582107544,
           0.5071189403533936,
           0.9106442332267761,
           0.49572092294692993,
           0.5694562196731567,
           1,
           0.4904010593891144,
           0.6526597142219543,
           0.2979085147380829,
           0.6915095448493958,
           0.8584088087081909,
           0.6661646366119385,
           0.752600908279419,
           0.6799403429031372,
           0.5388745069503784,
           0.6543008685112,
           0.6017449498176575,
           0.5286432504653931,
           0.5522598028182983,
           0.27841895818710327,
           0.8440130949020386,
           0.6971997022628784,
           0.5810819268226624,
           0.2979254722595215,
           0.622754693031311,
           0.4114071726799011,
           0.6001479625701904,
           0.5554143190383911,
           0.30342474579811096,
           0.3171883225440979,
           0.6741346120834351,
           0.6273497939109802,
           0.6703065633773804,
           0.3168487846851349,
           0.7517492771148682,
           0.7298130989074707,
           0.7069498300552368,
           0.6268173456192017,
           0.43857085704803467,
           0.5047017931938171,
           0.5416586399078369,
           0.6082200407981873,
           0.5513595342636108,
           0.3178271949291229,
           0.5476561188697815,
           0.6014450192451477,
           0.29691600799560547,
           0.6425073146820068,
           0.4994555115699768,
           0.7354305982589722,
           0.5398865342140198
          ],
          [
           0.7019281983375549,
           0.6674786806106567,
           0.559018075466156,
           0.75440514087677,
           0.6256352663040161,
           0.7382712364196777,
           0.5722249746322632,
           0.5968592166900635,
           0.7193042039871216,
           0.7067569494247437,
           0.6035508513450623,
           0.47826409339904785,
           0.6158945560455322,
           0.5797990560531616,
           0.557863712310791,
           0.512340784072876,
           0.6845998764038086,
           0.676875650882721,
           0.4904010593891144,
           1,
           0.5947190523147583,
           0.36286449432373047,
           0.6013287305831909,
           0.5618118047714233,
           0.6898328065872192,
           0.5793759822845459,
           0.6214234828948975,
           0.7617549896240234,
           0.4018024802207947,
           0.6145212650299072,
           0.626145601272583,
           0.49654489755630493,
           0.34711796045303345,
           0.615246057510376,
           0.6996315121650696,
           0.6952458024024963,
           0.37008893489837646,
           0.5532897710800171,
           0.7504366040229797,
           0.5894903540611267,
           0.7458951473236084,
           0.39919525384902954,
           0.4135860204696655,
           0.6683356761932373,
           0.7186247706413269,
           0.5954424738883972,
           0.41869932413101196,
           0.5316953659057617,
           0.6097023487091064,
           0.6577543020248413,
           0.6812248229980469,
           0.5804386138916016,
           0.642742395401001,
           0.6646963953971863,
           0.6466232538223267,
           0.5170872807502747,
           0.42180922627449036,
           0.6484066247940063,
           0.7311906814575195,
           0.3973020315170288,
           0.6489789485931396,
           0.6573948860168457,
           0.6494414806365967,
           0.6512615084648132
          ],
          [
           0.7611343860626221,
           0.6275641918182373,
           0.5259201526641846,
           0.8363196849822998,
           0.633567750453949,
           0.6999179124832153,
           0.886448323726654,
           0.8136975765228271,
           0.8706402778625488,
           0.7004160284996033,
           0.8733330965042114,
           0.8046698570251465,
           0.8668326139450073,
           0.4227020740509033,
           0.7968149185180664,
           0.7879274487495422,
           0.5193917155265808,
           0.5821210145950317,
           0.6526597142219543,
           0.5947190523147583,
           1,
           0.49570053815841675,
           0.8257726430892944,
           0.7817142009735107,
           0.7683145999908447,
           0.8407420516014099,
           0.728074312210083,
           0.6262828707695007,
           0.6480597853660583,
           0.8533257246017456,
           0.6408345699310303,
           0.8374756574630737,
           0.4679606556892395,
           0.6633239984512329,
           0.8151805400848389,
           0.6970642805099487,
           0.4934678077697754,
           0.4191414713859558,
           0.46143093705177307,
           0.6774333715438843,
           0.6620276570320129,
           0.49288392066955566,
           0.529049813747406,
           0.8009265661239624,
           0.8591322898864746,
           0.8187747001647949,
           0.5228591561317444,
           0.8734704852104187,
           0.8768554329872131,
           0.6904479265213013,
           0.6113003492355347,
           0.6199425458908081,
           0.6365153789520264,
           0.6268424987792969,
           0.6220409870147705,
           0.44940879940986633,
           0.5213801860809326,
           0.5775010585784912,
           0.7031222581863403,
           0.4969860315322876,
           0.7657886743545532,
           0.5774523019790649,
           0.6434038877487183,
           0.7913367748260498
          ],
          [
           0.33106282353401184,
           0.43696829676628113,
           0.20363235473632812,
           0.4511358141899109,
           0.6789156794548035,
           0.6245490312576294,
           0.4682188332080841,
           0.5049405097961426,
           0.391561895608902,
           0.3208136558532715,
           0.2906205952167511,
           0.36500346660614014,
           0.5923659801483154,
           0.41549333930015564,
           0.29191333055496216,
           0.47279292345046997,
           0.5140652656555176,
           0.2932550609111786,
           0.2979085147380829,
           0.36286449432373047,
           0.49570053815841675,
           0.9999998807907104,
           0.44723615050315857,
           0.4636629819869995,
           0.41210508346557617,
           0.44588321447372437,
           0.47449976205825806,
           0.5165262818336487,
           0.333720862865448,
           0.5178488492965698,
           0.21227368712425232,
           0.5112703442573547,
           0.9944084882736206,
           0.3323633074760437,
           0.40135523676872253,
           0.3115185499191284,
           0.9968020915985107,
           0.2754596173763275,
           0.4917093813419342,
           0.35020679235458374,
           0.5289749503135681,
           0.9237297177314758,
           0.9260605573654175,
           0.6029970645904541,
           0.43079817295074463,
           0.4402749538421631,
           0.9281964302062988,
           0.4131583273410797,
           0.5023984313011169,
           0.34348538517951965,
           0.32980605959892273,
           0.6057265400886536,
           0.25828611850738525,
           0.3988301753997803,
           0.21017751097679138,
           0.21743062138557434,
           0.9258874654769897,
           0.29565900564193726,
           0.33096909523010254,
           0.9265289306640625,
           0.3575417995452881,
           0.2752254903316498,
           0.3039624094963074,
           0.6566527485847473
          ],
          [
           0.7172004580497742,
           0.6657335162162781,
           0.5426831841468811,
           0.8196355104446411,
           0.6419013142585754,
           0.733018696308136,
           0.8986496925354004,
           0.7843655943870544,
           0.7977476119995117,
           0.6643996238708496,
           0.7403015494346619,
           0.7879506349563599,
           0.7614567279815674,
           0.4756671190261841,
           0.734898030757904,
           0.8117061853408813,
           0.5712085962295532,
           0.5860809087753296,
           0.6915095448493958,
           0.6013287305831909,
           0.8257726430892944,
           0.44723615050315857,
           1.0000001192092896,
           0.8388638496398926,
           0.7299935817718506,
           0.845680832862854,
           0.7023335695266724,
           0.6894322633743286,
           0.751721978187561,
           0.7386034727096558,
           0.5832579135894775,
           0.6843817234039307,
           0.42986559867858887,
           0.688866376876831,
           0.7785237431526184,
           0.7083338499069214,
           0.45202064514160156,
           0.4167436957359314,
           0.5211158394813538,
           0.6906942129135132,
           0.7166674137115479,
           0.4636472463607788,
           0.4774249792098999,
           0.7829761505126953,
           0.79437255859375,
           0.8180438876152039,
           0.4740557074546814,
           0.828994870185852,
           0.840657114982605,
           0.6867474913597107,
           0.5678197741508484,
           0.6211881637573242,
           0.6460540294647217,
           0.5910161733627319,
           0.6324259042739868,
           0.4469483196735382,
           0.4796234369277954,
           0.5797399282455444,
           0.6312482357025146,
           0.4582512676715851,
           0.7210599184036255,
           0.5599617958068848,
           0.6539329290390015,
           0.7045068740844727
          ],
          [
           0.6344687342643738,
           0.63709557056427,
           0.5368242263793945,
           0.7476314306259155,
           0.6278279423713684,
           0.6821981072425842,
           0.8874924182891846,
           0.7777489423751831,
           0.7874630093574524,
           0.7044026851654053,
           0.6993038654327393,
           0.8253452777862549,
           0.7597366571426392,
           0.4703240990638733,
           0.6055283546447754,
           0.9253114461898804,
           0.5675047039985657,
           0.5857775211334229,
           0.8584088087081909,
           0.5618118047714233,
           0.7817142009735107,
           0.4636629819869995,
           0.8388638496398926,
           0.9999999403953552,
           0.7243267297744751,
           0.833505392074585,
           0.7430246472358704,
           0.619907021522522,
           0.7234861850738525,
           0.7283109426498413,
           0.6096838116645813,
           0.6735223531723022,
           0.4450773000717163,
           0.7621288299560547,
           0.750656008720398,
           0.6084670424461365,
           0.46715137362480164,
           0.5401941537857056,
           0.472988098859787,
           0.6878676414489746,
           0.622824490070343,
           0.4885196089744568,
           0.5015752911567688,
           0.831078827381134,
           0.7451456189155579,
           0.7854604721069336,
           0.49982404708862305,
           0.8199558258056641,
           0.8595588207244873,
           0.6950055360794067,
           0.6121487617492676,
           0.6013115048408508,
           0.5882552862167358,
           0.5890048742294312,
           0.6141959428787231,
           0.5317457914352417,
           0.5054758787155151,
           0.5947527885437012,
           0.6250309944152832,
           0.483860582113266,
           0.7423179149627686,
           0.48883378505706787,
           0.7157411575317383,
           0.7563422918319702
          ],
          [
           0.7644520998001099,
           0.8369361758232117,
           0.6493808031082153,
           0.8306341171264648,
           0.6769466400146484,
           0.7824724912643433,
           0.7769211530685425,
           0.7144518494606018,
           0.8149845004081726,
           0.8108430504798889,
           0.6959385871887207,
           0.6606391668319702,
           0.7780689001083374,
           0.5959756970405579,
           0.6889730095863342,
           0.7289120554924011,
           0.7176593542098999,
           0.85419762134552,
           0.6661646366119385,
           0.6898328065872192,
           0.7683145999908447,
           0.41210508346557617,
           0.7299935817718506,
           0.7243267297744751,
           1.000000238418579,
           0.754004716873169,
           0.8651633262634277,
           0.7738102674484253,
           0.5623908638954163,
           0.7512460350990295,
           0.6158052086830139,
           0.646256685256958,
           0.39344534277915955,
           0.8156218528747559,
           0.8591117858886719,
           0.7651398181915283,
           0.4150983691215515,
           0.5976431369781494,
           0.6195656061172485,
           0.6333386898040771,
           0.7612859010696411,
           0.4222416281700134,
           0.4364762604236603,
           0.7988519668579102,
           0.7963075637817383,
           0.7324481010437012,
           0.43968844413757324,
           0.7089040279388428,
           0.7776939868927002,
           0.8310218453407288,
           0.7980550527572632,
           0.6620465517044067,
           0.6705426573753357,
           0.7401111125946045,
           0.7305223941802979,
           0.5938597917556763,
           0.438483327627182,
           0.6740399599075317,
           0.7812850475311279,
           0.41540393233299255,
           0.7097623348236084,
           0.7090771198272705,
           0.8200464248657227,
           0.7350542545318604
          ],
          [
           0.71347576379776,
           0.6186354756355286,
           0.5532481074333191,
           0.8538542985916138,
           0.6297094821929932,
           0.7067563533782959,
           0.8798912763595581,
           0.7441211342811584,
           0.7555619478225708,
           0.7343109846115112,
           0.7981418967247009,
           0.803009033203125,
           0.7935892343521118,
           0.46534186601638794,
           0.7131973505020142,
           0.8581830859184265,
           0.5568106174468994,
           0.5730792284011841,
           0.752600908279419,
           0.5793759822845459,
           0.8407420516014099,
           0.44588321447372437,
           0.845680832862854,
           0.833505392074585,
           0.754004716873169,
           1,
           0.7357290387153625,
           0.6580593585968018,
           0.6867102384567261,
           0.7567191123962402,
           0.6122729778289795,
           0.7010427117347717,
           0.43180590867996216,
           0.7241603136062622,
           0.7545703649520874,
           0.670045018196106,
           0.44961458444595337,
           0.5074815154075623,
           0.48934096097946167,
           0.6333292126655579,
           0.6656181812286377,
           0.44263356924057007,
           0.45870959758758545,
           0.8185144066810608,
           0.8227948546409607,
           0.8460026979446411,
           0.45359909534454346,
           0.8640686273574829,
           0.8299130201339722,
           0.6762579083442688,
           0.5944916009902954,
           0.6209603548049927,
           0.6181919574737549,
           0.6153584718704224,
           0.6067842841148376,
           0.4959856867790222,
           0.4578642249107361,
           0.5501024723052979,
           0.6440830230712891,
           0.4399273693561554,
           0.6784906387329102,
           0.5467396378517151,
           0.6812576651573181,
           0.7016010880470276
          ],
          [
           0.6851958632469177,
           0.788375198841095,
           0.5377023220062256,
           0.7672823071479797,
           0.679877758026123,
           0.7544563412666321,
           0.7743518352508545,
           0.7118934988975525,
           0.7499487400054932,
           0.7923717498779297,
           0.633985161781311,
           0.6680687069892883,
           0.7622252702713013,
           0.5019713640213013,
           0.5912802219390869,
           0.7577588558197021,
           0.6342649459838867,
           0.7097582817077637,
           0.6799403429031372,
           0.6214234828948975,
           0.728074312210083,
           0.47449976205825806,
           0.7023335695266724,
           0.7430246472358704,
           0.8651633262634277,
           0.7357290387153625,
           1.000000238418579,
           0.6983014941215515,
           0.5605717301368713,
           0.7590978145599365,
           0.5598680973052979,
           0.6427183151245117,
           0.45604246854782104,
           0.8316821455955505,
           0.8159027099609375,
           0.7175742387771606,
           0.48169997334480286,
           0.6221481561660767,
           0.5641800761222839,
           0.6552560925483704,
           0.6858851909637451,
           0.4681857228279114,
           0.47992217540740967,
           0.7890334129333496,
           0.7240803241729736,
           0.7192519903182983,
           0.48553669452667236,
           0.7075138092041016,
           0.763342022895813,
           0.8291530609130859,
           0.7965420484542847,
           0.6158105731010437,
           0.6513893604278564,
           0.6827825307846069,
           0.6088179349899292,
           0.54111647605896,
           0.48897603154182434,
           0.6680961847305298,
           0.702789843082428,
           0.4640465974807739,
           0.6722827553749084,
           0.6131589412689209,
           0.8118587732315063,
           0.72965008020401
          ],
          [
           0.7122570276260376,
           0.773777425289154,
           0.6442798972129822,
           0.8131997585296631,
           0.8030760288238525,
           0.9464257955551147,
           0.6454102993011475,
           0.6353950500488281,
           0.721238374710083,
           0.6840004920959473,
           0.5891201496124268,
           0.49765080213546753,
           0.6675101518630981,
           0.7854757905006409,
           0.6373176574707031,
           0.590624213218689,
           0.8757936954498291,
           0.7267351150512695,
           0.5388745069503784,
           0.7617549896240234,
           0.6262828707695007,
           0.5165262818336487,
           0.6894322633743286,
           0.619907021522522,
           0.7738102674484253,
           0.6580593585968018,
           0.6983014941215515,
           1,
           0.4390827417373657,
           0.6250325441360474,
           0.5666115283966064,
           0.4916943907737732,
           0.504331648349762,
           0.6795436143875122,
           0.7657132148742676,
           0.7159984111785889,
           0.525784969329834,
           0.5163866877555847,
           0.8375356197357178,
           0.5912183523178101,
           0.9445781707763672,
           0.5401934385299683,
           0.5514057874679565,
           0.7137396335601807,
           0.7541853189468384,
           0.6999303102493286,
           0.5571156740188599,
           0.5353718996047974,
           0.6491173505783081,
           0.6994017362594604,
           0.6802927255630493,
           0.7684956789016724,
           0.6150699853897095,
           0.692449688911438,
           0.6770280599594116,
           0.5681126117706299,
           0.5581573247909546,
           0.5959171056747437,
           0.6938680410385132,
           0.5309944748878479,
           0.6235693693161011,
           0.6572502255439758,
           0.678605318069458,
           0.6433957815170288
          ],
          [
           0.48653510212898254,
           0.4899083971977234,
           0.3840295076370239,
           0.5630162954330444,
           0.43387389183044434,
           0.5051014423370361,
           0.7451114654541016,
           0.5434963703155518,
           0.5791595578193665,
           0.5263655185699463,
           0.5375628471374512,
           0.85689377784729,
           0.5896825790405273,
           0.29865390062332153,
           0.4778822064399719,
           0.7585254907608032,
           0.3523259162902832,
           0.43997180461883545,
           0.6543008685112,
           0.4018024802207947,
           0.6480597853660583,
           0.333720862865448,
           0.751721978187561,
           0.7234861850738525,
           0.5623908638954163,
           0.6867102384567261,
           0.5605717301368713,
           0.4390827417373657,
           1.000000238418579,
           0.5174847841262817,
           0.44291096925735474,
           0.5763041377067566,
           0.3236967921257019,
           0.583512544631958,
           0.547931969165802,
           0.46243801712989807,
           0.3370071053504944,
           0.41523975133895874,
           0.3452230989933014,
           0.7150661945343018,
           0.4843311309814453,
           0.3270401954650879,
           0.33054038882255554,
           0.5276627540588379,
           0.5295747518539429,
           0.6488487720489502,
           0.3334333002567291,
           0.7530868053436279,
           0.7414510250091553,
           0.5072933435440063,
           0.40584343671798706,
           0.3708978593349457,
           0.42492061853408813,
           0.41391944885253906,
           0.4526960253715515,
           0.27567052841186523,
           0.336637407541275,
           0.421241819858551,
           0.44364792108535767,
           0.322237491607666,
           0.6185452342033386,
           0.3757975697517395,
           0.5051908493041992,
           0.4722306728363037
          ],
          [
           0.7458640336990356,
           0.6516851186752319,
           0.5355921387672424,
           0.8144868016242981,
           0.640478253364563,
           0.6895666718482971,
           0.8026951551437378,
           0.8110849857330322,
           0.8072248697280884,
           0.7327847480773926,
           0.7322320342063904,
           0.6735025644302368,
           0.8724304437637329,
           0.4688102602958679,
           0.6541622281074524,
           0.7094630599021912,
           0.5762487053871155,
           0.6304606199264526,
           0.6017449498176575,
           0.6145212650299072,
           0.8533257246017456,
           0.5178488492965698,
           0.7386034727096558,
           0.7283109426498413,
           0.7512460350990295,
           0.7567191123962402,
           0.7590978145599365,
           0.6250325441360474,
           0.5174847841262817,
           0.9999997615814209,
           0.6481854915618896,
           0.7731057405471802,
           0.49436280131340027,
           0.6501237154006958,
           0.7897039651870728,
           0.706742525100708,
           0.5169546604156494,
           0.5106464624404907,
           0.5085917115211487,
           0.6333553791046143,
           0.6164968013763428,
           0.526822566986084,
           0.5516251921653748,
           0.8348468542098999,
           0.8235176801681519,
           0.7454712390899658,
           0.5453290343284607,
           0.769848644733429,
           0.8192567229270935,
           0.7074548006057739,
           0.6780973672866821,
           0.5948254466056824,
           0.6499005556106567,
           0.6873036026954651,
           0.6071430444717407,
           0.5124983787536621,
           0.5452790260314941,
           0.6004410982131958,
           0.7490753531455994,
           0.5249243378639221,
           0.7294576168060303,
           0.5894373655319214,
           0.6453738212585449,
           0.7938543558120728
          ],
          [
           0.6894930601119995,
           0.5146645903587341,
           0.5768314003944397,
           0.7013171911239624,
           0.4582809805870056,
           0.5241751074790955,
           0.6337965130805969,
           0.5825862884521484,
           0.7200249433517456,
           0.7045773267745972,
           0.6785787343978882,
           0.569640040397644,
           0.6158115267753601,
           0.4503316879272461,
           0.5775449872016907,
           0.5659520626068115,
           0.5044925212860107,
           0.5740690231323242,
           0.5286432504653931,
           0.626145601272583,
           0.6408345699310303,
           0.21227368712425232,
           0.5832579135894775,
           0.6096838116645813,
           0.6158052086830139,
           0.6122729778289795,
           0.5598680973052979,
           0.5666115283966064,
           0.44291096925735474,
           0.6481854915618896,
           0.9999998807907104,
           0.5456705093383789,
           0.1940721720457077,
           0.5259859561920166,
           0.593177855014801,
           0.6503105163574219,
           0.2154073715209961,
           0.4875684678554535,
           0.43787747621536255,
           0.612450897693634,
           0.5547788739204407,
           0.22901077568531036,
           0.24686358869075775,
           0.6460719704627991,
           0.7117565870285034,
           0.6242026686668396,
           0.2491428256034851,
           0.5727084279060364,
           0.5992299318313599,
           0.538871169090271,
           0.6020203828811646,
           0.47288525104522705,
           0.6224330067634583,
           0.5376936793327332,
           0.6677758693695068,
           0.5765998363494873,
           0.24981841444969177,
           0.5854257345199585,
           0.672316312789917,
           0.22686979174613953,
           0.6508661508560181,
           0.533327043056488,
           0.5804660320281982,
           0.5817134976387024
          ],
          [
           0.6294097304344177,
           0.5592449903488159,
           0.41147273778915405,
           0.6821392774581909,
           0.5358272790908813,
           0.5765577554702759,
           0.7635200023651123,
           0.7319880723953247,
           0.7203102111816406,
           0.5866160988807678,
           0.7081764936447144,
           0.7052086591720581,
           0.78569495677948,
           0.31211942434310913,
           0.6199524402618408,
           0.6807523965835571,
           0.4141305387020111,
           0.4870334267616272,
           0.5522598028182983,
           0.49654489755630493,
           0.8374756574630737,
           0.5112703442573547,
           0.6843817234039307,
           0.6735223531723022,
           0.646256685256958,
           0.7010427117347717,
           0.6427183151245117,
           0.4916943907737732,
           0.5763041377067566,
           0.7731057405471802,
           0.5456705093383789,
           1.0000004768371582,
           0.48646098375320435,
           0.5433030128479004,
           0.6953986883163452,
           0.5777707099914551,
           0.5080710649490356,
           0.39419376850128174,
           0.3975374698638916,
           0.5673010945320129,
           0.5364370346069336,
           0.49936968088150024,
           0.5236961245536804,
           0.7067777514457703,
           0.7058911323547363,
           0.6895428895950317,
           0.5261287093162537,
           0.7406963109970093,
           0.780931830406189,
           0.599839448928833,
           0.5342375040054321,
           0.5146493315696716,
           0.5459895133972168,
           0.5335825681686401,
           0.4800737500190735,
           0.3269948363304138,
           0.5245611667633057,
           0.5076717138290405,
           0.5898932218551636,
           0.5012490749359131,
           0.6426805853843689,
           0.49269020557403564,
           0.5493817925453186,
           0.71663498878479
          ],
          [
           0.3100730776786804,
           0.42097461223602295,
           0.19134952127933502,
           0.42977988719940186,
           0.6727921962738037,
           0.6133584976196289,
           0.4459209144115448,
           0.47860002517700195,
           0.36550629138946533,
           0.3049620985984802,
           0.2695339620113373,
           0.3418469727039337,
           0.5668400526046753,
           0.4084065556526184,
           0.26743724942207336,
           0.45348939299583435,
           0.5022522807121277,
           0.27399736642837524,
           0.27841895818710327,
           0.34711796045303345,
           0.4679606556892395,
           0.9944084882736206,
           0.42986559867858887,
           0.4450773000717163,
           0.39344534277915955,
           0.43180590867996216,
           0.45604246854782104,
           0.504331648349762,
           0.3236967921257019,
           0.49436280131340027,
           0.1940721720457077,
           0.48646098375320435,
           1,
           0.314477801322937,
           0.3787107765674591,
           0.29001384973526,
           0.995491087436676,
           0.2599177956581116,
           0.4828578531742096,
           0.33002254366874695,
           0.5100847482681274,
           0.9216819405555725,
           0.9091354608535767,
           0.5849122405052185,
           0.41007286310195923,
           0.4223926067352295,
           0.9136130809783936,
           0.3868216276168823,
           0.477439284324646,
           0.324605256319046,
           0.3107838034629822,
           0.5931069850921631,
           0.2420593500137329,
           0.38398081064224243,
           0.18827593326568604,
           0.2073671817779541,
           0.9139851331710815,
           0.2767854928970337,
           0.3057297170162201,
           0.923122763633728,
           0.3356647193431854,
           0.25947412848472595,
           0.2827560603618622,
           0.6289407014846802
          ],
          [
           0.6144707798957825,
           0.710464596748352,
           0.6056693196296692,
           0.728300929069519,
           0.5509490966796875,
           0.7210676670074463,
           0.7071473002433777,
           0.6623275279998779,
           0.7456860542297363,
           0.7462049722671509,
           0.6353166699409485,
           0.6884843707084656,
           0.6639309525489807,
           0.5395368933677673,
           0.536374568939209,
           0.8333808183670044,
           0.6138325929641724,
           0.7182909250259399,
           0.8440130949020386,
           0.615246057510376,
           0.6633239984512329,
           0.3323633074760437,
           0.688866376876831,
           0.7621288299560547,
           0.8156218528747559,
           0.7241603136062622,
           0.8316821455955505,
           0.6795436143875122,
           0.583512544631958,
           0.6501237154006958,
           0.5259859561920166,
           0.5433030128479004,
           0.314477801322937,
           1,
           0.847773551940918,
           0.6637104749679565,
           0.3393678665161133,
           0.6466180086135864,
           0.5554009675979614,
           0.6523299813270569,
           0.6718404293060303,
           0.3321434557437897,
           0.3476887047290802,
           0.7123653888702393,
           0.7007743120193481,
           0.6851270198822021,
           0.34938865900039673,
           0.7210769653320312,
           0.7352229356765747,
           0.9102427959442139,
           0.7699301242828369,
           0.505352258682251,
           0.5706720352172852,
           0.6143844127655029,
           0.650933027267456,
           0.5958892703056335,
           0.35487136244773865,
           0.600672721862793,
           0.6546432375907898,
           0.3285529613494873,
           0.6928915977478027,
           0.6360509395599365,
           0.856357216835022,
           0.6216247081756592
          ],
          [
           0.7930041551589966,
           0.7575542330741882,
           0.651766836643219,
           0.8381749987602234,
           0.6611697673797607,
           0.7877192497253418,
           0.7906606793403625,
           0.8056521415710449,
           0.8868799209594727,
           0.7873662710189819,
           0.751136064529419,
           0.6711263060569763,
           0.7653557062149048,
           0.591464638710022,
           0.7402603626251221,
           0.7404899597167969,
           0.6694663763046265,
           0.7437189817428589,
           0.6971997022628784,
           0.6996315121650696,
           0.8151805400848389,
           0.40135523676872253,
           0.7785237431526184,
           0.750656008720398,
           0.8591117858886719,
           0.7545703649520874,
           0.8159027099609375,
           0.7657132148742676,
           0.547931969165802,
           0.7897039651870728,
           0.593177855014801,
           0.6953986883163452,
           0.3787107765674591,
           0.847773551940918,
           1,
           0.7905424237251282,
           0.4057270884513855,
           0.5525044202804565,
           0.6084959506988525,
           0.6728545427322388,
           0.7558127641677856,
           0.42399880290031433,
           0.45192867517471313,
           0.8104867935180664,
           0.8274611234664917,
           0.7626415491104126,
           0.44837117195129395,
           0.7285245656967163,
           0.817621111869812,
           0.9119213819503784,
           0.7851650714874268,
           0.6429290771484375,
           0.7178620100021362,
           0.7190732955932617,
           0.684660017490387,
           0.583848237991333,
           0.450276255607605,
           0.6997625827789307,
           0.7615288496017456,
           0.41989266872406006,
           0.7981197834014893,
           0.7266185283660889,
           0.7980632781982422,
           0.7389345169067383
          ],
          [
           0.9244118928909302,
           0.6459002494812012,
           0.6422770023345947,
           0.8012834787368774,
           0.5424789190292358,
           0.6462372541427612,
           0.6681513786315918,
           0.6798781752586365,
           0.7801485657691956,
           0.8124471306800842,
           0.6517724990844727,
           0.5455198287963867,
           0.6250554323196411,
           0.5287055969238281,
           0.7637006044387817,
           0.5774842500686646,
           0.5856238007545471,
           0.67789226770401,
           0.5810819268226624,
           0.6952458024024963,
           0.6970642805099487,
           0.3115185499191284,
           0.7083338499069214,
           0.6084670424461365,
           0.7651398181915283,
           0.670045018196106,
           0.7175742387771606,
           0.7159984111785889,
           0.46243801712989807,
           0.706742525100708,
           0.6503105163574219,
           0.5777707099914551,
           0.29001384973526,
           0.6637104749679565,
           0.7905424237251282,
           1.000000238418579,
           0.3146311044692993,
           0.5152167677879333,
           0.5153481364250183,
           0.5694023370742798,
           0.77131187915802,
           0.3270060420036316,
           0.3493853211402893,
           0.7240056991577148,
           0.7871217131614685,
           0.6878757476806641,
           0.35066691040992737,
           0.5907933712005615,
           0.6654688715934753,
           0.7591061592102051,
           0.7676233053207397,
           0.6483051776885986,
           0.7778976559638977,
           0.7487375736236572,
           0.6796513795852661,
           0.548875093460083,
           0.3475162982940674,
           0.7435085773468018,
           0.8206548690795898,
           0.3193899691104889,
           0.6530910730361938,
           0.7878513336181641,
           0.7442516088485718,
           0.6013540029525757
          ],
          [
           0.3361045718193054,
           0.4414525628089905,
           0.20276197791099548,
           0.45531994104385376,
           0.6920168399810791,
           0.6357738971710205,
           0.47067683935165405,
           0.5063205361366272,
           0.39266738295555115,
           0.3269747495651245,
           0.2898488938808441,
           0.36539337038993835,
           0.5936579704284668,
           0.4207417964935303,
           0.29131069779396057,
           0.47481486201286316,
           0.521525502204895,
           0.2946299910545349,
           0.2979254722595215,
           0.37008893489837646,
           0.4934678077697754,
           0.9968020915985107,
           0.45202064514160156,
           0.46715137362480164,
           0.4150983691215515,
           0.44961458444595337,
           0.48169997334480286,
           0.525784969329834,
           0.3370071053504944,
           0.5169546604156494,
           0.2154073715209961,
           0.5080710649490356,
           0.995491087436676,
           0.3393678665161133,
           0.4057270884513855,
           0.3146311044692993,
           0.9999998211860657,
           0.2772834002971649,
           0.5010035037994385,
           0.3542514443397522,
           0.5359984040260315,
           0.920613169670105,
           0.9168944358825684,
           0.6063408851623535,
           0.4337179958820343,
           0.4440942406654358,
           0.9215095043182373,
           0.41047102212905884,
           0.5027340650558472,
           0.3515130281448364,
           0.33369681239128113,
           0.6128915548324585,
           0.2641538679599762,
           0.400789737701416,
           0.21065059304237366,
           0.2203645408153534,
           0.9245297312736511,
           0.2987493872642517,
           0.33145052194595337,
           0.9235923290252686,
           0.3604745864868164,
           0.2792971730232239,
           0.30825406312942505,
           0.6563702821731567
          ],
          [
           0.492440402507782,
           0.5270233154296875,
           0.5059580206871033,
           0.5511490106582642,
           0.4876255989074707,
           0.5148313045501709,
           0.474386066198349,
           0.47227269411087036,
           0.505573570728302,
           0.6819320917129517,
           0.3767175078392029,
           0.4818437099456787,
           0.49842196702957153,
           0.4967145323753357,
           0.3056492209434509,
           0.5632143020629883,
           0.5556353330612183,
           0.576250433921814,
           0.622754693031311,
           0.5532897710800171,
           0.4191414713859558,
           0.2754596173763275,
           0.4167436957359314,
           0.5401941537857056,
           0.5976431369781494,
           0.5074815154075623,
           0.6221481561660767,
           0.5163866877555847,
           0.41523975133895874,
           0.5106464624404907,
           0.4875684678554535,
           0.39419376850128174,
           0.2599177956581116,
           0.6466180086135864,
           0.5525044202804565,
           0.5152167677879333,
           0.2772834002971649,
           0.9999999403953552,
           0.4780101180076599,
           0.47415733337402344,
           0.4865586757659912,
           0.26981934905052185,
           0.27800464630126953,
           0.6314361095428467,
           0.49559861421585083,
           0.47642847895622253,
           0.28074392676353455,
           0.4374781847000122,
           0.5203230381011963,
           0.589398980140686,
           0.7392722368240356,
           0.44636255502700806,
           0.43587207794189453,
           0.5161585807800293,
           0.4780224561691284,
           0.5386443138122559,
           0.2839251160621643,
           0.4765583276748657,
           0.5639247894287109,
           0.26282018423080444,
           0.48094791173934937,
           0.49072331190109253,
           0.6518365144729614,
           0.5016855001449585
          ],
          [
           0.5156583786010742,
           0.7614757418632507,
           0.5126373767852783,
           0.6502141952514648,
           0.7624462842941284,
           0.8421752452850342,
           0.4619141221046448,
           0.4649442136287689,
           0.5598195791244507,
           0.5351643562316895,
           0.39956313371658325,
           0.3546069860458374,
           0.5809434652328491,
           0.7526944279670715,
           0.3894062042236328,
           0.4460352957248688,
           0.879616379737854,
           0.7015244960784912,
           0.4114071726799011,
           0.7504366040229797,
           0.46143093705177307,
           0.4917093813419342,
           0.5211158394813538,
           0.472988098859787,
           0.6195656061172485,
           0.48934096097946167,
           0.5641800761222839,
           0.8375356197357178,
           0.3452230989933014,
           0.5085917115211487,
           0.43787747621536255,
           0.3975374698638916,
           0.4828578531742096,
           0.5554009675979614,
           0.6084959506988525,
           0.5153481364250183,
           0.5010035037994385,
           0.4780101180076599,
           0.9999998807907104,
           0.5056855082511902,
           0.7911070585250854,
           0.5190671682357788,
           0.5322065949440002,
           0.5608441829681396,
           0.5532721877098083,
           0.48775744438171387,
           0.5357488393783569,
           0.4169839024543762,
           0.5273376703262329,
           0.5897347927093506,
           0.6060961484909058,
           0.5892761945724487,
           0.460111141204834,
           0.6532605886459351,
           0.567238450050354,
           0.4842783212661743,
           0.539487361907959,
           0.533324122428894,
           0.6333059072494507,
           0.5173405408859253,
           0.5293890237808228,
           0.605086088180542,
           0.5296884775161743,
           0.5534493923187256
          ],
          [
           0.5789032578468323,
           0.60758376121521,
           0.4906669557094574,
           0.6628761291503906,
           0.5148414373397827,
           0.6434324979782104,
           0.6973323822021484,
           0.5972534418106079,
           0.7385656833648682,
           0.6389424800872803,
           0.658854067325592,
           0.6902792453765869,
           0.6681448221206665,
           0.4306808114051819,
           0.5238813757896423,
           0.6717886328697205,
           0.5187811851501465,
           0.5740690231323242,
           0.6001479625701904,
           0.5894903540611267,
           0.6774333715438843,
           0.35020679235458374,
           0.6906942129135132,
           0.6878676414489746,
           0.6333386898040771,
           0.6333292126655579,
           0.6552560925483704,
           0.5912183523178101,
           0.7150661945343018,
           0.6333553791046143,
           0.612450897693634,
           0.5673010945320129,
           0.33002254366874695,
           0.6523299813270569,
           0.6728545427322388,
           0.5694023370742798,
           0.3542514443397522,
           0.47415733337402344,
           0.5056855082511902,
           0.9999997615814209,
           0.5937883853912354,
           0.3544342517852783,
           0.378273606300354,
           0.6219432353973389,
           0.6706271171569824,
           0.6272572875022888,
           0.3799223303794861,
           0.6690433025360107,
           0.7151503562927246,
           0.6605003476142883,
           0.5935975313186646,
           0.43342772126197815,
           0.5291386246681213,
           0.5553625822067261,
           0.6374068260192871,
           0.46158671379089355,
           0.3838410973548889,
           0.5670541524887085,
           0.6134308576583862,
           0.35602450370788574,
           0.8597388863563538,
           0.5363096594810486,
           0.6231534481048584,
           0.5961791276931763
          ],
          [
           0.7596073746681213,
           0.7446916103363037,
           0.5688937306404114,
           0.8087670207023621,
           0.769146740436554,
           0.9051023721694946,
           0.663667619228363,
           0.6435711979866028,
           0.7341288328170776,
           0.6704365015029907,
           0.5861185789108276,
           0.5323560833930969,
           0.6806327700614929,
           0.6933301687240601,
           0.7119811177253723,
           0.6020607948303223,
           0.8030019998550415,
           0.6708865165710449,
           0.5554143190383911,
           0.7458951473236084,
           0.6620276570320129,
           0.5289749503135681,
           0.7166674137115479,
           0.622824490070343,
           0.7612859010696411,
           0.6656181812286377,
           0.6858851909637451,
           0.9445781707763672,
           0.4843311309814453,
           0.6164968013763428,
           0.5547788739204407,
           0.5364370346069336,
           0.5100847482681274,
           0.6718404293060303,
           0.7558127641677856,
           0.77131187915802,
           0.5359984040260315,
           0.4865586757659912,
           0.7911070585250854,
           0.5937883853912354,
           1,
           0.5249924659729004,
           0.5457074642181396,
           0.7009083032608032,
           0.7653005719184875,
           0.6762959957122803,
           0.5538510084152222,
           0.5645231008529663,
           0.6706616878509521,
           0.6906956434249878,
           0.6539690494537354,
           0.779395580291748,
           0.6292331218719482,
           0.6597229242324829,
           0.6423922181129456,
           0.49918800592422485,
           0.5512531995773315,
           0.6044796109199524,
           0.6935087442398071,
           0.5189744234085083,
           0.6257665157318115,
           0.6586014032363892,
           0.686916708946228,
           0.6624999046325684
          ],
          [
           0.3566511869430542,
           0.4665530025959015,
           0.21674251556396484,
           0.4718981385231018,
           0.6956385374069214,
           0.6360120177268982,
           0.4649289846420288,
           0.5090101957321167,
           0.4185550808906555,
           0.32955804467201233,
           0.30560916662216187,
           0.36801961064338684,
           0.5761416554450989,
           0.435843825340271,
           0.310001939535141,
           0.462836891412735,
           0.5307691097259521,
           0.3240571618080139,
           0.30342474579811096,
           0.39919525384902954,
           0.49288392066955566,
           0.9237297177314758,
           0.4636472463607788,
           0.4885196089744568,
           0.4222416281700134,
           0.44263356924057007,
           0.4681857228279114,
           0.5401934385299683,
           0.3270401954650879,
           0.526822566986084,
           0.22901077568531036,
           0.49936968088150024,
           0.9216819405555725,
           0.3321434557437897,
           0.42399880290031433,
           0.3270060420036316,
           0.920613169670105,
           0.26981934905052185,
           0.5190671682357788,
           0.3544342517852783,
           0.5249924659729004,
           0.9999998211860657,
           0.9850254058837891,
           0.6105417013168335,
           0.4488041400909424,
           0.4372164309024811,
           0.9880938529968262,
           0.42097949981689453,
           0.5210498571395874,
           0.3505917191505432,
           0.33984291553497314,
           0.6009321212768555,
           0.32776445150375366,
           0.4414951801300049,
           0.2229202687740326,
           0.23971395194530487,
           0.9888488054275513,
           0.329487144947052,
           0.35771313309669495,
           0.9956291913986206,
           0.3805094063282013,
           0.30020540952682495,
           0.30970364809036255,
           0.6518210172653198
          ],
          [
           0.37895119190216064,
           0.47470623254776,
           0.23453830182552338,
           0.4961148500442505,
           0.6963524222373962,
           0.6456307172775269,
           0.4862387180328369,
           0.5362386107444763,
           0.4487696588039398,
           0.3393940031528473,
           0.33262380957603455,
           0.38955962657928467,
           0.6066869497299194,
           0.44945257902145386,
           0.34145933389663696,
           0.4778415858745575,
           0.5460420846939087,
           0.34491801261901855,
           0.3171883225440979,
           0.4135860204696655,
           0.529049813747406,
           0.9260605573654175,
           0.4774249792098999,
           0.5015752911567688,
           0.4364762604236603,
           0.45870959758758545,
           0.47992217540740967,
           0.5514057874679565,
           0.33054038882255554,
           0.5516251921653748,
           0.24686358869075775,
           0.5236961245536804,
           0.9091354608535767,
           0.3476887047290802,
           0.45192867517471313,
           0.3493853211402893,
           0.9168944358825684,
           0.27800464630126953,
           0.5322065949440002,
           0.378273606300354,
           0.5457074642181396,
           0.9850254058837891,
           0.9999998807907104,
           0.6229398250579834,
           0.47750362753868103,
           0.4575526714324951,
           0.9945833683013916,
           0.4537152349948883,
           0.5485290884971619,
           0.3717551827430725,
           0.357663631439209,
           0.6116986274719238,
           0.340880423784256,
           0.4555647671222687,
           0.2515069842338562,
           0.25214388966560364,
           0.9919275045394897,
           0.3487243056297302,
           0.38591325283050537,
           0.9878033399581909,
           0.407145231962204,
           0.31920212507247925,
           0.3283526599407196,
           0.6813924312591553
          ],
          [
           0.7618241310119629,
           0.7075010538101196,
           0.5825855731964111,
           0.8432477712631226,
           0.7372255325317383,
           0.7495598196983337,
           0.8462850451469421,
           0.8502742052078247,
           0.8242151141166687,
           0.7897840738296509,
           0.7100934386253357,
           0.6749329566955566,
           0.8372723460197449,
           0.5708340406417847,
           0.6944140195846558,
           0.7861346006393433,
           0.6794309020042419,
           0.6686044931411743,
           0.6741346120834351,
           0.6683356761932373,
           0.8009265661239624,
           0.6029970645904541,
           0.7829761505126953,
           0.831078827381134,
           0.7988519668579102,
           0.8185144066810608,
           0.7890334129333496,
           0.7137396335601807,
           0.5276627540588379,
           0.8348468542098999,
           0.6460719704627991,
           0.7067777514457703,
           0.5849122405052185,
           0.7123653888702393,
           0.8104867935180664,
           0.7240056991577148,
           0.6063408851623535,
           0.6314361095428467,
           0.5608441829681396,
           0.6219432353973389,
           0.7009083032608032,
           0.6105417013168335,
           0.6229398250579834,
           0.9999996423721313,
           0.8397506475448608,
           0.7813397645950317,
           0.6227632761001587,
           0.7288358807563782,
           0.8296022415161133,
           0.7248841524124146,
           0.7227635383605957,
           0.7660342454910278,
           0.6601285934448242,
           0.7024908065795898,
           0.637895941734314,
           0.57265305519104,
           0.6260088682174683,
           0.6180879473686218,
           0.7304021120071411,
           0.6066737174987793,
           0.731914758682251,
           0.6159066557884216,
           0.7331362366676331,
           0.8829723596572876
          ],
          [
           0.8162766695022583,
           0.6596519947052002,
           0.5987015962600708,
           0.9120371341705322,
           0.641028881072998,
           0.7585383057594299,
           0.8032033443450928,
           0.7940375804901123,
           0.8784937858581543,
           0.7915377616882324,
           0.8493859767913818,
           0.6701347827911377,
           0.8057145476341248,
           0.5190644264221191,
           0.8126808404922485,
           0.7065972089767456,
           0.6217315196990967,
           0.6425018310546875,
           0.6273497939109802,
           0.7186247706413269,
           0.8591322898864746,
           0.43079817295074463,
           0.79437255859375,
           0.7451456189155579,
           0.7963075637817383,
           0.8227948546409607,
           0.7240803241729736,
           0.7541853189468384,
           0.5295747518539429,
           0.8235176801681519,
           0.7117565870285034,
           0.7058911323547363,
           0.41007286310195923,
           0.7007743120193481,
           0.8274611234664917,
           0.7871217131614685,
           0.4337179958820343,
           0.49559861421585083,
           0.5532721877098083,
           0.6706271171569824,
           0.7653005719184875,
           0.4488041400909424,
           0.47750362753868103,
           0.8397506475448608,
           1.0000001192092896,
           0.7866204380989075,
           0.47405898571014404,
           0.7523833513259888,
           0.8143479824066162,
           0.7422647476196289,
           0.6755211353302002,
           0.722953200340271,
           0.692419171333313,
           0.6609889268875122,
           0.7090110778808594,
           0.5372570753097534,
           0.47420886158943176,
           0.6129886507987976,
           0.7565038204193115,
           0.44788694381713867,
           0.758255660533905,
           0.6325851678848267,
           0.7279601097106934,
           0.7840931415557861
          ],
          [
           0.724155068397522,
           0.6254537105560303,
           0.5586391687393188,
           0.8056321144104004,
           0.6277390718460083,
           0.7125452756881714,
           0.8750144839286804,
           0.7685756683349609,
           0.7732775211334229,
           0.6948339939117432,
           0.7509961724281311,
           0.7667871713638306,
           0.7510353326797485,
           0.48552030324935913,
           0.6877725124359131,
           0.77956223487854,
           0.5720902681350708,
           0.5798301100730896,
           0.6703065633773804,
           0.5954424738883972,
           0.8187747001647949,
           0.4402749538421631,
           0.8180438876152039,
           0.7854604721069336,
           0.7324481010437012,
           0.8460026979446411,
           0.7192519903182983,
           0.6999303102493286,
           0.6488487720489502,
           0.7454712390899658,
           0.6242026686668396,
           0.6895428895950317,
           0.4223926067352295,
           0.6851270198822021,
           0.7626415491104126,
           0.6878757476806641,
           0.4440942406654358,
           0.47642847895622253,
           0.48775744438171387,
           0.6272572875022888,
           0.6762959957122803,
           0.4372164309024811,
           0.4575526714324951,
           0.7813397645950317,
           0.7866204380989075,
           0.9999998211860657,
           0.45280227065086365,
           0.7856897115707397,
           0.7908236980438232,
           0.6672455072402954,
           0.585353672504425,
           0.6203252673149109,
           0.6227970123291016,
           0.623044490814209,
           0.6254059076309204,
           0.45519793033599854,
           0.45566263794898987,
           0.5727978944778442,
           0.6495997309684753,
           0.4324648082256317,
           0.6833754777908325,
           0.5546289682388306,
           0.6756865978240967,
           0.6969727873802185
          ],
          [
           0.38112062215805054,
           0.4819326102733612,
           0.22491085529327393,
           0.4945169687271118,
           0.7016057968139648,
           0.6507446765899658,
           0.48313063383102417,
           0.5389608144760132,
           0.44690394401550293,
           0.34374263882637024,
           0.33117935061454773,
           0.3857962489128113,
           0.6014689207077026,
           0.44326096773147583,
           0.3427130877971649,
           0.4752310514450073,
           0.544646143913269,
           0.3422737419605255,
           0.3168487846851349,
           0.41869932413101196,
           0.5228591561317444,
           0.9281964302062988,
           0.4740557074546814,
           0.49982404708862305,
           0.43968844413757324,
           0.45359909534454346,
           0.48553669452667236,
           0.5571156740188599,
           0.3334333002567291,
           0.5453290343284607,
           0.2491428256034851,
           0.5261287093162537,
           0.9136130809783936,
           0.34938865900039673,
           0.44837117195129395,
           0.35066691040992737,
           0.9215095043182373,
           0.28074392676353455,
           0.5357488393783569,
           0.3799223303794861,
           0.5538510084152222,
           0.9880938529968262,
           0.9945833683013916,
           0.6227632761001587,
           0.47405898571014404,
           0.45280227065086365,
           0.9999998807907104,
           0.4432525634765625,
           0.5450723171234131,
           0.369759738445282,
           0.35947659611701965,
           0.6174829006195068,
           0.34243524074554443,
           0.450149267911911,
           0.24328739941120148,
           0.24866122007369995,
           0.9949867725372314,
           0.34565669298171997,
           0.3837217688560486,
           0.9889470934867859,
           0.40364307165145874,
           0.31364762783050537,
           0.3335069417953491,
           0.6821649074554443
          ],
          [
           0.6355127096176147,
           0.5726871490478516,
           0.48773109912872314,
           0.7459719181060791,
           0.5396100878715515,
           0.6330021619796753,
           0.8609957098960876,
           0.6998836398124695,
           0.7580523490905762,
           0.6519559621810913,
           0.7384909391403198,
           0.8890143632888794,
           0.826331615447998,
           0.3769966661930084,
           0.6604670286178589,
           0.8872607946395874,
           0.46048977971076965,
           0.5326175689697266,
           0.7517492771148682,
           0.5316953659057617,
           0.8734704852104187,
           0.4131583273410797,
           0.828994870185852,
           0.8199558258056641,
           0.7089040279388428,
           0.8640686273574829,
           0.7075138092041016,
           0.5353718996047974,
           0.7530868053436279,
           0.769848644733429,
           0.5727084279060364,
           0.7406963109970093,
           0.3868216276168823,
           0.7210769653320312,
           0.7285245656967163,
           0.5907933712005615,
           0.41047102212905884,
           0.4374781847000122,
           0.4169839024543762,
           0.6690433025360107,
           0.5645231008529663,
           0.42097949981689453,
           0.4537152349948883,
           0.7288358807563782,
           0.7523833513259888,
           0.7856897115707397,
           0.4432525634765625,
           0.9999996423721313,
           0.8866697549819946,
           0.6670252084732056,
           0.5502090454101562,
           0.5022938847541809,
           0.5762336254119873,
           0.5589237213134766,
           0.5814731121063232,
           0.4453088641166687,
           0.44451621174812317,
           0.5302942991256714,
           0.6215800642967224,
           0.42221495509147644,
           0.6891994476318359,
           0.4915800392627716,
           0.6590846180915833,
           0.686406135559082
          ],
          [
           0.7060805559158325,
           0.6762146949768066,
           0.5551782846450806,
           0.8024852871894836,
           0.6753590106964111,
           0.7345066070556641,
           0.8634357452392578,
           0.8032819628715515,
           0.8361486196517944,
           0.7089141011238098,
           0.7486312389373779,
           0.8734190464019775,
           0.8957486152648926,
           0.5154917240142822,
           0.7189292311668396,
           0.8514258861541748,
           0.6044813394546509,
           0.6335580348968506,
           0.7298130989074707,
           0.6097023487091064,
           0.8768554329872131,
           0.5023984313011169,
           0.840657114982605,
           0.8595588207244873,
           0.7776939868927002,
           0.8299130201339722,
           0.763342022895813,
           0.6491173505783081,
           0.7414510250091553,
           0.8192567229270935,
           0.5992299318313599,
           0.780931830406189,
           0.477439284324646,
           0.7352229356765747,
           0.817621111869812,
           0.6654688715934753,
           0.5027340650558472,
           0.5203230381011963,
           0.5273376703262329,
           0.7151503562927246,
           0.6706616878509521,
           0.5210498571395874,
           0.5485290884971619,
           0.8296022415161133,
           0.8143479824066162,
           0.7908236980438232,
           0.5450723171234131,
           0.8866697549819946,
           1.0000001192092896,
           0.7379441261291504,
           0.6426253318786621,
           0.6224417686462402,
           0.6214349269866943,
           0.668704628944397,
           0.6392483711242676,
           0.5065271854400635,
           0.5435987710952759,
           0.5870002508163452,
           0.6873399019241333,
           0.518220067024231,
           0.7733542323112488,
           0.5584661960601807,
           0.7171689867973328,
           0.7865030765533447
          ],
          [
           0.7156563997268677,
           0.7403398156166077,
           0.638033926486969,
           0.7594612836837769,
           0.5790969729423523,
           0.7314460277557373,
           0.689188539981842,
           0.7045643329620361,
           0.8002992272377014,
           0.7651264667510986,
           0.6420570611953735,
           0.6064645051956177,
           0.6855695843696594,
           0.5604151487350464,
           0.5929825901985168,
           0.7086315155029297,
           0.6451495885848999,
           0.7568256855010986,
           0.7069498300552368,
           0.6577543020248413,
           0.6904479265213013,
           0.34348538517951965,
           0.6867474913597107,
           0.6950055360794067,
           0.8310218453407288,
           0.6762579083442688,
           0.8291530609130859,
           0.6994017362594604,
           0.5072933435440063,
           0.7074548006057739,
           0.538871169090271,
           0.599839448928833,
           0.324605256319046,
           0.9102427959442139,
           0.9119213819503784,
           0.7591061592102051,
           0.3515130281448364,
           0.589398980140686,
           0.5897347927093506,
           0.6605003476142883,
           0.6906956434249878,
           0.3505917191505432,
           0.3717551827430725,
           0.7248841524124146,
           0.7422647476196289,
           0.6672455072402954,
           0.369759738445282,
           0.6670252084732056,
           0.7379441261291504,
           0.9999998807907104,
           0.8252753019332886,
           0.5291045904159546,
           0.6684830784797668,
           0.6833627820014954,
           0.6856799721717834,
           0.5781412124633789,
           0.3751758635044098,
           0.6838797330856323,
           0.7464240193367004,
           0.34716200828552246,
           0.7361040115356445,
           0.7197191119194031,
           0.8776730895042419,
           0.6501730680465698
          ],
          [
           0.7139465808868408,
           0.7251523733139038,
           0.659713864326477,
           0.7279878854751587,
           0.5501471161842346,
           0.6587672233581543,
           0.5981323719024658,
           0.6315128803253174,
           0.7277384996414185,
           0.8183302879333496,
           0.5735950469970703,
           0.5058259963989258,
           0.6243115067481995,
           0.6000772714614868,
           0.5317212343215942,
           0.6032754182815552,
           0.6782616972923279,
           0.7895480394363403,
           0.6268173456192017,
           0.6812248229980469,
           0.6113003492355347,
           0.32980605959892273,
           0.5678197741508484,
           0.6121487617492676,
           0.7980550527572632,
           0.5944916009902954,
           0.7965420484542847,
           0.6802927255630493,
           0.40584343671798706,
           0.6780973672866821,
           0.6020203828811646,
           0.5342375040054321,
           0.3107838034629822,
           0.7699301242828369,
           0.7851650714874268,
           0.7676233053207397,
           0.33369681239128113,
           0.7392722368240356,
           0.6060961484909058,
           0.5935975313186646,
           0.6539690494537354,
           0.33984291553497314,
           0.357663631439209,
           0.7227635383605957,
           0.6755211353302002,
           0.585353672504425,
           0.35947659611701965,
           0.5502090454101562,
           0.6426253318786621,
           0.8252753019332886,
           0.9999997615814209,
           0.5289664268493652,
           0.6221469044685364,
           0.7360982894897461,
           0.6881576180458069,
           0.6544545888900757,
           0.3606409430503845,
           0.6615241169929504,
           0.7835395932197571,
           0.33578038215637207,
           0.6549038887023926,
           0.7369930744171143,
           0.8124436140060425,
           0.6088621616363525
          ],
          [
           0.6789228916168213,
           0.6080112457275391,
           0.3830510377883911,
           0.7009567022323608,
           0.786297082901001,
           0.7449163198471069,
           0.6149763464927673,
           0.589943528175354,
           0.6068606376647949,
           0.6097633242607117,
           0.4911137819290161,
           0.459422767162323,
           0.664175271987915,
           0.5263156890869141,
           0.715204119682312,
           0.5448336601257324,
           0.642796516418457,
           0.47085946798324585,
           0.43857085704803467,
           0.5804386138916016,
           0.6199425458908081,
           0.6057265400886536,
           0.6211881637573242,
           0.6013115048408508,
           0.6620465517044067,
           0.6209603548049927,
           0.6158105731010437,
           0.7684956789016724,
           0.3708978593349457,
           0.5948254466056824,
           0.47288525104522705,
           0.5146493315696716,
           0.5931069850921631,
           0.505352258682251,
           0.6429290771484375,
           0.6483051776885986,
           0.6128915548324585,
           0.44636255502700806,
           0.5892761945724487,
           0.43342772126197815,
           0.779395580291748,
           0.6009321212768555,
           0.6116986274719238,
           0.7660342454910278,
           0.722953200340271,
           0.6203252673149109,
           0.6174829006195068,
           0.5022938847541809,
           0.6224417686462402,
           0.5291045904159546,
           0.5289664268493652,
           1.000000238418579,
           0.5144251585006714,
           0.5388503074645996,
           0.43288618326187134,
           0.4112008512020111,
           0.6189929246902466,
           0.47587716579437256,
           0.5527380108833313,
           0.5924745798110962,
           0.49126967787742615,
           0.5066457986831665,
           0.5707000494003296,
           0.7386125326156616
          ],
          [
           0.8273036479949951,
           0.5714351534843445,
           0.5545363426208496,
           0.7176790833473206,
           0.48945096135139465,
           0.5834084153175354,
           0.6358821392059326,
           0.6460345983505249,
           0.7237226963043213,
           0.6949485540390015,
           0.5946403741836548,
           0.5386098027229309,
           0.5727558135986328,
           0.4726085066795349,
           0.6570358276367188,
           0.5418027639389038,
           0.5411688685417175,
           0.6401803493499756,
           0.5047017931938171,
           0.642742395401001,
           0.6365153789520264,
           0.25828611850738525,
           0.6460540294647217,
           0.5882552862167358,
           0.6705426573753357,
           0.6181919574737549,
           0.6513893604278564,
           0.6150699853897095,
           0.42492061853408813,
           0.6499005556106567,
           0.6224330067634583,
           0.5459895133972168,
           0.2420593500137329,
           0.5706720352172852,
           0.7178620100021362,
           0.7778976559638977,
           0.2641538679599762,
           0.43587207794189453,
           0.460111141204834,
           0.5291386246681213,
           0.6292331218719482,
           0.32776445150375366,
           0.340880423784256,
           0.6601285934448242,
           0.692419171333313,
           0.6227970123291016,
           0.34243524074554443,
           0.5762336254119873,
           0.6214349269866943,
           0.6684830784797668,
           0.6221469044685364,
           0.5144251585006714,
           1,
           0.6789350509643555,
           0.6224442720413208,
           0.5260290503501892,
           0.3467150926589966,
           0.7980513572692871,
           0.7737380862236023,
           0.324218213558197,
           0.6460995674133301,
           0.6626853942871094,
           0.6522574424743652,
           0.5513615012168884
          ],
          [
           0.7525511980056763,
           0.6803895831108093,
           0.6523737907409668,
           0.7238017320632935,
           0.6039378643035889,
           0.677909791469574,
           0.5950517654418945,
           0.625636875629425,
           0.7053620219230652,
           0.7033911943435669,
           0.5574401617050171,
           0.511572003364563,
           0.6421884298324585,
           0.6701844930648804,
           0.5333023071289062,
           0.5705912113189697,
           0.7393561005592346,
           0.7963440418243408,
           0.5416586399078369,
           0.6646963953971863,
           0.6268424987792969,
           0.3988301753997803,
           0.5910161733627319,
           0.5890048742294312,
           0.7401111125946045,
           0.6153584718704224,
           0.6827825307846069,
           0.692449688911438,
           0.41391944885253906,
           0.6873036026954651,
           0.5376936793327332,
           0.5335825681686401,
           0.38398081064224243,
           0.6143844127655029,
           0.7190732955932617,
           0.7487375736236572,
           0.400789737701416,
           0.5161585807800293,
           0.6532605886459351,
           0.5553625822067261,
           0.6597229242324829,
           0.4414951801300049,
           0.4555647671222687,
           0.7024908065795898,
           0.6609889268875122,
           0.623044490814209,
           0.450149267911911,
           0.5589237213134766,
           0.668704628944397,
           0.6833627820014954,
           0.7360982894897461,
           0.5388503074645996,
           0.6789350509643555,
           0.9999997615814209,
           0.6771876811981201,
           0.6376423835754395,
           0.4511709213256836,
           0.6873108148574829,
           0.817345380783081,
           0.43389564752578735,
           0.6728591918945312,
           0.7475650906562805,
           0.661600649356842,
           0.5831214189529419
          ],
          [
           0.6938058137893677,
           0.635262668132782,
           0.7674148678779602,
           0.7221530079841614,
           0.45774686336517334,
           0.6271010637283325,
           0.6194957494735718,
           0.6117028594017029,
           0.7840834856033325,
           0.6925077438354492,
           0.6709174513816833,
           0.5270573496818542,
           0.6048582792282104,
           0.6627131104469299,
           0.5659723281860352,
           0.5859870910644531,
           0.7256885766983032,
           0.8358475565910339,
           0.6082200407981873,
           0.6466232538223267,
           0.6220409870147705,
           0.21017751097679138,
           0.6324259042739868,
           0.6141959428787231,
           0.7305223941802979,
           0.6067842841148376,
           0.6088179349899292,
           0.6770280599594116,
           0.4526960253715515,
           0.6071430444717407,
           0.6677758693695068,
           0.4800737500190735,
           0.18827593326568604,
           0.650933027267456,
           0.684660017490387,
           0.6796513795852661,
           0.21065059304237366,
           0.4780224561691284,
           0.567238450050354,
           0.6374068260192871,
           0.6423922181129456,
           0.2229202687740326,
           0.2515069842338562,
           0.637895941734314,
           0.7090110778808594,
           0.6254059076309204,
           0.24328739941120148,
           0.5814731121063232,
           0.6392483711242676,
           0.6856799721717834,
           0.6881576180458069,
           0.43288618326187134,
           0.6224442720413208,
           0.6771876811981201,
           0.9999997615814209,
           0.6775254011154175,
           0.24462303519248962,
           0.6148288249969482,
           0.774940013885498,
           0.22106969356536865,
           0.6957501173019409,
           0.672953724861145,
           0.6792876720428467,
           0.5403403043746948
          ],
          [
           0.5385254621505737,
           0.5209795236587524,
           0.7821338176727295,
           0.5523949265480042,
           0.44419461488723755,
           0.5191596150398254,
           0.45082616806030273,
           0.44731420278549194,
           0.5817327499389648,
           0.605485737323761,
           0.47798430919647217,
           0.41934776306152344,
           0.48190322518348694,
           0.7405765056610107,
           0.3874141275882721,
           0.5306171178817749,
           0.6475470066070557,
           0.6748020052909851,
           0.5513595342636108,
           0.5170872807502747,
           0.44940879940986633,
           0.21743062138557434,
           0.4469483196735382,
           0.5317457914352417,
           0.5938597917556763,
           0.4959856867790222,
           0.54111647605896,
           0.5681126117706299,
           0.27567052841186523,
           0.5124983787536621,
           0.5765998363494873,
           0.3269948363304138,
           0.2073671817779541,
           0.5958892703056335,
           0.583848237991333,
           0.548875093460083,
           0.2203645408153534,
           0.5386443138122559,
           0.4842783212661743,
           0.46158671379089355,
           0.49918800592422485,
           0.23971395194530487,
           0.25214388966560364,
           0.57265305519104,
           0.5372570753097534,
           0.45519793033599854,
           0.24866122007369995,
           0.4453088641166687,
           0.5065271854400635,
           0.5781412124633789,
           0.6544545888900757,
           0.4112008512020111,
           0.5260290503501892,
           0.6376423835754395,
           0.6775254011154175,
           1,
           0.24895203113555908,
           0.5646669864654541,
           0.6051151752471924,
           0.2370644509792328,
           0.5117771625518799,
           0.5710933208465576,
           0.599551260471344,
           0.43717285990715027
          ],
          [
           0.37995994091033936,
           0.4805232584476471,
           0.22222070395946503,
           0.4964715242385864,
           0.7112509608268738,
           0.6556763052940369,
           0.4866311550140381,
           0.5397900342941284,
           0.446512371301651,
           0.3448764383792877,
           0.3295583128929138,
           0.3888602554798126,
           0.6008721590042114,
           0.44431960582733154,
           0.3358045816421509,
           0.4790874123573303,
           0.5479908585548401,
           0.34297409653663635,
           0.3178271949291229,
           0.42180922627449036,
           0.5213801860809326,
           0.9258874654769897,
           0.4796234369277954,
           0.5054758787155151,
           0.438483327627182,
           0.4578642249107361,
           0.48897603154182434,
           0.5581573247909546,
           0.336637407541275,
           0.5452790260314941,
           0.24981841444969177,
           0.5245611667633057,
           0.9139851331710815,
           0.35487136244773865,
           0.450276255607605,
           0.3475162982940674,
           0.9245297312736511,
           0.2839251160621643,
           0.539487361907959,
           0.3838410973548889,
           0.5512531995773315,
           0.9888488054275513,
           0.9919275045394897,
           0.6260088682174683,
           0.47420886158943176,
           0.45566263794898987,
           0.9949867725372314,
           0.44451621174812317,
           0.5435987710952759,
           0.3751758635044098,
           0.3606409430503845,
           0.6189929246902466,
           0.3467150926589966,
           0.4511709213256836,
           0.24462303519248962,
           0.24895203113555908,
           0.9999998807907104,
           0.34902065992355347,
           0.3834056854248047,
           0.9922153949737549,
           0.40672817826271057,
           0.31410643458366394,
           0.3333532214164734,
           0.6828688383102417
          ],
          [
           0.7611370086669922,
           0.6136349439620972,
           0.547370433807373,
           0.6446040272712708,
           0.5091241002082825,
           0.5789318084716797,
           0.5837962627410889,
           0.5660210251808167,
           0.700406014919281,
           0.6768220067024231,
           0.504758894443512,
           0.5019223690032959,
           0.5522280931472778,
           0.4975244998931885,
           0.5353513956069946,
           0.5478172898292542,
           0.5647222399711609,
           0.6587548851966858,
           0.5476561188697815,
           0.6484066247940063,
           0.5775010585784912,
           0.29565900564193726,
           0.5797399282455444,
           0.5947527885437012,
           0.6740399599075317,
           0.5501024723052979,
           0.6680961847305298,
           0.5959171056747437,
           0.421241819858551,
           0.6004410982131958,
           0.5854257345199585,
           0.5076717138290405,
           0.2767854928970337,
           0.600672721862793,
           0.6997625827789307,
           0.7435085773468018,
           0.2987493872642517,
           0.4765583276748657,
           0.533324122428894,
           0.5670541524887085,
           0.6044796109199524,
           0.329487144947052,
           0.3487243056297302,
           0.6180879473686218,
           0.6129886507987976,
           0.5727978944778442,
           0.34565669298171997,
           0.5302942991256714,
           0.5870002508163452,
           0.6838797330856323,
           0.6615241169929504,
           0.47587716579437256,
           0.7980513572692871,
           0.6873108148574829,
           0.6148288249969482,
           0.5646669864654541,
           0.34902065992355347,
           1.000000238418579,
           0.7752490043640137,
           0.3259628415107727,
           0.6554546356201172,
           0.6767746806144714,
           0.6616273522377014,
           0.5323652029037476
          ],
          [
           0.8675241470336914,
           0.6819933652877808,
           0.6616518497467041,
           0.7869081497192383,
           0.5654259920120239,
           0.6670968532562256,
           0.653444766998291,
           0.6949305534362793,
           0.8069862127304077,
           0.7781069278717041,
           0.6441463232040405,
           0.5574266910552979,
           0.6700955629348755,
           0.6048500537872314,
           0.6393318176269531,
           0.5979653596878052,
           0.707030177116394,
           0.8005427122116089,
           0.6014450192451477,
           0.7311906814575195,
           0.7031222581863403,
           0.33096909523010254,
           0.6312482357025146,
           0.6250309944152832,
           0.7812850475311279,
           0.6440830230712891,
           0.702789843082428,
           0.6938680410385132,
           0.44364792108535767,
           0.7490753531455994,
           0.672316312789917,
           0.5898932218551636,
           0.3057297170162201,
           0.6546432375907898,
           0.7615288496017456,
           0.8206548690795898,
           0.33145052194595337,
           0.5639247894287109,
           0.6333059072494507,
           0.6134308576583862,
           0.6935087442398071,
           0.35771313309669495,
           0.38591325283050537,
           0.7304021120071411,
           0.7565038204193115,
           0.6495997309684753,
           0.3837217688560486,
           0.6215800642967224,
           0.6873399019241333,
           0.7464240193367004,
           0.7835395932197571,
           0.5527380108833313,
           0.7737380862236023,
           0.817345380783081,
           0.774940013885498,
           0.6051151752471924,
           0.3834056854248047,
           0.7752490043640137,
           1,
           0.3557645380496979,
           0.7270077466964722,
           0.7778610587120056,
           0.7308525443077087,
           0.6365962028503418
          ],
          [
           0.35273411870002747,
           0.45990002155303955,
           0.21261870861053467,
           0.47019657492637634,
           0.6895474195480347,
           0.6300323009490967,
           0.46399837732315063,
           0.5124477744102478,
           0.41746777296066284,
           0.32337719202041626,
           0.30577951669692993,
           0.365248441696167,
           0.576331377029419,
           0.4317970275878906,
           0.30865612626075745,
           0.4584486484527588,
           0.526123583316803,
           0.32021814584732056,
           0.29691600799560547,
           0.3973020315170288,
           0.4969860315322876,
           0.9265289306640625,
           0.4582512676715851,
           0.483860582113266,
           0.41540393233299255,
           0.4399273693561554,
           0.4640465974807739,
           0.5309944748878479,
           0.322237491607666,
           0.5249243378639221,
           0.22686979174613953,
           0.5012490749359131,
           0.923122763633728,
           0.3285529613494873,
           0.41989266872406006,
           0.3193899691104889,
           0.9235923290252686,
           0.26282018423080444,
           0.5173405408859253,
           0.35602450370788574,
           0.5189744234085083,
           0.9956291913986206,
           0.9878033399581909,
           0.6066737174987793,
           0.44788694381713867,
           0.4324648082256317,
           0.9889470934867859,
           0.42221495509147644,
           0.518220067024231,
           0.34716200828552246,
           0.33578038215637207,
           0.5924745798110962,
           0.324218213558197,
           0.43389564752578735,
           0.22106969356536865,
           0.2370644509792328,
           0.9922153949737549,
           0.3259628415107727,
           0.3557645380496979,
           1.000000238418579,
           0.37906378507614136,
           0.29428303241729736,
           0.30310559272766113,
           0.6544673442840576
          ],
          [
           0.7112226486206055,
           0.6350788474082947,
           0.5617098808288574,
           0.7525635957717896,
           0.5514578819274902,
           0.6715888977050781,
           0.7492949962615967,
           0.7321752309799194,
           0.8708444833755493,
           0.6940122246742249,
           0.7438833713531494,
           0.6821508407592773,
           0.7218442559242249,
           0.49848103523254395,
           0.6341949105262756,
           0.6859951019287109,
           0.5816714763641357,
           0.6701818704605103,
           0.6425073146820068,
           0.6489789485931396,
           0.7657886743545532,
           0.3575417995452881,
           0.7210599184036255,
           0.7423179149627686,
           0.7097623348236084,
           0.6784906387329102,
           0.6722827553749084,
           0.6235693693161011,
           0.6185452342033386,
           0.7294576168060303,
           0.6508661508560181,
           0.6426805853843689,
           0.3356647193431854,
           0.6928915977478027,
           0.7981197834014893,
           0.6530910730361938,
           0.3604745864868164,
           0.48094791173934937,
           0.5293890237808228,
           0.8597388863563538,
           0.6257665157318115,
           0.3805094063282013,
           0.407145231962204,
           0.731914758682251,
           0.758255660533905,
           0.6833754777908325,
           0.40364307165145874,
           0.6891994476318359,
           0.7733542323112488,
           0.7361040115356445,
           0.6549038887023926,
           0.49126967787742615,
           0.6460995674133301,
           0.6728591918945312,
           0.6957501173019409,
           0.5117771625518799,
           0.40672817826271057,
           0.6554546356201172,
           0.7270077466964722,
           0.37906378507614136,
           0.9999997615814209,
           0.6308053731918335,
           0.6871374845504761,
           0.683417797088623
          ],
          [
           0.788354754447937,
           0.6652495861053467,
           0.6478540897369385,
           0.6826602220535278,
           0.5018022656440735,
           0.6053627729415894,
           0.5260957479476929,
           0.5300657749176025,
           0.6765964031219482,
           0.6815773248672485,
           0.5497255921363831,
           0.4426063895225525,
           0.545251727104187,
           0.6120961308479309,
           0.5868574380874634,
           0.4870886504650116,
           0.6467835307121277,
           0.7484006881713867,
           0.4994555115699768,
           0.6573948860168457,
           0.5774523019790649,
           0.2752254903316498,
           0.5599617958068848,
           0.48883378505706787,
           0.7090771198272705,
           0.5467396378517151,
           0.6131589412689209,
           0.6572502255439758,
           0.3757975697517395,
           0.5894373655319214,
           0.533327043056488,
           0.49269020557403564,
           0.25947412848472595,
           0.6360509395599365,
           0.7266185283660889,
           0.7878513336181641,
           0.2792971730232239,
           0.49072331190109253,
           0.605086088180542,
           0.5363096594810486,
           0.6586014032363892,
           0.30020540952682495,
           0.31920212507247925,
           0.6159066557884216,
           0.6325851678848267,
           0.5546289682388306,
           0.31364762783050537,
           0.4915800392627716,
           0.5584661960601807,
           0.7197191119194031,
           0.7369930744171143,
           0.5066457986831665,
           0.6626853942871094,
           0.7475650906562805,
           0.672953724861145,
           0.5710933208465576,
           0.31410643458366394,
           0.6767746806144714,
           0.7778610587120056,
           0.29428303241729736,
           0.6308053731918335,
           1.000000238418579,
           0.6741915941238403,
           0.492672324180603
          ],
          [
           0.7164134979248047,
           0.6765424013137817,
           0.5968374609947205,
           0.7390631437301636,
           0.5635399222373962,
           0.6714737415313721,
           0.6830090284347534,
           0.6472307443618774,
           0.7619805932044983,
           0.7833724617958069,
           0.6060691475868225,
           0.6276525855064392,
           0.6505680084228516,
           0.5277825593948364,
           0.6012329459190369,
           0.7303520441055298,
           0.6175965070724487,
           0.721802294254303,
           0.7354305982589722,
           0.6494414806365967,
           0.6434038877487183,
           0.3039624094963074,
           0.6539329290390015,
           0.7157411575317383,
           0.8200464248657227,
           0.6812576651573181,
           0.8118587732315063,
           0.678605318069458,
           0.5051908493041992,
           0.6453738212585449,
           0.5804660320281982,
           0.5493817925453186,
           0.2827560603618622,
           0.856357216835022,
           0.7980632781982422,
           0.7442516088485718,
           0.30825406312942505,
           0.6518365144729614,
           0.5296884775161743,
           0.6231534481048584,
           0.686916708946228,
           0.30970364809036255,
           0.3283526599407196,
           0.7331362366676331,
           0.7279601097106934,
           0.6756865978240967,
           0.3335069417953491,
           0.6590846180915833,
           0.7171689867973328,
           0.8776730895042419,
           0.8124436140060425,
           0.5707000494003296,
           0.6522574424743652,
           0.661600649356842,
           0.6792876720428467,
           0.599551260471344,
           0.3333532214164734,
           0.6616273522377014,
           0.7308525443077087,
           0.30310559272766113,
           0.6871374845504761,
           0.6741915941238403,
           1.0000001192092896,
           0.6378741264343262
          ],
          [
           0.6362395882606506,
           0.6751006841659546,
           0.4178674817085266,
           0.7515225410461426,
           0.7229483127593994,
           0.7185081839561462,
           0.7833300828933716,
           0.8020578026771545,
           0.7934064865112305,
           0.6579997539520264,
           0.6632958650588989,
           0.6177439093589783,
           0.849199652671814,
           0.44648444652557373,
           0.607310950756073,
           0.6947636008262634,
           0.6143685579299927,
           0.5763407945632935,
           0.5398865342140198,
           0.6512615084648132,
           0.7913367748260498,
           0.6566527485847473,
           0.7045068740844727,
           0.7563422918319702,
           0.7350542545318604,
           0.7016010880470276,
           0.72965008020401,
           0.6433957815170288,
           0.4722306728363037,
           0.7938543558120728,
           0.5817134976387024,
           0.71663498878479,
           0.6289407014846802,
           0.6216247081756592,
           0.7389345169067383,
           0.6013540029525757,
           0.6563702821731567,
           0.5016855001449585,
           0.5534493923187256,
           0.5961791276931763,
           0.6624999046325684,
           0.6518210172653198,
           0.6813924312591553,
           0.8829723596572876,
           0.7840931415557861,
           0.6969727873802185,
           0.6821649074554443,
           0.686406135559082,
           0.7865030765533447,
           0.6501730680465698,
           0.6088621616363525,
           0.7386125326156616,
           0.5513615012168884,
           0.5831214189529419,
           0.5403403043746948,
           0.43717285990715027,
           0.6828688383102417,
           0.5323652029037476,
           0.6365962028503418,
           0.6544673442840576,
           0.683417797088623,
           0.492672324180603,
           0.6378741264343262,
           1.0000005960464478
          ]
         ]
        }
       ],
       "layout": {
        "coloraxis": {
         "colorbar": {
          "title": {
           "text": "Similarity Score"
          }
         },
         "colorscale": [
          [
           0,
           "rgb(247,252,240)"
          ],
          [
           0.125,
           "rgb(224,243,219)"
          ],
          [
           0.25,
           "rgb(204,235,197)"
          ],
          [
           0.375,
           "rgb(168,221,181)"
          ],
          [
           0.5,
           "rgb(123,204,196)"
          ],
          [
           0.625,
           "rgb(78,179,211)"
          ],
          [
           0.75,
           "rgb(43,140,190)"
          ],
          [
           0.875,
           "rgb(8,104,172)"
          ],
          [
           1,
           "rgb(8,64,129)"
          ]
         ]
        },
        "height": 800,
        "hoverlabel": {
         "bgcolor": "white",
         "font": {
          "family": "Rockwell",
          "size": 16
         }
        },
        "legend": {
         "title": {
          "text": "Trend"
         }
        },
        "margin": {
         "t": 60
        },
        "showlegend": true,
        "template": {
         "data": {
          "bar": [
           {
            "error_x": {
             "color": "#2a3f5f"
            },
            "error_y": {
             "color": "#2a3f5f"
            },
            "marker": {
             "line": {
              "color": "#E5ECF6",
              "width": 0.5
             },
             "pattern": {
              "fillmode": "overlay",
              "size": 10,
              "solidity": 0.2
             }
            },
            "type": "bar"
           }
          ],
          "barpolar": [
           {
            "marker": {
             "line": {
              "color": "#E5ECF6",
              "width": 0.5
             },
             "pattern": {
              "fillmode": "overlay",
              "size": 10,
              "solidity": 0.2
             }
            },
            "type": "barpolar"
           }
          ],
          "carpet": [
           {
            "aaxis": {
             "endlinecolor": "#2a3f5f",
             "gridcolor": "white",
             "linecolor": "white",
             "minorgridcolor": "white",
             "startlinecolor": "#2a3f5f"
            },
            "baxis": {
             "endlinecolor": "#2a3f5f",
             "gridcolor": "white",
             "linecolor": "white",
             "minorgridcolor": "white",
             "startlinecolor": "#2a3f5f"
            },
            "type": "carpet"
           }
          ],
          "choropleth": [
           {
            "colorbar": {
             "outlinewidth": 0,
             "ticks": ""
            },
            "type": "choropleth"
           }
          ],
          "contour": [
           {
            "colorbar": {
             "outlinewidth": 0,
             "ticks": ""
            },
            "colorscale": [
             [
              0,
              "#0d0887"
             ],
             [
              0.1111111111111111,
              "#46039f"
             ],
             [
              0.2222222222222222,
              "#7201a8"
             ],
             [
              0.3333333333333333,
              "#9c179e"
             ],
             [
              0.4444444444444444,
              "#bd3786"
             ],
             [
              0.5555555555555556,
              "#d8576b"
             ],
             [
              0.6666666666666666,
              "#ed7953"
             ],
             [
              0.7777777777777778,
              "#fb9f3a"
             ],
             [
              0.8888888888888888,
              "#fdca26"
             ],
             [
              1,
              "#f0f921"
             ]
            ],
            "type": "contour"
           }
          ],
          "contourcarpet": [
           {
            "colorbar": {
             "outlinewidth": 0,
             "ticks": ""
            },
            "type": "contourcarpet"
           }
          ],
          "heatmap": [
           {
            "colorbar": {
             "outlinewidth": 0,
             "ticks": ""
            },
            "colorscale": [
             [
              0,
              "#0d0887"
             ],
             [
              0.1111111111111111,
              "#46039f"
             ],
             [
              0.2222222222222222,
              "#7201a8"
             ],
             [
              0.3333333333333333,
              "#9c179e"
             ],
             [
              0.4444444444444444,
              "#bd3786"
             ],
             [
              0.5555555555555556,
              "#d8576b"
             ],
             [
              0.6666666666666666,
              "#ed7953"
             ],
             [
              0.7777777777777778,
              "#fb9f3a"
             ],
             [
              0.8888888888888888,
              "#fdca26"
             ],
             [
              1,
              "#f0f921"
             ]
            ],
            "type": "heatmap"
           }
          ],
          "heatmapgl": [
           {
            "colorbar": {
             "outlinewidth": 0,
             "ticks": ""
            },
            "colorscale": [
             [
              0,
              "#0d0887"
             ],
             [
              0.1111111111111111,
              "#46039f"
             ],
             [
              0.2222222222222222,
              "#7201a8"
             ],
             [
              0.3333333333333333,
              "#9c179e"
             ],
             [
              0.4444444444444444,
              "#bd3786"
             ],
             [
              0.5555555555555556,
              "#d8576b"
             ],
             [
              0.6666666666666666,
              "#ed7953"
             ],
             [
              0.7777777777777778,
              "#fb9f3a"
             ],
             [
              0.8888888888888888,
              "#fdca26"
             ],
             [
              1,
              "#f0f921"
             ]
            ],
            "type": "heatmapgl"
           }
          ],
          "histogram": [
           {
            "marker": {
             "pattern": {
              "fillmode": "overlay",
              "size": 10,
              "solidity": 0.2
             }
            },
            "type": "histogram"
           }
          ],
          "histogram2d": [
           {
            "colorbar": {
             "outlinewidth": 0,
             "ticks": ""
            },
            "colorscale": [
             [
              0,
              "#0d0887"
             ],
             [
              0.1111111111111111,
              "#46039f"
             ],
             [
              0.2222222222222222,
              "#7201a8"
             ],
             [
              0.3333333333333333,
              "#9c179e"
             ],
             [
              0.4444444444444444,
              "#bd3786"
             ],
             [
              0.5555555555555556,
              "#d8576b"
             ],
             [
              0.6666666666666666,
              "#ed7953"
             ],
             [
              0.7777777777777778,
              "#fb9f3a"
             ],
             [
              0.8888888888888888,
              "#fdca26"
             ],
             [
              1,
              "#f0f921"
             ]
            ],
            "type": "histogram2d"
           }
          ],
          "histogram2dcontour": [
           {
            "colorbar": {
             "outlinewidth": 0,
             "ticks": ""
            },
            "colorscale": [
             [
              0,
              "#0d0887"
             ],
             [
              0.1111111111111111,
              "#46039f"
             ],
             [
              0.2222222222222222,
              "#7201a8"
             ],
             [
              0.3333333333333333,
              "#9c179e"
             ],
             [
              0.4444444444444444,
              "#bd3786"
             ],
             [
              0.5555555555555556,
              "#d8576b"
             ],
             [
              0.6666666666666666,
              "#ed7953"
             ],
             [
              0.7777777777777778,
              "#fb9f3a"
             ],
             [
              0.8888888888888888,
              "#fdca26"
             ],
             [
              1,
              "#f0f921"
             ]
            ],
            "type": "histogram2dcontour"
           }
          ],
          "mesh3d": [
           {
            "colorbar": {
             "outlinewidth": 0,
             "ticks": ""
            },
            "type": "mesh3d"
           }
          ],
          "parcoords": [
           {
            "line": {
             "colorbar": {
              "outlinewidth": 0,
              "ticks": ""
             }
            },
            "type": "parcoords"
           }
          ],
          "pie": [
           {
            "automargin": true,
            "type": "pie"
           }
          ],
          "scatter": [
           {
            "fillpattern": {
             "fillmode": "overlay",
             "size": 10,
             "solidity": 0.2
            },
            "type": "scatter"
           }
          ],
          "scatter3d": [
           {
            "line": {
             "colorbar": {
              "outlinewidth": 0,
              "ticks": ""
             }
            },
            "marker": {
             "colorbar": {
              "outlinewidth": 0,
              "ticks": ""
             }
            },
            "type": "scatter3d"
           }
          ],
          "scattercarpet": [
           {
            "marker": {
             "colorbar": {
              "outlinewidth": 0,
              "ticks": ""
             }
            },
            "type": "scattercarpet"
           }
          ],
          "scattergeo": [
           {
            "marker": {
             "colorbar": {
              "outlinewidth": 0,
              "ticks": ""
             }
            },
            "type": "scattergeo"
           }
          ],
          "scattergl": [
           {
            "marker": {
             "colorbar": {
              "outlinewidth": 0,
              "ticks": ""
             }
            },
            "type": "scattergl"
           }
          ],
          "scattermapbox": [
           {
            "marker": {
             "colorbar": {
              "outlinewidth": 0,
              "ticks": ""
             }
            },
            "type": "scattermapbox"
           }
          ],
          "scatterpolar": [
           {
            "marker": {
             "colorbar": {
              "outlinewidth": 0,
              "ticks": ""
             }
            },
            "type": "scatterpolar"
           }
          ],
          "scatterpolargl": [
           {
            "marker": {
             "colorbar": {
              "outlinewidth": 0,
              "ticks": ""
             }
            },
            "type": "scatterpolargl"
           }
          ],
          "scatterternary": [
           {
            "marker": {
             "colorbar": {
              "outlinewidth": 0,
              "ticks": ""
             }
            },
            "type": "scatterternary"
           }
          ],
          "surface": [
           {
            "colorbar": {
             "outlinewidth": 0,
             "ticks": ""
            },
            "colorscale": [
             [
              0,
              "#0d0887"
             ],
             [
              0.1111111111111111,
              "#46039f"
             ],
             [
              0.2222222222222222,
              "#7201a8"
             ],
             [
              0.3333333333333333,
              "#9c179e"
             ],
             [
              0.4444444444444444,
              "#bd3786"
             ],
             [
              0.5555555555555556,
              "#d8576b"
             ],
             [
              0.6666666666666666,
              "#ed7953"
             ],
             [
              0.7777777777777778,
              "#fb9f3a"
             ],
             [
              0.8888888888888888,
              "#fdca26"
             ],
             [
              1,
              "#f0f921"
             ]
            ],
            "type": "surface"
           }
          ],
          "table": [
           {
            "cells": {
             "fill": {
              "color": "#EBF0F8"
             },
             "line": {
              "color": "white"
             }
            },
            "header": {
             "fill": {
              "color": "#C8D4E3"
             },
             "line": {
              "color": "white"
             }
            },
            "type": "table"
           }
          ]
         },
         "layout": {
          "annotationdefaults": {
           "arrowcolor": "#2a3f5f",
           "arrowhead": 0,
           "arrowwidth": 1
          },
          "autotypenumbers": "strict",
          "coloraxis": {
           "colorbar": {
            "outlinewidth": 0,
            "ticks": ""
           }
          },
          "colorscale": {
           "diverging": [
            [
             0,
             "#8e0152"
            ],
            [
             0.1,
             "#c51b7d"
            ],
            [
             0.2,
             "#de77ae"
            ],
            [
             0.3,
             "#f1b6da"
            ],
            [
             0.4,
             "#fde0ef"
            ],
            [
             0.5,
             "#f7f7f7"
            ],
            [
             0.6,
             "#e6f5d0"
            ],
            [
             0.7,
             "#b8e186"
            ],
            [
             0.8,
             "#7fbc41"
            ],
            [
             0.9,
             "#4d9221"
            ],
            [
             1,
             "#276419"
            ]
           ],
           "sequential": [
            [
             0,
             "#0d0887"
            ],
            [
             0.1111111111111111,
             "#46039f"
            ],
            [
             0.2222222222222222,
             "#7201a8"
            ],
            [
             0.3333333333333333,
             "#9c179e"
            ],
            [
             0.4444444444444444,
             "#bd3786"
            ],
            [
             0.5555555555555556,
             "#d8576b"
            ],
            [
             0.6666666666666666,
             "#ed7953"
            ],
            [
             0.7777777777777778,
             "#fb9f3a"
            ],
            [
             0.8888888888888888,
             "#fdca26"
            ],
            [
             1,
             "#f0f921"
            ]
           ],
           "sequentialminus": [
            [
             0,
             "#0d0887"
            ],
            [
             0.1111111111111111,
             "#46039f"
            ],
            [
             0.2222222222222222,
             "#7201a8"
            ],
            [
             0.3333333333333333,
             "#9c179e"
            ],
            [
             0.4444444444444444,
             "#bd3786"
            ],
            [
             0.5555555555555556,
             "#d8576b"
            ],
            [
             0.6666666666666666,
             "#ed7953"
            ],
            [
             0.7777777777777778,
             "#fb9f3a"
            ],
            [
             0.8888888888888888,
             "#fdca26"
            ],
            [
             1,
             "#f0f921"
            ]
           ]
          },
          "colorway": [
           "#636efa",
           "#EF553B",
           "#00cc96",
           "#ab63fa",
           "#FFA15A",
           "#19d3f3",
           "#FF6692",
           "#B6E880",
           "#FF97FF",
           "#FECB52"
          ],
          "font": {
           "color": "#2a3f5f"
          },
          "geo": {
           "bgcolor": "white",
           "lakecolor": "white",
           "landcolor": "#E5ECF6",
           "showlakes": true,
           "showland": true,
           "subunitcolor": "white"
          },
          "hoverlabel": {
           "align": "left"
          },
          "hovermode": "closest",
          "mapbox": {
           "style": "light"
          },
          "paper_bgcolor": "white",
          "plot_bgcolor": "#E5ECF6",
          "polar": {
           "angularaxis": {
            "gridcolor": "white",
            "linecolor": "white",
            "ticks": ""
           },
           "bgcolor": "#E5ECF6",
           "radialaxis": {
            "gridcolor": "white",
            "linecolor": "white",
            "ticks": ""
           }
          },
          "scene": {
           "xaxis": {
            "backgroundcolor": "#E5ECF6",
            "gridcolor": "white",
            "gridwidth": 2,
            "linecolor": "white",
            "showbackground": true,
            "ticks": "",
            "zerolinecolor": "white"
           },
           "yaxis": {
            "backgroundcolor": "#E5ECF6",
            "gridcolor": "white",
            "gridwidth": 2,
            "linecolor": "white",
            "showbackground": true,
            "ticks": "",
            "zerolinecolor": "white"
           },
           "zaxis": {
            "backgroundcolor": "#E5ECF6",
            "gridcolor": "white",
            "gridwidth": 2,
            "linecolor": "white",
            "showbackground": true,
            "ticks": "",
            "zerolinecolor": "white"
           }
          },
          "shapedefaults": {
           "line": {
            "color": "#2a3f5f"
           }
          },
          "ternary": {
           "aaxis": {
            "gridcolor": "white",
            "linecolor": "white",
            "ticks": ""
           },
           "baxis": {
            "gridcolor": "white",
            "linecolor": "white",
            "ticks": ""
           },
           "bgcolor": "#E5ECF6",
           "caxis": {
            "gridcolor": "white",
            "linecolor": "white",
            "ticks": ""
           }
          },
          "title": {
           "x": 0.05
          },
          "xaxis": {
           "automargin": true,
           "gridcolor": "white",
           "linecolor": "white",
           "ticks": "",
           "title": {
            "standoff": 15
           },
           "zerolinecolor": "white",
           "zerolinewidth": 2
          },
          "yaxis": {
           "automargin": true,
           "gridcolor": "white",
           "linecolor": "white",
           "ticks": "",
           "title": {
            "standoff": 15
           },
           "zerolinecolor": "white",
           "zerolinewidth": 2
          }
         }
        },
        "title": {
         "font": {
          "color": "Black",
          "size": 22
         },
         "text": "<b>Similarity Matrix</b>",
         "x": 0.55,
         "xanchor": "center",
         "y": 0.95,
         "yanchor": "top"
        },
        "width": 800,
        "xaxis": {
         "anchor": "y",
         "constrain": "domain",
         "domain": [
          0,
          1
         ],
         "scaleanchor": "y"
        },
        "yaxis": {
         "anchor": "x",
         "autorange": "reversed",
         "constrain": "domain",
         "domain": [
          0,
          1
         ]
        }
       }
      }
     },
     "metadata": {},
     "output_type": "display_data"
    }
   ],
   "source": [
    "# Visualize the similarity between topics\n",
    "bert_topic_model.visualize_heatmap()"
   ]
  },
  {
   "cell_type": "markdown",
   "metadata": {},
   "source": [
    "2nd iteration"
   ]
  },
  {
   "cell_type": "code",
   "execution_count": 50,
   "metadata": {},
   "outputs": [],
   "source": [
    "from bertopic import BERTopic\n",
    "from sklearn.feature_extraction.text import CountVectorizer\n",
    "\n",
    "# Define a custom vectorizer to include bigrams and trigrams\n",
    "vectorizer_model = CountVectorizer(ngram_range=(1, 3), stop_words=list(stop_words))\n",
    "\n",
    "# Adjust min_topic_size\n",
    "bert_topic_model = BERTopic(\n",
    "    vectorizer_model=vectorizer_model,\n",
    "    min_topic_size=10,\n",
    "    n_gram_range=(1, 3)\n",
    ")\n",
    "\n",
    "# Fit the model\n",
    "topics, probabilities = bert_topic_model.fit_transform(nvidia_articles)"
   ]
  },
  {
   "cell_type": "code",
   "execution_count": 51,
   "metadata": {},
   "outputs": [
    {
     "name": "stdout",
     "output_type": "stream",
     "text": [
      "   Topic  Count                            Name  \\\n",
      "0     -1   1068    -1_company_stock_year_nasdaq   \n",
      "1      0    133  0_million_quarter_year_revenue   \n",
      "2      1    120    1_amd_graphic_processor_year   \n",
      "3      2     69      2_driving_vehicle_car_self   \n",
      "4      3     65            3_intel_ai_chip_data   \n",
      "\n",
      "                                      Representation  \\\n",
      "0  [company, stock, year, nasdaq, market, zacks, ...   \n",
      "1  [million, quarter, year, revenue, zacks, compa...   \n",
      "2  [amd, graphic, processor, year, radeon, gpu, r...   \n",
      "3  [driving, vehicle, car, self, self driving, au...   \n",
      "4  [intel, ai, chip, data, technology, company, n...   \n",
      "\n",
      "                                 Representative_Docs  \n",
      "0  [immediate release chicago il may highlight im...  \n",
      "1  [keeping earnings streak alive palo alto netwo...  \n",
      "2  [advanced micro device nasdaq amd q4 earnings ...  \n",
      "3  [intel corporation nasdaq intc recent deal win...  \n",
      "4  [immediate releasechicago il december zacks co...  \n"
     ]
    }
   ],
   "source": [
    "topic_info = bert_topic_model.get_topic_info()\n",
    "print(topic_info.head())\n"
   ]
  },
  {
   "cell_type": "code",
   "execution_count": 52,
   "metadata": {},
   "outputs": [
    {
     "name": "stdout",
     "output_type": "stream",
     "text": [
      "Topic 0:\n",
      "[('million', 0.017414244962858018), ('quarter', 0.015941987915629924), ('year', 0.01491665798252751), ('revenue', 0.012908274116902499), ('zacks', 0.011776945425046767), ('company', 0.010657534634929291), ('year year', 0.010185825351018907), ('cent', 0.008076421159806165), ('consensus', 0.007954317546458683), ('earnings', 0.007949960877550621)]\n",
      "Topic 1:\n",
      "[('amd', 0.030994771895163326), ('graphic', 0.010996013339652978), ('processor', 0.009887425573542706), ('year', 0.009562314494635413), ('radeon', 0.009235396980075437), ('gpu', 0.009003343490720786), ('revenue', 0.007755499742848212), ('ryzen', 0.007214286564178652), ('quarter', 0.007127683934089898), ('market', 0.0065182609304932386)]\n",
      "Topic 2:\n",
      "[('driving', 0.02278988187124435), ('vehicle', 0.022344574459432706), ('car', 0.02042566779880543), ('self', 0.018901865801109842), ('self driving', 0.018649517674262192), ('autonomous', 0.016026514380833197), ('tesla', 0.009723144631512417), ('technology', 0.009025820411531391), ('driving car', 0.008395133520364528), ('autonomous vehicle', 0.008364925680633422)]\n",
      "Topic 3:\n",
      "[('intel', 0.016177194395930305), ('ai', 0.014165295544944348), ('chip', 0.00897869960669878), ('data', 0.007756656268531693), ('technology', 0.007514194045482043), ('company', 0.006261168989977183), ('nasdaq', 0.0059471188450097145), ('processor', 0.005931642446790017), ('zacks', 0.0054876950412579145), ('learning', 0.005411669036269209)]\n",
      "Topic 4:\n",
      "[('nvidia', 0.03293852261457584), ('price target', 0.027057033103191408), ('target', 0.024937929277341845), ('price', 0.018259255426068176), ('nvidia share', 0.01731859244915386), ('nvda', 0.016826276419186423), ('analyst', 0.016358181306262824), ('rating', 0.016346962445411478), ('nvidia nasdaq nvda', 0.01567751666095009), ('nvidia nasdaq', 0.015585701109590809)]\n",
      "Topic 5:\n",
      "[('inc', 0.03445260469288902), ('close', 0.032254381200364265), ('nasdaq', 0.030866182765829763), ('performer', 0.03029903858842256), ('nyse', 0.029703929260135403), ('rose', 0.027783918956625814), ('inc nasdaq', 0.02655461397248531), ('settle', 0.02331077526824204), ('fell', 0.023192094070774362), ('point', 0.022425783301942313)]\n",
      "Topic 6:\n",
      "[('zacks analyst', 0.01634430738213532), ('analyst', 0.0163330617491067), ('zacks', 0.01571328808610749), ('research', 0.009406331711796277), ('per zacks analyst', 0.008308464342582124), ('per zacks', 0.008244424877631931), ('investment', 0.007888495357429477), ('report', 0.007783295569221563), ('company', 0.007339647547098194), ('growth', 0.007074478090909045)]\n",
      "Topic 7:\n",
      "[('fund', 0.012902719800052273), ('etf', 0.010198144465567794), ('tech', 0.008706625325627857), ('stock', 0.008273781884463845), ('nasdaq', 0.008167438218443675), ('technology', 0.00801563269044593), ('year', 0.007450678227920335), ('growth', 0.006659040939828432), ('sector', 0.006469404829731077), ('company', 0.006450768157378523)]\n",
      "Topic 8:\n",
      "[('apple', 0.025586810666041928), ('iphone', 0.01325796251312274), ('company', 0.0067449084857183735), ('year', 0.006221315019964887), ('zacks', 0.005989423237713873), ('nasdaq', 0.005670919592037512), ('revenue', 0.005557835353638529), ('billion', 0.005548692384521857), ('stock', 0.0051783883995832215), ('service', 0.0050908433174608895)]\n",
      "Topic 9:\n",
      "[('nyse', 0.011550595781892149), ('nasdaq', 0.010360771436064186), ('dow', 0.009449567529045057), ('point', 0.007701579037152389), ('closed', 0.007357682904411821), ('fell', 0.007120759037506833), ('index', 0.0068597177011443565), ('friday', 0.006616120677100976), ('stock', 0.006001714288626694), ('rose', 0.005908447103023367)]\n",
      "Topic 10:\n",
      "[('stock', 0.011919690620145744), ('tracey', 0.009578113618366873), ('zacks', 0.008289239866293742), ('investment', 0.007478453370323694), ('podcast', 0.007424373942667655), ('investor', 0.00704539764183791), ('market', 0.006393162541923713), ('value', 0.006008848215494693), ('portfolio', 0.005211267126411574), ('week', 0.00501494338082328)]\n",
      "Topic 11:\n",
      "[('resistance', 0.02162926284065359), ('stock', 0.016822035142699455), ('around', 0.015342859006369345), ('roku', 0.014732507363101964), ('nasdaq', 0.014346271144138568), ('towards', 0.01290693811502621), ('break', 0.01262543930223383), ('higher', 0.011321850820888933), ('rise', 0.01094809249236414), ('think', 0.01094635428346493)]\n",
      "Topic 12:\n",
      "[('semiconductor', 0.018004714718636617), ('earnings', 0.01185426597909613), ('etf', 0.00965607763376335), ('stock', 0.00845277703048947), ('zacks', 0.007801226096563447), ('company', 0.007425606577897399), ('quarter', 0.006872899895160494), ('industry', 0.006869786731427686), ('estimate', 0.006859780661406521), ('year', 0.006315433911235922)]\n",
      "Topic 13:\n",
      "[('percent', 0.012851441583665258), ('yield', 0.010340061563396565), ('dollar', 0.009176026665742385), ('market', 0.008187713655121505), ('week', 0.008101300037822421), ('index', 0.0077917079223644445), ('yesterday', 0.007019423742595585), ('yen', 0.006280187681976521), ('european', 0.006207477395650677), ('china', 0.006087595302254161)]\n",
      "Topic 14:\n",
      "[('driving', 0.02358964000855208), ('nvidia', 0.02159793539223484), ('car', 0.02134575467598099), ('self', 0.020411037158340268), ('self driving', 0.020222927902966294), ('autonomous', 0.017805854613842903), ('vehicle', 0.01656209174097609), ('volvo', 0.012362120907554145), ('driving car', 0.010884438471075538), ('automotive', 0.010879765021973003)]\n",
      "Topic 15:\n",
      "[('nvidia', 0.019266135791699356), ('ai', 0.01664704670065377), ('nasdaq', 0.010385354494643688), ('tesla', 0.01004310061344422), ('gpus', 0.009649253530564054), ('company', 0.00925492304496099), ('cloud', 0.007164271367822037), ('chip', 0.00654071649234746), ('gpu', 0.006129426646186153), ('computing', 0.0059587546422115376)]\n",
      "Topic 16:\n",
      "[('bitcoin', 0.0345123432003291), ('blockchain', 0.020546368885173052), ('etf', 0.013410220154050134), ('cryptocurrency', 0.009584601232515063), ('currency', 0.00891188448152391), ('cryptocurrencies', 0.00754667639433198), ('digital', 0.007544419328226903), ('mining', 0.007544267019627686), ('fund', 0.0074724701889883225), ('digital currency', 0.007249301435712654)]\n",
      "Topic 17:\n",
      "[('earnings', 0.024411816506460324), ('growth', 0.015357053172697742), ('estimate', 0.01420401775284252), ('zacks', 0.012193209891457701), ('stock', 0.011776311609819207), ('eps', 0.01048951729348569), ('earnings growth', 0.010278372344721058), ('investment', 0.009697829931826359), ('company', 0.009561170903611768), ('period', 0.008990101394201755)]\n",
      "Topic 18:\n",
      "[('trader', 0.01100923345786088), ('week', 0.010184205335021925), ('portfolio', 0.008528720512846593), ('market', 0.008244766774231426), ('stock', 0.007953353467477277), ('today', 0.007832781088928396), ('day', 0.0068925884260732555), ('nasdaq', 0.006600116549556077), ('editor', 0.006052984312303632), ('index', 0.005591100313269984)]\n",
      "Topic 19:\n",
      "[('game', 0.036145550911924264), ('gaming', 0.01962266389721101), ('video game', 0.012645369220996091), ('video', 0.012465809044950354), ('stadium', 0.011564704866270707), ('service', 0.009714791507251613), ('esports', 0.009548630677694988), ('google', 0.008192775463752532), ('streaming', 0.007966436431053232), ('nasdaq', 0.007412708728815478)]\n",
      "Topic 20:\n",
      "[('nvidia', 0.01700935887267596), ('revenue', 0.01242239747341203), ('billion', 0.011073802491821607), ('quarter', 0.010959840171993921), ('estimate', 0.010066241452075438), ('share', 0.009270981731877561), ('gaming', 0.00913121056392257), ('company', 0.008841569051577744), ('year', 0.008732445562024127), ('earnings', 0.008595721607840385)]\n",
      "Topic 21:\n",
      "[('micron', 0.033820983573598244), ('mu', 0.013121448358647429), ('memory', 0.010895545799941269), ('dram', 0.010412100857863324), ('chip', 0.009215477572070748), ('fiscal', 0.008431131305027553), ('nand', 0.00815019035381594), ('demand', 0.007712956222120642), ('year', 0.007373424293539308), ('share', 0.007286814350527513)]\n",
      "Topic 22:\n",
      "[('china', 0.02231207817648297), ('tariff', 0.015753506579873455), ('trade', 0.014613033664676776), ('trump', 0.012485545115134354), ('chinese', 0.009410915088027803), ('company', 0.008205166861694042), ('etf', 0.007885246419758376), ('exposure china', 0.007463492651530157), ('war', 0.007263129314997384), ('technology', 0.006871885546336817)]\n",
      "Topic 23:\n",
      "[('traded', 0.13746696805717987), ('fell trade gmt', 0.07445648817493887), ('nvda fell trade', 0.07218634100591638), ('nvidia', 0.07085646776921034), ('fell trade', 0.07064122638130085), ('nasdaq nvda fell', 0.07038697236377392), ('nvda fell', 0.07001148317640833), ('volume nvidia share', 0.06655204725094821), ('day stock traded', 0.06655204725094821), ('traded since', 0.06655204725094821)]\n",
      "Topic 24:\n",
      "[('storage', 0.02604239282301411), ('pure storage', 0.0137421681993806), ('western', 0.012663238309603406), ('pure', 0.012450848311734307), ('western digital', 0.01240609227792732), ('digital', 0.011471047716200885), ('company', 0.011302363731856174), ('quarter', 0.010634450298616373), ('sandisk', 0.008517482314865736), ('zacks', 0.008150039565237794)]\n",
      "Topic 25:\n",
      "[('intel', 0.03200824500870597), ('year', 0.007284661522534504), ('company', 0.007275500752932237), ('chip', 0.007069978632854467), ('share', 0.007051921408696251), ('intc', 0.00633687384363375), ('nasdaq', 0.006123118534712259), ('data', 0.006031374700908963), ('cpu', 0.00591658854102904), ('billion', 0.005906431179697722)]\n",
      "Topic 26:\n",
      "[('future', 0.026715162341556683), ('point', 0.017616153310531714), ('nasdaq', 0.01759351790180063), ('trade', 0.015105002647127486), ('et', 0.015093803874819928), ('et gmt', 0.01374940220270545), ('rose', 0.012771967553308892), ('measure greenback basket', 0.01198354259783802), ('gmt', 0.011954570021195942), ('greenback basket six', 0.011947627026508766)]\n",
      "Topic 27:\n",
      "[('nvidia', 0.017419512638587382), ('nvda', 0.01094534254581846), ('stock', 0.0074017433689614704), ('gaming', 0.007071903855555686), ('year', 0.0070452318916165765), ('analyst', 0.006686323737328754), ('company', 0.006535779244814529), ('share', 0.0065055344801868975), ('investor', 0.006090149675278234), ('estimate', 0.005973545777199716)]\n",
      "Topic 28:\n",
      "[('oil', 0.02153127928657579), ('crude', 0.009324607344898329), ('price', 0.008651118776722703), ('week', 0.007799651134766353), ('oil price', 0.007224845029088642), ('data', 0.006533770010453895), ('et', 0.005987045806268806), ('production', 0.005806002698673602), ('energy', 0.00575444646688089), ('report', 0.005707252179942702)]\n",
      "Topic 29:\n",
      "[('semiconductor', 0.01763067147615987), ('chip', 0.014088825085442581), ('china', 0.013429639496743875), ('industry', 0.009929447003657924), ('zacks', 0.008032590676081102), ('year', 0.007915217261109695), ('company', 0.007751370090947091), ('stock', 0.007661779812811784), ('earnings', 0.006935153943404292), ('chipmakers', 0.006278636997390797)]\n",
      "Topic 30:\n",
      "[('oil', 0.01604548635073709), ('scenario', 0.01511191860975105), ('target', 0.013912005409128615), ('pivot', 0.011867377294889597), ('scenario look', 0.011060399190032112), ('target comment', 0.01093978129600542), ('extension scenario look', 0.01093978129600542), ('target extension', 0.01093978129600542), ('extension scenario', 0.01093978129600542), ('target extension scenario', 0.01093978129600542)]\n",
      "Topic 31:\n",
      "[('trade', 0.012646636423477443), ('china', 0.009528887408896673), ('tariff', 0.008092629222309649), ('nasdaq', 0.007141371472057663), ('nyse', 0.006906496372992306), ('week', 0.006210686467051771), ('market', 0.005816901001395721), ('could', 0.00554623174891168), ('trump', 0.005397449736554285), ('chinese', 0.005091042706826278)]\n",
      "Topic 32:\n",
      "[('day', 0.02107129455322818), ('at40', 0.01849213134112214), ('t2108', 0.01777509858239975), ('50dma', 0.016594548326470927), ('trading', 0.016104029240592233), ('call', 0.015138252210678672), ('trading respective', 0.011825922290489208), ('stock trading respective', 0.011825922290489208), ('stock trading', 0.011645565715613506), ('vix', 0.011392067135365593)]\n",
      "Topic 33:\n",
      "[('inc', 0.06117334573574945), ('inc nasdaq', 0.031961223796369634), ('nasdaq', 0.026688077582226747), ('million share', 0.025269432869774882), ('nyse', 0.023375387713424726), ('inc nyse', 0.020765344013448987), ('corporation', 0.020078793427303326), ('share traded', 0.019962503108617902), ('million share traded', 0.01587730492232409), ('traded', 0.015492939806578912)]\n",
      "Topic 34:\n",
      "[('facebook', 0.024933022355915165), ('user', 0.019660930450930737), ('ad', 0.011478019915345096), ('platform', 0.0096998902751071), ('snap', 0.008747179800810209), ('company', 0.008697791688385392), ('video', 0.008371709986791416), ('snapchat', 0.006964848919664152), ('instagram', 0.006906612569694214), ('twitter', 0.006571366388331749)]\n",
      "Topic 35:\n",
      "[('gaming', 0.024002758230129647), ('ray', 0.02235649938066535), ('rtx', 0.02074442450455976), ('ray tracing', 0.020671167695080817), ('tracing', 0.020616658551153813), ('nvidia', 0.018390900186656484), ('game', 0.014535478620830043), ('geforce', 0.01392469157587694), ('time ray tracing', 0.012474367937784961), ('real time ray', 0.012474367937784961)]\n",
      "Topic 36:\n",
      "[('traded', 0.1378247220404126), ('nvda fell trade', 0.07495899696099538), ('fell trade gmt', 0.0746502591265978), ('nasdaq nvda fell', 0.07309051510281377), ('nvda fell', 0.07270060348709248), ('nvidia', 0.07104086976730849), ('fell trade', 0.07082506821963866), ('exchange volume', 0.06679999253975928), ('nasdaq exchange volume', 0.06679999253975928), ('exchange volume nvidia', 0.06679999253975928)]\n",
      "Topic 37:\n",
      "[('earnings', 0.009838850770252396), ('stock', 0.00910468999822319), ('free lunch', 0.008537894631792275), ('report', 0.008336008531488514), ('lunch', 0.00828512970660486), ('result', 0.0082027445657267), ('zacks', 0.0077926875802569635), ('nyse', 0.006905250170388029), ('today', 0.006734273427060668), ('macy', 0.006637311696915792)]\n",
      "Topic 38:\n",
      "[('qualcomm', 0.01893483187645295), ('patent', 0.014673442996379283), ('commission', 0.013772721573986981), ('said', 0.010604030671172906), ('eu', 0.00937929195413079), ('antitrust', 0.009273856292774217), ('european', 0.009139443890824796), ('google', 0.009105018714614133), ('fine', 0.007484825916939404), ('court', 0.007420929959051428)]\n",
      "Topic 39:\n",
      "[('traded', 0.1378437757104258), ('gmt friday nasdaq', 0.08348884881628939), ('trade gmt friday', 0.08348884881628939), ('friday nasdaq exchange', 0.08348884881628939), ('friday nasdaq', 0.08283439834364688), ('gmt friday', 0.08252107709520522), ('fell trade gmt', 0.0746605792011297), ('nvda fell trade', 0.0713993902068512), ('nvidia', 0.07105069085941705), ('fell trade', 0.07083485947811928)]\n",
      "Topic 40:\n",
      "[('might', 0.013855475522994681), ('market', 0.00866947001237015), ('week', 0.008324696932375872), ('could', 0.007430290696165751), ('investor', 0.007176604198099782), ('spx', 0.006948074096704618), ('month', 0.006768034638536165), ('last', 0.0066203117531632855), ('one', 0.005639524651195583), ('like', 0.005530990355314883)]\n",
      "Topic 41:\n",
      "[('million', 0.01848426017696026), ('year', 0.017837787594070953), ('quarter', 0.017591446079418007), ('revenue', 0.016330656806236073), ('sequentially', 0.01204966296856584), ('year year', 0.011840277983388308), ('bps', 0.011028544108913782), ('zacks', 0.009731006310703049), ('cash', 0.009479351169758465), ('ago quarter', 0.008794049085570252)]\n",
      "Topic 42:\n",
      "[('year', 0.01983059808428558), ('quarter', 0.01795034903018082), ('year year', 0.015342937350524957), ('gaap', 0.015032363257811085), ('million', 0.014540470341923854), ('non gaap', 0.014270980213766661), ('gaming', 0.013806480239753253), ('billion', 0.01328392442354715), ('non', 0.013276552867091555), ('revenue', 0.013229149948062586)]\n",
      "Topic 43:\n",
      "[('nvidia', 0.019243691353693602), ('nvda', 0.009048648221233127), ('revenue', 0.008438174216950695), ('earnings', 0.008244621311783345), ('fiscal', 0.0080623857059062), ('stock', 0.007944650688424789), ('share', 0.007847971571117808), ('projected', 0.007785278488327395), ('chip', 0.007599837607094489), ('year', 0.007517385492959732)]\n",
      "Topic 44:\n",
      "[('traded', 0.13786684772912366), ('wednesday nasdaq exchange', 0.08494028740771933), ('gmt wednesday nasdaq', 0.08494028740771933), ('gmt wednesday', 0.08494028740771933), ('trade gmt wednesday', 0.08494028740771933), ('wednesday nasdaq', 0.0841983421732923), ('nvda rose trade', 0.07498190794042871), ('rose trade gmt', 0.07422535963568733), ('nvidia', 0.07106258318360476), ('rose trade', 0.0707393583849098)]\n",
      "Topic 45:\n",
      "[('traded', 0.12924780361022284), ('gmt monday nasdaq', 0.07708931440264302), ('trade gmt monday', 0.07708931440264302), ('monday nasdaq exchange', 0.07708931440264302), ('gmt monday', 0.07708931440264302), ('monday nasdaq', 0.07552219932205892), ('rose trade gmt', 0.06958500076784528), ('nvidia', 0.06785365494220932), ('rose trade', 0.0663169344236381), ('exchange volume nvidia', 0.06264298733293722)]\n",
      "Topic 46:\n",
      "[('percent', 0.04544159846137187), ('index', 0.011770701858641664), ('reuters', 0.009386297073702293), ('week', 0.008260072732484608), ('said', 0.00801467434449115), ('high', 0.007999944161666953), ('dow', 0.007751748964947457), ('record high', 0.007696628281296696), ('record', 0.007574121926539796), ('investor', 0.007262628667026185)]\n",
      "Topic 47:\n",
      "[('eps revenue', 0.06887168780628257), ('eps', 0.04892817590326658), ('revenue', 0.0474900706511206), ('investing com', 0.03558683398230789), ('com', 0.03267804391305875), ('investing', 0.03119228503631884), ('reported', 0.03031584665089358), ('earnings', 0.029468408990363307), ('beat analyst expectation', 0.025614725087268777), ('quarter eps revenue', 0.025497484666410872)]\n",
      "Topic 48:\n",
      "[('qualcomm', 0.02677140494308671), ('chip', 0.014460958117435023), ('intel', 0.00819421347446301), ('company', 0.007737130948054324), ('technology', 0.00666446842320827), ('broadcom', 0.006488833582149724), ('apple', 0.006463177839843851), ('market', 0.005915804264550328), ('business', 0.005764762199527455), ('nasdaq', 0.0055260904519923125)]\n",
      "Topic 49:\n",
      "[('earnings', 0.014116635834960761), ('missed', 0.013095794078859914), ('year', 0.012681180176738308), ('illumina', 0.011846898292928617), ('week', 0.011356912209673017), ('share', 0.01134758600866561), ('record', 0.010630740864253186), ('beat', 0.010439035090584149), ('company', 0.009690435373214224), ('every quarter', 0.00897741038111234)]\n",
      "Topic 50:\n",
      "[('stock', 0.031020342079509194), ('nasdaq', 0.021418104155966098), ('nyse', 0.01839172167134254), ('com stock focus', 0.01682286149296451), ('stock focus', 0.01558554650290337), ('company', 0.014292624864886997), ('reported', 0.013660200040574829), ('et gmt', 0.013252287607225495), ('stock rose', 0.012781534837434548), ('investing com stock', 0.01258846004336514)]\n",
      "Topic 51:\n",
      "[('traded', 0.13733885345507627), ('tuesday nasdaq exchange', 0.08582523468620552), ('gmt tuesday nasdaq', 0.08582523468620552), ('gmt tuesday', 0.08582523468620552), ('trade gmt tuesday', 0.08582523468620552), ('tuesday nasdaq', 0.08540695498358923), ('rose trade gmt', 0.07394109575700815), ('nvidia', 0.07079043191854008), ('rose trade', 0.07046844498700283), ('exchange volume nvidia', 0.06656450490448398)]\n",
      "Topic 52:\n",
      "[('cadence', 0.029629948717212976), ('design', 0.01858744644256684), ('verification', 0.01219697902407799), ('million', 0.011954913530068799), ('year', 0.011755934497513134), ('solution', 0.011194106194097728), ('company', 0.011067525311544871), ('quarter', 0.010930046659581949), ('system', 0.009724523041798645), ('zacks', 0.009573673864793516)]\n",
      "Topic 53:\n",
      "[('mellanox', 0.03917151132982981), ('ethernet', 0.02301905323952816), ('switch', 0.015296522130515468), ('adapter', 0.013180201688739554), ('storage', 0.012856762943512309), ('solution', 0.01255586601121717), ('data', 0.012097809533134996), ('infiniband', 0.011157593440576387), ('quarter', 0.010051201679845127), ('ethernet adapter', 0.009379460221056419)]\n",
      "Topic 54:\n",
      "[('baidu', 0.04177041453403607), ('apollo', 0.02973569442459763), ('driving', 0.024605753393424877), ('self driving', 0.018833445990862584), ('self', 0.018453634075626526), ('autonomous', 0.01555947599794489), ('startup', 0.014536815015928616), ('chinese', 0.013875791030246961), ('vehicle', 0.013581003299615637), ('silicon valley', 0.012554107697083514)]\n",
      "Topic 55:\n",
      "[('traded', 0.1380083325457347), ('friday nasdaq exchange', 0.08358851715948433), ('trade gmt friday', 0.08358851715948433), ('gmt friday nasdaq', 0.08358851715948433), ('friday nasdaq', 0.08293328540891984), ('gmt friday', 0.0826195901199906), ('nvda rose trade', 0.07505885756007143), ('rose trade gmt', 0.07430153285331668), ('nvidia', 0.07113551062566388), ('rose trade', 0.07081195411994783)]\n",
      "Topic 56:\n",
      "[('nasdaq', 0.03696152831486721), ('investing com', 0.01793576432708318), ('com', 0.015743128214585362), ('investing', 0.015720911658304696), ('parent', 0.014144484638646678), ('midday', 0.013657434262297935), ('google parent', 0.013576432031287482), ('alphabet', 0.012917930211620963), ('time warner', 0.012702582933388131), ('tech', 0.012455341273283278)]\n",
      "Topic 57:\n",
      "[('traded', 0.13762497606644097), ('trade gmt thursday', 0.0868930289498887), ('gmt thursday nasdaq', 0.0868930289498887), ('thursday nasdaq exchange', 0.0868930289498887), ('gmt thursday', 0.08643963709813882), ('thursday nasdaq', 0.08558488613980504), ('rose trade gmt', 0.07409513970650192), ('nvidia', 0.07093791198503703), ('rose trade', 0.07061525424739243), ('nvda rose trade', 0.06804578248501425)]\n",
      "Topic 58:\n",
      "[('resistance', 0.018385045293630893), ('stock', 0.01693545293916294), ('around', 0.01589306752702342), ('shanghai', 0.01313703925779938), ('trading', 0.011938558932118783), ('kospi', 0.011714446464672226), ('appears', 0.011611229257376366), ('could', 0.011450146892221636), ('korea kospi', 0.0112619093469263), ('hong', 0.011199058911204792)]\n"
     ]
    }
   ],
   "source": [
    "for topic_id in topic_info['Topic']:\n",
    "    if topic_id != -1:\n",
    "        print(f\"Topic {topic_id}:\")\n",
    "        print(bert_topic_model.get_topic(topic_id))"
   ]
  },
  {
   "cell_type": "markdown",
   "metadata": {},
   "source": [
    "3rd iteration: dimensionality reductioon "
   ]
  },
  {
   "cell_type": "code",
   "execution_count": 53,
   "metadata": {},
   "outputs": [],
   "source": [
    "from umap import UMAP\n",
    "from hdbscan import HDBSCAN\n",
    "\n",
    "# Adjust UMAP parameters\n",
    "umap_model = UMAP(n_neighbors=15, n_components=5, min_dist=0.0, metric='cosine')\n",
    "\n",
    "# Adjust HDBSCAN parameters\n",
    "hdbscan_model = HDBSCAN(min_cluster_size=15, metric='euclidean', cluster_selection_method='eom')\n",
    "\n",
    "# Initialize BERTopic with custom models\n",
    "bert_topic_model = BERTopic(\n",
    "    umap_model=umap_model,\n",
    "    hdbscan_model=hdbscan_model,\n",
    "    vectorizer_model=vectorizer_model\n",
    ")\n",
    "\n",
    "# Fit the model\n",
    "topics, probabilities = bert_topic_model.fit_transform(nvidia_articles)"
   ]
  },
  {
   "cell_type": "code",
   "execution_count": 54,
   "metadata": {},
   "outputs": [
    {
     "name": "stdout",
     "output_type": "stream",
     "text": [
      "    Topic  Count                                               Name  \\\n",
      "0      -1    886                       -1_stock_year_company_nasdaq   \n",
      "1       0    322                     0_quarter_million_year_company   \n",
      "2       1    120                       1_amd_graphic_year_processor   \n",
      "3       2     77                            2_nyse_nasdaq_dow_stock   \n",
      "4       3     75                          3_week_market_might_yield   \n",
      "5       4     73                   4_resistance_stock_around_nasdaq   \n",
      "6       5     69                         5_intel_ai_chip_technology   \n",
      "7       6     68                         6_driving_vehicle_car_self   \n",
      "8       7     65                  7_nvidia_price target_target_nvda   \n",
      "9       8     64                            8_inc_close_nasdaq_nyse   \n",
      "10      9     62                      9_nvidia_year_quarter_revenue   \n",
      "11     10     57            10_zacks analyst_analyst_zacks_research   \n",
      "12     11     57           11_semiconductor_earnings_stock_industry   \n",
      "13     12     57                             12_fund_etf_tech_stock   \n",
      "14     13     55                       13_apple_iphone_company_year   \n",
      "15     14     53                   14_stock_tracey_zacks_investment   \n",
      "16     15     53                        15_nvidia_nvda_stock_gaming   \n",
      "17     16     40                 16_nasdaq_stock_nyse_investing com   \n",
      "18     17     39           17_bitcoin_blockchain_etf_cryptocurrency   \n",
      "19     18     36                         18_driving_nvidia_car_self   \n",
      "20     19     31                    19_game_gaming_video game_video   \n",
      "21     20     31                  20_earnings_growth_estimate_zacks   \n",
      "22     21     31                        21_china_tariff_trade_trump   \n",
      "23     22     31                           22_nvidia_ai_gpus_nasdaq   \n",
      "24     23     30                           23_micron_mu_memory_dram   \n",
      "25     24     30    24_traded_nvidia_rose trade gmt_nvda rose trade   \n",
      "26     25     29    25_traded_nvidia_fell trade gmt_nvda fell trade   \n",
      "27     26     28                     26_trader_week_portfolio_stock   \n",
      "28     27     28                            27_oil_crude_price_week   \n",
      "29     28     28               28_storage_pure storage_western_pure   \n",
      "30     29     28         29_traded_nvidia_rose trade gmt_rose trade   \n",
      "31     30     27                          30_future_point_nasdaq_et   \n",
      "32     31     27                           31_intel_chip_year_share   \n",
      "33     32     25                       32_oil_scenario_target_pivot   \n",
      "34     33     25             33_inc_inc nasdaq_nasdaq_million share   \n",
      "35     34     24                34_earnings_stock_result_free lunch   \n",
      "36     35     24                       35_facebook_user_ad_platform   \n",
      "37     36     24                            36_day_at40_t2108_50dma   \n",
      "38     37     23    37_traded_nvda fell trade_nvidia_fell trade gmt   \n",
      "39     38     21                       38_earnings_week_report_year   \n",
      "40     39     21               39_semiconductor_chip_china_industry   \n",
      "41     40     21  40_traded_gmt friday nasdaq_friday nasdaq exch...   \n",
      "42     41     21                 41_qualcomm_patent_commission_said   \n",
      "43     42     19  42_traded_gmt monday nasdaq_trade gmt monday_m...   \n",
      "44     43     19                         43_trade_china_nasdaq_nyse   \n",
      "45     44     18                      44_percent_index_reuters_week   \n",
      "46     45     18                     45_rtx_ray_ray tracing_tracing   \n",
      "47     46     17           46_eps revenue_eps_revenue_investing com   \n",
      "48     47     16                     47_qualcomm_chip_intel_company   \n",
      "\n",
      "                                       Representation  \\\n",
      "0   [stock, year, company, nasdaq, market, nvidia,...   \n",
      "1   [quarter, million, year, company, revenue, zac...   \n",
      "2   [amd, graphic, year, processor, radeon, gpu, r...   \n",
      "3   [nyse, nasdaq, dow, stock, fell, index, point,...   \n",
      "4   [week, market, might, yield, percent, index, d...   \n",
      "5   [resistance, stock, around, nasdaq, towards, b...   \n",
      "6   [intel, ai, chip, technology, data, company, n...   \n",
      "7   [driving, vehicle, car, self, self driving, au...   \n",
      "8   [nvidia, price target, target, nvda, price, nv...   \n",
      "9   [inc, close, nasdaq, nyse, performer, rose, in...   \n",
      "10  [nvidia, year, quarter, revenue, billion, gami...   \n",
      "11  [zacks analyst, analyst, zacks, research, per ...   \n",
      "12  [semiconductor, earnings, stock, industry, etf...   \n",
      "13  [fund, etf, tech, stock, nasdaq, year, technol...   \n",
      "14  [apple, iphone, company, year, zacks, nasdaq, ...   \n",
      "15  [stock, tracey, zacks, investment, podcast, in...   \n",
      "16  [nvidia, nvda, stock, gaming, share, year, com...   \n",
      "17  [nasdaq, stock, nyse, investing com, company, ...   \n",
      "18  [bitcoin, blockchain, etf, cryptocurrency, cur...   \n",
      "19  [driving, nvidia, car, self, self driving, aut...   \n",
      "20  [game, gaming, video game, video, stadium, ser...   \n",
      "21  [earnings, growth, estimate, zacks, earnings g...   \n",
      "22  [china, tariff, trade, trump, chinese, company...   \n",
      "23  [nvidia, ai, gpus, nasdaq, cloud, company, com...   \n",
      "24  [micron, mu, memory, dram, chip, fiscal, nand,...   \n",
      "25  [traded, nvidia, rose trade gmt, nvda rose tra...   \n",
      "26  [traded, nvidia, fell trade gmt, nvda fell tra...   \n",
      "27  [trader, week, portfolio, stock, today, market...   \n",
      "28  [oil, crude, price, week, oil price, energy, d...   \n",
      "29  [storage, pure storage, western, pure, western...   \n",
      "30  [traded, nvidia, rose trade gmt, rose trade, n...   \n",
      "31  [future, point, nasdaq, et, trade, et gmt, ros...   \n",
      "32  [intel, chip, year, share, company, data, earn...   \n",
      "33  [oil, scenario, target, pivot, scenario look, ...   \n",
      "34  [inc, inc nasdaq, nasdaq, million share, nyse,...   \n",
      "35  [earnings, stock, result, free lunch, report, ...   \n",
      "36  [facebook, user, ad, platform, company, snap, ...   \n",
      "37  [day, at40, t2108, 50dma, trading, call, tradi...   \n",
      "38  [traded, nvda fell trade, nvidia, fell trade g...   \n",
      "39  [earnings, week, report, year, share, company,...   \n",
      "40  [semiconductor, chip, china, industry, zacks, ...   \n",
      "41  [traded, gmt friday nasdaq, friday nasdaq exch...   \n",
      "42  [qualcomm, patent, commission, said, eu, googl...   \n",
      "43  [traded, gmt monday nasdaq, trade gmt monday, ...   \n",
      "44  [trade, china, nasdaq, nyse, tariff, also, sto...   \n",
      "45  [percent, index, reuters, week, high, said, do...   \n",
      "46  [rtx, ray, ray tracing, tracing, gaming, nvidi...   \n",
      "47  [eps revenue, eps, revenue, investing com, com...   \n",
      "48  [qualcomm, chip, intel, company, apple, techno...   \n",
      "\n",
      "                                  Representative_Docs  \n",
      "0   [immediate releasechicago il february highligh...  \n",
      "1   [keeping positive surprise history alive proof...  \n",
      "2   [advanced micro device nasdaq amd q4 earnings ...  \n",
      "3   [stock market ended red thursday three major i...  \n",
      "4   [wednesday market open likely going hunt direc...  \n",
      "5   [trading future point year yield oil dollar in...  \n",
      "6   [intel nasdaq intc announced completed acquisi...  \n",
      "7   [intel corporation nasdaq intc recent deal win...  \n",
      "8   [needham raise nvidia nasdaq nvda price target...  \n",
      "9   [investing com stock higher close friday gain ...  \n",
      "10  [month since last earnings report nvidia corpo...  \n",
      "11  [immediate releasechicago il january zacks com...  \n",
      "12  [semiconductor stock stellar ride driven impro...  \n",
      "13  [lackluster first half technology sector fire ...  \n",
      "14  [immediate releasechicago il january zacks com...  \n",
      "15  [immediate releasechicago il january zacks mar...  \n",
      "16  [share nvidia nasdaq nvda plummeted since hit ...  \n",
      "17  [investing com stock focus pre market trade we...  \n",
      "18  [immediate releasechicago il august zacks com ...  \n",
      "19  [nvidia corporation nasdaq nvda recently annou...  \n",
      "20  [alphabet nasdaq googl division google set rev...  \n",
      "21  [immediate release chicago il september stock ...  \n",
      "22  [trade tension united state china hit fever pi...  \n",
      "23  [nvidia nasdaq nvda recently vmware nyse vmw d...  \n",
      "24  [micron technology nasdaq mu posted worse expe...  \n",
      "25  [investing com nvidia nasdaq nvda rose trade g...  \n",
      "26  [investing com nvidia nasdaq nvda fell trade g...  \n",
      "27  [finally earnings season maybe market start fo...  \n",
      "28  [president trump one using word mission accomp...  \n",
      "29  [pure storage inc nyse pstg delivered non gaap...  \n",
      "30  [investing com nvidia nasdaq nvda rose trade g...  \n",
      "31  [investing com future lower friday imminent de...  \n",
      "32  [share intel nasdaq intc surged since christma...  \n",
      "33  [dollar index reached new year date high closi...  \n",
      "34  [pretty good day wall street tuesday exploded ...  \n",
      "35  [walmart nyse wmt became latest major store ex...  \n",
      "36  [facebook inc nasdaq fb announced number initi...  \n",
      "37  [at40 stock trading respective day moving aver...  \n",
      "38  [investing com nvidia nasdaq nvda fell trade g...  \n",
      "39  [illumina nasdaq ilmn ilmn 45 billion leading ...  \n",
      "40  [immediate releasechicago il january zacks com...  \n",
      "41  [investing com nvidia nasdaq nvda fell trade g...  \n",
      "42  [foo yun chee brussels reuters chipmaker qualc...  \n",
      "43  [investing com nvidia nasdaq nvda rose trade g...  \n",
      "44  [immediate release chicago il january general ...  \n",
      "45  [noel randewich reuters rose friday helped hea...  \n",
      "46  [share nvidia nasdaq nvda suffered onslaught c...  \n",
      "47  [investing com nvidia nasdaq nvda reported sec...  \n",
      "48  [thesis growth qualcomm qcom global company fo...  \n"
     ]
    }
   ],
   "source": [
    "topic_info = bert_topic_model.get_topic_info()\n",
    "print(topic_info)\n"
   ]
  },
  {
   "cell_type": "code",
   "execution_count": 55,
   "metadata": {},
   "outputs": [
    {
     "name": "stdout",
     "output_type": "stream",
     "text": [
      "Topic 0:\n",
      "[('quarter', 0.013125433603620819), ('million', 0.01275080660074476), ('year', 0.012731290214838433), ('company', 0.011119930159479681), ('revenue', 0.01093741089694972), ('zacks', 0.010399606276772047), ('year year', 0.007649154253244714), ('earnings', 0.007547451541913227), ('zacks rank', 0.007048465290095045), ('rank', 0.0069365436997741595)]\n",
      "Topic 1:\n",
      "[('amd', 0.03325698303999769), ('graphic', 0.011655783952572003), ('year', 0.010524570951214236), ('processor', 0.010384512697871377), ('radeon', 0.009636132101793787), ('gpu', 0.00952085870053596), ('revenue', 0.008234803526090824), ('quarter', 0.00764414397304276), ('ryzen', 0.007510520718561247), ('market', 0.007147957601451946)]\n",
      "Topic 2:\n",
      "[('nyse', 0.012059335331746888), ('nasdaq', 0.010429548682368867), ('dow', 0.008402364312457446), ('stock', 0.007220359602035065), ('fell', 0.006653408968852405), ('index', 0.006509217633238066), ('point', 0.006451669670175064), ('rate', 0.006095890469574477), ('market', 0.00609298418121824), ('fed', 0.006027297488555393)]\n",
      "Topic 3:\n",
      "[('week', 0.009099792753875964), ('market', 0.008848730458764217), ('might', 0.007984190043488885), ('yield', 0.007664964181254695), ('percent', 0.006872717905581997), ('index', 0.006444044446310665), ('dollar', 0.006311084558478485), ('fed', 0.006290029774357607), ('year', 0.006054422655889637), ('last', 0.0056251047671575585)]\n",
      "Topic 4:\n",
      "[('resistance', 0.019472345884971872), ('stock', 0.01706361485905392), ('around', 0.015099898706312889), ('nasdaq', 0.013863136692798286), ('towards', 0.011485003234347676), ('break', 0.011164274357179167), ('higher', 0.010821704502148137), ('roku', 0.010648085212046441), ('rise', 0.00981319132950611), ('back', 0.009624440870923106)]\n",
      "Topic 5:\n",
      "[('intel', 0.01609857631561502), ('ai', 0.014101728285269208), ('chip', 0.008459718719715277), ('technology', 0.007786135004084863), ('data', 0.007440409199755895), ('company', 0.007037651569656914), ('nasdaq', 0.0066450382956875975), ('processor', 0.006134470532680841), ('zacks', 0.006060454912824806), ('market', 0.0055064991725345186)]\n",
      "Topic 6:\n",
      "[('driving', 0.02444366214845299), ('vehicle', 0.023229653854306108), ('car', 0.0218526553465978), ('self', 0.020299221106153297), ('self driving', 0.02000696384657118), ('autonomous', 0.016404806662081443), ('technology', 0.009697293333333374), ('tesla', 0.009185054266157462), ('driving car', 0.009119364597266222), ('company', 0.009001777651946881)]\n",
      "Topic 7:\n",
      "[('nvidia', 0.03483278036900163), ('price target', 0.024440372635024275), ('target', 0.02342166192915759), ('nvda', 0.018418400258445423), ('price', 0.01724995741618098), ('nvidia share', 0.016455003422156316), ('analyst', 0.016186341911959157), ('rating', 0.01585492726932117), ('nvidia nasdaq nvda', 0.01584531652955946), ('nvidia nasdaq', 0.015756798314532285)]\n",
      "Topic 8:\n",
      "[('inc', 0.037156767118212815), ('close', 0.034319859374838294), ('nasdaq', 0.03386880359999712), ('nyse', 0.03190412037478936), ('performer', 0.03175568925372762), ('rose', 0.02956090486067093), ('inc nasdaq', 0.028343817510504958), ('fell', 0.024692809521904772), ('settle', 0.024430886103611247), ('point', 0.023441450877920406)]\n",
      "Topic 9:\n",
      "[('nvidia', 0.014919855171999837), ('year', 0.014628324496616848), ('quarter', 0.0143613983212306), ('revenue', 0.012691331511849509), ('billion', 0.01206625366478436), ('gaming', 0.01114593804679746), ('million', 0.010302359351645456), ('company', 0.010084176460507598), ('fiscal', 0.009012503291520948), ('year year', 0.008955830360914772)]\n",
      "Topic 10:\n",
      "[('zacks analyst', 0.0184157740038728), ('analyst', 0.01823933107842294), ('zacks', 0.017477616068962788), ('research', 0.01020499257311668), ('per zacks analyst', 0.00933090843114826), ('per zacks', 0.009261352188314328), ('report', 0.008795838545900308), ('investment', 0.00856256247910344), ('company', 0.007983478680418135), ('growth', 0.007612796109927412)]\n",
      "Topic 11:\n",
      "[('semiconductor', 0.019951359169749733), ('earnings', 0.011401570776206035), ('stock', 0.0096843121608079), ('industry', 0.009494280726210544), ('etf', 0.009038596928184955), ('zacks', 0.008856809328912835), ('year', 0.00763667061662631), ('company', 0.007607970019391644), ('estimate', 0.0068460018880594775), ('rank', 0.006611774382618647)]\n",
      "Topic 12:\n",
      "[('fund', 0.012681332390315254), ('etf', 0.009618457864458084), ('tech', 0.009478424748934523), ('stock', 0.009382190192669471), ('nasdaq', 0.008832841751550686), ('year', 0.008127804859344733), ('technology', 0.00810611968895216), ('growth', 0.007459954889020552), ('company', 0.007154072353183238), ('sector', 0.006353133485653817)]\n",
      "Topic 13:\n",
      "[('apple', 0.027889860889760323), ('iphone', 0.014403139453855896), ('company', 0.007541952117408994), ('year', 0.0072870394230397356), ('zacks', 0.006779709354988996), ('nasdaq', 0.006405361876819677), ('stock', 0.006236022617262421), ('revenue', 0.0061894085672810515), ('quarter', 0.006152685772553472), ('earnings', 0.005769983885558481)]\n",
      "Topic 14:\n",
      "[('stock', 0.013139809965061913), ('tracey', 0.009924662992094822), ('zacks', 0.009022645577703901), ('investment', 0.007918170271047305), ('podcast', 0.007778993390149314), ('investor', 0.007561098421918636), ('market', 0.006909684589261612), ('value', 0.0064533142489069046), ('portfolio', 0.005463502185596157), ('week', 0.005385330237747796)]\n",
      "Topic 15:\n",
      "[('nvidia', 0.019935106578394726), ('nvda', 0.010022085619295238), ('stock', 0.007987734562467728), ('gaming', 0.007776827155097895), ('share', 0.007754084899691122), ('year', 0.007726808122818826), ('company', 0.00699339095354103), ('revenue', 0.006228477602611019), ('earnings', 0.006133234330487174), ('investor', 0.0058913831135418765)]\n",
      "Topic 16:\n",
      "[('nasdaq', 0.029368657448179143), ('stock', 0.0234329836061992), ('nyse', 0.017011212176570895), ('investing com', 0.010948974964168325), ('company', 0.010912117120991155), ('com', 0.010394580347072233), ('et gmt', 0.009822165725603968), ('investing', 0.009649320971625483), ('et', 0.008739653390486315), ('gmt', 0.008580893811472503)]\n",
      "Topic 17:\n",
      "[('bitcoin', 0.036078478830192266), ('blockchain', 0.021347325001058706), ('etf', 0.014146897235028509), ('cryptocurrency', 0.009986045620662378), ('currency', 0.009297669599632201), ('digital', 0.007891366544668682), ('fund', 0.007864801054596814), ('mining', 0.007847668152903041), ('cryptocurrencies', 0.007820450530029971), ('digital currency', 0.007474126070785226)]\n",
      "Topic 18:\n",
      "[('driving', 0.02732461703441181), ('nvidia', 0.025693390217061792), ('car', 0.02488306039006956), ('self', 0.023737913014385874), ('self driving', 0.023471570102665533), ('autonomous', 0.020337324392816172), ('vehicle', 0.019662319486539397), ('automotive', 0.012693879773790067), ('driving car', 0.01218599317140131), ('drive', 0.012033505245455363)]\n",
      "Topic 19:\n",
      "[('game', 0.037853277664321845), ('gaming', 0.020698728260759237), ('video game', 0.01309689377062501), ('video', 0.013034271226380286), ('stadium', 0.011912756740487784), ('service', 0.0102827192479918), ('esports', 0.00985015244291536), ('google', 0.008603728188410976), ('streaming', 0.008267103203018643), ('nasdaq', 0.008143916061160194)]\n",
      "Topic 20:\n",
      "[('earnings', 0.031155002632572922), ('growth', 0.018644841981929238), ('estimate', 0.01731383019737914), ('zacks', 0.013349448193130095), ('earnings growth', 0.013208955186098518), ('eps', 0.01297125536042765), ('stock', 0.011891125968994741), ('period', 0.011625807037687848), ('company', 0.011256788153623368), ('q4', 0.010963864274317446)]\n",
      "Topic 21:\n",
      "[('china', 0.02194048207302266), ('tariff', 0.014797903837618196), ('trade', 0.013697046892465833), ('trump', 0.011668061100266861), ('chinese', 0.010239378061767645), ('company', 0.009128132480145497), ('etf', 0.0076083796516655845), ('exposure china', 0.007107513705448248), ('technology', 0.006970954725181095), ('nasdaq', 0.006938569869724725)]\n",
      "Topic 22:\n",
      "[('nvidia', 0.022919528708359508), ('ai', 0.022133465717473242), ('gpus', 0.013658396192914372), ('nasdaq', 0.011509078090040002), ('cloud', 0.011362544239349532), ('company', 0.009294644052062366), ('computing', 0.007219982205810313), ('gpu', 0.007161985787645912), ('data', 0.006860314958684018), ('intelligence', 0.006548372697513666)]\n",
      "Topic 23:\n",
      "[('micron', 0.035513033555541786), ('mu', 0.013677529431276826), ('memory', 0.01135335680622999), ('dram', 0.010782959144918773), ('chip', 0.00980773107469468), ('fiscal', 0.008904085843973918), ('nand', 0.008446756064614308), ('demand', 0.008155792788150873), ('year', 0.008117113953040447), ('share', 0.007885515074196426)]\n",
      "Topic 24:\n",
      "[('traded', 0.14427785591770867), ('nvidia', 0.0769536501690559), ('rose trade gmt', 0.07634303202739957), ('nvda rose trade', 0.07452847569696923), ('rose trade', 0.0728621945951553), ('exchange volume nvidia', 0.06894862697988362), ('nasdaq exchange volume', 0.06894862697988362), ('exchange volume', 0.06894862697988362), ('nasdaq nvda rose', 0.06889879072589725), ('range day stock', 0.06887395594176222)]\n",
      "Topic 25:\n",
      "[('traded', 0.1441122096996631), ('nvidia', 0.0768652992503773), ('fell trade gmt', 0.07670190160598886), ('nvda fell trade', 0.07435439200141038), ('fell trade', 0.07288562095030014), ('nasdaq nvda fell', 0.07255459694084926), ('nvda fell', 0.07217900937313412), ('day', 0.06925894493899053), ('volume nvidia share', 0.06879488136548007), ('day stock traded', 0.06879488136548007)]\n",
      "Topic 26:\n",
      "[('trader', 0.01323255944765911), ('week', 0.012001867744294892), ('portfolio', 0.010192591180336361), ('stock', 0.009339586186643361), ('today', 0.008843378466093019), ('market', 0.008823393475815814), ('day', 0.007434735559217333), ('editor', 0.007401249609253992), ('nasdaq', 0.00724394784868269), ('momentum', 0.0062784763140275755)]\n",
      "Topic 27:\n",
      "[('oil', 0.020320940239941642), ('crude', 0.008677847718705604), ('price', 0.008507498289583235), ('week', 0.007787983881319931), ('oil price', 0.006686612156139536), ('energy', 0.0065806833758530045), ('data', 0.00594249184869578), ('earnings', 0.0059004112495096486), ('year', 0.005802158363373973), ('share', 0.005759329762102836)]\n",
      "Topic 28:\n",
      "[('storage', 0.027809812189602136), ('pure storage', 0.014522447633246132), ('western', 0.013321616505779284), ('pure', 0.01322653906699131), ('western digital', 0.013037040192907202), ('company', 0.012290288104301349), ('digital', 0.012187507824293665), ('quarter', 0.01163573676180725), ('year', 0.009113504326309864), ('sandisk', 0.008990544752038539)]\n",
      "Topic 29:\n",
      "[('traded', 0.14410630079771142), ('nvidia', 0.0768621476123745), ('rose trade gmt', 0.07625225553271778), ('rose trade', 0.07277555702726571), ('nvda rose trade', 0.07150626640325886), ('exchange volume', 0.06886664288121551), ('exchange volume nvidia', 0.06886664288121551), ('nasdaq exchange volume', 0.06886664288121551), ('nvidia traded', 0.06879206063148664), ('volume nvidia share', 0.06879206063148664)]\n",
      "Topic 30:\n",
      "[('future', 0.028616082956012583), ('point', 0.020192790426055988), ('nasdaq', 0.019833289619244066), ('et', 0.015564078219147003), ('trade', 0.015416354772940595), ('et gmt', 0.01422319417070291), ('rose', 0.013708859687110959), ('china', 0.013146763628674098), ('measure greenback basket', 0.01255313913206554), ('measure greenback', 0.012537278582462886)]\n",
      "Topic 31:\n",
      "[('intel', 0.037802137229078596), ('chip', 0.009164832973787593), ('year', 0.008828736273855782), ('share', 0.008248453536475605), ('company', 0.008062592618111389), ('data', 0.007628687847188743), ('earnings', 0.007307782972673041), ('intc', 0.007229584308956223), ('nasdaq', 0.0071935416118590004), ('amd', 0.007117811393334292)]\n",
      "Topic 32:\n",
      "[('oil', 0.01686062009078986), ('scenario', 0.015671801535244157), ('target', 0.014585135259455763), ('pivot', 0.012251510632092911), ('scenario look', 0.011397248940437577), ('target comment', 0.011272317491413358), ('extension scenario', 0.011272317491413358), ('extension scenario look', 0.011272317491413358), ('target extension scenario', 0.011272317491413358), ('target extension', 0.011272317491413358)]\n",
      "Topic 33:\n",
      "[('inc', 0.06040370316605218), ('inc nasdaq', 0.031023419818328127), ('nasdaq', 0.02764390357581365), ('million share', 0.024036630853733698), ('nyse', 0.02309206888406772), ('inc nyse', 0.019974423308268024), ('corporation', 0.01947774941729139), ('share traded', 0.019019732791437642), ('million share traded', 0.014999114451124212), ('traded', 0.014926087274631647)]\n",
      "Topic 34:\n",
      "[('earnings', 0.009682658712913794), ('stock', 0.009305891951385092), ('result', 0.007993953158357412), ('free lunch', 0.007945068916542907), ('report', 0.00775624229958601), ('lunch', 0.007715985406465393), ('zacks', 0.007622984333054794), ('nyse', 0.007330393937053553), ('macy', 0.006830445998890273), ('today', 0.006563649290020619)]\n",
      "Topic 35:\n",
      "[('facebook', 0.026198929362331327), ('user', 0.02054789156635815), ('ad', 0.011895362612868828), ('platform', 0.01020637813730345), ('company', 0.009558504664128867), ('snap', 0.009060281350525733), ('video', 0.008753474259309129), ('snapchat', 0.007174031812484631), ('instagram', 0.0071222638980639906), ('twitter', 0.006844250690472564)]\n",
      "Topic 36:\n",
      "[('day', 0.022479473739182576), ('at40', 0.019130344916927403), ('t2108', 0.018383701369812204), ('50dma', 0.017155018310660908), ('trading', 0.01702501944203439), ('call', 0.015847157546425395), ('trading respective', 0.012201084027683752), ('stock trading respective', 0.012201084027683752), ('stock trading', 0.012042665926843225), ('vix', 0.01182175014267735)]\n",
      "Topic 37:\n",
      "[('traded', 0.144487257740521), ('nvda fell trade', 0.07721032215240795), ('nvidia', 0.07706533906625336), ('fell trade gmt', 0.07690151618401356), ('nasdaq nvda fell', 0.07534139749720264), ('nvda fell', 0.07495138372237176), ('fell trade', 0.07307530376344341), ('exchange volume', 0.06904869755605181), ('nasdaq exchange volume', 0.06904869755605181), ('exchange volume nvidia', 0.06904869755605181)]\n",
      "Topic 38:\n",
      "[('earnings', 0.012580919712599602), ('week', 0.012008306648019537), ('report', 0.010962255065507381), ('year', 0.010623925996246373), ('share', 0.010341004535570476), ('company', 0.009938347912236538), ('stock', 0.009182244966012896), ('missed', 0.007360577830473684), ('beat', 0.007155472111224363), ('nasdaq', 0.00710589308216046)]\n",
      "Topic 39:\n",
      "[('semiconductor', 0.01856765500424769), ('chip', 0.015641007319178158), ('china', 0.015300519059375807), ('industry', 0.011509159582038408), ('zacks', 0.009339549770644457), ('company', 0.00908332837078197), ('stock', 0.008900087549788084), ('year', 0.008609358289974988), ('earnings', 0.007428727225295326), ('trade', 0.007369460128893955)]\n",
      "Topic 40:\n",
      "[('traded', 0.1445072324771963), ('gmt friday nasdaq', 0.08574178075536998), ('friday nasdaq exchange', 0.08574178075536998), ('trade gmt friday', 0.08574178075536998), ('friday nasdaq', 0.08508726206060777), ('gmt friday', 0.08477390670266093), ('nvidia', 0.07707599301511164), ('fell trade gmt', 0.07691214748506892), ('nvda fell trade', 0.07354380585195144), ('fell trade', 0.07308540610722766)]\n",
      "Topic 41:\n",
      "[('qualcomm', 0.020605841426326665), ('patent', 0.015807349884679644), ('commission', 0.014822453179601229), ('said', 0.011732078296638195), ('eu', 0.010096673075422363), ('google', 0.009955377070242155), ('antitrust', 0.009939975675060808), ('european', 0.009660648213539463), ('fine', 0.008029851591325124), ('court', 0.007982059116391107)]\n",
      "Topic 42:\n",
      "[('traded', 0.13549572555750033), ('gmt monday nasdaq', 0.07920162501461236), ('trade gmt monday', 0.07920162501461236), ('monday nasdaq exchange', 0.07920162501461236), ('gmt monday', 0.07920162501461236), ('monday nasdaq', 0.07763431806569526), ('nvidia', 0.07360783929214043), ('rose trade gmt', 0.07169606486051439), ('rose trade', 0.06842710448936325), ('exchange volume nvidia', 0.06475175403328201)]\n",
      "Topic 43:\n",
      "[('trade', 0.014268223498696653), ('china', 0.010689223802548014), ('nasdaq', 0.009014438966929668), ('nyse', 0.008284290395386152), ('tariff', 0.007748651630659344), ('also', 0.0061453737888504546), ('stock', 0.006014569799370362), ('market', 0.005870546677977239), ('week', 0.005460929497001194), ('investor', 0.005453404448134886)]\n",
      "Topic 44:\n",
      "[('percent', 0.04797747641208326), ('index', 0.012521500608349216), ('reuters', 0.009787387846160164), ('week', 0.008812856392607009), ('high', 0.008521347756100703), ('said', 0.008516646393020608), ('dow', 0.00813775497122211), ('record high', 0.00795769903408427), ('record', 0.007904159272160602), ('investor', 0.007775899602050807)]\n",
      "Topic 45:\n",
      "[('rtx', 0.028880351188276292), ('ray', 0.026187353770324866), ('ray tracing', 0.024450036741284275), ('tracing', 0.024387574170972846), ('gaming', 0.023757347184419755), ('nvidia', 0.020058564112275228), ('game', 0.017627895347910046), ('gpus', 0.014780706083403072), ('time ray', 0.014129178653316811), ('time ray tracing', 0.014129178653316811)]\n",
      "Topic 46:\n",
      "[('eps revenue', 0.07251123684031936), ('eps', 0.052589767908973496), ('revenue', 0.05215790728824022), ('investing com', 0.03871471533198726), ('com', 0.035869590900620224), ('investing', 0.03411924091396728), ('reported', 0.033440006061093805), ('earnings', 0.033390141369287654), ('beat analyst expectation', 0.027417704758910415), ('quarter eps revenue', 0.027242259947812333)]\n",
      "Topic 47:\n",
      "[('qualcomm', 0.02900674815216083), ('chip', 0.015050300240911627), ('intel', 0.008702760086538829), ('company', 0.008576054049457509), ('apple', 0.007153872302950888), ('technology', 0.006812007259384473), ('market', 0.006709094938169944), ('broadcom', 0.006622659985149901), ('business', 0.006386378617211063), ('mobile', 0.005815506438618129)]\n"
     ]
    }
   ],
   "source": [
    "\n",
    "for topic_id in topic_info['Topic']:\n",
    "    if topic_id != -1:\n",
    "        print(f\"Topic {topic_id}:\")\n",
    "        print(bert_topic_model.get_topic(topic_id))"
   ]
  }
 ],
 "metadata": {
  "kernelspec": {
   "display_name": "nlp",
   "language": "python",
   "name": "python3"
  },
  "language_info": {
   "codemirror_mode": {
    "name": "ipython",
    "version": 3
   },
   "file_extension": ".py",
   "mimetype": "text/x-python",
   "name": "python",
   "nbconvert_exporter": "python",
   "pygments_lexer": "ipython3",
   "version": "3.12.4"
  }
 },
 "nbformat": 4,
 "nbformat_minor": 2
}
